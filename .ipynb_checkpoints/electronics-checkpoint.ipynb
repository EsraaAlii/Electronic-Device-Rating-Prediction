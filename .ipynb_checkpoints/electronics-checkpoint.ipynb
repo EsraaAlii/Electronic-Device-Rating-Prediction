{
 "cells": [
  {
   "cell_type": "code",
   "execution_count": 2008,
   "metadata": {
    "colab": {
     "base_uri": "https://localhost:8080/",
     "height": 348
    },
    "id": "tLgxgyBFjnG3",
    "outputId": "19b015fa-8c78-4a83-87d5-74d559e85947",
    "scrolled": true
   },
   "outputs": [
    {
     "data": {
      "text/html": [
       "<div>\n",
       "<style scoped>\n",
       "    .dataframe tbody tr th:only-of-type {\n",
       "        vertical-align: middle;\n",
       "    }\n",
       "\n",
       "    .dataframe tbody tr th {\n",
       "        vertical-align: top;\n",
       "    }\n",
       "\n",
       "    .dataframe thead th {\n",
       "        text-align: right;\n",
       "    }\n",
       "</style>\n",
       "<table border=\"1\" class=\"dataframe\">\n",
       "  <thead>\n",
       "    <tr style=\"text-align: right;\">\n",
       "      <th></th>\n",
       "      <th>brand</th>\n",
       "      <th>processor_brand</th>\n",
       "      <th>processor_name</th>\n",
       "      <th>processor_gnrtn</th>\n",
       "      <th>ram_gb</th>\n",
       "      <th>ram_type</th>\n",
       "      <th>ssd</th>\n",
       "      <th>hdd</th>\n",
       "      <th>os</th>\n",
       "      <th>graphic_card_gb</th>\n",
       "      <th>weight</th>\n",
       "      <th>warranty</th>\n",
       "      <th>Touchscreen</th>\n",
       "      <th>msoffice</th>\n",
       "      <th>Price</th>\n",
       "      <th>rating</th>\n",
       "      <th>Number of Ratings</th>\n",
       "      <th>Number of Reviews</th>\n",
       "    </tr>\n",
       "  </thead>\n",
       "  <tbody>\n",
       "    <tr>\n",
       "      <th>0</th>\n",
       "      <td>ASUS</td>\n",
       "      <td>Intel</td>\n",
       "      <td>Pentium Quad</td>\n",
       "      <td>Not Available</td>\n",
       "      <td>4 GB</td>\n",
       "      <td>LPDDR4X</td>\n",
       "      <td>0 GB</td>\n",
       "      <td>512 GB</td>\n",
       "      <td>64-bit Windows</td>\n",
       "      <td>0 GB</td>\n",
       "      <td>Casual</td>\n",
       "      <td>No warranty</td>\n",
       "      <td>No</td>\n",
       "      <td>No</td>\n",
       "      <td>45990</td>\n",
       "      <td>3 stars</td>\n",
       "      <td>0</td>\n",
       "      <td>0</td>\n",
       "    </tr>\n",
       "    <tr>\n",
       "      <th>1</th>\n",
       "      <td>ASUS</td>\n",
       "      <td>Intel</td>\n",
       "      <td>Core i5</td>\n",
       "      <td>10th</td>\n",
       "      <td>8 GB</td>\n",
       "      <td>LPDDR4</td>\n",
       "      <td>0 GB</td>\n",
       "      <td>512 GB</td>\n",
       "      <td>32-bit DOS</td>\n",
       "      <td>4 GB</td>\n",
       "      <td>Casual</td>\n",
       "      <td>No warranty</td>\n",
       "      <td>No</td>\n",
       "      <td>No</td>\n",
       "      <td>106167</td>\n",
       "      <td>4 stars</td>\n",
       "      <td>1881</td>\n",
       "      <td>241</td>\n",
       "    </tr>\n",
       "    <tr>\n",
       "      <th>2</th>\n",
       "      <td>ASUS</td>\n",
       "      <td>Intel</td>\n",
       "      <td>Celeron Dual</td>\n",
       "      <td>Not Available</td>\n",
       "      <td>4 GB</td>\n",
       "      <td>DDR4</td>\n",
       "      <td>0 GB</td>\n",
       "      <td>512 GB</td>\n",
       "      <td>64-bit Windows</td>\n",
       "      <td>0 GB</td>\n",
       "      <td>Casual</td>\n",
       "      <td>No warranty</td>\n",
       "      <td>No</td>\n",
       "      <td>No</td>\n",
       "      <td>22990</td>\n",
       "      <td>3 stars</td>\n",
       "      <td>0</td>\n",
       "      <td>0</td>\n",
       "    </tr>\n",
       "    <tr>\n",
       "      <th>3</th>\n",
       "      <td>Lenovo</td>\n",
       "      <td>Intel</td>\n",
       "      <td>Core i3</td>\n",
       "      <td>11th</td>\n",
       "      <td>4 GB</td>\n",
       "      <td>DDR4</td>\n",
       "      <td>256 GB</td>\n",
       "      <td>0 GB</td>\n",
       "      <td>64-bit Windows</td>\n",
       "      <td>0 GB</td>\n",
       "      <td>Casual</td>\n",
       "      <td>1 year</td>\n",
       "      <td>No</td>\n",
       "      <td>Yes</td>\n",
       "      <td>44990</td>\n",
       "      <td>4 stars</td>\n",
       "      <td>42</td>\n",
       "      <td>4</td>\n",
       "    </tr>\n",
       "    <tr>\n",
       "      <th>4</th>\n",
       "      <td>HP</td>\n",
       "      <td>AMD</td>\n",
       "      <td>Ryzen 7</td>\n",
       "      <td>Not Available</td>\n",
       "      <td>16 GB</td>\n",
       "      <td>DDR4</td>\n",
       "      <td>512 GB</td>\n",
       "      <td>0 GB</td>\n",
       "      <td>64-bit Windows</td>\n",
       "      <td>2 GB</td>\n",
       "      <td>Casual</td>\n",
       "      <td>1 year</td>\n",
       "      <td>No</td>\n",
       "      <td>Yes</td>\n",
       "      <td>79990</td>\n",
       "      <td>3 stars</td>\n",
       "      <td>23</td>\n",
       "      <td>6</td>\n",
       "    </tr>\n",
       "  </tbody>\n",
       "</table>\n",
       "</div>"
      ],
      "text/plain": [
       "    brand processor_brand processor_name processor_gnrtn ram_gb ram_type  \\\n",
       "0    ASUS           Intel   Pentium Quad   Not Available   4 GB  LPDDR4X   \n",
       "1    ASUS           Intel        Core i5            10th   8 GB   LPDDR4   \n",
       "2    ASUS           Intel   Celeron Dual   Not Available   4 GB     DDR4   \n",
       "3  Lenovo           Intel        Core i3            11th   4 GB     DDR4   \n",
       "4      HP             AMD        Ryzen 7   Not Available  16 GB     DDR4   \n",
       "\n",
       "      ssd     hdd              os graphic_card_gb  weight     warranty  \\\n",
       "0    0 GB  512 GB  64-bit Windows            0 GB  Casual  No warranty   \n",
       "1    0 GB  512 GB      32-bit DOS            4 GB  Casual  No warranty   \n",
       "2    0 GB  512 GB  64-bit Windows            0 GB  Casual  No warranty   \n",
       "3  256 GB    0 GB  64-bit Windows            0 GB  Casual       1 year   \n",
       "4  512 GB    0 GB  64-bit Windows            2 GB  Casual       1 year   \n",
       "\n",
       "  Touchscreen msoffice   Price   rating  Number of Ratings  Number of Reviews  \n",
       "0          No       No   45990  3 stars                  0                  0  \n",
       "1          No       No  106167  4 stars               1881                241  \n",
       "2          No       No   22990  3 stars                  0                  0  \n",
       "3          No      Yes   44990  4 stars                 42                  4  \n",
       "4          No      Yes   79990  3 stars                 23                  6  "
      ]
     },
     "execution_count": 2008,
     "metadata": {},
     "output_type": "execute_result"
    }
   ],
   "source": [
    "import pandas as pd\n",
    "import matplotlib.pyplot as plt\n",
    "import seaborn as sns\n",
    "import numpy as np\n",
    "from sklearn.linear_model import LinearRegression\n",
    "from sklearn.linear_model import Lasso\n",
    "from sklearn.linear_model import Ridge\n",
    "from sklearn.preprocessing import PolynomialFeatures\n",
    "from sklearn.pipeline import make_pipeline\n",
    "from sklearn.metrics import mean_squared_error\n",
    "from sklearn.metrics import r2_score\n",
    "from sklearn.model_selection import train_test_split\n",
    "from sklearn.linear_model import LogisticRegression\n",
    "from sklearn.model_selection import KFold\n",
    "from sklearn.model_selection import cross_val_score\n",
    "from sklearn.preprocessing  import LabelEncoder, OrdinalEncoder\n",
    "from sklearn.feature_selection import mutual_info_regression\n",
    "from sklearn.preprocessing import MinMaxScaler\n",
    "from sklearn.metrics import accuracy_score\n",
    "from sklearn.feature_selection import SelectKBest\n",
    "from sklearn.feature_selection import chi2\n",
    "from sklearn.feature_selection import mutual_info_regression\n",
    "from sklearn.ensemble import GradientBoostingRegressor\n",
    "from sklearn.ensemble import RandomForestRegressor\n",
    "from sklearn.preprocessing import OneHotEncoder\n",
    "from sklearn.base import BaseEstimator, TransformerMixin\n",
    "from sklearn.pipeline import Pipeline\n",
    "from sklearn.compose import ColumnTransformer\n",
    "from sklearn.impute import SimpleImputer\n",
    "import joblib\n",
    "\n",
    "df=pd.read_csv(\"ElecDeviceRatingPrediction.csv\")\n",
    "electro = df.copy()\n",
    "electro.head()"
   ]
  },
  {
   "cell_type": "code",
   "execution_count": 2009,
   "metadata": {},
   "outputs": [],
   "source": [
    "electro['rating']=electro['rating'].str.strip('stars')\n",
    "electro['rating']=electro['rating'].astype('int')"
   ]
  },
  {
   "cell_type": "code",
   "execution_count": 2010,
   "metadata": {},
   "outputs": [],
   "source": [
    "electroTrain, electroTest = train_test_split(electro, test_size=0.25, random_state= 104, shuffle = True)\n"
   ]
  },
  {
   "cell_type": "code",
   "execution_count": 2011,
   "metadata": {},
   "outputs": [
    {
     "name": "stdout",
     "output_type": "stream",
     "text": [
      "432    3\n",
      "715    4\n",
      "46     3\n",
      "369    4\n",
      "643    3\n",
      "      ..\n",
      "166    4\n",
      "654    3\n",
      "251    4\n",
      "705    3\n",
      "69     4\n",
      "Name: rating, Length: 542, dtype: int32\n"
     ]
    }
   ],
   "source": [
    "print(electroTrain['rating'])"
   ]
  },
  {
   "cell_type": "code",
   "execution_count": 2012,
   "metadata": {
    "colab": {
     "base_uri": "https://localhost:8080/"
    },
    "id": "eHY9aQiqjnG6",
    "outputId": "5c8b073a-29d1-491e-da73-2d3816dec3e1"
   },
   "outputs": [],
   "source": [
    "# #check the datatypes\n",
    "# print(electro.dtypes)"
   ]
  },
  {
   "cell_type": "code",
   "execution_count": 2013,
   "metadata": {},
   "outputs": [],
   "source": [
    "# electro['ram_gb']=electro['ram_gb'].str.strip('GB')\n"
   ]
  },
  {
   "cell_type": "code",
   "execution_count": 2014,
   "metadata": {},
   "outputs": [],
   "source": [
    "# meanValue_ratings = electro['Number of Ratings'].mean()\n",
    "# electro['Number of Ratings']=electro['Number of Ratings'].replace(0, meanValue_ratings)\n",
    "# electro['Number of Ratings']=electro['Number of Ratings'].astype('int')"
   ]
  },
  {
   "cell_type": "code",
   "execution_count": 2015,
   "metadata": {},
   "outputs": [],
   "source": [
    "# electro['reviews per rating']= electro['Number of Reviews']/electro['Number of Ratings']"
   ]
  },
  {
   "cell_type": "code",
   "execution_count": 2016,
   "metadata": {},
   "outputs": [],
   "source": [
    "# electro['reviews - rating']= electro['Number of Reviews']-electro['Number of Ratings']"
   ]
  },
  {
   "cell_type": "code",
   "execution_count": 2017,
   "metadata": {},
   "outputs": [],
   "source": [
    "# electro['reviews + rating']= electro['Number of Reviews']+electro['Number of Ratings']"
   ]
  },
  {
   "cell_type": "code",
   "execution_count": 2018,
   "metadata": {},
   "outputs": [],
   "source": [
    "# electro['reviews * rating']= electro['Number of Reviews']*electro['Number of Ratings']"
   ]
  },
  {
   "cell_type": "code",
   "execution_count": 2019,
   "metadata": {},
   "outputs": [],
   "source": [
    "# electro"
   ]
  },
  {
   "cell_type": "code",
   "execution_count": 2020,
   "metadata": {},
   "outputs": [],
   "source": [
    "# print(electro.dtypes)"
   ]
  },
  {
   "cell_type": "code",
   "execution_count": 2021,
   "metadata": {},
   "outputs": [],
   "source": [
    "# mode_value = electro['processor_gnrtn'].mode()[0]\n",
    "\n",
    "# print(mode_value)"
   ]
  },
  {
   "cell_type": "code",
   "execution_count": 2022,
   "metadata": {},
   "outputs": [],
   "source": [
    "def ConvertToDatatype(df):\n",
    "    df['ram_gb']=df['ram_gb'].str.strip('GB')\n",
    "    df['Number of Ratings']=df['Number of Ratings'].replace(0, np.nan)\n",
    "    df['reviews per rating']= df['Number of Reviews']/df['Number of Ratings']\n",
    "    df['reviews - rating']= abs(df['Number of Reviews']-df['Number of Ratings'])\n",
    "    df['reviews + rating']= df['Number of Reviews']+df['Number of Ratings']\n",
    "    df['reviews * rating']= df['Number of Reviews']*df['Number of Ratings']\n",
    "    #convert to the correct datatype\n",
    "    df['Touchscreen']=df['Touchscreen'].astype('category')\n",
    "    df['msoffice']=df['msoffice'].astype('category')\n",
    "    df['rating']=df['rating'].astype('category')\n",
    "    df['ram_gb']=df['ram_gb'].astype('int')\n",
    "    df['ssd']=df['ssd'].str.strip('GB')\n",
    "    df['ssd']=df['ssd'].astype('int')\n",
    "    df['hdd']=df['hdd'].str.strip('GB')\n",
    "    df['hdd']=df['hdd'].astype('int')\n",
    "    df['processor_brand']=df['processor_brand'].astype('category')\n",
    "    df['brand']=df['brand'].astype('category')\n",
    "    df['processor_name']=df['processor_name'].astype('category')\n",
    "    df['ram_type']=df['ram_type'].astype('category')\n",
    "    df['os']=df['os'].astype('category')\n",
    "    df['weight']=df['weight'].astype('category')\n",
    "    df['graphic_card_gb']=df['graphic_card_gb'].str.strip('GB')\n",
    "    df['graphic_card_gb']=df['graphic_card_gb'].astype('int')\n",
    "    df['warranty']=df['warranty'].str.strip('year || years')\n",
    "    df['warranty']=df['warranty'].str.replace('No warrant','0')\n",
    "    df['warranty']=df['warranty'].astype('int')\n",
    "    df['processor_gnrtn']=df['processor_gnrtn'].replace('Not Available',np.nan)\n",
    "    df['processor_gnrtn']=df['processor_gnrtn'].str.strip('th')\n",
    "    df['processor_gnrtn']=df['processor_gnrtn'].astype('category')\n",
    "\n",
    "\n",
    "    df.drop_duplicates(inplace=True)\n",
    "    return df"
   ]
  },
  {
   "cell_type": "code",
   "execution_count": 2023,
   "metadata": {},
   "outputs": [],
   "source": [
    "# #convert to the correct datatype\n",
    "# electro['Touchscreen']=electro['Touchscreen'].astype('category')\n",
    "# electro['msoffice']=electro['msoffice'].astype('category')\n",
    "# # electro['rating']=electro['rating'].str.strip('stars')\n",
    "# # electro['rating']=electro['rating'].astype('int')\n",
    "\n",
    "# electro['ram_gb']=electro['ram_gb'].astype('int')\n",
    "# electro['ssd']=electro['ssd'].str.strip('GB')\n",
    "# electro['ssd']=electro['ssd'].astype('int')\n",
    "# electro['hdd']=electro['hdd'].str.strip('GB')\n",
    "# electro['hdd']=electro['hdd'].astype('int')\n",
    "# electro['processor_brand']=electro['processor_brand'].astype('category')\n",
    "# electro['brand']=electro['brand'].astype('category')\n",
    "# electro['processor_name']=electro['processor_name'].astype('category')\n",
    "# electro['ram_type']=electro['ram_type'].astype('category')\n",
    "# electro['os']=electro['os'].astype('category')\n",
    "# electro['weight']=electro['weight'].astype('category')\n",
    "# electro['graphic_card_gb']=electro['graphic_card_gb'].str.strip('GB')\n",
    "# electro['graphic_card_gb']=electro['graphic_card_gb'].astype('int')\n",
    "# electro['warranty']=electro['warranty'].str.strip('year || years')\n",
    "# electro['warranty']=electro['warranty'].str.replace('No warrant','0')\n",
    "# electro['warranty']=electro['warranty'].astype('int')\n",
    "# electro['processor_gnrtn']=electro['processor_gnrtn'].str.replace('Not Available',mode_value)\n",
    "# electro['processor_gnrtn']=electro['processor_gnrtn'].str.strip('th')\n"
   ]
  },
  {
   "cell_type": "code",
   "execution_count": 2024,
   "metadata": {},
   "outputs": [],
   "source": [
    "# print('unique values of ram type : ',electro['ram_type'].unique())"
   ]
  },
  {
   "cell_type": "code",
   "execution_count": 2025,
   "metadata": {},
   "outputs": [],
   "source": [
    "# #manually encoding ram type\n",
    "# manual_encoding = {}\n",
    "# for category in electro['ram_type'].unique():\n",
    "#     if(category == 'DDR5'):\n",
    "#         manual_encoding[category] = 5\n",
    "#     elif(category == 'LPDDR4X'):\n",
    "#         manual_encoding[category] = 4\n",
    "#     elif(category == 'LPDDR4'):\n",
    "#         manual_encoding[category] = 3\n",
    "#     elif(category == 'DDR4'):\n",
    "#         manual_encoding[category] = 2\n",
    "#     elif(category == 'LPDDR3'):\n",
    "#         manual_encoding[category] = 1\n",
    "#     else:\n",
    "#         manual_encoding[category] = 0\n",
    "\n",
    "# print(manual_encoding)"
   ]
  },
  {
   "cell_type": "code",
   "execution_count": null,
   "metadata": {},
   "outputs": [],
   "source": []
  },
  {
   "cell_type": "code",
   "execution_count": 2026,
   "metadata": {},
   "outputs": [],
   "source": [
    "# electro.loc[electro['processor_gnrtn'] == '0' , 'processor_gnrtn'] = electro['processor_gnrtn'].value_counts().idxmax()\n",
    "# electro['processor_gnrtn']=electro['processor_gnrtn'].astype('int')"
   ]
  },
  {
   "cell_type": "code",
   "execution_count": 2027,
   "metadata": {},
   "outputs": [],
   "source": [
    "# print('unique values of processor_gnrtn : ',electro['processor_gnrtn'].unique())"
   ]
  },
  {
   "cell_type": "code",
   "execution_count": 2028,
   "metadata": {
    "colab": {
     "base_uri": "https://localhost:8080/",
     "height": 300
    },
    "id": "JL30kV7cjnG9",
    "outputId": "df265872-ec37-4f07-bde5-ac8aef07a936"
   },
   "outputs": [],
   "source": [
    "# #check the ranges\n",
    "# print(electro.describe())"
   ]
  },
  {
   "cell_type": "code",
   "execution_count": 2029,
   "metadata": {},
   "outputs": [],
   "source": [
    "# electro.dtypes"
   ]
  },
  {
   "cell_type": "code",
   "execution_count": 2030,
   "metadata": {
    "colab": {
     "base_uri": "https://localhost:8080/"
    },
    "id": "9HrN8oYRjnG-",
    "outputId": "97f7c7a6-a02e-487b-f7d1-b5eeb4a82373"
   },
   "outputs": [],
   "source": [
    "# #check for duplicates\n",
    "# duplicates = electro.duplicated(keep=False)\n",
    "# print('no. of duplicates : ',duplicates.sum())"
   ]
  },
  {
   "cell_type": "code",
   "execution_count": 2031,
   "metadata": {
    "id": "99Ml_660jnG-"
   },
   "outputs": [],
   "source": [
    "# #drop the duplicates\n",
    "# electro.drop_duplicates(inplace=True)"
   ]
  },
  {
   "cell_type": "code",
   "execution_count": 2032,
   "metadata": {
    "colab": {
     "base_uri": "https://localhost:8080/"
    },
    "id": "ewSfRvXzjnG_",
    "outputId": "7a948bfd-c77e-4ad8-8458-8e5920d44294"
   },
   "outputs": [],
   "source": [
    "# #check if they are deleted\n",
    "# duplicates = electro.duplicated(keep=False).sum()\n",
    "# print('no. of duplicates : ',duplicates)"
   ]
  },
  {
   "cell_type": "code",
   "execution_count": 2033,
   "metadata": {
    "colab": {
     "base_uri": "https://localhost:8080/",
     "height": 104
    },
    "id": "4y3iAry_jnG_",
    "outputId": "3c7e6046-4a0b-416b-e5aa-172e9ab623ad"
   },
   "outputs": [],
   "source": [
    "# #check if there is any device doesn't have any processor\n",
    "# print(electro[(electro['ssd']==0) & (electro['hdd']==0)])"
   ]
  },
  {
   "cell_type": "code",
   "execution_count": 2034,
   "metadata": {
    "colab": {
     "base_uri": "https://localhost:8080/"
    },
    "id": "kUKwKy8tjnG_",
    "outputId": "502b344a-e5db-4d37-ed2c-606a5e8e4940"
   },
   "outputs": [],
   "source": [
    "# #check missing data\n",
    "# print('NULLS : \\n',electro.isna().sum())"
   ]
  },
  {
   "cell_type": "code",
   "execution_count": 2035,
   "metadata": {},
   "outputs": [],
   "source": [
    "# print('data types : \\n',electro.dtypes)"
   ]
  },
  {
   "cell_type": "code",
   "execution_count": 2036,
   "metadata": {},
   "outputs": [],
   "source": [
    "# X_train"
   ]
  },
  {
   "cell_type": "markdown",
   "metadata": {},
   "source": [
    "# test data here"
   ]
  },
  {
   "cell_type": "code",
   "execution_count": 2037,
   "metadata": {},
   "outputs": [],
   "source": [
    "#\n",
    "electroTrain = ConvertToDatatype(electroTrain)\n",
    "electroTest = ConvertToDatatype(electroTest)\n",
    "\n",
    "X_train = electroTrain.drop(columns=['rating'])\n",
    "Y_train = electroTrain['rating']\n",
    "\n",
    "X_test = electroTest.drop(columns=['rating'])\n",
    "Y_test = electroTest['rating']"
   ]
  },
  {
   "cell_type": "code",
   "execution_count": 2038,
   "metadata": {},
   "outputs": [
    {
     "data": {
      "text/plain": [
       "['preprocessorMs1.joblib']"
      ]
     },
     "execution_count": 2038,
     "metadata": {},
     "output_type": "execute_result"
    }
   ],
   "source": [
    "# class LabelEncoderTransformer(BaseEstimator, TransformerMixin):\n",
    "#     def __init__(self):\n",
    "#         self.label_encoder = LabelEncoder()\n",
    "\n",
    "#     def fit(self, X, y=None):\n",
    "#         self.label_encoder.fit(X)\n",
    "#         return self\n",
    "\n",
    "#     def transform(self, X):\n",
    "#         return self.label_encoder.transform(X)\n",
    "\n",
    "\n",
    "\n",
    "\n",
    "# numericFeatures = ['Number of Ratings','reviews per rating','reviews - rating','reviews + rating','reviews * rating']\n",
    "# categorical_features_ordinal = ['weight', 'Touchscreen', 'msoffice', 'ram_type']\n",
    "# categorical_features_hot = ['brand','processor_brand','processor_name','os']\n",
    "# processorGnrtn = ['processor_gnrtn']\n",
    "\n",
    "# numeric_transformer_ms1 = Pipeline(steps = [\n",
    "#     ('imputer', SimpleImputer(strategy='mean').set_output(transform = 'pandas')),\n",
    "# ]) \n",
    "\n",
    "\n",
    "# mode_value = electroTrain['processor_gnrtn'].mode()[0]\n",
    "# TransformerGnrtnMs1 = Pipeline(steps = [\n",
    "#     ('imputer', SimpleImputer(strategy='constant', fill_value = mode_value).set_output(transform = 'pandas')),\n",
    "# ])\n",
    "\n",
    "\n",
    "# categoricalTransformerOrdinalMs1 = Pipeline(steps = [\n",
    "#     ('ordinal', OrdinalEncoder())\n",
    "# ])\n",
    "\n",
    "\n",
    "# categoricalTransformerHotMs1 = Pipeline(steps = [\n",
    "#     ('HotEncoding', OneHotEncoder(handle_unknown='ignore'))\n",
    "# ])\n",
    "\n",
    "\n",
    "# preprocessorMs1 = ColumnTransformer(\n",
    "#     transformers=[\n",
    "#         ('num', numeric_transformer_ms1, numericFeatures),\n",
    "#         ('processorGnrtnCol', TransformerGnrtnMs1, processorGnrtn),\n",
    "#         ('ordinalCols', categoricalTransformerOrdinalMs1, categorical_features_ordinal),\n",
    "#         ('hotEncod', categoricalTransformerHotMs1, categorical_features_hot),\n",
    "#     ],\n",
    "#     remainder='passthrough'\n",
    "# )\n",
    "\n",
    "# preprocessorMs1.fit(X_train, Y_train)\n",
    "# joblib.dump(preprocessorMs1, 'preprocessorMs1.joblib')"
   ]
  },
  {
   "cell_type": "markdown",
   "metadata": {},
   "source": [
    "# load pre processing"
   ]
  },
  {
   "cell_type": "code",
   "execution_count": 2039,
   "metadata": {},
   "outputs": [
    {
     "name": "stdout",
     "output_type": "stream",
     "text": [
      "['num__Number of Ratings' 'num__reviews per rating'\n",
      " 'num__reviews - rating' 'num__reviews + rating' 'num__reviews * rating'\n",
      " 'processorGnrtnCol__processor_gnrtn' 'ordinalCols__weight'\n",
      " 'ordinalCols__Touchscreen' 'ordinalCols__msoffice'\n",
      " 'ordinalCols__ram_type' 'hotEncod__brand_APPLE' 'hotEncod__brand_ASUS'\n",
      " 'hotEncod__brand_Avita' 'hotEncod__brand_DELL' 'hotEncod__brand_HP'\n",
      " 'hotEncod__brand_Lenovo' 'hotEncod__brand_MSI' 'hotEncod__brand_acer'\n",
      " 'hotEncod__processor_brand_AMD' 'hotEncod__processor_brand_Intel'\n",
      " 'hotEncod__processor_brand_M1' 'hotEncod__processor_name_Celeron Dual'\n",
      " 'hotEncod__processor_name_Core i3' 'hotEncod__processor_name_Core i5'\n",
      " 'hotEncod__processor_name_Core i7' 'hotEncod__processor_name_Core i9'\n",
      " 'hotEncod__processor_name_M1' 'hotEncod__processor_name_Pentium Quad'\n",
      " 'hotEncod__processor_name_Ryzen 3' 'hotEncod__processor_name_Ryzen 5'\n",
      " 'hotEncod__processor_name_Ryzen 7' 'hotEncod__processor_name_Ryzen 9'\n",
      " 'hotEncod__os_32-bit DOS' 'hotEncod__os_32-bit Windows'\n",
      " 'hotEncod__os_64-bit DOS' 'hotEncod__os_64-bit Mac'\n",
      " 'hotEncod__os_64-bit Windows' 'remainder__ram_gb' 'remainder__ssd'\n",
      " 'remainder__hdd' 'remainder__graphic_card_gb' 'remainder__warranty'\n",
      " 'remainder__Price' 'remainder__Number of Reviews']\n"
     ]
    },
    {
     "data": {
      "text/html": [
       "<div>\n",
       "<style scoped>\n",
       "    .dataframe tbody tr th:only-of-type {\n",
       "        vertical-align: middle;\n",
       "    }\n",
       "\n",
       "    .dataframe tbody tr th {\n",
       "        vertical-align: top;\n",
       "    }\n",
       "\n",
       "    .dataframe thead th {\n",
       "        text-align: right;\n",
       "    }\n",
       "</style>\n",
       "<table border=\"1\" class=\"dataframe\">\n",
       "  <thead>\n",
       "    <tr style=\"text-align: right;\">\n",
       "      <th></th>\n",
       "      <th>Number of Ratings</th>\n",
       "      <th>reviews per rating</th>\n",
       "      <th>reviews - rating</th>\n",
       "      <th>reviews + rating</th>\n",
       "      <th>reviews * rating</th>\n",
       "      <th>processor_gnrtn</th>\n",
       "      <th>weight</th>\n",
       "      <th>Touchscreen</th>\n",
       "      <th>msoffice</th>\n",
       "      <th>ram_type</th>\n",
       "      <th>...</th>\n",
       "      <th>os_64-bit DOS</th>\n",
       "      <th>os_64-bit Mac</th>\n",
       "      <th>os_64-bit Windows</th>\n",
       "      <th>ram_gb</th>\n",
       "      <th>ssd</th>\n",
       "      <th>hdd</th>\n",
       "      <th>graphic_card_gb</th>\n",
       "      <th>warranty</th>\n",
       "      <th>Price</th>\n",
       "      <th>Number of Reviews</th>\n",
       "    </tr>\n",
       "  </thead>\n",
       "  <tbody>\n",
       "    <tr>\n",
       "      <th>0</th>\n",
       "      <td>395.341598</td>\n",
       "      <td>0.143548</td>\n",
       "      <td>347.011019</td>\n",
       "      <td>443.672176</td>\n",
       "      <td>175224.746556</td>\n",
       "      <td>11</td>\n",
       "      <td>0.0</td>\n",
       "      <td>0.0</td>\n",
       "      <td>0.0</td>\n",
       "      <td>1.0</td>\n",
       "      <td>...</td>\n",
       "      <td>0.0</td>\n",
       "      <td>0.0</td>\n",
       "      <td>1.0</td>\n",
       "      <td>16</td>\n",
       "      <td>1024</td>\n",
       "      <td>0</td>\n",
       "      <td>6</td>\n",
       "      <td>0</td>\n",
       "      <td>192990</td>\n",
       "      <td>0</td>\n",
       "    </tr>\n",
       "    <tr>\n",
       "      <th>1</th>\n",
       "      <td>42.0</td>\n",
       "      <td>0.190476</td>\n",
       "      <td>34.0</td>\n",
       "      <td>50.0</td>\n",
       "      <td>336.0</td>\n",
       "      <td>10</td>\n",
       "      <td>0.0</td>\n",
       "      <td>0.0</td>\n",
       "      <td>0.0</td>\n",
       "      <td>1.0</td>\n",
       "      <td>...</td>\n",
       "      <td>0.0</td>\n",
       "      <td>1.0</td>\n",
       "      <td>0.0</td>\n",
       "      <td>16</td>\n",
       "      <td>512</td>\n",
       "      <td>0</td>\n",
       "      <td>0</td>\n",
       "      <td>1</td>\n",
       "      <td>225990</td>\n",
       "      <td>8</td>\n",
       "    </tr>\n",
       "    <tr>\n",
       "      <th>2</th>\n",
       "      <td>395.341598</td>\n",
       "      <td>0.143548</td>\n",
       "      <td>347.011019</td>\n",
       "      <td>443.672176</td>\n",
       "      <td>175224.746556</td>\n",
       "      <td>12</td>\n",
       "      <td>0.0</td>\n",
       "      <td>0.0</td>\n",
       "      <td>0.0</td>\n",
       "      <td>2.0</td>\n",
       "      <td>...</td>\n",
       "      <td>0.0</td>\n",
       "      <td>0.0</td>\n",
       "      <td>1.0</td>\n",
       "      <td>16</td>\n",
       "      <td>1024</td>\n",
       "      <td>0</td>\n",
       "      <td>6</td>\n",
       "      <td>0</td>\n",
       "      <td>299990</td>\n",
       "      <td>0</td>\n",
       "    </tr>\n",
       "    <tr>\n",
       "      <th>3</th>\n",
       "      <td>62.0</td>\n",
       "      <td>0.112903</td>\n",
       "      <td>55.0</td>\n",
       "      <td>69.0</td>\n",
       "      <td>434.0</td>\n",
       "      <td>11</td>\n",
       "      <td>2.0</td>\n",
       "      <td>0.0</td>\n",
       "      <td>1.0</td>\n",
       "      <td>1.0</td>\n",
       "      <td>...</td>\n",
       "      <td>0.0</td>\n",
       "      <td>0.0</td>\n",
       "      <td>1.0</td>\n",
       "      <td>4</td>\n",
       "      <td>256</td>\n",
       "      <td>1024</td>\n",
       "      <td>0</td>\n",
       "      <td>1</td>\n",
       "      <td>42990</td>\n",
       "      <td>7</td>\n",
       "    </tr>\n",
       "    <tr>\n",
       "      <th>4</th>\n",
       "      <td>395.341598</td>\n",
       "      <td>0.143548</td>\n",
       "      <td>347.011019</td>\n",
       "      <td>443.672176</td>\n",
       "      <td>175224.746556</td>\n",
       "      <td>11</td>\n",
       "      <td>0.0</td>\n",
       "      <td>0.0</td>\n",
       "      <td>1.0</td>\n",
       "      <td>1.0</td>\n",
       "      <td>...</td>\n",
       "      <td>0.0</td>\n",
       "      <td>0.0</td>\n",
       "      <td>1.0</td>\n",
       "      <td>16</td>\n",
       "      <td>1024</td>\n",
       "      <td>0</td>\n",
       "      <td>8</td>\n",
       "      <td>1</td>\n",
       "      <td>171990</td>\n",
       "      <td>0</td>\n",
       "    </tr>\n",
       "    <tr>\n",
       "      <th>...</th>\n",
       "      <td>...</td>\n",
       "      <td>...</td>\n",
       "      <td>...</td>\n",
       "      <td>...</td>\n",
       "      <td>...</td>\n",
       "      <td>...</td>\n",
       "      <td>...</td>\n",
       "      <td>...</td>\n",
       "      <td>...</td>\n",
       "      <td>...</td>\n",
       "      <td>...</td>\n",
       "      <td>...</td>\n",
       "      <td>...</td>\n",
       "      <td>...</td>\n",
       "      <td>...</td>\n",
       "      <td>...</td>\n",
       "      <td>...</td>\n",
       "      <td>...</td>\n",
       "      <td>...</td>\n",
       "      <td>...</td>\n",
       "      <td>...</td>\n",
       "    </tr>\n",
       "    <tr>\n",
       "      <th>526</th>\n",
       "      <td>474.0</td>\n",
       "      <td>0.137131</td>\n",
       "      <td>409.0</td>\n",
       "      <td>539.0</td>\n",
       "      <td>30810.0</td>\n",
       "      <td>11</td>\n",
       "      <td>0.0</td>\n",
       "      <td>0.0</td>\n",
       "      <td>1.0</td>\n",
       "      <td>1.0</td>\n",
       "      <td>...</td>\n",
       "      <td>0.0</td>\n",
       "      <td>0.0</td>\n",
       "      <td>0.0</td>\n",
       "      <td>8</td>\n",
       "      <td>256</td>\n",
       "      <td>1024</td>\n",
       "      <td>0</td>\n",
       "      <td>1</td>\n",
       "      <td>54990</td>\n",
       "      <td>65</td>\n",
       "    </tr>\n",
       "    <tr>\n",
       "      <th>527</th>\n",
       "      <td>395.341598</td>\n",
       "      <td>0.143548</td>\n",
       "      <td>347.011019</td>\n",
       "      <td>443.672176</td>\n",
       "      <td>175224.746556</td>\n",
       "      <td>11</td>\n",
       "      <td>2.0</td>\n",
       "      <td>0.0</td>\n",
       "      <td>0.0</td>\n",
       "      <td>1.0</td>\n",
       "      <td>...</td>\n",
       "      <td>0.0</td>\n",
       "      <td>0.0</td>\n",
       "      <td>1.0</td>\n",
       "      <td>4</td>\n",
       "      <td>256</td>\n",
       "      <td>0</td>\n",
       "      <td>0</td>\n",
       "      <td>0</td>\n",
       "      <td>43990</td>\n",
       "      <td>0</td>\n",
       "    </tr>\n",
       "    <tr>\n",
       "      <th>528</th>\n",
       "      <td>311.0</td>\n",
       "      <td>0.086817</td>\n",
       "      <td>284.0</td>\n",
       "      <td>338.0</td>\n",
       "      <td>8397.0</td>\n",
       "      <td>7</td>\n",
       "      <td>0.0</td>\n",
       "      <td>0.0</td>\n",
       "      <td>0.0</td>\n",
       "      <td>1.0</td>\n",
       "      <td>...</td>\n",
       "      <td>0.0</td>\n",
       "      <td>0.0</td>\n",
       "      <td>1.0</td>\n",
       "      <td>4</td>\n",
       "      <td>0</td>\n",
       "      <td>1024</td>\n",
       "      <td>0</td>\n",
       "      <td>0</td>\n",
       "      <td>32955</td>\n",
       "      <td>27</td>\n",
       "    </tr>\n",
       "    <tr>\n",
       "      <th>529</th>\n",
       "      <td>28.0</td>\n",
       "      <td>0.142857</td>\n",
       "      <td>24.0</td>\n",
       "      <td>32.0</td>\n",
       "      <td>112.0</td>\n",
       "      <td>10</td>\n",
       "      <td>0.0</td>\n",
       "      <td>0.0</td>\n",
       "      <td>0.0</td>\n",
       "      <td>1.0</td>\n",
       "      <td>...</td>\n",
       "      <td>0.0</td>\n",
       "      <td>0.0</td>\n",
       "      <td>1.0</td>\n",
       "      <td>8</td>\n",
       "      <td>0</td>\n",
       "      <td>1024</td>\n",
       "      <td>0</td>\n",
       "      <td>1</td>\n",
       "      <td>32890</td>\n",
       "      <td>4</td>\n",
       "    </tr>\n",
       "    <tr>\n",
       "      <th>530</th>\n",
       "      <td>76.0</td>\n",
       "      <td>0.184211</td>\n",
       "      <td>62.0</td>\n",
       "      <td>90.0</td>\n",
       "      <td>1064.0</td>\n",
       "      <td>11</td>\n",
       "      <td>0.0</td>\n",
       "      <td>0.0</td>\n",
       "      <td>1.0</td>\n",
       "      <td>5.0</td>\n",
       "      <td>...</td>\n",
       "      <td>0.0</td>\n",
       "      <td>0.0</td>\n",
       "      <td>0.0</td>\n",
       "      <td>8</td>\n",
       "      <td>512</td>\n",
       "      <td>0</td>\n",
       "      <td>0</td>\n",
       "      <td>1</td>\n",
       "      <td>72990</td>\n",
       "      <td>14</td>\n",
       "    </tr>\n",
       "  </tbody>\n",
       "</table>\n",
       "<p>531 rows × 44 columns</p>\n",
       "</div>"
      ],
      "text/plain": [
       "    Number of Ratings reviews per rating reviews - rating reviews + rating  \\\n",
       "0          395.341598           0.143548       347.011019       443.672176   \n",
       "1                42.0           0.190476             34.0             50.0   \n",
       "2          395.341598           0.143548       347.011019       443.672176   \n",
       "3                62.0           0.112903             55.0             69.0   \n",
       "4          395.341598           0.143548       347.011019       443.672176   \n",
       "..                ...                ...              ...              ...   \n",
       "526             474.0           0.137131            409.0            539.0   \n",
       "527        395.341598           0.143548       347.011019       443.672176   \n",
       "528             311.0           0.086817            284.0            338.0   \n",
       "529              28.0           0.142857             24.0             32.0   \n",
       "530              76.0           0.184211             62.0             90.0   \n",
       "\n",
       "    reviews * rating processor_gnrtn weight Touchscreen msoffice ram_type  \\\n",
       "0      175224.746556              11    0.0         0.0      0.0      1.0   \n",
       "1              336.0              10    0.0         0.0      0.0      1.0   \n",
       "2      175224.746556              12    0.0         0.0      0.0      2.0   \n",
       "3              434.0              11    2.0         0.0      1.0      1.0   \n",
       "4      175224.746556              11    0.0         0.0      1.0      1.0   \n",
       "..               ...             ...    ...         ...      ...      ...   \n",
       "526          30810.0              11    0.0         0.0      1.0      1.0   \n",
       "527    175224.746556              11    2.0         0.0      0.0      1.0   \n",
       "528           8397.0               7    0.0         0.0      0.0      1.0   \n",
       "529            112.0              10    0.0         0.0      0.0      1.0   \n",
       "530           1064.0              11    0.0         0.0      1.0      5.0   \n",
       "\n",
       "     ... os_64-bit DOS os_64-bit Mac os_64-bit Windows ram_gb   ssd   hdd  \\\n",
       "0    ...           0.0           0.0               1.0     16  1024     0   \n",
       "1    ...           0.0           1.0               0.0     16   512     0   \n",
       "2    ...           0.0           0.0               1.0     16  1024     0   \n",
       "3    ...           0.0           0.0               1.0      4   256  1024   \n",
       "4    ...           0.0           0.0               1.0     16  1024     0   \n",
       "..   ...           ...           ...               ...    ...   ...   ...   \n",
       "526  ...           0.0           0.0               0.0      8   256  1024   \n",
       "527  ...           0.0           0.0               1.0      4   256     0   \n",
       "528  ...           0.0           0.0               1.0      4     0  1024   \n",
       "529  ...           0.0           0.0               1.0      8     0  1024   \n",
       "530  ...           0.0           0.0               0.0      8   512     0   \n",
       "\n",
       "    graphic_card_gb warranty   Price Number of Reviews  \n",
       "0                 6        0  192990                 0  \n",
       "1                 0        1  225990                 8  \n",
       "2                 6        0  299990                 0  \n",
       "3                 0        1   42990                 7  \n",
       "4                 8        1  171990                 0  \n",
       "..              ...      ...     ...               ...  \n",
       "526               0        1   54990                65  \n",
       "527               0        0   43990                 0  \n",
       "528               0        0   32955                27  \n",
       "529               0        1   32890                 4  \n",
       "530               0        1   72990                14  \n",
       "\n",
       "[531 rows x 44 columns]"
      ]
     },
     "execution_count": 2039,
     "metadata": {},
     "output_type": "execute_result"
    }
   ],
   "source": [
    "preprocessorMs1Loaded = joblib.load('preprocessorMs1.joblib')\n",
    "# X_train_transformed = preprocessorMs1Loaded.transform(electroTrain)\n",
    "transformed_names = preprocessorMs1Loaded.get_feature_names_out()\n",
    "X_test_transformed = preprocessorMs1Loaded.transform(electroTest)\n",
    "\n",
    "outputCols = []\n",
    "for name in transformed_names:\n",
    "    if \"num__\" in name:\n",
    "        name = name.replace(\"num__\", \"\")\n",
    "        outputCols.append(name)\n",
    "    elif \"ordinalCols__\" in name:\n",
    "        name = name.replace(\"ordinalCols__\", \"\")\n",
    "        outputCols.append(name)\n",
    "    elif \"remainder__\" in name:\n",
    "        name = name.replace(\"remainder__\", \"\")\n",
    "        outputCols.append(name)\n",
    "    elif \"processorGnrtnCol__\" in name:\n",
    "        name = name.replace(\"processorGnrtnCol__\", \"\")\n",
    "        outputCols.append(name)\n",
    "    elif \"hotEncod__\" in name:\n",
    "        name = name.replace(\"hotEncod__\", \"\")\n",
    "        outputCols.append(name)\n",
    "    else:\n",
    "        outputCols.append(name)\n",
    "print(transformed_names)\n",
    "outputCols\n",
    "\n",
    "X_test_transformed_df = pd.DataFrame(X_test_transformed, columns=outputCols)\n",
    "X_test = X_test_transformed_df\n",
    "\n",
    "# X_train_transformed_df = pd.DataFrame(X_train_transformed, columns=outputCols)\n",
    "# X_train_transformed_df"
   ]
  },
  {
   "cell_type": "code",
   "execution_count": 2040,
   "metadata": {},
   "outputs": [],
   "source": [
    "for col in X_train_transformed_df:\n",
    "    X_train_transformed_df[col] = X_train_transformed_df[col].astype('float')\n",
    "for col in X_test:\n",
    "    X_test[col] = X_test[col].astype('float') "
   ]
  },
  {
   "cell_type": "code",
   "execution_count": 2041,
   "metadata": {},
   "outputs": [],
   "source": [
    "# def handleOutliers(df, colsDict):\n",
    "#     for col in df.columns:\n",
    "#         #print(\"capping the \",col)\n",
    "#         if (((df[col].dtype)=='float') | ((df[col].dtype)=='int32')|((df[col].dtype)=='int64')):\n",
    "#             percentiles = df[col].quantile([0.25,0.75]).values\n",
    "#             iqr= percentiles[1]-percentiles[0]\n",
    "# #             for value in df[col]:\n",
    "# #                 if value <= percentiles[0]-1.5*iqr or value >= percentiles[1]+1.5*iqr:\n",
    "# #                     value = df[col].mean()\n",
    "#             df[col][df[col] <= percentiles[0]-1.5*iqr] = percentiles[0]#-1.5*iqr\n",
    "#             df[col][df[col] >= percentiles[1]+1.5*iqr] = percentiles[1]#+1.5*iqr\n",
    "#             colsDict[col] = {'Min': percentiles[0], 'Max':percentiles[1]}\n",
    "#         else:\n",
    "#             df[col]=electro[col]\n",
    "#     return df"
   ]
  },
  {
   "cell_type": "code",
   "execution_count": 2042,
   "metadata": {},
   "outputs": [],
   "source": [
    "def handleOutliersLoaded(df, colsDict):\n",
    "    for col in df.columns:\n",
    "        #print(\"capping the \",col)\n",
    "        if (((df[col].dtype)=='float') | ((df[col].dtype)=='int32')|((df[col].dtype)=='int64')):\n",
    "            percentiles = df[col].quantile([0.25,0.75]).values\n",
    "            iqr= percentiles[1]-percentiles[0]\n",
    "            for value in df[col]:\n",
    "                if value <= colsDict[col]['Min']:\n",
    "                    value = colsDict[col]['Min']\n",
    "                elif value >= colsDict[col]['Max']:\n",
    "                    value = colsDict[col]['Max']\n",
    "        else:\n",
    "            df[col]=electro[col]\n",
    "    return df"
   ]
  },
  {
   "cell_type": "code",
   "execution_count": 2043,
   "metadata": {},
   "outputs": [],
   "source": [
    "# colsDict = {}\n",
    "# X_train_transformed_df = handleOutliers(X_train_transformed_df, colsDict)\n"
   ]
  },
  {
   "cell_type": "code",
   "execution_count": 2044,
   "metadata": {},
   "outputs": [],
   "source": [
    "# joblib.dump(colsDict, 'colsDictMs1.joblib')"
   ]
  },
  {
   "cell_type": "markdown",
   "metadata": {},
   "source": [
    "# load dictionary & handle outliers"
   ]
  },
  {
   "cell_type": "code",
   "execution_count": 2045,
   "metadata": {},
   "outputs": [],
   "source": [
    "colsDictLoaded = joblib.load('colsDictMs1.joblib')\n",
    "X_test = handleOutliersLoaded(X_test, colsDictLoaded)\n",
    "# X_train_transformed_df = handleOutliersLoaded(X_train_transformed_df, colsDictLoaded)"
   ]
  },
  {
   "cell_type": "code",
   "execution_count": 2046,
   "metadata": {},
   "outputs": [
    {
     "data": {
      "text/plain": [
       "['scale_pipelineMs1.joblib']"
      ]
     },
     "execution_count": 2046,
     "metadata": {},
     "output_type": "execute_result"
    }
   ],
   "source": [
    "# numericFeaturesScale = ['warranty' ,'Number of Ratings','Number of Reviews', 'Price','ram_gb','ssd','hdd','graphic_card_gb','reviews per rating','reviews - rating','reviews + rating','reviews * rating']\n",
    "\n",
    "# numericTransformerScale = Pipeline(steps = [\n",
    "#     ('scaler', MinMaxScaler(feature_range=(0,1)))\n",
    "# ]) \n",
    "\n",
    "# Scaler_pipeMs1 = ColumnTransformer(\n",
    "#     transformers=[\n",
    "#         ('num', numericTransformerScale, numericFeaturesScale),\n",
    "#     ],\n",
    "#     remainder='passthrough'\n",
    "# )\n",
    "\n",
    "# Scaler_pipeMs1.fit(X_train_transformed_df, Y_train)\n",
    "# joblib.dump(Scaler_pipeMs1, 'scale_pipelineMs1.joblib')"
   ]
  },
  {
   "cell_type": "markdown",
   "metadata": {},
   "source": [
    "# load scaler"
   ]
  },
  {
   "cell_type": "code",
   "execution_count": 2047,
   "metadata": {},
   "outputs": [
    {
     "name": "stdout",
     "output_type": "stream",
     "text": [
      "['num__warranty' 'num__Number of Ratings' 'num__Number of Reviews'\n",
      " 'num__Price' 'num__ram_gb' 'num__ssd' 'num__hdd' 'num__graphic_card_gb'\n",
      " 'num__reviews per rating' 'num__reviews - rating' 'num__reviews + rating'\n",
      " 'num__reviews * rating' 'remainder__processor_gnrtn' 'remainder__weight'\n",
      " 'remainder__Touchscreen' 'remainder__msoffice' 'remainder__ram_type'\n",
      " 'remainder__brand_APPLE' 'remainder__brand_ASUS' 'remainder__brand_Avita'\n",
      " 'remainder__brand_DELL' 'remainder__brand_HP' 'remainder__brand_Lenovo'\n",
      " 'remainder__brand_MSI' 'remainder__brand_acer'\n",
      " 'remainder__processor_brand_AMD' 'remainder__processor_brand_Intel'\n",
      " 'remainder__processor_brand_M1' 'remainder__processor_name_Celeron Dual'\n",
      " 'remainder__processor_name_Core i3' 'remainder__processor_name_Core i5'\n",
      " 'remainder__processor_name_Core i7' 'remainder__processor_name_Core i9'\n",
      " 'remainder__processor_name_M1' 'remainder__processor_name_Pentium Quad'\n",
      " 'remainder__processor_name_Ryzen 3' 'remainder__processor_name_Ryzen 5'\n",
      " 'remainder__processor_name_Ryzen 7' 'remainder__processor_name_Ryzen 9'\n",
      " 'remainder__os_32-bit DOS' 'remainder__os_32-bit Windows'\n",
      " 'remainder__os_64-bit DOS' 'remainder__os_64-bit Mac'\n",
      " 'remainder__os_64-bit Windows']\n"
     ]
    }
   ],
   "source": [
    "scalerLoaded = joblib.load('scale_pipelineMs1.joblib')\n",
    "# X_train_scaled = scalerLoaded.transform(X_train_transformed_df)\n",
    "X_test_scaled = scalerLoaded.transform(X_test)\n",
    "transformed_names = scalerLoaded.get_feature_names_out()\n",
    "\n",
    "outputCols = []\n",
    "for name in transformed_names:\n",
    "    if \"num__\" in name:\n",
    "        name = name.replace(\"num__\", \"\")\n",
    "        outputCols.append(name)\n",
    "    elif \"ordinalCols__\" in name:\n",
    "        name = name.replace(\"ordinalCols__\", \"\")\n",
    "        outputCols.append(name)\n",
    "    elif \"remainder__\" in name:\n",
    "        name = name.replace(\"remainder__\", \"\")\n",
    "        outputCols.append(name)\n",
    "    elif \"processorGnrtnCol__\" in name:\n",
    "        name = name.replace(\"processorGnrtnCol__\", \"\")\n",
    "        outputCols.append(name)\n",
    "    elif \"hotEncod__\" in name:\n",
    "        name = name.replace(\"hotEncod__\", \"\")\n",
    "        outputCols.append(name)\n",
    "    else:\n",
    "        outputCols.append(name)\n",
    "print(transformed_names)\n",
    "# outputCols\n",
    "\n",
    "\n",
    "X_test =  pd.DataFrame(X_test_scaled, columns=outputCols)\n",
    "# X_train_scaled_df = pd.DataFrame(X_train_scaled, columns=outputCols)"
   ]
  },
  {
   "cell_type": "code",
   "execution_count": 2048,
   "metadata": {},
   "outputs": [],
   "source": [
    "# for col in X_train_scaled_df:\n",
    "#     X_train_scaled_df[col] = X_train_scaled_df[col].astype('float')\n",
    "for col in X_test:\n",
    "    X_test[col] = X_test[col].astype('float')"
   ]
  },
  {
   "cell_type": "code",
   "execution_count": 2049,
   "metadata": {},
   "outputs": [],
   "source": [
    "# #label encoding for features with natural order \n",
    "# label_encoder = LabelEncoder()  \n",
    "# electro['weight']= label_encoder.fit_transform(electro['weight'])\n",
    "# electro['msoffice'] = label_encoder.fit_transform(electro['msoffice'])\n",
    "# electro['ram_type'] = label_encoder.fit_transform(electro['ram_type'])\n",
    "# electro['Touchscreen'] = label_encoder.fit_transform(electro['Touchscreen'])\n"
   ]
  },
  {
   "cell_type": "code",
   "execution_count": 2050,
   "metadata": {},
   "outputs": [],
   "source": [
    "# ordinalEncoder = OrdinalEncoder()\n",
    "# categoricalData = pd.DataFrame()\n",
    "\n",
    "# categoricalData['weight'] = electro['weight']\n",
    "# categoricalData['brand'] = electro['brand']\n",
    "# categoricalData['processor_brand'] = electro['processor_brand']\n",
    "# categoricalData['processor_name'] = electro['processor_name']\n",
    "# categoricalData['os'] = electro['os']\n",
    "# categoricalData['Touchscreen'] = electro['Touchscreen']\n",
    "# categoricalData['msoffice'] = electro['msoffice']\n",
    "# categoricalData['ram_type'] =electro['ram_type']\n",
    "\n",
    "\n",
    "# #one hot encoding\n",
    "# categoricalData = pd.get_dummies(categoricalData,columns=['brand','processor_brand','processor_name','os','Touchscreen'],dtype=int)"
   ]
  },
  {
   "cell_type": "code",
   "execution_count": 2051,
   "metadata": {},
   "outputs": [],
   "source": [
    "# #one hot encoding for categories with no order\n",
    "# electro=pd.get_dummies(electro,columns=['brand','processor_brand','processor_name','os'],dtype=int)"
   ]
  },
  {
   "cell_type": "code",
   "execution_count": 2052,
   "metadata": {},
   "outputs": [],
   "source": [
    "# #check the outliers\n",
    "# fig, axes = plt.subplots(4,2,sharex=True,figsize=(10, 10))\n",
    "# fig.suptitle('Check the outliers of numeric columns')\n",
    "# plt.subplots_adjust(wspace = 0.5)\n",
    "# sns.boxplot(data=electro, y='ram_gb', ax=axes[0,0])\n",
    "# sns.boxplot(data=electro, y='ssd', ax=axes[0,1])\n",
    "# sns.boxplot(data=electro, y='hdd', ax=axes[1,0])\n",
    "# sns.boxplot(data=electro, y='Number of Reviews', ax=axes[1,1])\n",
    "# sns.boxplot(data=electro, y='Number of Ratings', ax=axes[2,0])\n",
    "# sns.boxplot(data=electro, y='Price', ax=axes[2,1])\n",
    "# sns.boxplot(data=electro, y='warranty', ax=axes[3,0])\n",
    "# sns.boxplot(data=electro, y='graphic_card_gb', ax=axes[3,1])\n",
    "# plt.show()"
   ]
  },
  {
   "cell_type": "code",
   "execution_count": 2053,
   "metadata": {},
   "outputs": [],
   "source": [
    "# electro.dtypes"
   ]
  },
  {
   "cell_type": "code",
   "execution_count": 2054,
   "metadata": {},
   "outputs": [],
   "source": [
    "# #check the outliers\n",
    "# fig, axes = plt.subplots(4,2,sharex=True,figsize=(10, 10))\n",
    "# fig.suptitle('Check the outliers of numeric columns')\n",
    "# plt.subplots_adjust(wspace = 0.5)\n",
    "# sns.boxplot(data=electro, y='ram_gb', ax=axes[0,0])\n",
    "# sns.boxplot(data=electro, y='ssd', ax=axes[0,1])\n",
    "# sns.boxplot(data=electro, y='hdd', ax=axes[1,0])\n",
    "# sns.boxplot(data=electro, y='Number of Reviews', ax=axes[1,1])\n",
    "# sns.boxplot(data=electro, y='Number of Ratings', ax=axes[2,0])\n",
    "# sns.boxplot(data=electro, y='Price', ax=axes[2,1])\n",
    "# sns.boxplot(data=electro, y='warranty', ax=axes[3,0])\n",
    "# sns.boxplot(data=electro, y='graphic_card_gb', ax=axes[3,1])\n",
    "# plt.show()"
   ]
  },
  {
   "cell_type": "code",
   "execution_count": 2055,
   "metadata": {},
   "outputs": [],
   "source": [
    "# #split to features and result\n",
    "# X = electro.drop(columns=['rating'])\n",
    "# Y = electro['rating']"
   ]
  },
  {
   "cell_type": "code",
   "execution_count": 2056,
   "metadata": {},
   "outputs": [],
   "source": [
    "# Y_categorical = electro['rating']\n",
    "# scaler =  MinMaxScaler(feature_range=(0,1))\n",
    "# X = pd.DataFrame(scaler.fit_transform(X),index=X.index,columns= X.columns)"
   ]
  },
  {
   "cell_type": "code",
   "execution_count": 2057,
   "metadata": {},
   "outputs": [],
   "source": [
    "# print('unique values of rating : ',electro['rating'].unique())"
   ]
  },
  {
   "cell_type": "code",
   "execution_count": 2058,
   "metadata": {},
   "outputs": [],
   "source": [
    "# #check the best features with Y\n",
    "# trainDf = X_train_scaled_df\n",
    "# y_array = Y_train.to_numpy()\n",
    "# X_train_scaled_df['rating'] = y_array\n",
    "# print(X_train_scaled_df)\n",
    "# # print(trainDF)\n",
    "# corr = X_train_scaled_df.corr()\n",
    "# top_feature = corr.loc[abs(corr['rating'])>0.15,'rating']\n",
    "# top_feature=pd.DataFrame(top_feature)\n",
    "# sns.heatmap(top_feature,annot=True)\n",
    "# plt.show()\n",
    "# top_feature"
   ]
  },
  {
   "cell_type": "code",
   "execution_count": 2059,
   "metadata": {},
   "outputs": [],
   "source": [
    "# sns.heatmap(electro[top_feature.index].corr(),annot=True)\n",
    "# plt.show()"
   ]
  },
  {
   "cell_type": "code",
   "execution_count": 2060,
   "metadata": {},
   "outputs": [],
   "source": [
    "# Y=electro['rating']\n",
    "# top_feature = top_feature.drop('rating')\n",
    "\n",
    "# #top_feature\n",
    "# first_X= X[top_feature.index]"
   ]
  },
  {
   "cell_type": "code",
   "execution_count": 2061,
   "metadata": {},
   "outputs": [],
   "source": [
    "# best_features = SelectKBest(score_func=chi2, k=3)\n",
    "# fit = best_features.fit(categoricalData, Y_categorical)\n",
    "\n",
    "# # Summarize scores\n",
    "# chi_scores = pd.DataFrame(fit.scores_, columns=[\"Chi-Square Score\"])\n",
    "# columns = pd.DataFrame(categoricalData.columns, columns=[\"Feature\"])\n",
    "# chi_summary = pd.concat([columns, chi_scores], axis=1)\n",
    "\n",
    "# print(\"Chi-Square scores:\\n\", chi_summary)"
   ]
  },
  {
   "cell_type": "code",
   "execution_count": 2062,
   "metadata": {},
   "outputs": [],
   "source": [
    "# # Calculate information gain for each feature\n",
    "# info_gain = mutual_info_regression(X, Y)\n",
    "\n",
    "# # Select features with information gain greater than 0.15\n",
    "# top_feature_idx = np.where(info_gain > 0.15)[0]\n",
    "# top_feature_names = X.columns[top_feature_idx]\n",
    "# top_feature_df = pd.DataFrame(data=info_gain[top_feature_idx], index=top_feature_names, columns=['Information Gain'])\n",
    "\n",
    "# plt.figure(figsize=(12, 6))\n",
    "# plt.bar(X.columns, info_gain,width=0.5)\n",
    "# plt.xticks(rotation = 90)\n",
    "# plt.xlabel('Features')\n",
    "# plt.ylabel('Information Gain')\n",
    "# plt.title('Information Gain for Feature Selection')\n",
    "# plt.show()\n",
    "# print('Top features of info gain',top_feature_df)\n",
    "# third_feature_selection = X[top_feature_df.index]\n",
    "# print('info gain features : \\n',third_feature_selection)"
   ]
  },
  {
   "cell_type": "code",
   "execution_count": 2063,
   "metadata": {},
   "outputs": [],
   "source": [
    "# featuresSelected = first_X.columns\n",
    "# print(featuresSelected)\n",
    "# joblib.dump(featuresSelected, 'features_selectedMs1.joblib')"
   ]
  },
  {
   "cell_type": "markdown",
   "metadata": {},
   "source": [
    "# load selected features"
   ]
  },
  {
   "cell_type": "code",
   "execution_count": 2064,
   "metadata": {},
   "outputs": [
    {
     "name": "stdout",
     "output_type": "stream",
     "text": [
      "Index(['warranty', 'Number of Ratings', 'Number of Reviews', 'ram_gb',\n",
      "       'reviews per rating', 'reviews - rating', 'reviews + rating',\n",
      "       'reviews * rating', 'msoffice'],\n",
      "      dtype='object')\n"
     ]
    }
   ],
   "source": [
    "featuresLoaded = joblib.load('features_selectedMs1.joblib')\n",
    "print(featuresLoaded)"
   ]
  },
  {
   "cell_type": "markdown",
   "metadata": {},
   "source": [
    "# load models and prediction"
   ]
  },
  {
   "cell_type": "code",
   "execution_count": null,
   "metadata": {
    "collapsed": true
   },
   "outputs": [],
   "source": []
  },
  {
   "cell_type": "code",
   "execution_count": 2071,
   "metadata": {},
   "outputs": [
    {
     "name": "stdout",
     "output_type": "stream",
     "text": [
      "     warranty  Number of Ratings  Number of Reviews    ram_gb  \\\n",
      "0    0.000000           0.025811           0.000000  0.428571   \n",
      "1    0.333333           0.002684           0.004109  0.428571   \n",
      "2    0.000000           0.025811           0.000000  0.428571   \n",
      "3    0.333333           0.003993           0.003595  0.000000   \n",
      "4    0.333333           0.025811           0.000000  0.428571   \n",
      "..        ...                ...                ...       ...   \n",
      "526  0.333333           0.030960           0.033385  0.142857   \n",
      "527  0.000000           0.025811           0.000000  0.000000   \n",
      "528  0.000000           0.020291           0.013867  0.000000   \n",
      "529  0.333333           0.001767           0.002054  0.142857   \n",
      "530  0.333333           0.004909           0.007191  0.142857   \n",
      "\n",
      "     reviews per rating  reviews - rating  reviews + rating  reviews * rating  \\\n",
      "0              0.143548          0.026028          0.025643          0.005890   \n",
      "1              0.190476          0.002550          0.002787          0.000011   \n",
      "2              0.143548          0.026028          0.025643          0.005890   \n",
      "3              0.112903          0.004125          0.003890          0.000015   \n",
      "4              0.143548          0.026028          0.025643          0.005890   \n",
      "..                  ...               ...               ...               ...   \n",
      "526            0.137131          0.030678          0.031177          0.001036   \n",
      "527            0.143548          0.026028          0.025643          0.005890   \n",
      "528            0.086817          0.021302          0.019508          0.000282   \n",
      "529            0.142857          0.001800          0.001742          0.000004   \n",
      "530            0.184211          0.004650          0.005109          0.000036   \n",
      "\n",
      "     msoffice  \n",
      "0         0.0  \n",
      "1         0.0  \n",
      "2         0.0  \n",
      "3         1.0  \n",
      "4         1.0  \n",
      "..        ...  \n",
      "526       1.0  \n",
      "527       0.0  \n",
      "528       0.0  \n",
      "529       0.0  \n",
      "530       1.0  \n",
      "\n",
      "[531 rows x 9 columns]\n",
      "     warranty  Number of Ratings  Number of Reviews    ram_gb  \\\n",
      "0    0.333333           0.019505           0.021058  0.142857   \n",
      "1    0.000000           0.025811           0.000000  0.428571   \n",
      "2    0.000000           0.000524           0.000000  0.142857   \n",
      "3    0.333333           0.000327           0.000000  0.142857   \n",
      "4    0.333333           0.001964           0.001541  0.428571   \n",
      "..        ...                ...                ...       ...   \n",
      "175  0.000000           0.003665           0.001541  0.000000   \n",
      "176  0.000000           0.025811           0.000000  0.000000   \n",
      "177  0.000000           0.077170           0.076014  0.000000   \n",
      "178  0.333333           0.025811           0.000000  0.000000   \n",
      "179  0.333333           0.008509           0.008731  0.142857   \n",
      "\n",
      "     reviews per rating  reviews - rating  reviews + rating  reviews * rating  \\\n",
      "0              0.137124          0.019352          0.019624          0.000412   \n",
      "1              0.143548          0.026028          0.025643          0.005890   \n",
      "2              0.000000          0.000675          0.000406          0.000000   \n",
      "3              0.000000          0.000450          0.000232          0.000000   \n",
      "4              0.096774          0.002100          0.001858          0.000003   \n",
      "..                  ...               ...               ...               ...   \n",
      "175            0.052632          0.004050          0.003367          0.000006   \n",
      "176            0.143548          0.026028          0.025643          0.005890   \n",
      "177            0.125424          0.077408          0.076986          0.005871   \n",
      "178            0.143548          0.026028          0.025643          0.005890   \n",
      "179            0.129771          0.008551          0.008477          0.000075   \n",
      "\n",
      "     msoffice  \n",
      "0         1.0  \n",
      "1         0.0  \n",
      "2         0.0  \n",
      "3         0.0  \n",
      "4         0.0  \n",
      "..        ...  \n",
      "175       0.0  \n",
      "176       0.0  \n",
      "177       0.0  \n",
      "178       1.0  \n",
      "179       1.0  \n",
      "\n",
      "[180 rows x 9 columns]\n",
      "Mean Squared Error (linear regression): 0.16474814482857508\n",
      "Mean Squared Error of train (linear regression): 0.1727161376076029\n",
      "R^2 Score (linear regression): 0.47969198825949577\n",
      "R^2 Score train (linear regression): 0.453701708741168\n",
      "Cross-Validation Mean Squared Error (linear regression): 0.2876677317571524\n",
      "Accuracy (linear regression):  0.08106134353998536\n"
     ]
    }
   ],
   "source": [
    "# #linear regression model\n",
    "# X_train_scaled_df = X_train_scaled_df.drop(columns=['rating'])\n",
    "X_train = X_train_scaled_df[featuresLoaded]\n",
    "print(X_train)\n",
    "X_test = X_test[featuresLoaded]\n",
    "print(X_test)\n",
    "# Y = electro['rating']\n",
    "\n",
    "# linearModel = LinearRegression()\n",
    "# linearModel.fit(X_train, Y_train)\n",
    "# joblib.dump(linearModel, 'LinearModelMs1.joblib')\n",
    "\n",
    "\n",
    "linearMod= joblib.load('LinearModelMs1.joblib')\n",
    "\n",
    "y_pred = linearMod.predict(X_test) \n",
    "y_pred_train = linearMod.predict(X_train)\n",
    "mse = mean_squared_error(Y_test, y_pred)\n",
    "mse_train = mean_squared_error(Y_train, y_pred_train)\n",
    "r2 = r2_score(Y_test, y_pred)\n",
    "r2_train = r2_score(Y_train, y_pred_train)\n",
    "print(\"Mean Squared Error (linear regression):\", mse)\n",
    "print(\"Mean Squared Error of train (linear regression):\", mse_train)\n",
    "\n",
    "print(\"R^2 Score (linear regression):\", r2)\n",
    "print(\"R^2 Score train (linear regression):\", r2_train)\n",
    "\n",
    "\n",
    "cv_mse = -cross_val_score(linearMod, X_train, Y_train, cv=10, scoring='neg_mean_squared_error')\n",
    "print(\"Cross-Validation Mean Squared Error (linear regression):\", cv_mse.mean())\n",
    "\n",
    "cv = KFold(n_splits=10, random_state=1, shuffle=True)\n",
    "\n",
    "scores = cross_val_score(linearMod, X_train, Y_train, \n",
    "                          cv=cv)\n",
    "\n",
    "print(\"Accuracy (linear regression): \" ,scores.mean())\n"
   ]
  },
  {
   "cell_type": "code",
   "execution_count": 2080,
   "metadata": {},
   "outputs": [
    {
     "name": "stdout",
     "output_type": "stream",
     "text": [
      "Mean Squared Error (ridge regression): 0.2970012192276959\n",
      "Mean Squared Error of train (ridge regression): 0.304232372436497\n",
      "R^2 Score (ridge regression): 0.062009990936996995\n",
      "Cross-Validation Mean Squared Error (ridge regression): 0.3086972593037384\n",
      "Accuracy (ridge regression):  0.019425077373886723\n"
     ]
    }
   ],
   "source": [
    "#ridge regression model\n",
    "# ridgeModel = Ridge(alpha=10)\n",
    "# ridgeModel.fit(X_train, Y_train)\n",
    "# joblib.dump(ridgeModel, 'RidgeModelMs1.joblib')\n",
    "\n",
    "ridgeMode = joblib.load('RidgeModelMs1.joblib')\n",
    "y_ridge = ridgeMode.predict(X_test)\n",
    "y_ridge_train = ridgeMode.predict(X_train)\n",
    "mse_ridge = mean_squared_error(Y_test, y_ridge)\n",
    "mse_ridge_train = mean_squared_error(Y_train, y_ridge_train)\n",
    "\n",
    "r2_ridge = r2_score(Y_test, y_ridge)\n",
    "\n",
    "\n",
    "print(\"Mean Squared Error (ridge regression):\", mse_ridge)\n",
    "print(\"Mean Squared Error of train (ridge regression):\", mse_ridge_train)\n",
    "print(\"R^2 Score (ridge regression):\", r2_ridge)\n",
    "\n",
    "cv_mse_ridge = -cross_val_score(ridgeMode, X_train, Y_train, cv=10, scoring='neg_mean_squared_error')\n",
    "print(\"Cross-Validation Mean Squared Error (ridge regression):\", cv_mse_ridge.mean())\n",
    "\n",
    "cv = KFold(n_splits=5, random_state=107, shuffle=True)\n",
    "scores = cross_val_score(ridgeMode,X_train, Y_train, \n",
    "                         cv=cv)\n",
    "\n",
    "print(\"Accuracy (ridge regression): \" ,scores.mean())\n"
   ]
  },
  {
   "cell_type": "code",
   "execution_count": 2083,
   "metadata": {},
   "outputs": [
    {
     "name": "stdout",
     "output_type": "stream",
     "text": [
      "Mean Squared Error (lasso regression): 0.22454610038834347\n",
      "Mean Squared Error of train (lasso regression): 0.2325881163269732\n",
      "R^2 Score (lasso regression): 0.2908379322953184\n",
      "Cross-Validation Mean Squared Error (lasso regression): 0.2672653071107186\n",
      "Accuracy (lasso regression) :  0.19404300784120151\n"
     ]
    }
   ],
   "source": [
    "#lasso regression model\n",
    "# lassoModel = Lasso(alpha=0.001)\n",
    "# lassoModel.fit(X_train, Y_train)\n",
    "# joblib.dump(lassoModel, 'LassoModelMs1.joblib')\n",
    "\n",
    "lassoMode = joblib.load('LassoModelMs1.joblib')\n",
    "\n",
    "y_lasso = lassoMode.predict(X_test)\n",
    "y_lasso_train = lassoMode.predict(X_train)\n",
    "\n",
    "mse_lasso = mean_squared_error(Y_test, y_lasso)\n",
    "mse_lasso_train = mean_squared_error(Y_train, y_lasso_train)\n",
    "\n",
    "r2_lasso = r2_score(Y_test, y_lasso)\n",
    "\n",
    "\n",
    "print(\"Mean Squared Error (lasso regression):\", mse_lasso)\n",
    "print(\"Mean Squared Error of train (lasso regression):\", mse_lasso_train)\n",
    "print(\"R^2 Score (lasso regression):\", r2_lasso)\n",
    "\n",
    "cv_mse_lasso = -cross_val_score(lassoMode, X_train, Y_train, cv=10, scoring='neg_mean_squared_error')\n",
    "print(\"Cross-Validation Mean Squared Error (lasso regression):\", cv_mse_lasso.mean())\n",
    "\n",
    "cv = KFold(n_splits=10, random_state=1, shuffle=True)\n",
    "scores = cross_val_score(lassoMode, X_train, Y_train, \n",
    "                         cv=cv)\n",
    "\n",
    "print(\"Accuracy (lasso regression) : \" ,scores.mean())"
   ]
  },
  {
   "cell_type": "code",
   "execution_count": 2084,
   "metadata": {},
   "outputs": [
    {
     "name": "stdout",
     "output_type": "stream",
     "text": [
      "Mean Squared Error of train (GradientBoost): 0.08034735016579518\n",
      "R^2 Score (GradientBoost) : 0.4103800277783284\n",
      "R^2 Score train (GradientBoost): 0.7458626581699523\n",
      "Mean Squared Error (GradientBoost): 0.2003029372826163\n",
      "Accuracy (GradientBoost) :  0.3771346659814667\n"
     ]
    }
   ],
   "source": [
    "# GBregressor = GradientBoostingRegressor(n_estimators=100, random_state=42)\n",
    "\n",
    "# GBregressor.fit(X_train, Y_train)\n",
    "# joblib.dump(GBregressor, 'GradientBoostingModelMs1.joblib')\n",
    "\n",
    "GBMode = joblib.load('GradientBoostingModelMs1.joblib')\n",
    "\n",
    "prediction_GB = GBMode.predict(X_test)\n",
    "prediction_train_GB = GBMode.predict(X_train)\n",
    "mse_GB = mean_squared_error(Y_test, prediction_GB)\n",
    "mse_GB_train = mean_squared_error(Y_train, prediction_train_GB)\n",
    "\n",
    "r2_GB = r2_score(Y_test, prediction_GB)\n",
    "r2_train_GB = r2_score(Y_train, prediction_train_GB)\n",
    "\n",
    "\n",
    "\n",
    "mse_GB = cross_val_score(GBMode, X_train, Y_train, cv=10, scoring='neg_mean_squared_error')\n",
    "\n",
    "\n",
    "\n",
    "\n",
    "print(\"Mean Squared Error of train (GradientBoost):\", mse_GB_train)\n",
    "print(\"R^2 Score (GradientBoost) :\", r2_GB)\n",
    "print(\"R^2 Score train (GradientBoost):\", r2_train_GB)\n",
    "\n",
    "\n",
    "\n",
    "\n",
    "\n",
    "mse_mean_GB = -mse_GB.mean()\n",
    "print(\"Mean Squared Error (GradientBoost):\", mse_mean_GB)\n",
    "cv_GB = KFold(n_splits=10, random_state=1, shuffle=True)\n",
    "scores = cross_val_score(GBMode, X_train, Y_train, \n",
    "                         cv=cv_GB, scoring ='r2')\n",
    "\n",
    "print(\"Accuracy (GradientBoost) : \" ,scores.mean())"
   ]
  },
  {
   "cell_type": "code",
   "execution_count": 2085,
   "metadata": {},
   "outputs": [
    {
     "name": "stdout",
     "output_type": "stream",
     "text": [
      "Cross-Validation Mean Squared Error (RandomForest): 0.21412840657897445\n",
      "Mean Squared Error (RandomForest): 0.17862896908541195\n",
      "Mean Squared Error of train (RandomForest): 0.03735226866451226\n",
      "R^2 Score (RandomForest): 0.435853533641939\n",
      "R^2 Score train (RandomForest): 0.8818553909975485\n",
      "Accuracy (RandomForest):  0.3532099144053967\n"
     ]
    }
   ],
   "source": [
    "# RFregressor = RandomForestRegressor(n_estimators=100, random_state=5)\n",
    "\n",
    "\n",
    "# RFregressor.fit(X_train, Y_train)\n",
    "# joblib.dump(RFregressor, 'RandomForestModelMs1.joblib')\n",
    "\n",
    "RFMode = joblib.load('RandomForestModelMs1.joblib')\n",
    "\n",
    "prediction_RF = RFMode.predict(X_test)\n",
    "\n",
    "prediction_train_RF = RFMode.predict(X_train)\n",
    "mse_RF = mean_squared_error(Y_test, prediction_RF)\n",
    "mse_RF_train = mean_squared_error(Y_train, prediction_train_RF)\n",
    "\n",
    "r2_RF = r2_score(Y_test, prediction_RF)\n",
    "r2_train_RF = r2_score(Y_train, prediction_train_RF)\n",
    "\n",
    "cv_mse_RF = -cross_val_score(RFMode, X_train, Y_train, cv=10, scoring='neg_mean_squared_error')\n",
    "print(\"Cross-Validation Mean Squared Error (RandomForest):\", cv_mse_RF.mean())\n",
    "\n",
    "\n",
    "\n",
    "print(\"Mean Squared Error (RandomForest):\", mse_RF)\n",
    "print(\"Mean Squared Error of train (RandomForest):\", mse_RF_train)\n",
    "print(\"R^2 Score (RandomForest):\", r2_RF)\n",
    "print(\"R^2 Score train (RandomForest):\", r2_train_RF)\n",
    "\n",
    "\n",
    "cv_RF = KFold(n_splits=10, random_state=1, shuffle=True)\n",
    "scores = cross_val_score(RFMode, X_train, Y_train, \n",
    "                         cv=cv_RF, scoring ='r2')\n",
    "\n",
    "print(\"Accuracy (RandomForest): \" ,scores.mean())\n"
   ]
  },
  {
   "cell_type": "code",
   "execution_count": 2086,
   "metadata": {},
   "outputs": [
    {
     "name": "stdout",
     "output_type": "stream",
     "text": [
      "Mean Squared Error (polynomial regression): 0.22954995897081162\n",
      "Mean Squared Error of train (polynomial regression): 0.15766826996022026\n",
      "R^2 Score (polynomial regression): 0.2908379322953184\n",
      "Cross-Validation Mean Squared Error: 0.2876677317571524\n",
      "Accuracy :  0.08106134353998536\n"
     ]
    }
   ],
   "source": [
    "#polynomial regression\n",
    "polynomial_features = PolynomialFeatures(degree=2)\n",
    "first_X_poly = polynomial_features.fit_transform(X_train)\n",
    "first_X_poly_test = polynomial_features.fit_transform(X_test)\n",
    "# \n",
    "\n",
    "# polyModel = LinearRegression()\n",
    "# polyModel.fit(first_X_poly, Y_train)\n",
    "# joblib.dump(polyModel, 'PolynomialModelMs1.joblib')\n",
    "\n",
    "\n",
    "polyMode = joblib.load('PolynomialModelMs1.joblib')\n",
    "y_poly_pred = polyMode.predict(first_X_poly_test)\n",
    "y_poly_train = polyMode.predict(first_X_poly)\n",
    "mse_poly = mean_squared_error(Y_test, y_poly_pred)\n",
    "mse_poly_train = mean_squared_error(Y_train, y_poly_train)\n",
    "\n",
    "r2_poly = r2_score(Y_test, y_poly_pred)\n",
    "\n",
    "\n",
    "print(\"Mean Squared Error (polynomial regression):\", mse_poly)\n",
    "print(\"Mean Squared Error of train (polynomial regression):\", mse_poly_train)\n",
    "print(\"R^2 Score (polynomial regression):\", r2_lasso)\n",
    "\n",
    "cv_mse_poly = -cross_val_score(polyMode, X_train, Y_train, cv=10, scoring='neg_mean_squared_error')\n",
    "print(\"Cross-Validation Mean Squared Error:\", cv_mse_poly.mean())\n",
    "\n",
    "cv_poly = KFold(n_splits=10, random_state=1, shuffle=True)\n",
    "scores = cross_val_score(polyMode, X_train, Y_train, \n",
    "                         cv=cv_poly)\n",
    "\n",
    "print(\"Accuracy : \" ,scores.mean())"
   ]
  },
  {
   "cell_type": "code",
   "execution_count": null,
   "metadata": {},
   "outputs": [],
   "source": []
  }
 ],
 "metadata": {
  "colab": {
   "provenance": []
  },
  "kernelspec": {
   "display_name": "Python 3 (ipykernel)",
   "language": "python",
   "name": "python3"
  },
  "language_info": {
   "codemirror_mode": {
    "name": "ipython",
    "version": 3
   },
   "file_extension": ".py",
   "mimetype": "text/x-python",
   "name": "python",
   "nbconvert_exporter": "python",
   "pygments_lexer": "ipython3",
   "version": "3.10.9"
  }
 },
 "nbformat": 4,
 "nbformat_minor": 1
}
