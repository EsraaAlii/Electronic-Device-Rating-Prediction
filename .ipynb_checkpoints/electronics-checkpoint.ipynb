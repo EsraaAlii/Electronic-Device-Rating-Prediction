{
 "cells": [
  {
   "cell_type": "code",
   "execution_count": 2,
   "metadata": {
    "colab": {
     "base_uri": "https://localhost:8080/",
     "height": 348
    },
    "id": "tLgxgyBFjnG3",
    "outputId": "19b015fa-8c78-4a83-87d5-74d559e85947"
   },
   "outputs": [
    {
     "ename": "FileNotFoundError",
     "evalue": "[Errno 2] No such file or directory: 'ElecDeviceRatingPrediction.csv'",
     "output_type": "error",
     "traceback": [
      "\u001b[1;31m---------------------------------------------------------------------------\u001b[0m",
      "\u001b[1;31mFileNotFoundError\u001b[0m                         Traceback (most recent call last)",
      "Cell \u001b[1;32mIn[2], line 25\u001b[0m\n\u001b[0;32m     22\u001b[0m \u001b[38;5;28;01mfrom\u001b[39;00m \u001b[38;5;21;01mscipy\u001b[39;00m\u001b[38;5;21;01m.\u001b[39;00m\u001b[38;5;21;01mstats\u001b[39;00m \u001b[38;5;28;01mimport\u001b[39;00m boxcox\n\u001b[0;32m     23\u001b[0m \u001b[38;5;28;01mfrom\u001b[39;00m \u001b[38;5;21;01msklearn\u001b[39;00m\u001b[38;5;21;01m.\u001b[39;00m\u001b[38;5;21;01mfeature_selection\u001b[39;00m \u001b[38;5;28;01mimport\u001b[39;00m mutual_info_regression\n\u001b[1;32m---> 25\u001b[0m df\u001b[38;5;241m=\u001b[39m\u001b[43mpd\u001b[49m\u001b[38;5;241;43m.\u001b[39;49m\u001b[43mread_csv\u001b[49m\u001b[43m(\u001b[49m\u001b[38;5;124;43m\"\u001b[39;49m\u001b[38;5;124;43mElecDeviceRatingPrediction.csv\u001b[39;49m\u001b[38;5;124;43m\"\u001b[39;49m\u001b[43m)\u001b[49m\n\u001b[0;32m     26\u001b[0m electro \u001b[38;5;241m=\u001b[39m df\u001b[38;5;241m.\u001b[39mcopy()\n\u001b[0;32m     27\u001b[0m \u001b[38;5;28mprint\u001b[39m(electro\u001b[38;5;241m.\u001b[39mhead())\n",
      "File \u001b[1;32mc:\\Users\\20111\\AppData\\Local\\Programs\\Python\\Python311\\Lib\\site-packages\\pandas\\io\\parsers\\readers.py:948\u001b[0m, in \u001b[0;36mread_csv\u001b[1;34m(filepath_or_buffer, sep, delimiter, header, names, index_col, usecols, dtype, engine, converters, true_values, false_values, skipinitialspace, skiprows, skipfooter, nrows, na_values, keep_default_na, na_filter, verbose, skip_blank_lines, parse_dates, infer_datetime_format, keep_date_col, date_parser, date_format, dayfirst, cache_dates, iterator, chunksize, compression, thousands, decimal, lineterminator, quotechar, quoting, doublequote, escapechar, comment, encoding, encoding_errors, dialect, on_bad_lines, delim_whitespace, low_memory, memory_map, float_precision, storage_options, dtype_backend)\u001b[0m\n\u001b[0;32m    935\u001b[0m kwds_defaults \u001b[38;5;241m=\u001b[39m _refine_defaults_read(\n\u001b[0;32m    936\u001b[0m     dialect,\n\u001b[0;32m    937\u001b[0m     delimiter,\n\u001b[1;32m   (...)\u001b[0m\n\u001b[0;32m    944\u001b[0m     dtype_backend\u001b[38;5;241m=\u001b[39mdtype_backend,\n\u001b[0;32m    945\u001b[0m )\n\u001b[0;32m    946\u001b[0m kwds\u001b[38;5;241m.\u001b[39mupdate(kwds_defaults)\n\u001b[1;32m--> 948\u001b[0m \u001b[38;5;28;01mreturn\u001b[39;00m \u001b[43m_read\u001b[49m\u001b[43m(\u001b[49m\u001b[43mfilepath_or_buffer\u001b[49m\u001b[43m,\u001b[49m\u001b[43m \u001b[49m\u001b[43mkwds\u001b[49m\u001b[43m)\u001b[49m\n",
      "File \u001b[1;32mc:\\Users\\20111\\AppData\\Local\\Programs\\Python\\Python311\\Lib\\site-packages\\pandas\\io\\parsers\\readers.py:611\u001b[0m, in \u001b[0;36m_read\u001b[1;34m(filepath_or_buffer, kwds)\u001b[0m\n\u001b[0;32m    608\u001b[0m _validate_names(kwds\u001b[38;5;241m.\u001b[39mget(\u001b[38;5;124m\"\u001b[39m\u001b[38;5;124mnames\u001b[39m\u001b[38;5;124m\"\u001b[39m, \u001b[38;5;28;01mNone\u001b[39;00m))\n\u001b[0;32m    610\u001b[0m \u001b[38;5;66;03m# Create the parser.\u001b[39;00m\n\u001b[1;32m--> 611\u001b[0m parser \u001b[38;5;241m=\u001b[39m \u001b[43mTextFileReader\u001b[49m\u001b[43m(\u001b[49m\u001b[43mfilepath_or_buffer\u001b[49m\u001b[43m,\u001b[49m\u001b[43m \u001b[49m\u001b[38;5;241;43m*\u001b[39;49m\u001b[38;5;241;43m*\u001b[39;49m\u001b[43mkwds\u001b[49m\u001b[43m)\u001b[49m\n\u001b[0;32m    613\u001b[0m \u001b[38;5;28;01mif\u001b[39;00m chunksize \u001b[38;5;129;01mor\u001b[39;00m iterator:\n\u001b[0;32m    614\u001b[0m     \u001b[38;5;28;01mreturn\u001b[39;00m parser\n",
      "File \u001b[1;32mc:\\Users\\20111\\AppData\\Local\\Programs\\Python\\Python311\\Lib\\site-packages\\pandas\\io\\parsers\\readers.py:1448\u001b[0m, in \u001b[0;36mTextFileReader.__init__\u001b[1;34m(self, f, engine, **kwds)\u001b[0m\n\u001b[0;32m   1445\u001b[0m     \u001b[38;5;28mself\u001b[39m\u001b[38;5;241m.\u001b[39moptions[\u001b[38;5;124m\"\u001b[39m\u001b[38;5;124mhas_index_names\u001b[39m\u001b[38;5;124m\"\u001b[39m] \u001b[38;5;241m=\u001b[39m kwds[\u001b[38;5;124m\"\u001b[39m\u001b[38;5;124mhas_index_names\u001b[39m\u001b[38;5;124m\"\u001b[39m]\n\u001b[0;32m   1447\u001b[0m \u001b[38;5;28mself\u001b[39m\u001b[38;5;241m.\u001b[39mhandles: IOHandles \u001b[38;5;241m|\u001b[39m \u001b[38;5;28;01mNone\u001b[39;00m \u001b[38;5;241m=\u001b[39m \u001b[38;5;28;01mNone\u001b[39;00m\n\u001b[1;32m-> 1448\u001b[0m \u001b[38;5;28mself\u001b[39m\u001b[38;5;241m.\u001b[39m_engine \u001b[38;5;241m=\u001b[39m \u001b[38;5;28;43mself\u001b[39;49m\u001b[38;5;241;43m.\u001b[39;49m\u001b[43m_make_engine\u001b[49m\u001b[43m(\u001b[49m\u001b[43mf\u001b[49m\u001b[43m,\u001b[49m\u001b[43m \u001b[49m\u001b[38;5;28;43mself\u001b[39;49m\u001b[38;5;241;43m.\u001b[39;49m\u001b[43mengine\u001b[49m\u001b[43m)\u001b[49m\n",
      "File \u001b[1;32mc:\\Users\\20111\\AppData\\Local\\Programs\\Python\\Python311\\Lib\\site-packages\\pandas\\io\\parsers\\readers.py:1705\u001b[0m, in \u001b[0;36mTextFileReader._make_engine\u001b[1;34m(self, f, engine)\u001b[0m\n\u001b[0;32m   1703\u001b[0m     \u001b[38;5;28;01mif\u001b[39;00m \u001b[38;5;124m\"\u001b[39m\u001b[38;5;124mb\u001b[39m\u001b[38;5;124m\"\u001b[39m \u001b[38;5;129;01mnot\u001b[39;00m \u001b[38;5;129;01min\u001b[39;00m mode:\n\u001b[0;32m   1704\u001b[0m         mode \u001b[38;5;241m+\u001b[39m\u001b[38;5;241m=\u001b[39m \u001b[38;5;124m\"\u001b[39m\u001b[38;5;124mb\u001b[39m\u001b[38;5;124m\"\u001b[39m\n\u001b[1;32m-> 1705\u001b[0m \u001b[38;5;28mself\u001b[39m\u001b[38;5;241m.\u001b[39mhandles \u001b[38;5;241m=\u001b[39m \u001b[43mget_handle\u001b[49m\u001b[43m(\u001b[49m\n\u001b[0;32m   1706\u001b[0m \u001b[43m    \u001b[49m\u001b[43mf\u001b[49m\u001b[43m,\u001b[49m\n\u001b[0;32m   1707\u001b[0m \u001b[43m    \u001b[49m\u001b[43mmode\u001b[49m\u001b[43m,\u001b[49m\n\u001b[0;32m   1708\u001b[0m \u001b[43m    \u001b[49m\u001b[43mencoding\u001b[49m\u001b[38;5;241;43m=\u001b[39;49m\u001b[38;5;28;43mself\u001b[39;49m\u001b[38;5;241;43m.\u001b[39;49m\u001b[43moptions\u001b[49m\u001b[38;5;241;43m.\u001b[39;49m\u001b[43mget\u001b[49m\u001b[43m(\u001b[49m\u001b[38;5;124;43m\"\u001b[39;49m\u001b[38;5;124;43mencoding\u001b[39;49m\u001b[38;5;124;43m\"\u001b[39;49m\u001b[43m,\u001b[49m\u001b[43m \u001b[49m\u001b[38;5;28;43;01mNone\u001b[39;49;00m\u001b[43m)\u001b[49m\u001b[43m,\u001b[49m\n\u001b[0;32m   1709\u001b[0m \u001b[43m    \u001b[49m\u001b[43mcompression\u001b[49m\u001b[38;5;241;43m=\u001b[39;49m\u001b[38;5;28;43mself\u001b[39;49m\u001b[38;5;241;43m.\u001b[39;49m\u001b[43moptions\u001b[49m\u001b[38;5;241;43m.\u001b[39;49m\u001b[43mget\u001b[49m\u001b[43m(\u001b[49m\u001b[38;5;124;43m\"\u001b[39;49m\u001b[38;5;124;43mcompression\u001b[39;49m\u001b[38;5;124;43m\"\u001b[39;49m\u001b[43m,\u001b[49m\u001b[43m \u001b[49m\u001b[38;5;28;43;01mNone\u001b[39;49;00m\u001b[43m)\u001b[49m\u001b[43m,\u001b[49m\n\u001b[0;32m   1710\u001b[0m \u001b[43m    \u001b[49m\u001b[43mmemory_map\u001b[49m\u001b[38;5;241;43m=\u001b[39;49m\u001b[38;5;28;43mself\u001b[39;49m\u001b[38;5;241;43m.\u001b[39;49m\u001b[43moptions\u001b[49m\u001b[38;5;241;43m.\u001b[39;49m\u001b[43mget\u001b[49m\u001b[43m(\u001b[49m\u001b[38;5;124;43m\"\u001b[39;49m\u001b[38;5;124;43mmemory_map\u001b[39;49m\u001b[38;5;124;43m\"\u001b[39;49m\u001b[43m,\u001b[49m\u001b[43m \u001b[49m\u001b[38;5;28;43;01mFalse\u001b[39;49;00m\u001b[43m)\u001b[49m\u001b[43m,\u001b[49m\n\u001b[0;32m   1711\u001b[0m \u001b[43m    \u001b[49m\u001b[43mis_text\u001b[49m\u001b[38;5;241;43m=\u001b[39;49m\u001b[43mis_text\u001b[49m\u001b[43m,\u001b[49m\n\u001b[0;32m   1712\u001b[0m \u001b[43m    \u001b[49m\u001b[43merrors\u001b[49m\u001b[38;5;241;43m=\u001b[39;49m\u001b[38;5;28;43mself\u001b[39;49m\u001b[38;5;241;43m.\u001b[39;49m\u001b[43moptions\u001b[49m\u001b[38;5;241;43m.\u001b[39;49m\u001b[43mget\u001b[49m\u001b[43m(\u001b[49m\u001b[38;5;124;43m\"\u001b[39;49m\u001b[38;5;124;43mencoding_errors\u001b[39;49m\u001b[38;5;124;43m\"\u001b[39;49m\u001b[43m,\u001b[49m\u001b[43m \u001b[49m\u001b[38;5;124;43m\"\u001b[39;49m\u001b[38;5;124;43mstrict\u001b[39;49m\u001b[38;5;124;43m\"\u001b[39;49m\u001b[43m)\u001b[49m\u001b[43m,\u001b[49m\n\u001b[0;32m   1713\u001b[0m \u001b[43m    \u001b[49m\u001b[43mstorage_options\u001b[49m\u001b[38;5;241;43m=\u001b[39;49m\u001b[38;5;28;43mself\u001b[39;49m\u001b[38;5;241;43m.\u001b[39;49m\u001b[43moptions\u001b[49m\u001b[38;5;241;43m.\u001b[39;49m\u001b[43mget\u001b[49m\u001b[43m(\u001b[49m\u001b[38;5;124;43m\"\u001b[39;49m\u001b[38;5;124;43mstorage_options\u001b[39;49m\u001b[38;5;124;43m\"\u001b[39;49m\u001b[43m,\u001b[49m\u001b[43m \u001b[49m\u001b[38;5;28;43;01mNone\u001b[39;49;00m\u001b[43m)\u001b[49m\u001b[43m,\u001b[49m\n\u001b[0;32m   1714\u001b[0m \u001b[43m\u001b[49m\u001b[43m)\u001b[49m\n\u001b[0;32m   1715\u001b[0m \u001b[38;5;28;01massert\u001b[39;00m \u001b[38;5;28mself\u001b[39m\u001b[38;5;241m.\u001b[39mhandles \u001b[38;5;129;01mis\u001b[39;00m \u001b[38;5;129;01mnot\u001b[39;00m \u001b[38;5;28;01mNone\u001b[39;00m\n\u001b[0;32m   1716\u001b[0m f \u001b[38;5;241m=\u001b[39m \u001b[38;5;28mself\u001b[39m\u001b[38;5;241m.\u001b[39mhandles\u001b[38;5;241m.\u001b[39mhandle\n",
      "File \u001b[1;32mc:\\Users\\20111\\AppData\\Local\\Programs\\Python\\Python311\\Lib\\site-packages\\pandas\\io\\common.py:863\u001b[0m, in \u001b[0;36mget_handle\u001b[1;34m(path_or_buf, mode, encoding, compression, memory_map, is_text, errors, storage_options)\u001b[0m\n\u001b[0;32m    858\u001b[0m \u001b[38;5;28;01melif\u001b[39;00m \u001b[38;5;28misinstance\u001b[39m(handle, \u001b[38;5;28mstr\u001b[39m):\n\u001b[0;32m    859\u001b[0m     \u001b[38;5;66;03m# Check whether the filename is to be opened in binary mode.\u001b[39;00m\n\u001b[0;32m    860\u001b[0m     \u001b[38;5;66;03m# Binary mode does not support 'encoding' and 'newline'.\u001b[39;00m\n\u001b[0;32m    861\u001b[0m     \u001b[38;5;28;01mif\u001b[39;00m ioargs\u001b[38;5;241m.\u001b[39mencoding \u001b[38;5;129;01mand\u001b[39;00m \u001b[38;5;124m\"\u001b[39m\u001b[38;5;124mb\u001b[39m\u001b[38;5;124m\"\u001b[39m \u001b[38;5;129;01mnot\u001b[39;00m \u001b[38;5;129;01min\u001b[39;00m ioargs\u001b[38;5;241m.\u001b[39mmode:\n\u001b[0;32m    862\u001b[0m         \u001b[38;5;66;03m# Encoding\u001b[39;00m\n\u001b[1;32m--> 863\u001b[0m         handle \u001b[38;5;241m=\u001b[39m \u001b[38;5;28;43mopen\u001b[39;49m\u001b[43m(\u001b[49m\n\u001b[0;32m    864\u001b[0m \u001b[43m            \u001b[49m\u001b[43mhandle\u001b[49m\u001b[43m,\u001b[49m\n\u001b[0;32m    865\u001b[0m \u001b[43m            \u001b[49m\u001b[43mioargs\u001b[49m\u001b[38;5;241;43m.\u001b[39;49m\u001b[43mmode\u001b[49m\u001b[43m,\u001b[49m\n\u001b[0;32m    866\u001b[0m \u001b[43m            \u001b[49m\u001b[43mencoding\u001b[49m\u001b[38;5;241;43m=\u001b[39;49m\u001b[43mioargs\u001b[49m\u001b[38;5;241;43m.\u001b[39;49m\u001b[43mencoding\u001b[49m\u001b[43m,\u001b[49m\n\u001b[0;32m    867\u001b[0m \u001b[43m            \u001b[49m\u001b[43merrors\u001b[49m\u001b[38;5;241;43m=\u001b[39;49m\u001b[43merrors\u001b[49m\u001b[43m,\u001b[49m\n\u001b[0;32m    868\u001b[0m \u001b[43m            \u001b[49m\u001b[43mnewline\u001b[49m\u001b[38;5;241;43m=\u001b[39;49m\u001b[38;5;124;43m\"\u001b[39;49m\u001b[38;5;124;43m\"\u001b[39;49m\u001b[43m,\u001b[49m\n\u001b[0;32m    869\u001b[0m \u001b[43m        \u001b[49m\u001b[43m)\u001b[49m\n\u001b[0;32m    870\u001b[0m     \u001b[38;5;28;01melse\u001b[39;00m:\n\u001b[0;32m    871\u001b[0m         \u001b[38;5;66;03m# Binary mode\u001b[39;00m\n\u001b[0;32m    872\u001b[0m         handle \u001b[38;5;241m=\u001b[39m \u001b[38;5;28mopen\u001b[39m(handle, ioargs\u001b[38;5;241m.\u001b[39mmode)\n",
      "\u001b[1;31mFileNotFoundError\u001b[0m: [Errno 2] No such file or directory: 'ElecDeviceRatingPrediction.csv'"
     ]
    }
   ],
   "source": [
    "import pandas as pd\n",
    "import matplotlib.pyplot as plt\n",
    "import seaborn as sns\n",
    "import numpy as np\n",
    "from sklearn.linear_model import LinearRegression\n",
    "from sklearn.linear_model import Lasso\n",
    "from sklearn.linear_model import Ridge\n",
    "from sklearn.preprocessing import PolynomialFeatures\n",
    "from sklearn.pipeline import make_pipeline\n",
    "from sklearn.metrics import mean_squared_error\n",
    "from sklearn.metrics import r2_score\n",
    "from sklearn.model_selection import train_test_split\n",
    "from sklearn.linear_model import LogisticRegression\n",
    "from sklearn.model_selection import KFold\n",
    "from sklearn.model_selection import cross_val_score\n",
    "from sklearn.preprocessing  import LabelEncoder\n",
    "from sklearn.feature_selection import mutual_info_regression\n",
    "from sklearn.preprocessing import MinMaxScaler\n",
    "from sklearn.metrics import accuracy_score\n",
    "from sklearn.feature_selection import SelectKBest\n",
    "from sklearn.feature_selection import chi2\n",
    "from scipy.stats import boxcox\n",
    "from sklearn.feature_selection import mutual_info_regression\n",
    "\n",
    "df=pd.read_csv(\"ElecDeviceRatingPrediction.csv\")\n",
    "electro = df.copy()\n",
    "print(electro.head())"
   ]
  },
  {
   "cell_type": "code",
   "execution_count": null,
   "metadata": {
    "colab": {
     "base_uri": "https://localhost:8080/"
    },
    "id": "eHY9aQiqjnG6",
    "outputId": "5c8b073a-29d1-491e-da73-2d3816dec3e1"
   },
   "outputs": [
    {
     "data": {
      "text/plain": [
       "brand                object\n",
       "processor_brand      object\n",
       "processor_name       object\n",
       "processor_gnrtn      object\n",
       "ram_gb               object\n",
       "ram_type             object\n",
       "ssd                  object\n",
       "hdd                  object\n",
       "os                   object\n",
       "graphic_card_gb      object\n",
       "weight               object\n",
       "warranty             object\n",
       "Touchscreen          object\n",
       "msoffice             object\n",
       "Price                 int64\n",
       "rating               object\n",
       "Number of Ratings     int64\n",
       "Number of Reviews     int64\n",
       "dtype: object"
      ]
     },
     "execution_count": 3269,
     "metadata": {},
     "output_type": "execute_result"
    }
   ],
   "source": [
    "#check the datatypes\n",
    "print(electro.dtypes)"
   ]
  },
  {
   "cell_type": "code",
   "execution_count": null,
   "metadata": {},
   "outputs": [],
   "source": [
    "electro['ram_gb']=electro['ram_gb'].str.strip('GB')\n"
   ]
  },
  {
   "cell_type": "code",
   "execution_count": null,
   "metadata": {},
   "outputs": [],
   "source": [
    "meanValue_ratings = electro['Number of Ratings'].mean()\n",
    "electro['Number of Ratings']=electro['Number of Ratings'].replace(0, meanValue_ratings)"
   ]
  },
  {
   "cell_type": "code",
   "execution_count": null,
   "metadata": {},
   "outputs": [
    {
     "data": {
      "text/plain": [
       "brand                 object\n",
       "processor_brand       object\n",
       "processor_name        object\n",
       "processor_gnrtn       object\n",
       "ram_gb                object\n",
       "ram_type              object\n",
       "ssd                   object\n",
       "hdd                   object\n",
       "os                    object\n",
       "graphic_card_gb       object\n",
       "weight                object\n",
       "warranty              object\n",
       "Touchscreen           object\n",
       "msoffice              object\n",
       "Price                  int64\n",
       "rating                object\n",
       "Number of Ratings    float64\n",
       "Number of Reviews      int64\n",
       "dtype: object"
      ]
     },
     "execution_count": 3272,
     "metadata": {},
     "output_type": "execute_result"
    }
   ],
   "source": [
    "print(electro.dtypes)"
   ]
  },
  {
   "cell_type": "code",
   "execution_count": null,
   "metadata": {},
   "outputs": [
    {
     "name": "stdout",
     "output_type": "stream",
     "text": [
      "11th\n"
     ]
    }
   ],
   "source": [
    "mode_value = electro['processor_gnrtn'].mode()[0]\n",
    "\n",
    "print(mode_value)"
   ]
  },
  {
   "cell_type": "code",
   "execution_count": null,
   "metadata": {},
   "outputs": [],
   "source": [
    "#convert to the correct datatype\n",
    "electro['Touchscreen']=electro['Touchscreen'].astype('category')\n",
    "electro['msoffice']=electro['msoffice'].astype('category')\n",
    "electro['rating']=electro['rating'].str.strip('stars')\n",
    "electro['rating']=electro['rating'].astype('int')\n",
    "\n",
    "electro['ram_gb']=electro['ram_gb'].astype('int')\n",
    "electro['ssd']=electro['ssd'].str.strip('GB')\n",
    "electro['ssd']=electro['ssd'].astype('int')\n",
    "electro['hdd']=electro['hdd'].str.strip('GB')\n",
    "electro['hdd']=electro['hdd'].astype('int')\n",
    "electro['processor_brand']=electro['processor_brand'].astype('category')\n",
    "electro['brand']=electro['brand'].astype('category')\n",
    "electro['processor_name']=electro['processor_name'].astype('category')\n",
    "electro['ram_type']=electro['ram_type'].astype('category')\n",
    "electro['os']=electro['os'].astype('category')\n",
    "electro['weight']=electro['weight'].astype('category')\n",
    "electro['graphic_card_gb']=electro['graphic_card_gb'].str.strip('GB')\n",
    "electro['graphic_card_gb']=electro['graphic_card_gb'].astype('int')\n",
    "electro['warranty']=electro['warranty'].str.strip('year || years')\n",
    "electro['warranty']=electro['warranty'].str.replace('No warrant','0')\n",
    "electro['warranty']=electro['warranty'].astype('int')\n",
    "electro['processor_gnrtn']=electro['processor_gnrtn'].str.replace('Not Available',mode_value)\n",
    "electro['processor_gnrtn']=electro['processor_gnrtn'].str.strip('th')\n"
   ]
  },
  {
   "cell_type": "code",
   "execution_count": null,
   "metadata": {},
   "outputs": [
    {
     "data": {
      "text/plain": [
       "array(['11', '10', '8', '7', '12', '9', '4'], dtype=object)"
      ]
     },
     "execution_count": 3275,
     "metadata": {},
     "output_type": "execute_result"
    }
   ],
   "source": [
    "print(electro['processor_gnrtn'].unique())"
   ]
  },
  {
   "cell_type": "code",
   "execution_count": null,
   "metadata": {},
   "outputs": [
    {
     "data": {
      "text/plain": [
       "['LPDDR4X', 'LPDDR4', 'DDR4', 'DDR3', 'DDR5', 'LPDDR3']\n",
       "Categories (6, object): ['DDR3', 'DDR4', 'DDR5', 'LPDDR3', 'LPDDR4', 'LPDDR4X']"
      ]
     },
     "execution_count": 3276,
     "metadata": {},
     "output_type": "execute_result"
    }
   ],
   "source": [
    "print(electro['ram_type'].unique())"
   ]
  },
  {
   "cell_type": "code",
   "execution_count": null,
   "metadata": {},
   "outputs": [
    {
     "name": "stdout",
     "output_type": "stream",
     "text": [
      "{'LPDDR4X': 4, 'LPDDR4': 3, 'DDR4': 2, 'DDR3': 0, 'DDR5': 5, 'LPDDR3': 1}\n"
     ]
    }
   ],
   "source": [
    "#manually encoding ram type\n",
    "manual_encoding = {}\n",
    "for category in electro['ram_type'].unique():\n",
    "    if(category == 'DDR5'):\n",
    "        manual_encoding[category] = 5\n",
    "    elif(category == 'LPDDR4X'):\n",
    "        manual_encoding[category] = 4\n",
    "    elif(category == 'LPDDR4'):\n",
    "        manual_encoding[category] = 3\n",
    "    elif(category == 'DDR4'):\n",
    "        manual_encoding[category] = 2\n",
    "    elif(category == 'LPDDR3'):\n",
    "        manual_encoding[category] = 1\n",
    "    else:\n",
    "        manual_encoding[category] = 0\n",
    "\n",
    "print(manual_encoding)"
   ]
  },
  {
   "cell_type": "code",
   "execution_count": null,
   "metadata": {
    "colab": {
     "base_uri": "https://localhost:8080/"
    },
    "id": "ZiSfyeo8jnG8",
    "outputId": "6dd203be-4ce3-439e-b0de-69d8956703ba"
   },
   "outputs": [
    {
     "data": {
      "text/plain": [
       "brand                category\n",
       "processor_brand      category\n",
       "processor_name       category\n",
       "processor_gnrtn        object\n",
       "ram_gb                  int32\n",
       "ram_type             category\n",
       "ssd                     int32\n",
       "hdd                     int32\n",
       "os                   category\n",
       "graphic_card_gb         int32\n",
       "weight               category\n",
       "warranty                int32\n",
       "Touchscreen          category\n",
       "msoffice             category\n",
       "Price                   int64\n",
       "rating                  int32\n",
       "Number of Ratings     float64\n",
       "Number of Reviews       int64\n",
       "dtype: object"
      ]
     },
     "execution_count": 3278,
     "metadata": {},
     "output_type": "execute_result"
    }
   ],
   "source": [
    "print(electro.dtypes)"
   ]
  },
  {
   "cell_type": "code",
   "execution_count": null,
   "metadata": {},
   "outputs": [
    {
     "data": {
      "text/plain": [
       "array(['11', '10', '8', '7', '12', '9', '4'], dtype=object)"
      ]
     },
     "execution_count": 3279,
     "metadata": {},
     "output_type": "execute_result"
    }
   ],
   "source": [
    "print(electro['processor_gnrtn'].unique())"
   ]
  },
  {
   "cell_type": "code",
   "execution_count": null,
   "metadata": {},
   "outputs": [],
   "source": [
    "electro.loc[electro['processor_gnrtn'] == '0' , 'processor_gnrtn'] = electro['processor_gnrtn'].value_counts().idxmax()\n",
    "electro['processor_gnrtn']=electro['processor_gnrtn'].astype('int')"
   ]
  },
  {
   "cell_type": "code",
   "execution_count": null,
   "metadata": {},
   "outputs": [
    {
     "data": {
      "text/plain": [
       "array([11, 10,  8,  7, 12,  9,  4])"
      ]
     },
     "execution_count": 3281,
     "metadata": {},
     "output_type": "execute_result"
    }
   ],
   "source": [
    "print(electro['processor_gnrtn'].unique())"
   ]
  },
  {
   "cell_type": "code",
   "execution_count": null,
   "metadata": {},
   "outputs": [
    {
     "data": {
      "text/plain": [
       "array([3, 4, 5, 2, 1])"
      ]
     },
     "execution_count": 3282,
     "metadata": {},
     "output_type": "execute_result"
    }
   ],
   "source": [
    "print(electro['rating'].unique())"
   ]
  },
  {
   "cell_type": "code",
   "execution_count": null,
   "metadata": {
    "colab": {
     "base_uri": "https://localhost:8080/",
     "height": 300
    },
    "id": "JL30kV7cjnG9",
    "outputId": "df265872-ec37-4f07-bde5-ac8aef07a936"
   },
   "outputs": [
    {
     "data": {
      "text/html": [
       "<div>\n",
       "<style scoped>\n",
       "    .dataframe tbody tr th:only-of-type {\n",
       "        vertical-align: middle;\n",
       "    }\n",
       "\n",
       "    .dataframe tbody tr th {\n",
       "        vertical-align: top;\n",
       "    }\n",
       "\n",
       "    .dataframe thead th {\n",
       "        text-align: right;\n",
       "    }\n",
       "</style>\n",
       "<table border=\"1\" class=\"dataframe\">\n",
       "  <thead>\n",
       "    <tr style=\"text-align: right;\">\n",
       "      <th></th>\n",
       "      <th>processor_gnrtn</th>\n",
       "      <th>ram_gb</th>\n",
       "      <th>ssd</th>\n",
       "      <th>hdd</th>\n",
       "      <th>graphic_card_gb</th>\n",
       "      <th>warranty</th>\n",
       "      <th>Price</th>\n",
       "      <th>rating</th>\n",
       "      <th>Number of Ratings</th>\n",
       "      <th>Number of Reviews</th>\n",
       "    </tr>\n",
       "  </thead>\n",
       "  <tbody>\n",
       "    <tr>\n",
       "      <th>count</th>\n",
       "      <td>723.000000</td>\n",
       "      <td>723.000000</td>\n",
       "      <td>723.000000</td>\n",
       "      <td>723.000000</td>\n",
       "      <td>723.000000</td>\n",
       "      <td>723.000000</td>\n",
       "      <td>723.000000</td>\n",
       "      <td>723.000000</td>\n",
       "      <td>723.000000</td>\n",
       "      <td>723.000000</td>\n",
       "    </tr>\n",
       "    <tr>\n",
       "      <th>mean</th>\n",
       "      <td>10.535270</td>\n",
       "      <td>8.724758</td>\n",
       "      <td>449.150761</td>\n",
       "      <td>232.984786</td>\n",
       "      <td>1.208852</td>\n",
       "      <td>0.716459</td>\n",
       "      <td>77031.348548</td>\n",
       "      <td>3.553250</td>\n",
       "      <td>395.373549</td>\n",
       "      <td>36.550484</td>\n",
       "    </tr>\n",
       "    <tr>\n",
       "      <th>std</th>\n",
       "      <td>0.863102</td>\n",
       "      <td>4.439221</td>\n",
       "      <td>318.015040</td>\n",
       "      <td>416.286290</td>\n",
       "      <td>2.053125</td>\n",
       "      <td>0.605691</td>\n",
       "      <td>45706.444883</td>\n",
       "      <td>0.562813</td>\n",
       "      <td>951.119891</td>\n",
       "      <td>115.413126</td>\n",
       "    </tr>\n",
       "    <tr>\n",
       "      <th>min</th>\n",
       "      <td>4.000000</td>\n",
       "      <td>4.000000</td>\n",
       "      <td>0.000000</td>\n",
       "      <td>0.000000</td>\n",
       "      <td>0.000000</td>\n",
       "      <td>0.000000</td>\n",
       "      <td>16990.000000</td>\n",
       "      <td>1.000000</td>\n",
       "      <td>1.000000</td>\n",
       "      <td>0.000000</td>\n",
       "    </tr>\n",
       "    <tr>\n",
       "      <th>25%</th>\n",
       "      <td>10.000000</td>\n",
       "      <td>4.000000</td>\n",
       "      <td>256.000000</td>\n",
       "      <td>0.000000</td>\n",
       "      <td>0.000000</td>\n",
       "      <td>0.000000</td>\n",
       "      <td>45960.000000</td>\n",
       "      <td>3.000000</td>\n",
       "      <td>29.500000</td>\n",
       "      <td>0.000000</td>\n",
       "    </tr>\n",
       "    <tr>\n",
       "      <th>50%</th>\n",
       "      <td>11.000000</td>\n",
       "      <td>8.000000</td>\n",
       "      <td>512.000000</td>\n",
       "      <td>0.000000</td>\n",
       "      <td>0.000000</td>\n",
       "      <td>1.000000</td>\n",
       "      <td>64990.000000</td>\n",
       "      <td>4.000000</td>\n",
       "      <td>282.000000</td>\n",
       "      <td>2.000000</td>\n",
       "    </tr>\n",
       "    <tr>\n",
       "      <th>75%</th>\n",
       "      <td>11.000000</td>\n",
       "      <td>8.000000</td>\n",
       "      <td>512.000000</td>\n",
       "      <td>512.000000</td>\n",
       "      <td>2.000000</td>\n",
       "      <td>1.000000</td>\n",
       "      <td>89846.000000</td>\n",
       "      <td>4.000000</td>\n",
       "      <td>301.217151</td>\n",
       "      <td>19.500000</td>\n",
       "    </tr>\n",
       "    <tr>\n",
       "      <th>max</th>\n",
       "      <td>12.000000</td>\n",
       "      <td>32.000000</td>\n",
       "      <td>3072.000000</td>\n",
       "      <td>2048.000000</td>\n",
       "      <td>8.000000</td>\n",
       "      <td>3.000000</td>\n",
       "      <td>441990.000000</td>\n",
       "      <td>5.000000</td>\n",
       "      <td>15279.000000</td>\n",
       "      <td>1947.000000</td>\n",
       "    </tr>\n",
       "  </tbody>\n",
       "</table>\n",
       "</div>"
      ],
      "text/plain": [
       "       processor_gnrtn      ram_gb          ssd          hdd  graphic_card_gb  \\\n",
       "count       723.000000  723.000000   723.000000   723.000000       723.000000   \n",
       "mean         10.535270    8.724758   449.150761   232.984786         1.208852   \n",
       "std           0.863102    4.439221   318.015040   416.286290         2.053125   \n",
       "min           4.000000    4.000000     0.000000     0.000000         0.000000   \n",
       "25%          10.000000    4.000000   256.000000     0.000000         0.000000   \n",
       "50%          11.000000    8.000000   512.000000     0.000000         0.000000   \n",
       "75%          11.000000    8.000000   512.000000   512.000000         2.000000   \n",
       "max          12.000000   32.000000  3072.000000  2048.000000         8.000000   \n",
       "\n",
       "         warranty          Price      rating  Number of Ratings  \\\n",
       "count  723.000000     723.000000  723.000000         723.000000   \n",
       "mean     0.716459   77031.348548    3.553250         395.373549   \n",
       "std      0.605691   45706.444883    0.562813         951.119891   \n",
       "min      0.000000   16990.000000    1.000000           1.000000   \n",
       "25%      0.000000   45960.000000    3.000000          29.500000   \n",
       "50%      1.000000   64990.000000    4.000000         282.000000   \n",
       "75%      1.000000   89846.000000    4.000000         301.217151   \n",
       "max      3.000000  441990.000000    5.000000       15279.000000   \n",
       "\n",
       "       Number of Reviews  \n",
       "count         723.000000  \n",
       "mean           36.550484  \n",
       "std           115.413126  \n",
       "min             0.000000  \n",
       "25%             0.000000  \n",
       "50%             2.000000  \n",
       "75%            19.500000  \n",
       "max          1947.000000  "
      ]
     },
     "execution_count": 3283,
     "metadata": {},
     "output_type": "execute_result"
    }
   ],
   "source": [
    "#check the ranges\n",
    "print(electro.describe())"
   ]
  },
  {
   "cell_type": "code",
   "execution_count": null,
   "metadata": {
    "colab": {
     "base_uri": "https://localhost:8080/"
    },
    "id": "9HrN8oYRjnG-",
    "outputId": "97f7c7a6-a02e-487b-f7d1-b5eeb4a82373"
   },
   "outputs": [
    {
     "data": {
      "text/plain": [
       "30"
      ]
     },
     "execution_count": 3284,
     "metadata": {},
     "output_type": "execute_result"
    }
   ],
   "source": [
    "#check for duplicates\n",
    "duplicates = electro.duplicated(keep=False)\n",
    "print(duplicates.sum())"
   ]
  },
  {
   "cell_type": "code",
   "execution_count": null,
   "metadata": {
    "id": "99Ml_660jnG-"
   },
   "outputs": [],
   "source": [
    "#drop the duplicates\n",
    "electro.drop_duplicates(inplace=True)"
   ]
  },
  {
   "cell_type": "code",
   "execution_count": null,
   "metadata": {
    "colab": {
     "base_uri": "https://localhost:8080/"
    },
    "id": "ewSfRvXzjnG_",
    "outputId": "7a948bfd-c77e-4ad8-8458-8e5920d44294"
   },
   "outputs": [
    {
     "data": {
      "text/plain": [
       "0"
      ]
     },
     "execution_count": 3286,
     "metadata": {},
     "output_type": "execute_result"
    }
   ],
   "source": [
    "#check if they are deleted\n",
    "duplicates = electro.duplicated(keep=False).sum()\n",
    "print(duplicates)"
   ]
  },
  {
   "cell_type": "code",
   "execution_count": null,
   "metadata": {
    "colab": {
     "base_uri": "https://localhost:8080/",
     "height": 104
    },
    "id": "4y3iAry_jnG_",
    "outputId": "3c7e6046-4a0b-416b-e5aa-172e9ab623ad"
   },
   "outputs": [
    {
     "data": {
      "text/html": [
       "<div>\n",
       "<style scoped>\n",
       "    .dataframe tbody tr th:only-of-type {\n",
       "        vertical-align: middle;\n",
       "    }\n",
       "\n",
       "    .dataframe tbody tr th {\n",
       "        vertical-align: top;\n",
       "    }\n",
       "\n",
       "    .dataframe thead th {\n",
       "        text-align: right;\n",
       "    }\n",
       "</style>\n",
       "<table border=\"1\" class=\"dataframe\">\n",
       "  <thead>\n",
       "    <tr style=\"text-align: right;\">\n",
       "      <th></th>\n",
       "      <th>brand</th>\n",
       "      <th>processor_brand</th>\n",
       "      <th>processor_name</th>\n",
       "      <th>processor_gnrtn</th>\n",
       "      <th>ram_gb</th>\n",
       "      <th>ram_type</th>\n",
       "      <th>ssd</th>\n",
       "      <th>hdd</th>\n",
       "      <th>os</th>\n",
       "      <th>graphic_card_gb</th>\n",
       "      <th>weight</th>\n",
       "      <th>warranty</th>\n",
       "      <th>Touchscreen</th>\n",
       "      <th>msoffice</th>\n",
       "      <th>Price</th>\n",
       "      <th>rating</th>\n",
       "      <th>Number of Ratings</th>\n",
       "      <th>Number of Reviews</th>\n",
       "    </tr>\n",
       "  </thead>\n",
       "  <tbody>\n",
       "  </tbody>\n",
       "</table>\n",
       "</div>"
      ],
      "text/plain": [
       "Empty DataFrame\n",
       "Columns: [brand, processor_brand, processor_name, processor_gnrtn, ram_gb, ram_type, ssd, hdd, os, graphic_card_gb, weight, warranty, Touchscreen, msoffice, Price, rating, Number of Ratings, Number of Reviews]\n",
       "Index: []"
      ]
     },
     "execution_count": 3287,
     "metadata": {},
     "output_type": "execute_result"
    }
   ],
   "source": [
    "#check if there is any device doesn't have any processor\n",
    "print(electro[(electro['ssd']==0) & (electro['hdd']==0)])"
   ]
  },
  {
   "cell_type": "code",
   "execution_count": null,
   "metadata": {
    "colab": {
     "base_uri": "https://localhost:8080/"
    },
    "id": "kUKwKy8tjnG_",
    "outputId": "502b344a-e5db-4d37-ed2c-606a5e8e4940"
   },
   "outputs": [
    {
     "data": {
      "text/plain": [
       "brand                0\n",
       "processor_brand      0\n",
       "processor_name       0\n",
       "processor_gnrtn      0\n",
       "ram_gb               0\n",
       "ram_type             0\n",
       "ssd                  0\n",
       "hdd                  0\n",
       "os                   0\n",
       "graphic_card_gb      0\n",
       "weight               0\n",
       "warranty             0\n",
       "Touchscreen          0\n",
       "msoffice             0\n",
       "Price                0\n",
       "rating               0\n",
       "Number of Ratings    0\n",
       "Number of Reviews    0\n",
       "dtype: int64"
      ]
     },
     "execution_count": 3288,
     "metadata": {},
     "output_type": "execute_result"
    }
   ],
   "source": [
    "#check missing data\n",
    "print(electro.isna().sum())"
   ]
  },
  {
   "cell_type": "code",
   "execution_count": null,
   "metadata": {},
   "outputs": [
    {
     "data": {
      "text/plain": [
       "brand                category\n",
       "processor_brand      category\n",
       "processor_name       category\n",
       "processor_gnrtn         int32\n",
       "ram_gb                  int32\n",
       "ram_type             category\n",
       "ssd                     int32\n",
       "hdd                     int32\n",
       "os                   category\n",
       "graphic_card_gb         int32\n",
       "weight               category\n",
       "warranty                int32\n",
       "Touchscreen          category\n",
       "msoffice             category\n",
       "Price                   int64\n",
       "rating                  int32\n",
       "Number of Ratings     float64\n",
       "Number of Reviews       int64\n",
       "dtype: object"
      ]
     },
     "execution_count": 3289,
     "metadata": {},
     "output_type": "execute_result"
    }
   ],
   "source": [
    "print(electro.dtypes)"
   ]
  },
  {
   "cell_type": "code",
   "execution_count": null,
   "metadata": {},
   "outputs": [],
   "source": [
    "#label encoding for features with natural order \n",
    "label_encoder = LabelEncoder()  \n",
    "electro['weight']= label_encoder.fit_transform(electro['weight'])\n",
    "electro['msoffice'] = label_encoder.fit_transform(electro['msoffice'])\n",
    "electro['ram_type'] = label_encoder.fit_transform(electro['ram_type'])\n"
   ]
  },
  {
   "cell_type": "code",
   "execution_count": null,
   "metadata": {},
   "outputs": [],
   "source": [
    "categoricalData = pd.DataFrame()\n",
    "categoricalData['weight'] = electro['weight']\n",
    "categoricalData['brand'] = electro['brand']\n",
    "categoricalData['processor_brand'] = electro['processor_brand']\n",
    "categoricalData['processor_name'] = electro['processor_name']\n",
    "categoricalData['os'] = electro['os']\n",
    "categoricalData['Touchscreen'] = electro['Touchscreen']\n",
    "categoricalData['msoffice'] = electro['msoffice']\n",
    "categoricalData['ram_type'] = electro['ram_type']\n",
    "#one hot encoding\n",
    "categoricalData = pd.get_dummies(categoricalData,columns=['brand','processor_brand','processor_name','os','Touchscreen'],dtype=int)"
   ]
  },
  {
   "cell_type": "code",
   "execution_count": null,
   "metadata": {},
   "outputs": [],
   "source": [
    "#one hot encoding for categories with no order\n",
    "electro=pd.get_dummies(electro,columns=['brand','processor_brand','processor_name','os','Touchscreen'],dtype=int)"
   ]
  },
  {
   "cell_type": "code",
   "execution_count": null,
   "metadata": {},
   "outputs": [
    {
     "data": {
      "image/png": "[encoded data removed]",
      "text/plain": [
       "<Figure size 1000x1000 with 8 Axes>"
      ]
     },
     "metadata": {},
     "output_type": "display_data"
    }
   ],
   "source": [
    "#check the outliers\n",
    "fig, axes = plt.subplots(4,2,sharex=True,figsize=(10, 10))\n",
    "fig.suptitle('Check the outliers of numeric columns')\n",
    "plt.subplots_adjust(wspace = 0.5)\n",
    "sns.boxplot(data=electro, y='ram_gb', ax=axes[0,0])\n",
    "sns.boxplot(data=electro, y='ssd', ax=axes[0,1])\n",
    "sns.boxplot(data=electro, y='hdd', ax=axes[1,0])\n",
    "sns.boxplot(data=electro, y='Number of Reviews', ax=axes[1,1])\n",
    "sns.boxplot(data=electro, y='Number of Ratings', ax=axes[2,0])\n",
    "sns.boxplot(data=electro, y='Price', ax=axes[2,1])\n",
    "sns.boxplot(data=electro, y='warranty', ax=axes[3,0])\n",
    "sns.boxplot(data=electro, y='graphic_card_gb', ax=axes[3,1])\n",
    "plt.show()"
   ]
  },
  {
   "cell_type": "code",
   "execution_count": null,
   "metadata": {},
   "outputs": [
    {
     "name": "stderr",
     "output_type": "stream",
     "text": [
      "C:\\Users\\DELL\\AppData\\Local\\Temp\\ipykernel_5124\\1582183839.py:7: SettingWithCopyWarning: \n",
      "A value is trying to be set on a copy of a slice from a DataFrame\n",
      "\n",
      "See the caveats in the documentation: https://pandas.pydata.org/pandas-docs/stable/user_guide/indexing.html#returning-a-view-versus-a-copy\n",
      "  electro[col][electro[col] <= percentiles[0]-1.5*iqr] = percentiles[0]\n",
      "C:\\Users\\DELL\\AppData\\Local\\Temp\\ipykernel_5124\\1582183839.py:8: SettingWithCopyWarning: \n",
      "A value is trying to be set on a copy of a slice from a DataFrame\n",
      "\n",
      "See the caveats in the documentation: https://pandas.pydata.org/pandas-docs/stable/user_guide/indexing.html#returning-a-view-versus-a-copy\n",
      "  electro[col][electro[col] >= percentiles[1]+1.5*iqr] = percentiles[1]\n",
      "C:\\Users\\DELL\\AppData\\Local\\Temp\\ipykernel_5124\\1582183839.py:7: SettingWithCopyWarning: \n",
      "A value is trying to be set on a copy of a slice from a DataFrame\n",
      "\n",
      "See the caveats in the documentation: https://pandas.pydata.org/pandas-docs/stable/user_guide/indexing.html#returning-a-view-versus-a-copy\n",
      "  electro[col][electro[col] <= percentiles[0]-1.5*iqr] = percentiles[0]\n",
      "C:\\Users\\DELL\\AppData\\Local\\Temp\\ipykernel_5124\\1582183839.py:8: SettingWithCopyWarning: \n",
      "A value is trying to be set on a copy of a slice from a DataFrame\n",
      "\n",
      "See the caveats in the documentation: https://pandas.pydata.org/pandas-docs/stable/user_guide/indexing.html#returning-a-view-versus-a-copy\n",
      "  electro[col][electro[col] >= percentiles[1]+1.5*iqr] = percentiles[1]\n",
      "C:\\Users\\DELL\\AppData\\Local\\Temp\\ipykernel_5124\\1582183839.py:7: SettingWithCopyWarning: \n",
      "A value is trying to be set on a copy of a slice from a DataFrame\n",
      "\n",
      "See the caveats in the documentation: https://pandas.pydata.org/pandas-docs/stable/user_guide/indexing.html#returning-a-view-versus-a-copy\n",
      "  electro[col][electro[col] <= percentiles[0]-1.5*iqr] = percentiles[0]\n",
      "C:\\Users\\DELL\\AppData\\Local\\Temp\\ipykernel_5124\\1582183839.py:8: SettingWithCopyWarning: \n",
      "A value is trying to be set on a copy of a slice from a DataFrame\n",
      "\n",
      "See the caveats in the documentation: https://pandas.pydata.org/pandas-docs/stable/user_guide/indexing.html#returning-a-view-versus-a-copy\n",
      "  electro[col][electro[col] >= percentiles[1]+1.5*iqr] = percentiles[1]\n",
      "C:\\Users\\DELL\\AppData\\Local\\Temp\\ipykernel_5124\\1582183839.py:7: SettingWithCopyWarning: \n",
      "A value is trying to be set on a copy of a slice from a DataFrame\n",
      "\n",
      "See the caveats in the documentation: https://pandas.pydata.org/pandas-docs/stable/user_guide/indexing.html#returning-a-view-versus-a-copy\n",
      "  electro[col][electro[col] <= percentiles[0]-1.5*iqr] = percentiles[0]\n",
      "C:\\Users\\DELL\\AppData\\Local\\Temp\\ipykernel_5124\\1582183839.py:8: SettingWithCopyWarning: \n",
      "A value is trying to be set on a copy of a slice from a DataFrame\n",
      "\n",
      "See the caveats in the documentation: https://pandas.pydata.org/pandas-docs/stable/user_guide/indexing.html#returning-a-view-versus-a-copy\n",
      "  electro[col][electro[col] >= percentiles[1]+1.5*iqr] = percentiles[1]\n",
      "C:\\Users\\DELL\\AppData\\Local\\Temp\\ipykernel_5124\\1582183839.py:7: SettingWithCopyWarning: \n",
      "A value is trying to be set on a copy of a slice from a DataFrame\n",
      "\n",
      "See the caveats in the documentation: https://pandas.pydata.org/pandas-docs/stable/user_guide/indexing.html#returning-a-view-versus-a-copy\n",
      "  electro[col][electro[col] <= percentiles[0]-1.5*iqr] = percentiles[0]\n",
      "C:\\Users\\DELL\\AppData\\Local\\Temp\\ipykernel_5124\\1582183839.py:8: SettingWithCopyWarning: \n",
      "A value is trying to be set on a copy of a slice from a DataFrame\n",
      "\n",
      "See the caveats in the documentation: https://pandas.pydata.org/pandas-docs/stable/user_guide/indexing.html#returning-a-view-versus-a-copy\n",
      "  electro[col][electro[col] >= percentiles[1]+1.5*iqr] = percentiles[1]\n",
      "C:\\Users\\DELL\\AppData\\Local\\Temp\\ipykernel_5124\\1582183839.py:7: SettingWithCopyWarning: \n",
      "A value is trying to be set on a copy of a slice from a DataFrame\n",
      "\n",
      "See the caveats in the documentation: https://pandas.pydata.org/pandas-docs/stable/user_guide/indexing.html#returning-a-view-versus-a-copy\n",
      "  electro[col][electro[col] <= percentiles[0]-1.5*iqr] = percentiles[0]\n",
      "C:\\Users\\DELL\\AppData\\Local\\Temp\\ipykernel_5124\\1582183839.py:8: SettingWithCopyWarning: \n",
      "A value is trying to be set on a copy of a slice from a DataFrame\n",
      "\n",
      "See the caveats in the documentation: https://pandas.pydata.org/pandas-docs/stable/user_guide/indexing.html#returning-a-view-versus-a-copy\n",
      "  electro[col][electro[col] >= percentiles[1]+1.5*iqr] = percentiles[1]\n",
      "C:\\Users\\DELL\\AppData\\Local\\Temp\\ipykernel_5124\\1582183839.py:7: SettingWithCopyWarning: \n",
      "A value is trying to be set on a copy of a slice from a DataFrame\n",
      "\n",
      "See the caveats in the documentation: https://pandas.pydata.org/pandas-docs/stable/user_guide/indexing.html#returning-a-view-versus-a-copy\n",
      "  electro[col][electro[col] <= percentiles[0]-1.5*iqr] = percentiles[0]\n",
      "C:\\Users\\DELL\\AppData\\Local\\Temp\\ipykernel_5124\\1582183839.py:8: SettingWithCopyWarning: \n",
      "A value is trying to be set on a copy of a slice from a DataFrame\n",
      "\n",
      "See the caveats in the documentation: https://pandas.pydata.org/pandas-docs/stable/user_guide/indexing.html#returning-a-view-versus-a-copy\n",
      "  electro[col][electro[col] >= percentiles[1]+1.5*iqr] = percentiles[1]\n",
      "C:\\Users\\DELL\\AppData\\Local\\Temp\\ipykernel_5124\\1582183839.py:7: SettingWithCopyWarning: \n",
      "A value is trying to be set on a copy of a slice from a DataFrame\n",
      "\n",
      "See the caveats in the documentation: https://pandas.pydata.org/pandas-docs/stable/user_guide/indexing.html#returning-a-view-versus-a-copy\n",
      "  electro[col][electro[col] <= percentiles[0]-1.5*iqr] = percentiles[0]\n",
      "C:\\Users\\DELL\\AppData\\Local\\Temp\\ipykernel_5124\\1582183839.py:8: SettingWithCopyWarning: \n",
      "A value is trying to be set on a copy of a slice from a DataFrame\n",
      "\n",
      "See the caveats in the documentation: https://pandas.pydata.org/pandas-docs/stable/user_guide/indexing.html#returning-a-view-versus-a-copy\n",
      "  electro[col][electro[col] >= percentiles[1]+1.5*iqr] = percentiles[1]\n",
      "C:\\Users\\DELL\\AppData\\Local\\Temp\\ipykernel_5124\\1582183839.py:7: SettingWithCopyWarning: \n",
      "A value is trying to be set on a copy of a slice from a DataFrame\n",
      "\n",
      "See the caveats in the documentation: https://pandas.pydata.org/pandas-docs/stable/user_guide/indexing.html#returning-a-view-versus-a-copy\n",
      "  electro[col][electro[col] <= percentiles[0]-1.5*iqr] = percentiles[0]\n",
      "C:\\Users\\DELL\\AppData\\Local\\Temp\\ipykernel_5124\\1582183839.py:8: SettingWithCopyWarning: \n",
      "A value is trying to be set on a copy of a slice from a DataFrame\n",
      "\n",
      "See the caveats in the documentation: https://pandas.pydata.org/pandas-docs/stable/user_guide/indexing.html#returning-a-view-versus-a-copy\n",
      "  electro[col][electro[col] >= percentiles[1]+1.5*iqr] = percentiles[1]\n",
      "C:\\Users\\DELL\\AppData\\Local\\Temp\\ipykernel_5124\\1582183839.py:7: SettingWithCopyWarning: \n",
      "A value is trying to be set on a copy of a slice from a DataFrame\n",
      "\n",
      "See the caveats in the documentation: https://pandas.pydata.org/pandas-docs/stable/user_guide/indexing.html#returning-a-view-versus-a-copy\n",
      "  electro[col][electro[col] <= percentiles[0]-1.5*iqr] = percentiles[0]\n",
      "C:\\Users\\DELL\\AppData\\Local\\Temp\\ipykernel_5124\\1582183839.py:8: SettingWithCopyWarning: \n",
      "A value is trying to be set on a copy of a slice from a DataFrame\n",
      "\n",
      "See the caveats in the documentation: https://pandas.pydata.org/pandas-docs/stable/user_guide/indexing.html#returning-a-view-versus-a-copy\n",
      "  electro[col][electro[col] >= percentiles[1]+1.5*iqr] = percentiles[1]\n",
      "C:\\Users\\DELL\\AppData\\Local\\Temp\\ipykernel_5124\\1582183839.py:7: SettingWithCopyWarning: \n",
      "A value is trying to be set on a copy of a slice from a DataFrame\n",
      "\n",
      "See the caveats in the documentation: https://pandas.pydata.org/pandas-docs/stable/user_guide/indexing.html#returning-a-view-versus-a-copy\n",
      "  electro[col][electro[col] <= percentiles[0]-1.5*iqr] = percentiles[0]\n",
      "C:\\Users\\DELL\\AppData\\Local\\Temp\\ipykernel_5124\\1582183839.py:8: SettingWithCopyWarning: \n",
      "A value is trying to be set on a copy of a slice from a DataFrame\n",
      "\n",
      "See the caveats in the documentation: https://pandas.pydata.org/pandas-docs/stable/user_guide/indexing.html#returning-a-view-versus-a-copy\n",
      "  electro[col][electro[col] >= percentiles[1]+1.5*iqr] = percentiles[1]\n",
      "C:\\Users\\DELL\\AppData\\Local\\Temp\\ipykernel_5124\\1582183839.py:7: SettingWithCopyWarning: \n",
      "A value is trying to be set on a copy of a slice from a DataFrame\n",
      "\n",
      "See the caveats in the documentation: https://pandas.pydata.org/pandas-docs/stable/user_guide/indexing.html#returning-a-view-versus-a-copy\n",
      "  electro[col][electro[col] <= percentiles[0]-1.5*iqr] = percentiles[0]\n",
      "C:\\Users\\DELL\\AppData\\Local\\Temp\\ipykernel_5124\\1582183839.py:8: SettingWithCopyWarning: \n",
      "A value is trying to be set on a copy of a slice from a DataFrame\n",
      "\n",
      "See the caveats in the documentation: https://pandas.pydata.org/pandas-docs/stable/user_guide/indexing.html#returning-a-view-versus-a-copy\n",
      "  electro[col][electro[col] >= percentiles[1]+1.5*iqr] = percentiles[1]\n",
      "C:\\Users\\DELL\\AppData\\Local\\Temp\\ipykernel_5124\\1582183839.py:7: SettingWithCopyWarning: \n",
      "A value is trying to be set on a copy of a slice from a DataFrame\n",
      "\n",
      "See the caveats in the documentation: https://pandas.pydata.org/pandas-docs/stable/user_guide/indexing.html#returning-a-view-versus-a-copy\n",
      "  electro[col][electro[col] <= percentiles[0]-1.5*iqr] = percentiles[0]\n",
      "C:\\Users\\DELL\\AppData\\Local\\Temp\\ipykernel_5124\\1582183839.py:8: SettingWithCopyWarning: \n",
      "A value is trying to be set on a copy of a slice from a DataFrame\n",
      "\n",
      "See the caveats in the documentation: https://pandas.pydata.org/pandas-docs/stable/user_guide/indexing.html#returning-a-view-versus-a-copy\n",
      "  electro[col][electro[col] >= percentiles[1]+1.5*iqr] = percentiles[1]\n",
      "C:\\Users\\DELL\\AppData\\Local\\Temp\\ipykernel_5124\\1582183839.py:7: SettingWithCopyWarning: \n",
      "A value is trying to be set on a copy of a slice from a DataFrame\n",
      "\n",
      "See the caveats in the documentation: https://pandas.pydata.org/pandas-docs/stable/user_guide/indexing.html#returning-a-view-versus-a-copy\n",
      "  electro[col][electro[col] <= percentiles[0]-1.5*iqr] = percentiles[0]\n",
      "C:\\Users\\DELL\\AppData\\Local\\Temp\\ipykernel_5124\\1582183839.py:8: SettingWithCopyWarning: \n",
      "A value is trying to be set on a copy of a slice from a DataFrame\n",
      "\n",
      "See the caveats in the documentation: https://pandas.pydata.org/pandas-docs/stable/user_guide/indexing.html#returning-a-view-versus-a-copy\n",
      "  electro[col][electro[col] >= percentiles[1]+1.5*iqr] = percentiles[1]\n",
      "C:\\Users\\DELL\\AppData\\Local\\Temp\\ipykernel_5124\\1582183839.py:7: SettingWithCopyWarning: \n",
      "A value is trying to be set on a copy of a slice from a DataFrame\n",
      "\n",
      "See the caveats in the documentation: https://pandas.pydata.org/pandas-docs/stable/user_guide/indexing.html#returning-a-view-versus-a-copy\n",
      "  electro[col][electro[col] <= percentiles[0]-1.5*iqr] = percentiles[0]\n",
      "C:\\Users\\DELL\\AppData\\Local\\Temp\\ipykernel_5124\\1582183839.py:8: SettingWithCopyWarning: \n",
      "A value is trying to be set on a copy of a slice from a DataFrame\n",
      "\n",
      "See the caveats in the documentation: https://pandas.pydata.org/pandas-docs/stable/user_guide/indexing.html#returning-a-view-versus-a-copy\n",
      "  electro[col][electro[col] >= percentiles[1]+1.5*iqr] = percentiles[1]\n",
      "C:\\Users\\DELL\\AppData\\Local\\Temp\\ipykernel_5124\\1582183839.py:7: SettingWithCopyWarning: \n",
      "A value is trying to be set on a copy of a slice from a DataFrame\n",
      "\n",
      "See the caveats in the documentation: https://pandas.pydata.org/pandas-docs/stable/user_guide/indexing.html#returning-a-view-versus-a-copy\n",
      "  electro[col][electro[col] <= percentiles[0]-1.5*iqr] = percentiles[0]\n",
      "C:\\Users\\DELL\\AppData\\Local\\Temp\\ipykernel_5124\\1582183839.py:8: SettingWithCopyWarning: \n",
      "A value is trying to be set on a copy of a slice from a DataFrame\n",
      "\n",
      "See the caveats in the documentation: https://pandas.pydata.org/pandas-docs/stable/user_guide/indexing.html#returning-a-view-versus-a-copy\n",
      "  electro[col][electro[col] >= percentiles[1]+1.5*iqr] = percentiles[1]\n",
      "C:\\Users\\DELL\\AppData\\Local\\Temp\\ipykernel_5124\\1582183839.py:7: SettingWithCopyWarning: \n",
      "A value is trying to be set on a copy of a slice from a DataFrame\n",
      "\n",
      "See the caveats in the documentation: https://pandas.pydata.org/pandas-docs/stable/user_guide/indexing.html#returning-a-view-versus-a-copy\n",
      "  electro[col][electro[col] <= percentiles[0]-1.5*iqr] = percentiles[0]\n",
      "C:\\Users\\DELL\\AppData\\Local\\Temp\\ipykernel_5124\\1582183839.py:8: SettingWithCopyWarning: \n",
      "A value is trying to be set on a copy of a slice from a DataFrame\n",
      "\n",
      "See the caveats in the documentation: https://pandas.pydata.org/pandas-docs/stable/user_guide/indexing.html#returning-a-view-versus-a-copy\n",
      "  electro[col][electro[col] >= percentiles[1]+1.5*iqr] = percentiles[1]\n",
      "C:\\Users\\DELL\\AppData\\Local\\Temp\\ipykernel_5124\\1582183839.py:7: SettingWithCopyWarning: \n",
      "A value is trying to be set on a copy of a slice from a DataFrame\n",
      "\n",
      "See the caveats in the documentation: https://pandas.pydata.org/pandas-docs/stable/user_guide/indexing.html#returning-a-view-versus-a-copy\n",
      "  electro[col][electro[col] <= percentiles[0]-1.5*iqr] = percentiles[0]\n",
      "C:\\Users\\DELL\\AppData\\Local\\Temp\\ipykernel_5124\\1582183839.py:8: SettingWithCopyWarning: \n",
      "A value is trying to be set on a copy of a slice from a DataFrame\n",
      "\n",
      "See the caveats in the documentation: https://pandas.pydata.org/pandas-docs/stable/user_guide/indexing.html#returning-a-view-versus-a-copy\n",
      "  electro[col][electro[col] >= percentiles[1]+1.5*iqr] = percentiles[1]\n",
      "C:\\Users\\DELL\\AppData\\Local\\Temp\\ipykernel_5124\\1582183839.py:7: SettingWithCopyWarning: \n",
      "A value is trying to be set on a copy of a slice from a DataFrame\n",
      "\n",
      "See the caveats in the documentation: https://pandas.pydata.org/pandas-docs/stable/user_guide/indexing.html#returning-a-view-versus-a-copy\n",
      "  electro[col][electro[col] <= percentiles[0]-1.5*iqr] = percentiles[0]\n",
      "C:\\Users\\DELL\\AppData\\Local\\Temp\\ipykernel_5124\\1582183839.py:8: SettingWithCopyWarning: \n",
      "A value is trying to be set on a copy of a slice from a DataFrame\n",
      "\n",
      "See the caveats in the documentation: https://pandas.pydata.org/pandas-docs/stable/user_guide/indexing.html#returning-a-view-versus-a-copy\n",
      "  electro[col][electro[col] >= percentiles[1]+1.5*iqr] = percentiles[1]\n",
      "C:\\Users\\DELL\\AppData\\Local\\Temp\\ipykernel_5124\\1582183839.py:7: SettingWithCopyWarning: \n",
      "A value is trying to be set on a copy of a slice from a DataFrame\n",
      "\n",
      "See the caveats in the documentation: https://pandas.pydata.org/pandas-docs/stable/user_guide/indexing.html#returning-a-view-versus-a-copy\n",
      "  electro[col][electro[col] <= percentiles[0]-1.5*iqr] = percentiles[0]\n",
      "C:\\Users\\DELL\\AppData\\Local\\Temp\\ipykernel_5124\\1582183839.py:8: SettingWithCopyWarning: \n",
      "A value is trying to be set on a copy of a slice from a DataFrame\n",
      "\n",
      "See the caveats in the documentation: https://pandas.pydata.org/pandas-docs/stable/user_guide/indexing.html#returning-a-view-versus-a-copy\n",
      "  electro[col][electro[col] >= percentiles[1]+1.5*iqr] = percentiles[1]\n",
      "C:\\Users\\DELL\\AppData\\Local\\Temp\\ipykernel_5124\\1582183839.py:7: SettingWithCopyWarning: \n",
      "A value is trying to be set on a copy of a slice from a DataFrame\n",
      "\n",
      "See the caveats in the documentation: https://pandas.pydata.org/pandas-docs/stable/user_guide/indexing.html#returning-a-view-versus-a-copy\n",
      "  electro[col][electro[col] <= percentiles[0]-1.5*iqr] = percentiles[0]\n",
      "C:\\Users\\DELL\\AppData\\Local\\Temp\\ipykernel_5124\\1582183839.py:8: SettingWithCopyWarning: \n",
      "A value is trying to be set on a copy of a slice from a DataFrame\n",
      "\n",
      "See the caveats in the documentation: https://pandas.pydata.org/pandas-docs/stable/user_guide/indexing.html#returning-a-view-versus-a-copy\n",
      "  electro[col][electro[col] >= percentiles[1]+1.5*iqr] = percentiles[1]\n",
      "C:\\Users\\DELL\\AppData\\Local\\Temp\\ipykernel_5124\\1582183839.py:7: SettingWithCopyWarning: \n",
      "A value is trying to be set on a copy of a slice from a DataFrame\n",
      "\n",
      "See the caveats in the documentation: https://pandas.pydata.org/pandas-docs/stable/user_guide/indexing.html#returning-a-view-versus-a-copy\n",
      "  electro[col][electro[col] <= percentiles[0]-1.5*iqr] = percentiles[0]\n",
      "C:\\Users\\DELL\\AppData\\Local\\Temp\\ipykernel_5124\\1582183839.py:8: SettingWithCopyWarning: \n",
      "A value is trying to be set on a copy of a slice from a DataFrame\n",
      "\n",
      "See the caveats in the documentation: https://pandas.pydata.org/pandas-docs/stable/user_guide/indexing.html#returning-a-view-versus-a-copy\n",
      "  electro[col][electro[col] >= percentiles[1]+1.5*iqr] = percentiles[1]\n",
      "C:\\Users\\DELL\\AppData\\Local\\Temp\\ipykernel_5124\\1582183839.py:7: SettingWithCopyWarning: \n",
      "A value is trying to be set on a copy of a slice from a DataFrame\n",
      "\n",
      "See the caveats in the documentation: https://pandas.pydata.org/pandas-docs/stable/user_guide/indexing.html#returning-a-view-versus-a-copy\n",
      "  electro[col][electro[col] <= percentiles[0]-1.5*iqr] = percentiles[0]\n",
      "C:\\Users\\DELL\\AppData\\Local\\Temp\\ipykernel_5124\\1582183839.py:8: SettingWithCopyWarning: \n",
      "A value is trying to be set on a copy of a slice from a DataFrame\n",
      "\n",
      "See the caveats in the documentation: https://pandas.pydata.org/pandas-docs/stable/user_guide/indexing.html#returning-a-view-versus-a-copy\n",
      "  electro[col][electro[col] >= percentiles[1]+1.5*iqr] = percentiles[1]\n",
      "C:\\Users\\DELL\\AppData\\Local\\Temp\\ipykernel_5124\\1582183839.py:7: SettingWithCopyWarning: \n",
      "A value is trying to be set on a copy of a slice from a DataFrame\n",
      "\n",
      "See the caveats in the documentation: https://pandas.pydata.org/pandas-docs/stable/user_guide/indexing.html#returning-a-view-versus-a-copy\n",
      "  electro[col][electro[col] <= percentiles[0]-1.5*iqr] = percentiles[0]\n",
      "C:\\Users\\DELL\\AppData\\Local\\Temp\\ipykernel_5124\\1582183839.py:8: SettingWithCopyWarning: \n",
      "A value is trying to be set on a copy of a slice from a DataFrame\n",
      "\n",
      "See the caveats in the documentation: https://pandas.pydata.org/pandas-docs/stable/user_guide/indexing.html#returning-a-view-versus-a-copy\n",
      "  electro[col][electro[col] >= percentiles[1]+1.5*iqr] = percentiles[1]\n",
      "C:\\Users\\DELL\\AppData\\Local\\Temp\\ipykernel_5124\\1582183839.py:7: SettingWithCopyWarning: \n",
      "A value is trying to be set on a copy of a slice from a DataFrame\n",
      "\n",
      "See the caveats in the documentation: https://pandas.pydata.org/pandas-docs/stable/user_guide/indexing.html#returning-a-view-versus-a-copy\n",
      "  electro[col][electro[col] <= percentiles[0]-1.5*iqr] = percentiles[0]\n",
      "C:\\Users\\DELL\\AppData\\Local\\Temp\\ipykernel_5124\\1582183839.py:8: SettingWithCopyWarning: \n",
      "A value is trying to be set on a copy of a slice from a DataFrame\n",
      "\n",
      "See the caveats in the documentation: https://pandas.pydata.org/pandas-docs/stable/user_guide/indexing.html#returning-a-view-versus-a-copy\n",
      "  electro[col][electro[col] >= percentiles[1]+1.5*iqr] = percentiles[1]\n",
      "C:\\Users\\DELL\\AppData\\Local\\Temp\\ipykernel_5124\\1582183839.py:7: SettingWithCopyWarning: \n",
      "A value is trying to be set on a copy of a slice from a DataFrame\n",
      "\n",
      "See the caveats in the documentation: https://pandas.pydata.org/pandas-docs/stable/user_guide/indexing.html#returning-a-view-versus-a-copy\n",
      "  electro[col][electro[col] <= percentiles[0]-1.5*iqr] = percentiles[0]\n",
      "C:\\Users\\DELL\\AppData\\Local\\Temp\\ipykernel_5124\\1582183839.py:8: SettingWithCopyWarning: \n",
      "A value is trying to be set on a copy of a slice from a DataFrame\n",
      "\n",
      "See the caveats in the documentation: https://pandas.pydata.org/pandas-docs/stable/user_guide/indexing.html#returning-a-view-versus-a-copy\n",
      "  electro[col][electro[col] >= percentiles[1]+1.5*iqr] = percentiles[1]\n",
      "C:\\Users\\DELL\\AppData\\Local\\Temp\\ipykernel_5124\\1582183839.py:7: SettingWithCopyWarning: \n",
      "A value is trying to be set on a copy of a slice from a DataFrame\n",
      "\n",
      "See the caveats in the documentation: https://pandas.pydata.org/pandas-docs/stable/user_guide/indexing.html#returning-a-view-versus-a-copy\n",
      "  electro[col][electro[col] <= percentiles[0]-1.5*iqr] = percentiles[0]\n",
      "C:\\Users\\DELL\\AppData\\Local\\Temp\\ipykernel_5124\\1582183839.py:8: SettingWithCopyWarning: \n",
      "A value is trying to be set on a copy of a slice from a DataFrame\n",
      "\n",
      "See the caveats in the documentation: https://pandas.pydata.org/pandas-docs/stable/user_guide/indexing.html#returning-a-view-versus-a-copy\n",
      "  electro[col][electro[col] >= percentiles[1]+1.5*iqr] = percentiles[1]\n",
      "C:\\Users\\DELL\\AppData\\Local\\Temp\\ipykernel_5124\\1582183839.py:7: SettingWithCopyWarning: \n",
      "A value is trying to be set on a copy of a slice from a DataFrame\n",
      "\n",
      "See the caveats in the documentation: https://pandas.pydata.org/pandas-docs/stable/user_guide/indexing.html#returning-a-view-versus-a-copy\n",
      "  electro[col][electro[col] <= percentiles[0]-1.5*iqr] = percentiles[0]\n",
      "C:\\Users\\DELL\\AppData\\Local\\Temp\\ipykernel_5124\\1582183839.py:8: SettingWithCopyWarning: \n",
      "A value is trying to be set on a copy of a slice from a DataFrame\n",
      "\n",
      "See the caveats in the documentation: https://pandas.pydata.org/pandas-docs/stable/user_guide/indexing.html#returning-a-view-versus-a-copy\n",
      "  electro[col][electro[col] >= percentiles[1]+1.5*iqr] = percentiles[1]\n",
      "C:\\Users\\DELL\\AppData\\Local\\Temp\\ipykernel_5124\\1582183839.py:7: SettingWithCopyWarning: \n",
      "A value is trying to be set on a copy of a slice from a DataFrame\n",
      "\n",
      "See the caveats in the documentation: https://pandas.pydata.org/pandas-docs/stable/user_guide/indexing.html#returning-a-view-versus-a-copy\n",
      "  electro[col][electro[col] <= percentiles[0]-1.5*iqr] = percentiles[0]\n",
      "C:\\Users\\DELL\\AppData\\Local\\Temp\\ipykernel_5124\\1582183839.py:8: SettingWithCopyWarning: \n",
      "A value is trying to be set on a copy of a slice from a DataFrame\n",
      "\n",
      "See the caveats in the documentation: https://pandas.pydata.org/pandas-docs/stable/user_guide/indexing.html#returning-a-view-versus-a-copy\n",
      "  electro[col][electro[col] >= percentiles[1]+1.5*iqr] = percentiles[1]\n",
      "C:\\Users\\DELL\\AppData\\Local\\Temp\\ipykernel_5124\\1582183839.py:7: SettingWithCopyWarning: \n",
      "A value is trying to be set on a copy of a slice from a DataFrame\n",
      "\n",
      "See the caveats in the documentation: https://pandas.pydata.org/pandas-docs/stable/user_guide/indexing.html#returning-a-view-versus-a-copy\n",
      "  electro[col][electro[col] <= percentiles[0]-1.5*iqr] = percentiles[0]\n",
      "C:\\Users\\DELL\\AppData\\Local\\Temp\\ipykernel_5124\\1582183839.py:8: SettingWithCopyWarning: \n",
      "A value is trying to be set on a copy of a slice from a DataFrame\n",
      "\n",
      "See the caveats in the documentation: https://pandas.pydata.org/pandas-docs/stable/user_guide/indexing.html#returning-a-view-versus-a-copy\n",
      "  electro[col][electro[col] >= percentiles[1]+1.5*iqr] = percentiles[1]\n",
      "C:\\Users\\DELL\\AppData\\Local\\Temp\\ipykernel_5124\\1582183839.py:7: SettingWithCopyWarning: \n",
      "A value is trying to be set on a copy of a slice from a DataFrame\n",
      "\n",
      "See the caveats in the documentation: https://pandas.pydata.org/pandas-docs/stable/user_guide/indexing.html#returning-a-view-versus-a-copy\n",
      "  electro[col][electro[col] <= percentiles[0]-1.5*iqr] = percentiles[0]\n",
      "C:\\Users\\DELL\\AppData\\Local\\Temp\\ipykernel_5124\\1582183839.py:8: SettingWithCopyWarning: \n",
      "A value is trying to be set on a copy of a slice from a DataFrame\n",
      "\n",
      "See the caveats in the documentation: https://pandas.pydata.org/pandas-docs/stable/user_guide/indexing.html#returning-a-view-versus-a-copy\n",
      "  electro[col][electro[col] >= percentiles[1]+1.5*iqr] = percentiles[1]\n",
      "C:\\Users\\DELL\\AppData\\Local\\Temp\\ipykernel_5124\\1582183839.py:7: SettingWithCopyWarning: \n",
      "A value is trying to be set on a copy of a slice from a DataFrame\n",
      "\n",
      "See the caveats in the documentation: https://pandas.pydata.org/pandas-docs/stable/user_guide/indexing.html#returning-a-view-versus-a-copy\n",
      "  electro[col][electro[col] <= percentiles[0]-1.5*iqr] = percentiles[0]\n",
      "C:\\Users\\DELL\\AppData\\Local\\Temp\\ipykernel_5124\\1582183839.py:8: SettingWithCopyWarning: \n",
      "A value is trying to be set on a copy of a slice from a DataFrame\n",
      "\n",
      "See the caveats in the documentation: https://pandas.pydata.org/pandas-docs/stable/user_guide/indexing.html#returning-a-view-versus-a-copy\n",
      "  electro[col][electro[col] >= percentiles[1]+1.5*iqr] = percentiles[1]\n",
      "C:\\Users\\DELL\\AppData\\Local\\Temp\\ipykernel_5124\\1582183839.py:7: SettingWithCopyWarning: \n",
      "A value is trying to be set on a copy of a slice from a DataFrame\n",
      "\n",
      "See the caveats in the documentation: https://pandas.pydata.org/pandas-docs/stable/user_guide/indexing.html#returning-a-view-versus-a-copy\n",
      "  electro[col][electro[col] <= percentiles[0]-1.5*iqr] = percentiles[0]\n",
      "C:\\Users\\DELL\\AppData\\Local\\Temp\\ipykernel_5124\\1582183839.py:8: SettingWithCopyWarning: \n",
      "A value is trying to be set on a copy of a slice from a DataFrame\n",
      "\n",
      "See the caveats in the documentation: https://pandas.pydata.org/pandas-docs/stable/user_guide/indexing.html#returning-a-view-versus-a-copy\n",
      "  electro[col][electro[col] >= percentiles[1]+1.5*iqr] = percentiles[1]\n",
      "C:\\Users\\DELL\\AppData\\Local\\Temp\\ipykernel_5124\\1582183839.py:7: SettingWithCopyWarning: \n",
      "A value is trying to be set on a copy of a slice from a DataFrame\n",
      "\n",
      "See the caveats in the documentation: https://pandas.pydata.org/pandas-docs/stable/user_guide/indexing.html#returning-a-view-versus-a-copy\n",
      "  electro[col][electro[col] <= percentiles[0]-1.5*iqr] = percentiles[0]\n",
      "C:\\Users\\DELL\\AppData\\Local\\Temp\\ipykernel_5124\\1582183839.py:8: SettingWithCopyWarning: \n",
      "A value is trying to be set on a copy of a slice from a DataFrame\n",
      "\n",
      "See the caveats in the documentation: https://pandas.pydata.org/pandas-docs/stable/user_guide/indexing.html#returning-a-view-versus-a-copy\n",
      "  electro[col][electro[col] >= percentiles[1]+1.5*iqr] = percentiles[1]\n",
      "C:\\Users\\DELL\\AppData\\Local\\Temp\\ipykernel_5124\\1582183839.py:7: SettingWithCopyWarning: \n",
      "A value is trying to be set on a copy of a slice from a DataFrame\n",
      "\n",
      "See the caveats in the documentation: https://pandas.pydata.org/pandas-docs/stable/user_guide/indexing.html#returning-a-view-versus-a-copy\n",
      "  electro[col][electro[col] <= percentiles[0]-1.5*iqr] = percentiles[0]\n",
      "C:\\Users\\DELL\\AppData\\Local\\Temp\\ipykernel_5124\\1582183839.py:8: SettingWithCopyWarning: \n",
      "A value is trying to be set on a copy of a slice from a DataFrame\n",
      "\n",
      "See the caveats in the documentation: https://pandas.pydata.org/pandas-docs/stable/user_guide/indexing.html#returning-a-view-versus-a-copy\n",
      "  electro[col][electro[col] >= percentiles[1]+1.5*iqr] = percentiles[1]\n",
      "C:\\Users\\DELL\\AppData\\Local\\Temp\\ipykernel_5124\\1582183839.py:7: SettingWithCopyWarning: \n",
      "A value is trying to be set on a copy of a slice from a DataFrame\n",
      "\n",
      "See the caveats in the documentation: https://pandas.pydata.org/pandas-docs/stable/user_guide/indexing.html#returning-a-view-versus-a-copy\n",
      "  electro[col][electro[col] <= percentiles[0]-1.5*iqr] = percentiles[0]\n",
      "C:\\Users\\DELL\\AppData\\Local\\Temp\\ipykernel_5124\\1582183839.py:8: SettingWithCopyWarning: \n",
      "A value is trying to be set on a copy of a slice from a DataFrame\n",
      "\n",
      "See the caveats in the documentation: https://pandas.pydata.org/pandas-docs/stable/user_guide/indexing.html#returning-a-view-versus-a-copy\n",
      "  electro[col][electro[col] >= percentiles[1]+1.5*iqr] = percentiles[1]\n",
      "C:\\Users\\DELL\\AppData\\Local\\Temp\\ipykernel_5124\\1582183839.py:7: SettingWithCopyWarning: \n",
      "A value is trying to be set on a copy of a slice from a DataFrame\n",
      "\n",
      "See the caveats in the documentation: https://pandas.pydata.org/pandas-docs/stable/user_guide/indexing.html#returning-a-view-versus-a-copy\n",
      "  electro[col][electro[col] <= percentiles[0]-1.5*iqr] = percentiles[0]\n",
      "C:\\Users\\DELL\\AppData\\Local\\Temp\\ipykernel_5124\\1582183839.py:8: SettingWithCopyWarning: \n",
      "A value is trying to be set on a copy of a slice from a DataFrame\n",
      "\n",
      "See the caveats in the documentation: https://pandas.pydata.org/pandas-docs/stable/user_guide/indexing.html#returning-a-view-versus-a-copy\n",
      "  electro[col][electro[col] >= percentiles[1]+1.5*iqr] = percentiles[1]\n",
      "C:\\Users\\DELL\\AppData\\Local\\Temp\\ipykernel_5124\\1582183839.py:7: SettingWithCopyWarning: \n",
      "A value is trying to be set on a copy of a slice from a DataFrame\n",
      "\n",
      "See the caveats in the documentation: https://pandas.pydata.org/pandas-docs/stable/user_guide/indexing.html#returning-a-view-versus-a-copy\n",
      "  electro[col][electro[col] <= percentiles[0]-1.5*iqr] = percentiles[0]\n",
      "C:\\Users\\DELL\\AppData\\Local\\Temp\\ipykernel_5124\\1582183839.py:8: SettingWithCopyWarning: \n",
      "A value is trying to be set on a copy of a slice from a DataFrame\n",
      "\n",
      "See the caveats in the documentation: https://pandas.pydata.org/pandas-docs/stable/user_guide/indexing.html#returning-a-view-versus-a-copy\n",
      "  electro[col][electro[col] >= percentiles[1]+1.5*iqr] = percentiles[1]\n",
      "C:\\Users\\DELL\\AppData\\Local\\Temp\\ipykernel_5124\\1582183839.py:7: SettingWithCopyWarning: \n",
      "A value is trying to be set on a copy of a slice from a DataFrame\n",
      "\n",
      "See the caveats in the documentation: https://pandas.pydata.org/pandas-docs/stable/user_guide/indexing.html#returning-a-view-versus-a-copy\n",
      "  electro[col][electro[col] <= percentiles[0]-1.5*iqr] = percentiles[0]\n",
      "C:\\Users\\DELL\\AppData\\Local\\Temp\\ipykernel_5124\\1582183839.py:8: SettingWithCopyWarning: \n",
      "A value is trying to be set on a copy of a slice from a DataFrame\n",
      "\n",
      "See the caveats in the documentation: https://pandas.pydata.org/pandas-docs/stable/user_guide/indexing.html#returning-a-view-versus-a-copy\n",
      "  electro[col][electro[col] >= percentiles[1]+1.5*iqr] = percentiles[1]\n",
      "C:\\Users\\DELL\\AppData\\Local\\Temp\\ipykernel_5124\\1582183839.py:7: SettingWithCopyWarning: \n",
      "A value is trying to be set on a copy of a slice from a DataFrame\n",
      "\n",
      "See the caveats in the documentation: https://pandas.pydata.org/pandas-docs/stable/user_guide/indexing.html#returning-a-view-versus-a-copy\n",
      "  electro[col][electro[col] <= percentiles[0]-1.5*iqr] = percentiles[0]\n",
      "C:\\Users\\DELL\\AppData\\Local\\Temp\\ipykernel_5124\\1582183839.py:8: SettingWithCopyWarning: \n",
      "A value is trying to be set on a copy of a slice from a DataFrame\n",
      "\n",
      "See the caveats in the documentation: https://pandas.pydata.org/pandas-docs/stable/user_guide/indexing.html#returning-a-view-versus-a-copy\n",
      "  electro[col][electro[col] >= percentiles[1]+1.5*iqr] = percentiles[1]\n",
      "C:\\Users\\DELL\\AppData\\Local\\Temp\\ipykernel_5124\\1582183839.py:7: SettingWithCopyWarning: \n",
      "A value is trying to be set on a copy of a slice from a DataFrame\n",
      "\n",
      "See the caveats in the documentation: https://pandas.pydata.org/pandas-docs/stable/user_guide/indexing.html#returning-a-view-versus-a-copy\n",
      "  electro[col][electro[col] <= percentiles[0]-1.5*iqr] = percentiles[0]\n",
      "C:\\Users\\DELL\\AppData\\Local\\Temp\\ipykernel_5124\\1582183839.py:8: SettingWithCopyWarning: \n",
      "A value is trying to be set on a copy of a slice from a DataFrame\n",
      "\n",
      "See the caveats in the documentation: https://pandas.pydata.org/pandas-docs/stable/user_guide/indexing.html#returning-a-view-versus-a-copy\n",
      "  electro[col][electro[col] >= percentiles[1]+1.5*iqr] = percentiles[1]\n",
      "C:\\Users\\DELL\\AppData\\Local\\Temp\\ipykernel_5124\\1582183839.py:7: SettingWithCopyWarning: \n",
      "A value is trying to be set on a copy of a slice from a DataFrame\n",
      "\n",
      "See the caveats in the documentation: https://pandas.pydata.org/pandas-docs/stable/user_guide/indexing.html#returning-a-view-versus-a-copy\n",
      "  electro[col][electro[col] <= percentiles[0]-1.5*iqr] = percentiles[0]\n",
      "C:\\Users\\DELL\\AppData\\Local\\Temp\\ipykernel_5124\\1582183839.py:8: SettingWithCopyWarning: \n",
      "A value is trying to be set on a copy of a slice from a DataFrame\n",
      "\n",
      "See the caveats in the documentation: https://pandas.pydata.org/pandas-docs/stable/user_guide/indexing.html#returning-a-view-versus-a-copy\n",
      "  electro[col][electro[col] >= percentiles[1]+1.5*iqr] = percentiles[1]\n"
     ]
    }
   ],
   "source": [
    "# #drop the outliers\n",
    "# for col in electro.columns:\n",
    "#         #print(\"capping the \",col)\n",
    "#         if (((electro[col].dtype)=='float') | ((electro[col].dtype)=='int32')|((electro[col].dtype)=='int64')):\n",
    "#             percentiles = electro[col].quantile([0.25,0.75]).values\n",
    "#             iqr= percentiles[1]-percentiles[0]\n",
    "#             electro[col][electro[col] <= percentiles[0]-1.5*iqr] = percentiles[0]\n",
    "#             electro[col][electro[col] >= percentiles[1]+1.5*iqr] = percentiles[1]\n",
    "#         else:\n",
    "            #electro[col]=electro[col]\n",
    "numeric = electro[['ram_gb', 'ssd','hdd','graphic_card_gb','warranty','Price','Number of Ratings','Number of Reviews']]\n",
    "for n in numeric:\n",
    "    electro[n]=electro[n].astype('float')\n",
    "    q75 = electro[n].quantile(0.75)\n",
    "    q25 = electro[n].quantile(0.25)\n",
    "    iqr = q75 - q25\n",
    "    electro.loc[electro[n] > q75 + 1.5 * iqr , n] = q75 + 1.5 * iqr\n",
    "    electro.loc[electro[n] < q25 - 1.5 * iqr , n] = q25 - 1.5 * iqr"
   ]
  },
  {
   "cell_type": "code",
   "execution_count": null,
   "metadata": {},
   "outputs": [
    {
     "data": {
      "image/png": "[encoded data removed]",
      "text/plain": [
       "<Figure size 1000x1000 with 8 Axes>"
      ]
     },
     "metadata": {},
     "output_type": "display_data"
    }
   ],
   "source": [
    "#check the outliers\n",
    "fig, axes = plt.subplots(4,2,sharex=True,figsize=(10, 10))\n",
    "fig.suptitle('Check the outliers of numeric columns')\n",
    "plt.subplots_adjust(wspace = 0.5)\n",
    "sns.boxplot(data=electro, y='ram_gb', ax=axes[0,0])\n",
    "sns.boxplot(data=electro, y='ssd', ax=axes[0,1])\n",
    "sns.boxplot(data=electro, y='hdd', ax=axes[1,0])\n",
    "sns.boxplot(data=electro, y='Number of Reviews', ax=axes[1,1])\n",
    "sns.boxplot(data=electro, y='Number of Ratings', ax=axes[2,0])\n",
    "sns.boxplot(data=electro, y='Price', ax=axes[2,1])\n",
    "sns.boxplot(data=electro, y='warranty', ax=axes[3,0])\n",
    "sns.boxplot(data=electro, y='graphic_card_gb', ax=axes[3,1])\n",
    "plt.show()"
   ]
  },
  {
   "cell_type": "code",
   "execution_count": null,
   "metadata": {},
   "outputs": [],
   "source": [
    "#split to features and result\n",
    "X = electro.drop(columns=['rating'])\n",
    "Y = electro['rating']"
   ]
  },
  {
   "cell_type": "code",
   "execution_count": null,
   "metadata": {},
   "outputs": [],
   "source": [
    "Y_categorical = electro['rating']\n",
    "scaler =  MinMaxScaler(feature_range=(0,1))\n",
    "X= pd.DataFrame(scaler.fit_transform(X),index=X.index,columns= X.columns)\n",
    "#electro = pd.DataFrame(scaler.fit_transform(electro),index=electro.index,columns= electro.columns)"
   ]
  },
  {
   "cell_type": "code",
   "execution_count": null,
   "metadata": {},
   "outputs": [
    {
     "data": {
      "text/html": [
       "<div>\n",
       "<style scoped>\n",
       "    .dataframe tbody tr th:only-of-type {\n",
       "        vertical-align: middle;\n",
       "    }\n",
       "\n",
       "    .dataframe tbody tr th {\n",
       "        vertical-align: top;\n",
       "    }\n",
       "\n",
       "    .dataframe thead th {\n",
       "        text-align: right;\n",
       "    }\n",
       "</style>\n",
       "<table border=\"1\" class=\"dataframe\">\n",
       "  <thead>\n",
       "    <tr style=\"text-align: right;\">\n",
       "      <th></th>\n",
       "      <th>processor_gnrtn</th>\n",
       "      <th>ram_gb</th>\n",
       "      <th>ram_type</th>\n",
       "      <th>ssd</th>\n",
       "      <th>hdd</th>\n",
       "      <th>graphic_card_gb</th>\n",
       "      <th>weight</th>\n",
       "      <th>warranty</th>\n",
       "      <th>msoffice</th>\n",
       "      <th>Price</th>\n",
       "      <th>...</th>\n",
       "      <th>processor_name_Ryzen 5</th>\n",
       "      <th>processor_name_Ryzen 7</th>\n",
       "      <th>processor_name_Ryzen 9</th>\n",
       "      <th>os_32-bit DOS</th>\n",
       "      <th>os_32-bit Windows</th>\n",
       "      <th>os_64-bit DOS</th>\n",
       "      <th>os_64-bit Mac</th>\n",
       "      <th>os_64-bit Windows</th>\n",
       "      <th>Touchscreen_No</th>\n",
       "      <th>Touchscreen_Yes</th>\n",
       "    </tr>\n",
       "  </thead>\n",
       "  <tbody>\n",
       "    <tr>\n",
       "      <th>0</th>\n",
       "      <td>11</td>\n",
       "      <td>4</td>\n",
       "      <td>1</td>\n",
       "      <td>0</td>\n",
       "      <td>512</td>\n",
       "      <td>0</td>\n",
       "      <td>0</td>\n",
       "      <td>0</td>\n",
       "      <td>0</td>\n",
       "      <td>45990</td>\n",
       "      <td>...</td>\n",
       "      <td>0</td>\n",
       "      <td>0</td>\n",
       "      <td>0</td>\n",
       "      <td>0</td>\n",
       "      <td>0</td>\n",
       "      <td>0</td>\n",
       "      <td>0</td>\n",
       "      <td>1</td>\n",
       "      <td>1</td>\n",
       "      <td>0</td>\n",
       "    </tr>\n",
       "    <tr>\n",
       "      <th>1</th>\n",
       "      <td>10</td>\n",
       "      <td>8</td>\n",
       "      <td>1</td>\n",
       "      <td>0</td>\n",
       "      <td>512</td>\n",
       "      <td>4</td>\n",
       "      <td>0</td>\n",
       "      <td>0</td>\n",
       "      <td>0</td>\n",
       "      <td>106167</td>\n",
       "      <td>...</td>\n",
       "      <td>0</td>\n",
       "      <td>0</td>\n",
       "      <td>0</td>\n",
       "      <td>0</td>\n",
       "      <td>0</td>\n",
       "      <td>0</td>\n",
       "      <td>0</td>\n",
       "      <td>1</td>\n",
       "      <td>1</td>\n",
       "      <td>0</td>\n",
       "    </tr>\n",
       "    <tr>\n",
       "      <th>2</th>\n",
       "      <td>11</td>\n",
       "      <td>4</td>\n",
       "      <td>1</td>\n",
       "      <td>0</td>\n",
       "      <td>512</td>\n",
       "      <td>0</td>\n",
       "      <td>0</td>\n",
       "      <td>0</td>\n",
       "      <td>0</td>\n",
       "      <td>22990</td>\n",
       "      <td>...</td>\n",
       "      <td>0</td>\n",
       "      <td>0</td>\n",
       "      <td>0</td>\n",
       "      <td>0</td>\n",
       "      <td>0</td>\n",
       "      <td>0</td>\n",
       "      <td>0</td>\n",
       "      <td>1</td>\n",
       "      <td>1</td>\n",
       "      <td>0</td>\n",
       "    </tr>\n",
       "    <tr>\n",
       "      <th>3</th>\n",
       "      <td>11</td>\n",
       "      <td>4</td>\n",
       "      <td>1</td>\n",
       "      <td>256</td>\n",
       "      <td>0</td>\n",
       "      <td>0</td>\n",
       "      <td>0</td>\n",
       "      <td>1</td>\n",
       "      <td>1</td>\n",
       "      <td>44990</td>\n",
       "      <td>...</td>\n",
       "      <td>0</td>\n",
       "      <td>0</td>\n",
       "      <td>0</td>\n",
       "      <td>0</td>\n",
       "      <td>0</td>\n",
       "      <td>0</td>\n",
       "      <td>0</td>\n",
       "      <td>1</td>\n",
       "      <td>1</td>\n",
       "      <td>0</td>\n",
       "    </tr>\n",
       "    <tr>\n",
       "      <th>4</th>\n",
       "      <td>11</td>\n",
       "      <td>8</td>\n",
       "      <td>1</td>\n",
       "      <td>512</td>\n",
       "      <td>0</td>\n",
       "      <td>2</td>\n",
       "      <td>0</td>\n",
       "      <td>1</td>\n",
       "      <td>1</td>\n",
       "      <td>79990</td>\n",
       "      <td>...</td>\n",
       "      <td>0</td>\n",
       "      <td>0</td>\n",
       "      <td>0</td>\n",
       "      <td>0</td>\n",
       "      <td>0</td>\n",
       "      <td>0</td>\n",
       "      <td>0</td>\n",
       "      <td>1</td>\n",
       "      <td>1</td>\n",
       "      <td>0</td>\n",
       "    </tr>\n",
       "  </tbody>\n",
       "</table>\n",
       "<p>5 rows × 42 columns</p>\n",
       "</div>"
      ],
      "text/plain": [
       "   processor_gnrtn  ram_gb  ram_type  ssd  hdd  graphic_card_gb  weight  \\\n",
       "0               11       4         1    0  512                0       0   \n",
       "1               10       8         1    0  512                4       0   \n",
       "2               11       4         1    0  512                0       0   \n",
       "3               11       4         1  256    0                0       0   \n",
       "4               11       8         1  512    0                2       0   \n",
       "\n",
       "   warranty  msoffice   Price  ...  processor_name_Ryzen 5  \\\n",
       "0         0         0   45990  ...                       0   \n",
       "1         0         0  106167  ...                       0   \n",
       "2         0         0   22990  ...                       0   \n",
       "3         1         1   44990  ...                       0   \n",
       "4         1         1   79990  ...                       0   \n",
       "\n",
       "   processor_name_Ryzen 7  processor_name_Ryzen 9  os_32-bit DOS  \\\n",
       "0                       0                       0              0   \n",
       "1                       0                       0              0   \n",
       "2                       0                       0              0   \n",
       "3                       0                       0              0   \n",
       "4                       0                       0              0   \n",
       "\n",
       "   os_32-bit Windows  os_64-bit DOS  os_64-bit Mac  os_64-bit Windows  \\\n",
       "0                  0              0              0                  1   \n",
       "1                  0              0              0                  1   \n",
       "2                  0              0              0                  1   \n",
       "3                  0              0              0                  1   \n",
       "4                  0              0              0                  1   \n",
       "\n",
       "   Touchscreen_No  Touchscreen_Yes  \n",
       "0               1                0  \n",
       "1               1                0  \n",
       "2               1                0  \n",
       "3               1                0  \n",
       "4               1                0  \n",
       "\n",
       "[5 rows x 42 columns]"
      ]
     },
     "execution_count": 3300,
     "metadata": {},
     "output_type": "execute_result"
    }
   ],
   "source": [
    "print(electro.head())"
   ]
  },
  {
   "cell_type": "code",
   "execution_count": null,
   "metadata": {},
   "outputs": [
    {
     "data": {
      "text/plain": [
       "array([3, 4, 5, 2])"
      ]
     },
     "execution_count": 3301,
     "metadata": {},
     "output_type": "execute_result"
    }
   ],
   "source": [
    "print(electro['rating'].unique())"
   ]
  },
  {
   "cell_type": "code",
   "execution_count": null,
   "metadata": {},
   "outputs": [
    {
     "data": {
      "text/plain": [
       "<function matplotlib.pyplot.show(close=None, block=None)>"
      ]
     },
     "execution_count": 3303,
     "metadata": {},
     "output_type": "execute_result"
    },
    {
     "data": {
      "image/png": "[encoded data removed]",
      "text/plain": [
       "<Figure size 640x480 with 2 Axes>"
      ]
     },
     "metadata": {},
     "output_type": "display_data"
    }
   ],
   "source": [
    "#check the best features with Y\n",
    "corr = electro.corr()\n",
    "electro['rating'].dtype\n",
    "top_feature = corr.loc[abs(corr['rating'])>0.15,'rating']\n",
    "top_feature=pd.DataFrame(top_feature)\n",
    "sns.heatmap(top_feature,annot=True)\n",
    "plt.show\n"
   ]
  },
  {
   "cell_type": "code",
   "execution_count": null,
   "metadata": {},
   "outputs": [],
   "source": [
    "Y=electro['rating']\n",
    "top_feature = top_feature.drop('rating')\n",
    "\n",
    "#top_feature\n",
    "first_X= X[top_feature.index]"
   ]
  },
  {
   "cell_type": "code",
   "execution_count": null,
   "metadata": {},
   "outputs": [
    {
     "name": "stdout",
     "output_type": "stream",
     "text": [
      "Chi-Square scores:\n",
      "                         Feature  Chi-Square Score\n",
      "0                        weight          9.470962\n",
      "1                      msoffice         18.603335\n",
      "2                      ram_type         12.771319\n",
      "3                   brand_APPLE         16.388648\n",
      "4                    brand_ASUS          4.448450\n",
      "5                   brand_Avita          7.843137\n",
      "6                    brand_DELL          0.646671\n",
      "7                      brand_HP          4.313418\n",
      "8                  brand_Lenovo          4.659740\n",
      "9                     brand_MSI          5.333311\n",
      "10                   brand_acer          1.317812\n",
      "11          processor_brand_AMD          2.723269\n",
      "12        processor_brand_Intel          1.874777\n",
      "13           processor_brand_M1         14.365061\n",
      "14  processor_name_Celeron Dual          9.965492\n",
      "15       processor_name_Core i3          1.921731\n",
      "16       processor_name_Core i5          2.026043\n",
      "17       processor_name_Core i7          7.653688\n",
      "18       processor_name_Core i9          9.968147\n",
      "19            processor_name_M1         14.365061\n",
      "20  processor_name_Pentium Quad          1.281479\n",
      "21       processor_name_Ryzen 3          2.540217\n",
      "22       processor_name_Ryzen 5         11.302213\n",
      "23       processor_name_Ryzen 7          5.648218\n",
      "24       processor_name_Ryzen 9          2.242750\n",
      "25                os_32-bit DOS          0.841016\n",
      "26            os_32-bit Windows         15.753164\n",
      "27                os_64-bit DOS          0.853018\n",
      "28                os_64-bit Mac         16.388648\n",
      "29            os_64-bit Windows          0.723605\n",
      "30               Touchscreen_No          0.287000\n",
      "31              Touchscreen_Yes          2.069071\n"
     ]
    }
   ],
   "source": [
    "best_features = SelectKBest(score_func=chi2, k=3)\n",
    "fit = best_features.fit(categoricalData, Y_categorical)\n",
    "\n",
    "# Summarize scores\n",
    "chi_scores = pd.DataFrame(fit.scores_, columns=[\"Chi-Square Score\"])\n",
    "columns = pd.DataFrame(categoricalData.columns, columns=[\"Feature\"])\n",
    "chi_summary = pd.concat([columns, chi_scores], axis=1)\n",
    "\n",
    "print(\"Chi-Square scores:\\n\", chi_summary)"
   ]
  },
  {
   "cell_type": "code",
   "execution_count": null,
   "metadata": {},
   "outputs": [
    {
     "data": {
      "image/png": "[encoded data removed]",
      "text/plain": [
       "<Figure size 1200x600 with 1 Axes>"
      ]
     },
     "metadata": {},
     "output_type": "display_data"
    },
    {
     "name": "stdout",
     "output_type": "stream",
     "text": [
      "                   Information Gain\n",
      "Number of Ratings          0.208824\n",
      "Number of Reviews          0.320476\n"
     ]
    },
    {
     "data": {
      "text/html": [
       "<div>\n",
       "<style scoped>\n",
       "    .dataframe tbody tr th:only-of-type {\n",
       "        vertical-align: middle;\n",
       "    }\n",
       "\n",
       "    .dataframe tbody tr th {\n",
       "        vertical-align: top;\n",
       "    }\n",
       "\n",
       "    .dataframe thead th {\n",
       "        text-align: right;\n",
       "    }\n",
       "</style>\n",
       "<table border=\"1\" class=\"dataframe\">\n",
       "  <thead>\n",
       "    <tr style=\"text-align: right;\">\n",
       "      <th></th>\n",
       "      <th>Number of Ratings</th>\n",
       "      <th>Number of Reviews</th>\n",
       "    </tr>\n",
       "  </thead>\n",
       "  <tbody>\n",
       "    <tr>\n",
       "      <th>0</th>\n",
       "      <td>0.430728</td>\n",
       "      <td>0.000000</td>\n",
       "    </tr>\n",
       "    <tr>\n",
       "      <th>1</th>\n",
       "      <td>0.430728</td>\n",
       "      <td>0.403061</td>\n",
       "    </tr>\n",
       "    <tr>\n",
       "      <th>2</th>\n",
       "      <td>0.430728</td>\n",
       "      <td>0.000000</td>\n",
       "    </tr>\n",
       "    <tr>\n",
       "      <th>3</th>\n",
       "      <td>0.058824</td>\n",
       "      <td>0.081633</td>\n",
       "    </tr>\n",
       "    <tr>\n",
       "      <th>4</th>\n",
       "      <td>0.031564</td>\n",
       "      <td>0.122449</td>\n",
       "    </tr>\n",
       "    <tr>\n",
       "      <th>...</th>\n",
       "      <td>...</td>\n",
       "      <td>...</td>\n",
       "    </tr>\n",
       "    <tr>\n",
       "      <th>718</th>\n",
       "      <td>0.012912</td>\n",
       "      <td>0.020408</td>\n",
       "    </tr>\n",
       "    <tr>\n",
       "      <th>719</th>\n",
       "      <td>0.430728</td>\n",
       "      <td>0.000000</td>\n",
       "    </tr>\n",
       "    <tr>\n",
       "      <th>720</th>\n",
       "      <td>0.067432</td>\n",
       "      <td>0.244898</td>\n",
       "    </tr>\n",
       "    <tr>\n",
       "      <th>721</th>\n",
       "      <td>0.032999</td>\n",
       "      <td>0.102041</td>\n",
       "    </tr>\n",
       "    <tr>\n",
       "      <th>722</th>\n",
       "      <td>0.430728</td>\n",
       "      <td>0.000000</td>\n",
       "    </tr>\n",
       "  </tbody>\n",
       "</table>\n",
       "<p>706 rows × 2 columns</p>\n",
       "</div>"
      ],
      "text/plain": [
       "     Number of Ratings  Number of Reviews\n",
       "0             0.430728           0.000000\n",
       "1             0.430728           0.403061\n",
       "2             0.430728           0.000000\n",
       "3             0.058824           0.081633\n",
       "4             0.031564           0.122449\n",
       "..                 ...                ...\n",
       "718           0.012912           0.020408\n",
       "719           0.430728           0.000000\n",
       "720           0.067432           0.244898\n",
       "721           0.032999           0.102041\n",
       "722           0.430728           0.000000\n",
       "\n",
       "[706 rows x 2 columns]"
      ]
     },
     "execution_count": 3308,
     "metadata": {},
     "output_type": "execute_result"
    }
   ],
   "source": [
    "# Calculate information gain for each feature\n",
    "info_gain = mutual_info_regression(X, Y)\n",
    "\n",
    "# Select features with information gain greater than 0.15\n",
    "top_feature_idx = np.where(info_gain > 0.15)[0]\n",
    "top_feature_names = X.columns[top_feature_idx]\n",
    "top_feature_df = pd.DataFrame(data=info_gain[top_feature_idx], index=top_feature_names, columns=['Information Gain'])\n",
    "\n",
    "plt.figure(figsize=(12, 6))\n",
    "plt.bar(X.columns, info_gain,width=0.5)\n",
    "plt.xticks(rotation = 90)\n",
    "plt.xlabel('Features')\n",
    "plt.ylabel('Information Gain')\n",
    "plt.title('Information Gain for Feature Selection')\n",
    "plt.show()\n",
    "print(top_feature_df)\n",
    "third_feature_selection = X[top_feature_df.index]\n",
    "print(third_feature_selection)"
   ]
  },
  {
   "cell_type": "code",
   "execution_count": null,
   "metadata": {},
   "outputs": [
    {
     "name": "stdout",
     "output_type": "stream",
     "text": [
      "Mean Squared Error: 0.15417388629325346\n",
      "Mean Squared Error of train: 0.19758674260235223\n",
      "R^2 Score: 0.48040945743531216\n",
      "R^2 Score train: 0.34187688491971957\n",
      "Cross-Validation Mean Squared Error: 0.18986241840701756\n",
      "Accuracy :  0.3686628419897378\n"
     ]
    }
   ],
   "source": [
    "#linear regression model\n",
    "X_train, X_test, y_train, y_test = train_test_split(first_X, Y, test_size=0.25, random_state= 104, shuffle = True)\n",
    "\n",
    "\n",
    "\n",
    "model = LinearRegression()\n",
    "model.fit(X_train, y_train)\n",
    "y_pred = model.predict(X_test) \n",
    "y_pred_train = model.predict(X_train)\n",
    "mse = mean_squared_error(y_test, y_pred)\n",
    "mse_train = mean_squared_error(y_train, y_pred_train)\n",
    "r2 = r2_score(y_test, y_pred)\n",
    "r2_train = r2_score(y_train, y_pred_train)\n",
    "print(\"Mean Squared Error:\", mse)\n",
    "print(\"Mean Squared Error of train:\", mse_train)\n",
    "\n",
    "print(\"R^2 Score:\", r2)\n",
    "print(\"R^2 Score train:\", r2_train)\n",
    "\n",
    "\n",
    "cv_mse = -cross_val_score(model, first_X, Y, cv=10, scoring='neg_mean_squared_error')\n",
    "print(\"Cross-Validation Mean Squared Error:\", cv_mse.mean())\n",
    "\n",
    "cv = KFold(n_splits=10, random_state=1, shuffle=True)\n",
    "\n",
    "scores = cross_val_score(model, first_X, Y, \n",
    "                         cv=cv)\n",
    "\n",
    "print(\"Accuracy : \" ,scores.mean())\n"
   ]
  },
  {
   "cell_type": "code",
   "execution_count": null,
   "metadata": {},
   "outputs": [
    {
     "name": "stdout",
     "output_type": "stream",
     "text": [
      "Mean Squared Error: 0.17675558210093315\n",
      "Mean Squared Error of train: 0.2078717180881205\n",
      "R^2 Score: 0.40430554737089774\n",
      "Cross-Validation Mean Squared Error: 0.19797504418960282\n",
      "Accuracy :  0.3410843785160984\n"
     ]
    }
   ],
   "source": [
    "#ridge regression model\n",
    "model = Ridge(alpha=10)\n",
    "model.fit(X_train, y_train)\n",
    "y_ridge = model.predict(X_test)\n",
    "y_ridge_train = model.predict(X_train)\n",
    "mse_ridge = mean_squared_error(y_test, y_ridge)\n",
    "mse_ridge_train = mean_squared_error(y_train, y_ridge_train)\n",
    "\n",
    "r2_ridge = r2_score(y_test, y_ridge)\n",
    "\n",
    "\n",
    "print(\"Mean Squared Error:\", mse_ridge)\n",
    "print(\"Mean Squared Error of train:\", mse_ridge_train)\n",
    "print(\"R^2 Score:\", r2_ridge)\n",
    "\n",
    "cv_mse_ridge = -cross_val_score(model, first_X, Y, cv=10, scoring='neg_mean_squared_error')\n",
    "print(\"Cross-Validation Mean Squared Error:\", cv_mse_ridge.mean())\n",
    "\n",
    "cv = KFold(n_splits=10, random_state=1, shuffle=True)\n",
    "scores = cross_val_score(model, first_X, Y, \n",
    "                         cv=cv)\n",
    "\n",
    "print(\"Accuracy : \" ,scores.mean())\n"
   ]
  },
  {
   "cell_type": "code",
   "execution_count": null,
   "metadata": {},
   "outputs": [
    {
     "name": "stdout",
     "output_type": "stream",
     "text": [
      "Mean Squared Error: 0.1558265163712646\n",
      "Mean Squared Error of train: 0.19765755742419164\n",
      "R^2 Score: 0.4748398309600528\n",
      "Cross-Validation Mean Squared Error: 0.1898857763784228\n",
      "Accuracy :  0.36848020125777076\n"
     ]
    }
   ],
   "source": [
    "#lasso regression model\n",
    "model = Lasso(alpha=0.001)\n",
    "model.fit(X_train, y_train)\n",
    "y_lasso = model.predict(X_test)\n",
    "y_lasso_train = model.predict(X_train)\n",
    "\n",
    "mse_lasso = mean_squared_error(y_test, y_lasso)\n",
    "mse_lasso_train = mean_squared_error(y_train, y_lasso_train)\n",
    "\n",
    "r2_lasso = r2_score(y_test, y_lasso)\n",
    "\n",
    "\n",
    "print(\"Mean Squared Error:\", mse_lasso)\n",
    "print(\"Mean Squared Error of train:\", mse_lasso_train)\n",
    "print(\"R^2 Score:\", r2_lasso)\n",
    "\n",
    "cv_mse_lasso = -cross_val_score(model, first_X, Y, cv=10, scoring='neg_mean_squared_error')\n",
    "print(\"Cross-Validation Mean Squared Error:\", cv_mse_lasso.mean())\n",
    "\n",
    "cv = KFold(n_splits=10, random_state=1, shuffle=True)\n",
    "scores = cross_val_score(model, first_X, Y, \n",
    "                         cv=cv)\n",
    "\n",
    "print(\"Accuracy : \" ,scores.mean())"
   ]
  },
  {
   "cell_type": "code",
   "execution_count": null,
   "metadata": {},
   "outputs": [
    {
     "name": "stdout",
     "output_type": "stream",
     "text": [
      "Mean Squared Error: 0.13174643195862432\n",
      "Mean Squared Error of train: 0.15037469787039479\n",
      "R^2 Score: 0.4748398309600528\n",
      "Cross-Validation Mean Squared Error: 0.18986241840701756\n",
      "Accuracy :  0.3686628419897378\n"
     ]
    }
   ],
   "source": [
    "#polynomial regression\n",
    "polynomial_features = PolynomialFeatures(degree=2)\n",
    "first_X_poly = polynomial_features.fit_transform(X_train)\n",
    "first_X_poly_test = polynomial_features.fit_transform(X_test)\n",
    "\n",
    "\n",
    "# Model\n",
    "model = LinearRegression()\n",
    "model.fit(first_X_poly, y_train)\n",
    "y_poly_pred = model.predict(first_X_poly_test)\n",
    "y_poly_train = model.predict(first_X_poly)\n",
    "mse_poly = mean_squared_error(y_test, y_poly_pred)\n",
    "mse_poly_train = mean_squared_error(y_train, y_poly_train)\n",
    "\n",
    "r2_poly = r2_score(y_test, y_poly_pred)\n",
    "\n",
    "\n",
    "print(\"Mean Squared Error:\", mse_poly)\n",
    "print(\"Mean Squared Error of train:\", mse_poly_train)\n",
    "print(\"R^2 Score:\", r2_lasso)\n",
    "\n",
    "cv_mse_poly = -cross_val_score(model, first_X, Y, cv=10, scoring='neg_mean_squared_error')\n",
    "print(\"Cross-Validation Mean Squared Error:\", cv_mse_poly.mean())\n",
    "\n",
    "cv_poly = KFold(n_splits=10, random_state=1, shuffle=True)\n",
    "scores = cross_val_score(model, first_X, Y, \n",
    "                         cv=cv_poly)\n",
    "\n",
    "print(\"Accuracy : \" ,scores.mean())"
   ]
  },
  {
   "cell_type": "code",
   "execution_count": null,
   "metadata": {},
   "outputs": [
    {
     "name": "stdout",
     "output_type": "stream",
     "text": [
      "Acuuracy : 0.8587570621468926\n",
      "Acuuracy train : 0.8260869565217391\n",
      "Accuracy :  0.8269818913480886\n"
     ]
    }
   ],
   "source": [
    "#logistic\n",
    "model = LogisticRegression(max_iter = 900)\n",
    "model.fit(X_train, y_train)\n",
    "y_pred_log = model.predict(X_test) \n",
    "y_pred_train_log = model.predict(X_train)\n",
    "#mse = mean_squared_error(y_test, y_pred)\n",
    "#mse_train = mean_squared_error(y_train, y_pred_train)\n",
    "#r2 = r2_score(y_test, y_pred)\n",
    "#print(\"Mean Squared Error:\", mse)\n",
    "#print(\"Mean Squared Error of train:\", mse_train)\n",
    "\n",
    "#print(\"R^2 Score:\", r2)\n",
    "\n",
    "#cv_mse = -cross_val_score(model, first_X, Y, cv=10, scoring='neg_mean_squared_error')\n",
    "#print(\"Cross-Validation Mean Squared Error:\", cv_mse.mean())\n",
    "\n",
    "accuracy = accuracy_score(y_test, y_pred_log)\n",
    "accuracy_train = accuracy_score(y_train, y_pred_train_log)\n",
    "\n",
    "print(\"Acuuracy :\", accuracy)\n",
    "print(\"Acuuracy train :\", accuracy_train)\n",
    "\n",
    "\n",
    "cv = KFold(n_splits=10, random_state=1, shuffle=True)\n",
    "\n",
    "scores = cross_val_score(model, first_X, Y, \n",
    "                         cv=cv)\n",
    "\n",
    "print(\"Accuracy : \" ,scores.mean())\n"
   ]
  },
  {
   "cell_type": "code",
   "execution_count": null,
   "metadata": {},
   "outputs": [],
   "source": []
  }
 ],
 "metadata": {
  "colab": {
   "provenance": []
  },
  "kernelspec": {
   "display_name": "Python 3 (ipykernel)",
   "language": "python",
   "name": "python3"
  },
  "language_info": {
   "codemirror_mode": {
    "name": "ipython",
    "version": 3
   },
   "file_extension": ".py",
   "mimetype": "text/x-python",
   "name": "python",
   "nbconvert_exporter": "python",
   "pygments_lexer": "ipython3",
   "version": "3.11.1"
  }
 },
 "nbformat": 4,
 "nbformat_minor": 1
}
