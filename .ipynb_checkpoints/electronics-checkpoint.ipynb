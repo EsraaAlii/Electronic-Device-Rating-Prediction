{
 "cells": [
  {
   "cell_type": "code",
<<<<<<< HEAD
   "execution_count": 2863,
=======
   "execution_count": 95,
>>>>>>> accuracyTrial
   "metadata": {
    "colab": {
     "base_uri": "https://localhost:8080/",
     "height": 348
    },
    "id": "tLgxgyBFjnG3",
    "outputId": "19b015fa-8c78-4a83-87d5-74d559e85947"
   },
   "outputs": [
    {
     "data": {
      "text/html": [
       "<div>\n",
       "<style scoped>\n",
       "    .dataframe tbody tr th:only-of-type {\n",
       "        vertical-align: middle;\n",
       "    }\n",
       "\n",
       "    .dataframe tbody tr th {\n",
       "        vertical-align: top;\n",
       "    }\n",
       "\n",
       "    .dataframe thead th {\n",
       "        text-align: right;\n",
       "    }\n",
       "</style>\n",
       "<table border=\"1\" class=\"dataframe\">\n",
       "  <thead>\n",
       "    <tr style=\"text-align: right;\">\n",
       "      <th></th>\n",
       "      <th>brand</th>\n",
       "      <th>processor_brand</th>\n",
       "      <th>processor_name</th>\n",
       "      <th>processor_gnrtn</th>\n",
       "      <th>ram_gb</th>\n",
       "      <th>ram_type</th>\n",
       "      <th>ssd</th>\n",
       "      <th>hdd</th>\n",
       "      <th>os</th>\n",
       "      <th>graphic_card_gb</th>\n",
       "      <th>weight</th>\n",
       "      <th>warranty</th>\n",
       "      <th>Touchscreen</th>\n",
       "      <th>msoffice</th>\n",
       "      <th>Price</th>\n",
       "      <th>rating</th>\n",
       "      <th>Number of Ratings</th>\n",
       "      <th>Number of Reviews</th>\n",
       "    </tr>\n",
       "  </thead>\n",
       "  <tbody>\n",
       "    <tr>\n",
       "      <th>0</th>\n",
       "      <td>ASUS</td>\n",
       "      <td>Intel</td>\n",
       "      <td>Pentium Quad</td>\n",
       "      <td>Not Available</td>\n",
       "      <td>4 GB</td>\n",
       "      <td>LPDDR4X</td>\n",
       "      <td>0 GB</td>\n",
       "      <td>512 GB</td>\n",
       "      <td>64-bit Windows</td>\n",
       "      <td>0 GB</td>\n",
       "      <td>Casual</td>\n",
       "      <td>No warranty</td>\n",
       "      <td>No</td>\n",
       "      <td>No</td>\n",
       "      <td>45990</td>\n",
       "      <td>3 stars</td>\n",
       "      <td>0</td>\n",
       "      <td>0</td>\n",
       "    </tr>\n",
       "    <tr>\n",
       "      <th>1</th>\n",
       "      <td>ASUS</td>\n",
       "      <td>Intel</td>\n",
       "      <td>Core i5</td>\n",
       "      <td>10th</td>\n",
       "      <td>8 GB</td>\n",
       "      <td>LPDDR4</td>\n",
       "      <td>0 GB</td>\n",
       "      <td>512 GB</td>\n",
       "      <td>32-bit DOS</td>\n",
       "      <td>4 GB</td>\n",
       "      <td>Casual</td>\n",
       "      <td>No warranty</td>\n",
       "      <td>No</td>\n",
       "      <td>No</td>\n",
       "      <td>106167</td>\n",
       "      <td>4 stars</td>\n",
       "      <td>1881</td>\n",
       "      <td>241</td>\n",
       "    </tr>\n",
       "    <tr>\n",
       "      <th>2</th>\n",
       "      <td>ASUS</td>\n",
       "      <td>Intel</td>\n",
       "      <td>Celeron Dual</td>\n",
       "      <td>Not Available</td>\n",
       "      <td>4 GB</td>\n",
       "      <td>DDR4</td>\n",
       "      <td>0 GB</td>\n",
       "      <td>512 GB</td>\n",
       "      <td>64-bit Windows</td>\n",
       "      <td>0 GB</td>\n",
       "      <td>Casual</td>\n",
       "      <td>No warranty</td>\n",
       "      <td>No</td>\n",
       "      <td>No</td>\n",
       "      <td>22990</td>\n",
       "      <td>3 stars</td>\n",
       "      <td>0</td>\n",
       "      <td>0</td>\n",
       "    </tr>\n",
       "    <tr>\n",
       "      <th>3</th>\n",
       "      <td>Lenovo</td>\n",
       "      <td>Intel</td>\n",
       "      <td>Core i3</td>\n",
       "      <td>11th</td>\n",
       "      <td>4 GB</td>\n",
       "      <td>DDR4</td>\n",
       "      <td>256 GB</td>\n",
       "      <td>0 GB</td>\n",
       "      <td>64-bit Windows</td>\n",
       "      <td>0 GB</td>\n",
       "      <td>Casual</td>\n",
       "      <td>1 year</td>\n",
       "      <td>No</td>\n",
       "      <td>Yes</td>\n",
       "      <td>44990</td>\n",
       "      <td>4 stars</td>\n",
       "      <td>42</td>\n",
       "      <td>4</td>\n",
       "    </tr>\n",
       "    <tr>\n",
       "      <th>4</th>\n",
       "      <td>HP</td>\n",
       "      <td>AMD</td>\n",
       "      <td>Ryzen 7</td>\n",
       "      <td>Not Available</td>\n",
       "      <td>16 GB</td>\n",
       "      <td>DDR4</td>\n",
       "      <td>512 GB</td>\n",
       "      <td>0 GB</td>\n",
       "      <td>64-bit Windows</td>\n",
       "      <td>2 GB</td>\n",
       "      <td>Casual</td>\n",
       "      <td>1 year</td>\n",
       "      <td>No</td>\n",
       "      <td>Yes</td>\n",
       "      <td>79990</td>\n",
       "      <td>3 stars</td>\n",
       "      <td>23</td>\n",
       "      <td>6</td>\n",
       "    </tr>\n",
       "  </tbody>\n",
       "</table>\n",
       "</div>"
      ],
      "text/plain": [
       "    brand processor_brand processor_name processor_gnrtn ram_gb ram_type  \\\n",
       "0    ASUS           Intel   Pentium Quad   Not Available   4 GB  LPDDR4X   \n",
       "1    ASUS           Intel        Core i5            10th   8 GB   LPDDR4   \n",
       "2    ASUS           Intel   Celeron Dual   Not Available   4 GB     DDR4   \n",
       "3  Lenovo           Intel        Core i3            11th   4 GB     DDR4   \n",
       "4      HP             AMD        Ryzen 7   Not Available  16 GB     DDR4   \n",
       "\n",
       "      ssd     hdd              os graphic_card_gb  weight     warranty  \\\n",
       "0    0 GB  512 GB  64-bit Windows            0 GB  Casual  No warranty   \n",
       "1    0 GB  512 GB      32-bit DOS            4 GB  Casual  No warranty   \n",
       "2    0 GB  512 GB  64-bit Windows            0 GB  Casual  No warranty   \n",
       "3  256 GB    0 GB  64-bit Windows            0 GB  Casual       1 year   \n",
       "4  512 GB    0 GB  64-bit Windows            2 GB  Casual       1 year   \n",
       "\n",
       "  Touchscreen msoffice   Price   rating  Number of Ratings  Number of Reviews  \n",
       "0          No       No   45990  3 stars                  0                  0  \n",
       "1          No       No  106167  4 stars               1881                241  \n",
       "2          No       No   22990  3 stars                  0                  0  \n",
       "3          No      Yes   44990  4 stars                 42                  4  \n",
       "4          No      Yes   79990  3 stars                 23                  6  "
      ]
     },
<<<<<<< HEAD
     "execution_count": 2863,
=======
     "execution_count": 95,
>>>>>>> accuracyTrial
     "metadata": {},
     "output_type": "execute_result"
    }
   ],
   "source": [
    "import pandas as pd\n",
    "import matplotlib.pyplot as plt\n",
    "import seaborn as sns\n",
    "import numpy as np\n",
    "from sklearn.linear_model import LinearRegression\n",
    "from sklearn.linear_model import Lasso\n",
    "from sklearn.linear_model import Ridge\n",
    "from sklearn.preprocessing import PolynomialFeatures\n",
    "from sklearn.pipeline import make_pipeline\n",
    "from sklearn.metrics import mean_squared_error\n",
    "from sklearn.metrics import r2_score\n",
    "from sklearn.model_selection import train_test_split\n",
    "from sklearn.linear_model import LogisticRegression\n",
    "from sklearn.model_selection import KFold\n",
    "from sklearn.model_selection import cross_val_score\n",
    "from sklearn.preprocessing  import LabelEncoder\n",
    "from sklearn.feature_selection import mutual_info_regression\n",
    "from sklearn.preprocessing import MinMaxScaler\n",
    "from sklearn.metrics import accuracy_score\n",
    "from sklearn.feature_selection import SelectKBest\n",
    "from sklearn.feature_selection import chi2\n",
    "\n",
    "df=pd.read_csv(\"ElecDeviceRatingPrediction.csv\")\n",
    "electro = df.copy()\n",
    "electro.head()"
   ]
  },
  {
   "cell_type": "code",
<<<<<<< HEAD
   "execution_count": 2864,
=======
   "execution_count": 96,
>>>>>>> accuracyTrial
   "metadata": {
    "colab": {
     "base_uri": "https://localhost:8080/"
    },
    "id": "eHY9aQiqjnG6",
    "outputId": "5c8b073a-29d1-491e-da73-2d3816dec3e1"
   },
   "outputs": [
    {
     "data": {
      "text/plain": [
       "brand                object\n",
       "processor_brand      object\n",
       "processor_name       object\n",
       "processor_gnrtn      object\n",
       "ram_gb               object\n",
       "ram_type             object\n",
       "ssd                  object\n",
       "hdd                  object\n",
       "os                   object\n",
       "graphic_card_gb      object\n",
       "weight               object\n",
       "warranty             object\n",
       "Touchscreen          object\n",
       "msoffice             object\n",
       "Price                 int64\n",
       "rating               object\n",
       "Number of Ratings     int64\n",
       "Number of Reviews     int64\n",
       "dtype: object"
      ]
     },
<<<<<<< HEAD
     "execution_count": 2864,
=======
     "execution_count": 96,
>>>>>>> accuracyTrial
     "metadata": {},
     "output_type": "execute_result"
    }
   ],
   "source": [
    "#check the datatypes\n",
    "electro.dtypes"
   ]
  },
  {
   "cell_type": "code",
<<<<<<< HEAD
   "execution_count": 2865,
=======
   "execution_count": 97,
>>>>>>> accuracyTrial
   "metadata": {},
   "outputs": [],
   "source": [
    "electro['ram_gb']=electro['ram_gb'].str.strip('GB')\n",
    "#electro['ram_gb']=electro['ram_gb'].astype('int')\n"
   ]
  },
  {
   "cell_type": "code",
<<<<<<< HEAD
   "execution_count": 2866,
=======
   "execution_count": 98,
>>>>>>> accuracyTrial
   "metadata": {},
   "outputs": [],
   "source": [
    "#electro['ram_type - ram_gb'] = electro['ram_gb'] + electro['ram_type']"
   ]
  },
  {
   "cell_type": "code",
<<<<<<< HEAD
   "execution_count": 2867,
=======
   "execution_count": 99,
>>>>>>> accuracyTrial
   "metadata": {},
   "outputs": [],
   "source": [
    "#electro['ram_type - ram_gb'].unique()"
   ]
  },
  {
   "cell_type": "code",
<<<<<<< HEAD
   "execution_count": 2868,
=======
   "execution_count": 100,
>>>>>>> accuracyTrial
   "metadata": {},
   "outputs": [],
   "source": [
    "#electro['ram_type - ram_gb'] = electro['ram_type - ram_gb'].astype('category')"
   ]
  },
  {
   "cell_type": "code",
<<<<<<< HEAD
   "execution_count": 2869,
=======
   "execution_count": 101,
>>>>>>> accuracyTrial
   "metadata": {},
   "outputs": [
    {
     "data": {
      "text/plain": [
       "brand                object\n",
       "processor_brand      object\n",
       "processor_name       object\n",
       "processor_gnrtn      object\n",
       "ram_gb               object\n",
       "ram_type             object\n",
       "ssd                  object\n",
       "hdd                  object\n",
       "os                   object\n",
       "graphic_card_gb      object\n",
       "weight               object\n",
       "warranty             object\n",
       "Touchscreen          object\n",
       "msoffice             object\n",
       "Price                 int64\n",
       "rating               object\n",
       "Number of Ratings     int64\n",
       "Number of Reviews     int64\n",
       "dtype: object"
      ]
     },
<<<<<<< HEAD
     "execution_count": 2869,
=======
     "execution_count": 101,
>>>>>>> accuracyTrial
     "metadata": {},
     "output_type": "execute_result"
    }
   ],
   "source": [
    "electro.dtypes"
   ]
  },
  {
   "cell_type": "code",
<<<<<<< HEAD
   "execution_count": 2870,
=======
   "execution_count": 102,
>>>>>>> accuracyTrial
   "metadata": {},
   "outputs": [
    {
     "name": "stdout",
     "output_type": "stream",
     "text": [
      "11th\n"
     ]
    }
   ],
   "source": [
    "mode_value = electro['processor_gnrtn'].mode()[0]\n",
    "\n",
    "print(mode_value)"
   ]
  },
  {
   "cell_type": "code",
<<<<<<< HEAD
   "execution_count": 2871,
=======
   "execution_count": 103,
>>>>>>> accuracyTrial
   "metadata": {},
   "outputs": [],
   "source": [
    "#convert to the correct datatype\n",
    "electro['Touchscreen']=electro['Touchscreen'].astype('category')\n",
    "electro['msoffice']=electro['msoffice'].astype('category')\n",
    "electro['rating']=electro['rating'].str.strip('stars')\n",
    "electro['rating']=electro['rating'].astype('category')\n",
    "\n",
    "electro['ram_gb']=electro['ram_gb'].astype('int')\n",
    "electro['ssd']=electro['ssd'].str.strip('GB')\n",
    "electro['ssd']=electro['ssd'].astype('int')\n",
    "electro['hdd']=electro['hdd'].str.strip('GB')\n",
    "electro['hdd']=electro['hdd'].astype('int')\n",
    "electro['processor_brand']=electro['processor_brand'].astype('category')\n",
    "electro['brand']=electro['brand'].astype('category')\n",
    "electro['processor_name']=electro['processor_name'].astype('category')\n",
    "electro['ram_type']=electro['ram_type'].astype('category')\n",
    "electro['os']=electro['os'].astype('category')\n",
    "electro['weight']=electro['weight'].astype('category')\n",
    "electro['graphic_card_gb']=electro['graphic_card_gb'].str.strip('GB')\n",
    "electro['graphic_card_gb']=electro['graphic_card_gb'].astype('int')\n",
    "electro['warranty']=electro['warranty'].str.strip('year || years')\n",
    "electro['warranty']=electro['warranty'].str.replace('No warrant','0')\n",
    "electro['warranty']=electro['warranty'].astype('int')\n",
    "electro['processor_gnrtn']=electro['processor_gnrtn'].str.replace('Not Available',mode_value)\n",
    "electro['processor_gnrtn']=electro['processor_gnrtn'].str.strip('th')\n"
   ]
  },
  {
   "cell_type": "code",
<<<<<<< HEAD
   "execution_count": 2872,
=======
   "execution_count": 104,
>>>>>>> accuracyTrial
   "metadata": {},
   "outputs": [
    {
     "data": {
      "text/plain": [
       "array(['11', '10', '8', '7', '12', '9', '4'], dtype=object)"
      ]
     },
<<<<<<< HEAD
     "execution_count": 2872,
=======
     "execution_count": 104,
>>>>>>> accuracyTrial
     "metadata": {},
     "output_type": "execute_result"
    }
   ],
   "source": [
    "electro['processor_gnrtn'].unique()"
   ]
  },
  {
   "cell_type": "code",
<<<<<<< HEAD
   "execution_count": 2873,
=======
   "execution_count": 105,
>>>>>>> accuracyTrial
   "metadata": {},
   "outputs": [
    {
     "data": {
      "text/plain": [
       "['LPDDR4X', 'LPDDR4', 'DDR4', 'DDR3', 'DDR5', 'LPDDR3']\n",
       "Categories (6, object): ['DDR3', 'DDR4', 'DDR5', 'LPDDR3', 'LPDDR4', 'LPDDR4X']"
      ]
     },
<<<<<<< HEAD
     "execution_count": 2873,
=======
     "execution_count": 105,
>>>>>>> accuracyTrial
     "metadata": {},
     "output_type": "execute_result"
    }
   ],
   "source": [
    "electro['ram_type'].unique()"
   ]
  },
  {
   "cell_type": "code",
<<<<<<< HEAD
   "execution_count": 2874,
=======
   "execution_count": 106,
>>>>>>> accuracyTrial
   "metadata": {},
   "outputs": [
    {
     "name": "stdout",
     "output_type": "stream",
     "text": [
      "{'LPDDR4X': 4, 'LPDDR4': 3, 'DDR4': 2, 'DDR3': 0, 'DDR5': 5, 'LPDDR3': 1}\n"
     ]
    }
   ],
   "source": [
    "#manually encoding ram type\n",
    "manual_encoding = {}\n",
    "for category in electro['ram_type'].unique():\n",
    "    if(category == 'DDR5'):\n",
    "        manual_encoding[category] = 5\n",
    "    elif(category == 'LPDDR4X'):\n",
    "        manual_encoding[category] = 4\n",
    "    elif(category == 'LPDDR4'):\n",
    "        manual_encoding[category] = 3\n",
    "    elif(category == 'DDR4'):\n",
    "        manual_encoding[category] = 2\n",
    "    elif(category == 'LPDDR3'):\n",
    "        manual_encoding[category] = 1\n",
    "    else:\n",
    "        manual_encoding[category] = 0\n",
    "\n",
    "print(manual_encoding)"
   ]
  },
  {
   "cell_type": "code",
<<<<<<< HEAD
   "execution_count": 2875,
=======
   "execution_count": 107,
>>>>>>> accuracyTrial
   "metadata": {},
   "outputs": [
    {
     "data": {
      "text/plain": [
       "0      4\n",
       "1      3\n",
       "2      2\n",
       "3      2\n",
       "4      2\n",
       "      ..\n",
       "718    2\n",
       "719    2\n",
       "720    2\n",
       "721    3\n",
       "722    2\n",
       "Name: ram_type, Length: 723, dtype: category\n",
       "Categories (6, int64): [0, 2, 5, 1, 3, 4]"
      ]
     },
<<<<<<< HEAD
     "execution_count": 2875,
=======
     "execution_count": 107,
>>>>>>> accuracyTrial
     "metadata": {},
     "output_type": "execute_result"
    }
   ],
   "source": [
    "electro['ram_type'] = electro['ram_type'].map(manual_encoding)\n",
    "electro['ram_type']"
   ]
  },
  {
   "cell_type": "code",
<<<<<<< HEAD
   "execution_count": 2876,
=======
   "execution_count": 108,
>>>>>>> accuracyTrial
   "metadata": {
    "colab": {
     "base_uri": "https://localhost:8080/"
    },
    "id": "ZiSfyeo8jnG8",
    "outputId": "6dd203be-4ce3-439e-b0de-69d8956703ba"
   },
   "outputs": [
    {
     "data": {
      "text/plain": [
       "brand                category\n",
       "processor_brand      category\n",
       "processor_name       category\n",
       "processor_gnrtn        object\n",
       "ram_gb                  int32\n",
       "ram_type             category\n",
       "ssd                     int32\n",
       "hdd                     int32\n",
       "os                   category\n",
       "graphic_card_gb         int32\n",
       "weight               category\n",
       "warranty                int32\n",
       "Touchscreen          category\n",
       "msoffice             category\n",
       "Price                   int64\n",
       "rating               category\n",
       "Number of Ratings       int64\n",
       "Number of Reviews       int64\n",
       "dtype: object"
      ]
     },
<<<<<<< HEAD
     "execution_count": 2876,
=======
     "execution_count": 108,
>>>>>>> accuracyTrial
     "metadata": {},
     "output_type": "execute_result"
    }
   ],
   "source": [
    "electro.dtypes"
   ]
  },
  {
   "cell_type": "code",
<<<<<<< HEAD
   "execution_count": 2877,
=======
   "execution_count": 109,
>>>>>>> accuracyTrial
   "metadata": {},
   "outputs": [
    {
     "data": {
      "text/plain": [
       "array(['11', '10', '8', '7', '12', '9', '4'], dtype=object)"
      ]
     },
<<<<<<< HEAD
     "execution_count": 2877,
=======
     "execution_count": 109,
>>>>>>> accuracyTrial
     "metadata": {},
     "output_type": "execute_result"
    }
   ],
   "source": [
    "electro['processor_gnrtn'].unique()"
   ]
  },
  {
   "cell_type": "code",
<<<<<<< HEAD
   "execution_count": 2878,
=======
   "execution_count": 110,
>>>>>>> accuracyTrial
   "metadata": {},
   "outputs": [],
   "source": [
    "electro.loc[electro['processor_gnrtn'] == '0' , 'processor_gnrtn'] = electro['processor_gnrtn'].value_counts().idxmax()\n",
    "electro['processor_gnrtn']=electro['processor_gnrtn'].astype('int')"
   ]
  },
  {
   "cell_type": "code",
<<<<<<< HEAD
   "execution_count": 2879,
=======
   "execution_count": 111,
>>>>>>> accuracyTrial
   "metadata": {},
   "outputs": [
    {
     "data": {
      "text/plain": [
       "array([11, 10,  8,  7, 12,  9,  4])"
      ]
     },
<<<<<<< HEAD
     "execution_count": 2879,
=======
     "execution_count": 111,
>>>>>>> accuracyTrial
     "metadata": {},
     "output_type": "execute_result"
    }
   ],
   "source": [
    "electro['processor_gnrtn'].unique()"
   ]
  },
  {
   "cell_type": "code",
<<<<<<< HEAD
   "execution_count": 2880,
=======
   "execution_count": 112,
>>>>>>> accuracyTrial
   "metadata": {},
   "outputs": [
    {
     "data": {
      "text/plain": [
       "['3 ', '4 ', '5 ', '2 ', '1 ']\n",
       "Categories (5, object): ['1 ', '2 ', '3 ', '4 ', '5 ']"
      ]
     },
<<<<<<< HEAD
     "execution_count": 2880,
=======
     "execution_count": 112,
>>>>>>> accuracyTrial
     "metadata": {},
     "output_type": "execute_result"
    }
   ],
   "source": [
    "electro['rating'].unique()"
   ]
  },
  {
   "cell_type": "code",
<<<<<<< HEAD
   "execution_count": 2881,
=======
   "execution_count": 113,
>>>>>>> accuracyTrial
   "metadata": {
    "colab": {
     "base_uri": "https://localhost:8080/",
     "height": 300
    },
    "id": "JL30kV7cjnG9",
    "outputId": "df265872-ec37-4f07-bde5-ac8aef07a936"
   },
   "outputs": [
    {
     "data": {
      "text/html": [
       "<div>\n",
       "<style scoped>\n",
       "    .dataframe tbody tr th:only-of-type {\n",
       "        vertical-align: middle;\n",
       "    }\n",
       "\n",
       "    .dataframe tbody tr th {\n",
       "        vertical-align: top;\n",
       "    }\n",
       "\n",
       "    .dataframe thead th {\n",
       "        text-align: right;\n",
       "    }\n",
       "</style>\n",
       "<table border=\"1\" class=\"dataframe\">\n",
       "  <thead>\n",
       "    <tr style=\"text-align: right;\">\n",
       "      <th></th>\n",
       "      <th>processor_gnrtn</th>\n",
       "      <th>ram_gb</th>\n",
       "      <th>ssd</th>\n",
       "      <th>hdd</th>\n",
       "      <th>graphic_card_gb</th>\n",
       "      <th>warranty</th>\n",
       "      <th>Price</th>\n",
       "      <th>Number of Ratings</th>\n",
       "      <th>Number of Reviews</th>\n",
       "    </tr>\n",
       "  </thead>\n",
       "  <tbody>\n",
       "    <tr>\n",
       "      <th>count</th>\n",
       "      <td>723.000000</td>\n",
       "      <td>723.000000</td>\n",
       "      <td>723.000000</td>\n",
       "      <td>723.000000</td>\n",
       "      <td>723.000000</td>\n",
       "      <td>723.000000</td>\n",
       "      <td>723.000000</td>\n",
       "      <td>723.000000</td>\n",
       "      <td>723.000000</td>\n",
       "    </tr>\n",
       "    <tr>\n",
       "      <th>mean</th>\n",
       "      <td>10.535270</td>\n",
       "      <td>8.724758</td>\n",
       "      <td>449.150761</td>\n",
       "      <td>232.984786</td>\n",
       "      <td>1.208852</td>\n",
       "      <td>0.716459</td>\n",
       "      <td>77031.348548</td>\n",
       "      <td>301.217151</td>\n",
       "      <td>36.550484</td>\n",
       "    </tr>\n",
       "    <tr>\n",
       "      <th>std</th>\n",
       "      <td>0.863102</td>\n",
       "      <td>4.439221</td>\n",
       "      <td>318.015040</td>\n",
       "      <td>416.286290</td>\n",
       "      <td>2.053125</td>\n",
       "      <td>0.605691</td>\n",
       "      <td>45706.444883</td>\n",
       "      <td>970.519221</td>\n",
       "      <td>115.413126</td>\n",
       "    </tr>\n",
       "    <tr>\n",
       "      <th>min</th>\n",
       "      <td>4.000000</td>\n",
       "      <td>4.000000</td>\n",
       "      <td>0.000000</td>\n",
       "      <td>0.000000</td>\n",
       "      <td>0.000000</td>\n",
       "      <td>0.000000</td>\n",
       "      <td>16990.000000</td>\n",
       "      <td>0.000000</td>\n",
       "      <td>0.000000</td>\n",
       "    </tr>\n",
       "    <tr>\n",
       "      <th>25%</th>\n",
       "      <td>10.000000</td>\n",
       "      <td>4.000000</td>\n",
       "      <td>256.000000</td>\n",
       "      <td>0.000000</td>\n",
       "      <td>0.000000</td>\n",
       "      <td>0.000000</td>\n",
       "      <td>45960.000000</td>\n",
       "      <td>0.000000</td>\n",
       "      <td>0.000000</td>\n",
       "    </tr>\n",
       "    <tr>\n",
       "      <th>50%</th>\n",
       "      <td>11.000000</td>\n",
       "      <td>8.000000</td>\n",
       "      <td>512.000000</td>\n",
       "      <td>0.000000</td>\n",
       "      <td>0.000000</td>\n",
       "      <td>1.000000</td>\n",
       "      <td>64990.000000</td>\n",
       "      <td>17.000000</td>\n",
       "      <td>2.000000</td>\n",
       "    </tr>\n",
       "    <tr>\n",
       "      <th>75%</th>\n",
       "      <td>11.000000</td>\n",
       "      <td>8.000000</td>\n",
       "      <td>512.000000</td>\n",
       "      <td>512.000000</td>\n",
       "      <td>2.000000</td>\n",
       "      <td>1.000000</td>\n",
       "      <td>89846.000000</td>\n",
       "      <td>154.000000</td>\n",
       "      <td>19.500000</td>\n",
       "    </tr>\n",
       "    <tr>\n",
       "      <th>max</th>\n",
       "      <td>12.000000</td>\n",
       "      <td>32.000000</td>\n",
       "      <td>3072.000000</td>\n",
       "      <td>2048.000000</td>\n",
       "      <td>8.000000</td>\n",
       "      <td>3.000000</td>\n",
       "      <td>441990.000000</td>\n",
       "      <td>15279.000000</td>\n",
       "      <td>1947.000000</td>\n",
       "    </tr>\n",
       "  </tbody>\n",
       "</table>\n",
       "</div>"
      ],
      "text/plain": [
       "       processor_gnrtn      ram_gb          ssd          hdd  graphic_card_gb  \\\n",
       "count       723.000000  723.000000   723.000000   723.000000       723.000000   \n",
       "mean         10.535270    8.724758   449.150761   232.984786         1.208852   \n",
       "std           0.863102    4.439221   318.015040   416.286290         2.053125   \n",
       "min           4.000000    4.000000     0.000000     0.000000         0.000000   \n",
       "25%          10.000000    4.000000   256.000000     0.000000         0.000000   \n",
       "50%          11.000000    8.000000   512.000000     0.000000         0.000000   \n",
       "75%          11.000000    8.000000   512.000000   512.000000         2.000000   \n",
       "max          12.000000   32.000000  3072.000000  2048.000000         8.000000   \n",
       "\n",
       "         warranty          Price  Number of Ratings  Number of Reviews  \n",
       "count  723.000000     723.000000         723.000000         723.000000  \n",
       "mean     0.716459   77031.348548         301.217151          36.550484  \n",
       "std      0.605691   45706.444883         970.519221         115.413126  \n",
       "min      0.000000   16990.000000           0.000000           0.000000  \n",
       "25%      0.000000   45960.000000           0.000000           0.000000  \n",
       "50%      1.000000   64990.000000          17.000000           2.000000  \n",
       "75%      1.000000   89846.000000         154.000000          19.500000  \n",
       "max      3.000000  441990.000000       15279.000000        1947.000000  "
      ]
     },
<<<<<<< HEAD
     "execution_count": 2881,
=======
     "execution_count": 113,
>>>>>>> accuracyTrial
     "metadata": {},
     "output_type": "execute_result"
    }
   ],
   "source": [
    "#check the ranges\n",
    "electro.describe()"
   ]
  },
  {
   "cell_type": "code",
<<<<<<< HEAD
   "execution_count": 2882,
=======
   "execution_count": 114,
>>>>>>> accuracyTrial
   "metadata": {
    "colab": {
     "base_uri": "https://localhost:8080/"
    },
    "id": "9HrN8oYRjnG-",
    "outputId": "97f7c7a6-a02e-487b-f7d1-b5eeb4a82373"
   },
   "outputs": [
    {
     "data": {
      "text/plain": [
       "30"
      ]
     },
<<<<<<< HEAD
     "execution_count": 2882,
=======
     "execution_count": 114,
>>>>>>> accuracyTrial
     "metadata": {},
     "output_type": "execute_result"
    }
   ],
   "source": [
    "#check for duplicates\n",
    "duplicates = electro.duplicated(keep=False)\n",
    "duplicates.sum()"
   ]
  },
  {
   "cell_type": "code",
<<<<<<< HEAD
   "execution_count": 2883,
=======
   "execution_count": 115,
>>>>>>> accuracyTrial
   "metadata": {
    "id": "99Ml_660jnG-"
   },
   "outputs": [],
   "source": [
    "#drop the duplicates\n",
    "electro.drop_duplicates(inplace=True)"
   ]
  },
  {
   "cell_type": "code",
<<<<<<< HEAD
   "execution_count": 2884,
=======
   "execution_count": 116,
>>>>>>> accuracyTrial
   "metadata": {
    "colab": {
     "base_uri": "https://localhost:8080/"
    },
    "id": "ewSfRvXzjnG_",
    "outputId": "7a948bfd-c77e-4ad8-8458-8e5920d44294"
   },
   "outputs": [
    {
     "data": {
      "text/plain": [
       "0"
      ]
     },
<<<<<<< HEAD
     "execution_count": 2884,
=======
     "execution_count": 116,
>>>>>>> accuracyTrial
     "metadata": {},
     "output_type": "execute_result"
    }
   ],
   "source": [
    "#check if they are deleted\n",
    "duplicates = electro.duplicated(keep=False).sum()\n",
    "duplicates"
   ]
  },
  {
   "cell_type": "code",
<<<<<<< HEAD
   "execution_count": 2885,
=======
   "execution_count": 117,
>>>>>>> accuracyTrial
   "metadata": {
    "colab": {
     "base_uri": "https://localhost:8080/",
     "height": 104
    },
    "id": "4y3iAry_jnG_",
    "outputId": "3c7e6046-4a0b-416b-e5aa-172e9ab623ad"
   },
   "outputs": [
    {
     "data": {
      "text/html": [
       "<div>\n",
       "<style scoped>\n",
       "    .dataframe tbody tr th:only-of-type {\n",
       "        vertical-align: middle;\n",
       "    }\n",
       "\n",
       "    .dataframe tbody tr th {\n",
       "        vertical-align: top;\n",
       "    }\n",
       "\n",
       "    .dataframe thead th {\n",
       "        text-align: right;\n",
       "    }\n",
       "</style>\n",
       "<table border=\"1\" class=\"dataframe\">\n",
       "  <thead>\n",
       "    <tr style=\"text-align: right;\">\n",
       "      <th></th>\n",
       "      <th>brand</th>\n",
       "      <th>processor_brand</th>\n",
       "      <th>processor_name</th>\n",
       "      <th>processor_gnrtn</th>\n",
       "      <th>ram_gb</th>\n",
       "      <th>ram_type</th>\n",
       "      <th>ssd</th>\n",
       "      <th>hdd</th>\n",
       "      <th>os</th>\n",
       "      <th>graphic_card_gb</th>\n",
       "      <th>weight</th>\n",
       "      <th>warranty</th>\n",
       "      <th>Touchscreen</th>\n",
       "      <th>msoffice</th>\n",
       "      <th>Price</th>\n",
       "      <th>rating</th>\n",
       "      <th>Number of Ratings</th>\n",
       "      <th>Number of Reviews</th>\n",
       "    </tr>\n",
       "  </thead>\n",
       "  <tbody>\n",
       "  </tbody>\n",
       "</table>\n",
       "</div>"
      ],
      "text/plain": [
       "Empty DataFrame\n",
       "Columns: [brand, processor_brand, processor_name, processor_gnrtn, ram_gb, ram_type, ssd, hdd, os, graphic_card_gb, weight, warranty, Touchscreen, msoffice, Price, rating, Number of Ratings, Number of Reviews]\n",
       "Index: []"
      ]
     },
<<<<<<< HEAD
     "execution_count": 2885,
=======
     "execution_count": 117,
>>>>>>> accuracyTrial
     "metadata": {},
     "output_type": "execute_result"
    }
   ],
   "source": [
    "#check if there is any device doesn't have any processor\n",
    "electro[(electro['ssd']==0) & (electro['hdd']==0)]"
   ]
  },
  {
   "cell_type": "code",
<<<<<<< HEAD
   "execution_count": 2886,
=======
   "execution_count": 118,
>>>>>>> accuracyTrial
   "metadata": {
    "colab": {
     "base_uri": "https://localhost:8080/"
    },
    "id": "kUKwKy8tjnG_",
    "outputId": "502b344a-e5db-4d37-ed2c-606a5e8e4940"
   },
   "outputs": [
    {
     "data": {
      "text/plain": [
       "brand                0\n",
       "processor_brand      0\n",
       "processor_name       0\n",
       "processor_gnrtn      0\n",
       "ram_gb               0\n",
       "ram_type             0\n",
       "ssd                  0\n",
       "hdd                  0\n",
       "os                   0\n",
       "graphic_card_gb      0\n",
       "weight               0\n",
       "warranty             0\n",
       "Touchscreen          0\n",
       "msoffice             0\n",
       "Price                0\n",
       "rating               0\n",
       "Number of Ratings    0\n",
       "Number of Reviews    0\n",
       "dtype: int64"
      ]
     },
<<<<<<< HEAD
     "execution_count": 2886,
=======
     "execution_count": 118,
>>>>>>> accuracyTrial
     "metadata": {},
     "output_type": "execute_result"
    }
   ],
   "source": [
    "#check missing data\n",
    "electro.isna().sum()"
   ]
  },
  {
   "cell_type": "code",
<<<<<<< HEAD
   "execution_count": 2887,
=======
   "execution_count": 119,
   "metadata": {},
   "outputs": [
    {
     "data": {
      "text/plain": [
       "brand                category\n",
       "processor_brand      category\n",
       "processor_name       category\n",
       "processor_gnrtn         int32\n",
       "ram_gb                  int32\n",
       "ram_type             category\n",
       "ssd                     int32\n",
       "hdd                     int32\n",
       "os                   category\n",
       "graphic_card_gb         int32\n",
       "weight               category\n",
       "warranty                int32\n",
       "Touchscreen          category\n",
       "msoffice             category\n",
       "Price                   int64\n",
       "rating               category\n",
       "Number of Ratings       int64\n",
       "Number of Reviews       int64\n",
       "dtype: object"
      ]
     },
     "execution_count": 119,
     "metadata": {},
     "output_type": "execute_result"
    }
   ],
   "source": [
    "electro.dtypes"
   ]
  },
  {
   "cell_type": "code",
   "execution_count": 120,
>>>>>>> accuracyTrial
   "metadata": {},
   "outputs": [],
   "source": [
    "#label encoding for features with natural order \n",
    "label_encoder = LabelEncoder()  \n",
    "electro['rating']= label_encoder.fit_transform(electro['rating'])\n",
    "electro['weight']= label_encoder.fit_transform(electro['weight'])\n",
<<<<<<< HEAD
    "#electro['processor_gnrtn'] = label_encoder.fit_transform(electro['processor_gnrtn'])"
=======
    "electro['msoffice'] = label_encoder.fit_transform(electro['msoffice'])\n"
>>>>>>> accuracyTrial
   ]
  },
  {
   "cell_type": "code",
<<<<<<< HEAD
   "execution_count": 2888,
=======
   "execution_count": 121,
   "metadata": {},
   "outputs": [],
   "source": [
    "categoricalData = pd.DataFrame()\n",
    "categoricalData['weight'] = electro['weight']\n",
    "categoricalData['brand'] = electro['brand']\n",
    "categoricalData['processor_brand'] = electro['processor_brand']\n",
    "categoricalData['processor_name'] = electro['processor_name']\n",
    "categoricalData['os'] = electro['os']\n",
    "categoricalData['Touchscreen'] = electro['Touchscreen']\n",
    "categoricalData['msoffice'] = electro['msoffice']\n",
    "categoricalData['ram_type'] = electro['ram_type']\n",
    "#one hot encoding\n",
    "categoricalData = pd.get_dummies(categoricalData,columns=['brand','processor_brand','processor_name','os','Touchscreen'],dtype=int)"
   ]
  },
  {
   "cell_type": "code",
   "execution_count": 122,
>>>>>>> accuracyTrial
   "metadata": {},
   "outputs": [],
   "source": [
    "#one hot encoding for categories with no order\n",
    "electro=pd.get_dummies(electro,columns=['brand','processor_brand','processor_name','os','Touchscreen','msoffice'],dtype=int)"
   ]
  },
  {
   "cell_type": "code",
<<<<<<< HEAD
   "execution_count": 2889,
=======
   "execution_count": 123,
>>>>>>> accuracyTrial
   "metadata": {},
   "outputs": [
    {
     "data": {
      "image/png": "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\n",
      "text/plain": [
       "<Figure size 1000x1000 with 8 Axes>"
      ]
     },
     "metadata": {},
     "output_type": "display_data"
    }
   ],
   "source": [
    "#check the outliers\n",
    "fig, axes = plt.subplots(4,2,sharex=True,figsize=(10, 10))\n",
    "fig.suptitle('Check the outliers of numeric columns')\n",
    "plt.subplots_adjust(wspace = 0.5)\n",
    "sns.boxplot(data=electro, y='ram_gb', ax=axes[0,0])\n",
    "sns.boxplot(data=electro, y='ssd', ax=axes[0,1])\n",
    "sns.boxplot(data=electro, y='hdd', ax=axes[1,0])\n",
    "sns.boxplot(data=electro, y='Number of Reviews', ax=axes[1,1])\n",
    "sns.boxplot(data=electro, y='Number of Ratings', ax=axes[2,0])\n",
    "sns.boxplot(data=electro, y='Price', ax=axes[2,1])\n",
    "sns.boxplot(data=electro, y='warranty', ax=axes[3,0])\n",
    "sns.boxplot(data=electro, y='graphic_card_gb', ax=axes[3,1])\n",
    "plt.show()"
   ]
  },
  {
   "cell_type": "code",
<<<<<<< HEAD
   "execution_count": 2890,
=======
   "execution_count": 124,
>>>>>>> accuracyTrial
   "metadata": {},
   "outputs": [
    {
     "name": "stderr",
     "output_type": "stream",
     "text": [
      "C:\\Users\\DELL\\AppData\\Local\\Temp\\ipykernel_5124\\1582183839.py:7: SettingWithCopyWarning: \n",
      "A value is trying to be set on a copy of a slice from a DataFrame\n",
      "\n",
      "See the caveats in the documentation: https://pandas.pydata.org/pandas-docs/stable/user_guide/indexing.html#returning-a-view-versus-a-copy\n",
      "  electro[col][electro[col] <= percentiles[0]-1.5*iqr] = percentiles[0]\n",
      "C:\\Users\\DELL\\AppData\\Local\\Temp\\ipykernel_5124\\1582183839.py:8: SettingWithCopyWarning: \n",
      "A value is trying to be set on a copy of a slice from a DataFrame\n",
      "\n",
      "See the caveats in the documentation: https://pandas.pydata.org/pandas-docs/stable/user_guide/indexing.html#returning-a-view-versus-a-copy\n",
      "  electro[col][electro[col] >= percentiles[1]+1.5*iqr] = percentiles[1]\n",
      "C:\\Users\\DELL\\AppData\\Local\\Temp\\ipykernel_5124\\1582183839.py:7: SettingWithCopyWarning: \n",
      "A value is trying to be set on a copy of a slice from a DataFrame\n",
      "\n",
      "See the caveats in the documentation: https://pandas.pydata.org/pandas-docs/stable/user_guide/indexing.html#returning-a-view-versus-a-copy\n",
      "  electro[col][electro[col] <= percentiles[0]-1.5*iqr] = percentiles[0]\n",
      "C:\\Users\\DELL\\AppData\\Local\\Temp\\ipykernel_5124\\1582183839.py:8: SettingWithCopyWarning: \n",
      "A value is trying to be set on a copy of a slice from a DataFrame\n",
      "\n",
      "See the caveats in the documentation: https://pandas.pydata.org/pandas-docs/stable/user_guide/indexing.html#returning-a-view-versus-a-copy\n",
      "  electro[col][electro[col] >= percentiles[1]+1.5*iqr] = percentiles[1]\n",
      "C:\\Users\\DELL\\AppData\\Local\\Temp\\ipykernel_5124\\1582183839.py:7: SettingWithCopyWarning: \n",
      "A value is trying to be set on a copy of a slice from a DataFrame\n",
      "\n",
      "See the caveats in the documentation: https://pandas.pydata.org/pandas-docs/stable/user_guide/indexing.html#returning-a-view-versus-a-copy\n",
      "  electro[col][electro[col] <= percentiles[0]-1.5*iqr] = percentiles[0]\n",
      "C:\\Users\\DELL\\AppData\\Local\\Temp\\ipykernel_5124\\1582183839.py:8: SettingWithCopyWarning: \n",
      "A value is trying to be set on a copy of a slice from a DataFrame\n",
      "\n",
      "See the caveats in the documentation: https://pandas.pydata.org/pandas-docs/stable/user_guide/indexing.html#returning-a-view-versus-a-copy\n",
      "  electro[col][electro[col] >= percentiles[1]+1.5*iqr] = percentiles[1]\n",
      "C:\\Users\\DELL\\AppData\\Local\\Temp\\ipykernel_5124\\1582183839.py:7: SettingWithCopyWarning: \n",
      "A value is trying to be set on a copy of a slice from a DataFrame\n",
      "\n",
      "See the caveats in the documentation: https://pandas.pydata.org/pandas-docs/stable/user_guide/indexing.html#returning-a-view-versus-a-copy\n",
      "  electro[col][electro[col] <= percentiles[0]-1.5*iqr] = percentiles[0]\n",
      "C:\\Users\\DELL\\AppData\\Local\\Temp\\ipykernel_5124\\1582183839.py:8: SettingWithCopyWarning: \n",
      "A value is trying to be set on a copy of a slice from a DataFrame\n",
      "\n",
      "See the caveats in the documentation: https://pandas.pydata.org/pandas-docs/stable/user_guide/indexing.html#returning-a-view-versus-a-copy\n",
      "  electro[col][electro[col] >= percentiles[1]+1.5*iqr] = percentiles[1]\n",
      "C:\\Users\\DELL\\AppData\\Local\\Temp\\ipykernel_5124\\1582183839.py:7: SettingWithCopyWarning: \n",
      "A value is trying to be set on a copy of a slice from a DataFrame\n",
      "\n",
      "See the caveats in the documentation: https://pandas.pydata.org/pandas-docs/stable/user_guide/indexing.html#returning-a-view-versus-a-copy\n",
      "  electro[col][electro[col] <= percentiles[0]-1.5*iqr] = percentiles[0]\n",
      "C:\\Users\\DELL\\AppData\\Local\\Temp\\ipykernel_5124\\1582183839.py:8: SettingWithCopyWarning: \n",
      "A value is trying to be set on a copy of a slice from a DataFrame\n",
      "\n",
      "See the caveats in the documentation: https://pandas.pydata.org/pandas-docs/stable/user_guide/indexing.html#returning-a-view-versus-a-copy\n",
      "  electro[col][electro[col] >= percentiles[1]+1.5*iqr] = percentiles[1]\n",
      "C:\\Users\\DELL\\AppData\\Local\\Temp\\ipykernel_5124\\1582183839.py:7: SettingWithCopyWarning: \n",
      "A value is trying to be set on a copy of a slice from a DataFrame\n",
      "\n",
      "See the caveats in the documentation: https://pandas.pydata.org/pandas-docs/stable/user_guide/indexing.html#returning-a-view-versus-a-copy\n",
      "  electro[col][electro[col] <= percentiles[0]-1.5*iqr] = percentiles[0]\n",
      "C:\\Users\\DELL\\AppData\\Local\\Temp\\ipykernel_5124\\1582183839.py:8: SettingWithCopyWarning: \n",
      "A value is trying to be set on a copy of a slice from a DataFrame\n",
      "\n",
      "See the caveats in the documentation: https://pandas.pydata.org/pandas-docs/stable/user_guide/indexing.html#returning-a-view-versus-a-copy\n",
      "  electro[col][electro[col] >= percentiles[1]+1.5*iqr] = percentiles[1]\n",
      "C:\\Users\\DELL\\AppData\\Local\\Temp\\ipykernel_5124\\1582183839.py:7: SettingWithCopyWarning: \n",
      "A value is trying to be set on a copy of a slice from a DataFrame\n",
      "\n",
      "See the caveats in the documentation: https://pandas.pydata.org/pandas-docs/stable/user_guide/indexing.html#returning-a-view-versus-a-copy\n",
      "  electro[col][electro[col] <= percentiles[0]-1.5*iqr] = percentiles[0]\n",
      "C:\\Users\\DELL\\AppData\\Local\\Temp\\ipykernel_5124\\1582183839.py:8: SettingWithCopyWarning: \n",
      "A value is trying to be set on a copy of a slice from a DataFrame\n",
      "\n",
      "See the caveats in the documentation: https://pandas.pydata.org/pandas-docs/stable/user_guide/indexing.html#returning-a-view-versus-a-copy\n",
      "  electro[col][electro[col] >= percentiles[1]+1.5*iqr] = percentiles[1]\n",
      "C:\\Users\\DELL\\AppData\\Local\\Temp\\ipykernel_5124\\1582183839.py:7: SettingWithCopyWarning: \n",
      "A value is trying to be set on a copy of a slice from a DataFrame\n",
      "\n",
      "See the caveats in the documentation: https://pandas.pydata.org/pandas-docs/stable/user_guide/indexing.html#returning-a-view-versus-a-copy\n",
      "  electro[col][electro[col] <= percentiles[0]-1.5*iqr] = percentiles[0]\n",
      "C:\\Users\\DELL\\AppData\\Local\\Temp\\ipykernel_5124\\1582183839.py:8: SettingWithCopyWarning: \n",
      "A value is trying to be set on a copy of a slice from a DataFrame\n",
      "\n",
      "See the caveats in the documentation: https://pandas.pydata.org/pandas-docs/stable/user_guide/indexing.html#returning-a-view-versus-a-copy\n",
      "  electro[col][electro[col] >= percentiles[1]+1.5*iqr] = percentiles[1]\n",
      "C:\\Users\\DELL\\AppData\\Local\\Temp\\ipykernel_5124\\1582183839.py:7: SettingWithCopyWarning: \n",
      "A value is trying to be set on a copy of a slice from a DataFrame\n",
      "\n",
      "See the caveats in the documentation: https://pandas.pydata.org/pandas-docs/stable/user_guide/indexing.html#returning-a-view-versus-a-copy\n",
      "  electro[col][electro[col] <= percentiles[0]-1.5*iqr] = percentiles[0]\n",
      "C:\\Users\\DELL\\AppData\\Local\\Temp\\ipykernel_5124\\1582183839.py:8: SettingWithCopyWarning: \n",
      "A value is trying to be set on a copy of a slice from a DataFrame\n",
      "\n",
      "See the caveats in the documentation: https://pandas.pydata.org/pandas-docs/stable/user_guide/indexing.html#returning-a-view-versus-a-copy\n",
      "  electro[col][electro[col] >= percentiles[1]+1.5*iqr] = percentiles[1]\n",
      "C:\\Users\\DELL\\AppData\\Local\\Temp\\ipykernel_5124\\1582183839.py:7: SettingWithCopyWarning: \n",
      "A value is trying to be set on a copy of a slice from a DataFrame\n",
      "\n",
      "See the caveats in the documentation: https://pandas.pydata.org/pandas-docs/stable/user_guide/indexing.html#returning-a-view-versus-a-copy\n",
      "  electro[col][electro[col] <= percentiles[0]-1.5*iqr] = percentiles[0]\n",
      "C:\\Users\\DELL\\AppData\\Local\\Temp\\ipykernel_5124\\1582183839.py:8: SettingWithCopyWarning: \n",
      "A value is trying to be set on a copy of a slice from a DataFrame\n",
      "\n",
      "See the caveats in the documentation: https://pandas.pydata.org/pandas-docs/stable/user_guide/indexing.html#returning-a-view-versus-a-copy\n",
      "  electro[col][electro[col] >= percentiles[1]+1.5*iqr] = percentiles[1]\n",
      "C:\\Users\\DELL\\AppData\\Local\\Temp\\ipykernel_5124\\1582183839.py:7: SettingWithCopyWarning: \n",
      "A value is trying to be set on a copy of a slice from a DataFrame\n",
      "\n",
      "See the caveats in the documentation: https://pandas.pydata.org/pandas-docs/stable/user_guide/indexing.html#returning-a-view-versus-a-copy\n",
      "  electro[col][electro[col] <= percentiles[0]-1.5*iqr] = percentiles[0]\n",
      "C:\\Users\\DELL\\AppData\\Local\\Temp\\ipykernel_5124\\1582183839.py:8: SettingWithCopyWarning: \n",
      "A value is trying to be set on a copy of a slice from a DataFrame\n",
      "\n",
      "See the caveats in the documentation: https://pandas.pydata.org/pandas-docs/stable/user_guide/indexing.html#returning-a-view-versus-a-copy\n",
      "  electro[col][electro[col] >= percentiles[1]+1.5*iqr] = percentiles[1]\n",
      "C:\\Users\\DELL\\AppData\\Local\\Temp\\ipykernel_5124\\1582183839.py:7: SettingWithCopyWarning: \n",
      "A value is trying to be set on a copy of a slice from a DataFrame\n",
      "\n",
      "See the caveats in the documentation: https://pandas.pydata.org/pandas-docs/stable/user_guide/indexing.html#returning-a-view-versus-a-copy\n",
      "  electro[col][electro[col] <= percentiles[0]-1.5*iqr] = percentiles[0]\n",
      "C:\\Users\\DELL\\AppData\\Local\\Temp\\ipykernel_5124\\1582183839.py:8: SettingWithCopyWarning: \n",
      "A value is trying to be set on a copy of a slice from a DataFrame\n",
      "\n",
      "See the caveats in the documentation: https://pandas.pydata.org/pandas-docs/stable/user_guide/indexing.html#returning-a-view-versus-a-copy\n",
      "  electro[col][electro[col] >= percentiles[1]+1.5*iqr] = percentiles[1]\n",
      "C:\\Users\\DELL\\AppData\\Local\\Temp\\ipykernel_5124\\1582183839.py:7: SettingWithCopyWarning: \n",
      "A value is trying to be set on a copy of a slice from a DataFrame\n",
      "\n",
      "See the caveats in the documentation: https://pandas.pydata.org/pandas-docs/stable/user_guide/indexing.html#returning-a-view-versus-a-copy\n",
      "  electro[col][electro[col] <= percentiles[0]-1.5*iqr] = percentiles[0]\n",
      "C:\\Users\\DELL\\AppData\\Local\\Temp\\ipykernel_5124\\1582183839.py:8: SettingWithCopyWarning: \n",
      "A value is trying to be set on a copy of a slice from a DataFrame\n",
      "\n",
      "See the caveats in the documentation: https://pandas.pydata.org/pandas-docs/stable/user_guide/indexing.html#returning-a-view-versus-a-copy\n",
      "  electro[col][electro[col] >= percentiles[1]+1.5*iqr] = percentiles[1]\n",
      "C:\\Users\\DELL\\AppData\\Local\\Temp\\ipykernel_5124\\1582183839.py:7: SettingWithCopyWarning: \n",
      "A value is trying to be set on a copy of a slice from a DataFrame\n",
      "\n",
      "See the caveats in the documentation: https://pandas.pydata.org/pandas-docs/stable/user_guide/indexing.html#returning-a-view-versus-a-copy\n",
      "  electro[col][electro[col] <= percentiles[0]-1.5*iqr] = percentiles[0]\n",
      "C:\\Users\\DELL\\AppData\\Local\\Temp\\ipykernel_5124\\1582183839.py:8: SettingWithCopyWarning: \n",
      "A value is trying to be set on a copy of a slice from a DataFrame\n",
      "\n",
      "See the caveats in the documentation: https://pandas.pydata.org/pandas-docs/stable/user_guide/indexing.html#returning-a-view-versus-a-copy\n",
      "  electro[col][electro[col] >= percentiles[1]+1.5*iqr] = percentiles[1]\n",
      "C:\\Users\\DELL\\AppData\\Local\\Temp\\ipykernel_5124\\1582183839.py:7: SettingWithCopyWarning: \n",
      "A value is trying to be set on a copy of a slice from a DataFrame\n",
      "\n",
      "See the caveats in the documentation: https://pandas.pydata.org/pandas-docs/stable/user_guide/indexing.html#returning-a-view-versus-a-copy\n",
      "  electro[col][electro[col] <= percentiles[0]-1.5*iqr] = percentiles[0]\n",
      "C:\\Users\\DELL\\AppData\\Local\\Temp\\ipykernel_5124\\1582183839.py:8: SettingWithCopyWarning: \n",
      "A value is trying to be set on a copy of a slice from a DataFrame\n",
      "\n",
      "See the caveats in the documentation: https://pandas.pydata.org/pandas-docs/stable/user_guide/indexing.html#returning-a-view-versus-a-copy\n",
      "  electro[col][electro[col] >= percentiles[1]+1.5*iqr] = percentiles[1]\n",
      "C:\\Users\\DELL\\AppData\\Local\\Temp\\ipykernel_5124\\1582183839.py:7: SettingWithCopyWarning: \n",
      "A value is trying to be set on a copy of a slice from a DataFrame\n",
      "\n",
      "See the caveats in the documentation: https://pandas.pydata.org/pandas-docs/stable/user_guide/indexing.html#returning-a-view-versus-a-copy\n",
      "  electro[col][electro[col] <= percentiles[0]-1.5*iqr] = percentiles[0]\n",
      "C:\\Users\\DELL\\AppData\\Local\\Temp\\ipykernel_5124\\1582183839.py:8: SettingWithCopyWarning: \n",
      "A value is trying to be set on a copy of a slice from a DataFrame\n",
      "\n",
      "See the caveats in the documentation: https://pandas.pydata.org/pandas-docs/stable/user_guide/indexing.html#returning-a-view-versus-a-copy\n",
      "  electro[col][electro[col] >= percentiles[1]+1.5*iqr] = percentiles[1]\n",
      "C:\\Users\\DELL\\AppData\\Local\\Temp\\ipykernel_5124\\1582183839.py:7: SettingWithCopyWarning: \n",
      "A value is trying to be set on a copy of a slice from a DataFrame\n",
      "\n",
      "See the caveats in the documentation: https://pandas.pydata.org/pandas-docs/stable/user_guide/indexing.html#returning-a-view-versus-a-copy\n",
      "  electro[col][electro[col] <= percentiles[0]-1.5*iqr] = percentiles[0]\n",
      "C:\\Users\\DELL\\AppData\\Local\\Temp\\ipykernel_5124\\1582183839.py:8: SettingWithCopyWarning: \n",
      "A value is trying to be set on a copy of a slice from a DataFrame\n",
      "\n",
      "See the caveats in the documentation: https://pandas.pydata.org/pandas-docs/stable/user_guide/indexing.html#returning-a-view-versus-a-copy\n",
      "  electro[col][electro[col] >= percentiles[1]+1.5*iqr] = percentiles[1]\n",
      "C:\\Users\\DELL\\AppData\\Local\\Temp\\ipykernel_5124\\1582183839.py:7: SettingWithCopyWarning: \n",
      "A value is trying to be set on a copy of a slice from a DataFrame\n",
      "\n",
      "See the caveats in the documentation: https://pandas.pydata.org/pandas-docs/stable/user_guide/indexing.html#returning-a-view-versus-a-copy\n",
      "  electro[col][electro[col] <= percentiles[0]-1.5*iqr] = percentiles[0]\n",
      "C:\\Users\\DELL\\AppData\\Local\\Temp\\ipykernel_5124\\1582183839.py:8: SettingWithCopyWarning: \n",
      "A value is trying to be set on a copy of a slice from a DataFrame\n",
      "\n",
      "See the caveats in the documentation: https://pandas.pydata.org/pandas-docs/stable/user_guide/indexing.html#returning-a-view-versus-a-copy\n",
      "  electro[col][electro[col] >= percentiles[1]+1.5*iqr] = percentiles[1]\n",
      "C:\\Users\\DELL\\AppData\\Local\\Temp\\ipykernel_5124\\1582183839.py:7: SettingWithCopyWarning: \n",
      "A value is trying to be set on a copy of a slice from a DataFrame\n",
      "\n",
      "See the caveats in the documentation: https://pandas.pydata.org/pandas-docs/stable/user_guide/indexing.html#returning-a-view-versus-a-copy\n",
      "  electro[col][electro[col] <= percentiles[0]-1.5*iqr] = percentiles[0]\n"
     ]
    },
    {
     "name": "stderr",
     "output_type": "stream",
     "text": [
      "C:\\Users\\DELL\\AppData\\Local\\Temp\\ipykernel_5124\\1582183839.py:8: SettingWithCopyWarning: \n",
      "A value is trying to be set on a copy of a slice from a DataFrame\n",
      "\n",
      "See the caveats in the documentation: https://pandas.pydata.org/pandas-docs/stable/user_guide/indexing.html#returning-a-view-versus-a-copy\n",
      "  electro[col][electro[col] >= percentiles[1]+1.5*iqr] = percentiles[1]\n",
      "C:\\Users\\DELL\\AppData\\Local\\Temp\\ipykernel_5124\\1582183839.py:7: SettingWithCopyWarning: \n",
      "A value is trying to be set on a copy of a slice from a DataFrame\n",
      "\n",
      "See the caveats in the documentation: https://pandas.pydata.org/pandas-docs/stable/user_guide/indexing.html#returning-a-view-versus-a-copy\n",
      "  electro[col][electro[col] <= percentiles[0]-1.5*iqr] = percentiles[0]\n",
      "C:\\Users\\DELL\\AppData\\Local\\Temp\\ipykernel_5124\\1582183839.py:8: SettingWithCopyWarning: \n",
      "A value is trying to be set on a copy of a slice from a DataFrame\n",
      "\n",
      "See the caveats in the documentation: https://pandas.pydata.org/pandas-docs/stable/user_guide/indexing.html#returning-a-view-versus-a-copy\n",
      "  electro[col][electro[col] >= percentiles[1]+1.5*iqr] = percentiles[1]\n",
      "C:\\Users\\DELL\\AppData\\Local\\Temp\\ipykernel_5124\\1582183839.py:7: SettingWithCopyWarning: \n",
      "A value is trying to be set on a copy of a slice from a DataFrame\n",
      "\n",
      "See the caveats in the documentation: https://pandas.pydata.org/pandas-docs/stable/user_guide/indexing.html#returning-a-view-versus-a-copy\n",
      "  electro[col][electro[col] <= percentiles[0]-1.5*iqr] = percentiles[0]\n",
      "C:\\Users\\DELL\\AppData\\Local\\Temp\\ipykernel_5124\\1582183839.py:8: SettingWithCopyWarning: \n",
      "A value is trying to be set on a copy of a slice from a DataFrame\n",
      "\n",
      "See the caveats in the documentation: https://pandas.pydata.org/pandas-docs/stable/user_guide/indexing.html#returning-a-view-versus-a-copy\n",
      "  electro[col][electro[col] >= percentiles[1]+1.5*iqr] = percentiles[1]\n",
      "C:\\Users\\DELL\\AppData\\Local\\Temp\\ipykernel_5124\\1582183839.py:7: SettingWithCopyWarning: \n",
      "A value is trying to be set on a copy of a slice from a DataFrame\n",
      "\n",
      "See the caveats in the documentation: https://pandas.pydata.org/pandas-docs/stable/user_guide/indexing.html#returning-a-view-versus-a-copy\n",
      "  electro[col][electro[col] <= percentiles[0]-1.5*iqr] = percentiles[0]\n",
      "C:\\Users\\DELL\\AppData\\Local\\Temp\\ipykernel_5124\\1582183839.py:8: SettingWithCopyWarning: \n",
      "A value is trying to be set on a copy of a slice from a DataFrame\n",
      "\n",
      "See the caveats in the documentation: https://pandas.pydata.org/pandas-docs/stable/user_guide/indexing.html#returning-a-view-versus-a-copy\n",
      "  electro[col][electro[col] >= percentiles[1]+1.5*iqr] = percentiles[1]\n",
      "C:\\Users\\DELL\\AppData\\Local\\Temp\\ipykernel_5124\\1582183839.py:7: SettingWithCopyWarning: \n",
      "A value is trying to be set on a copy of a slice from a DataFrame\n",
      "\n",
      "See the caveats in the documentation: https://pandas.pydata.org/pandas-docs/stable/user_guide/indexing.html#returning-a-view-versus-a-copy\n",
      "  electro[col][electro[col] <= percentiles[0]-1.5*iqr] = percentiles[0]\n",
      "C:\\Users\\DELL\\AppData\\Local\\Temp\\ipykernel_5124\\1582183839.py:8: SettingWithCopyWarning: \n",
      "A value is trying to be set on a copy of a slice from a DataFrame\n",
      "\n",
      "See the caveats in the documentation: https://pandas.pydata.org/pandas-docs/stable/user_guide/indexing.html#returning-a-view-versus-a-copy\n",
      "  electro[col][electro[col] >= percentiles[1]+1.5*iqr] = percentiles[1]\n",
      "C:\\Users\\DELL\\AppData\\Local\\Temp\\ipykernel_5124\\1582183839.py:7: SettingWithCopyWarning: \n",
      "A value is trying to be set on a copy of a slice from a DataFrame\n",
      "\n",
      "See the caveats in the documentation: https://pandas.pydata.org/pandas-docs/stable/user_guide/indexing.html#returning-a-view-versus-a-copy\n",
      "  electro[col][electro[col] <= percentiles[0]-1.5*iqr] = percentiles[0]\n",
      "C:\\Users\\DELL\\AppData\\Local\\Temp\\ipykernel_5124\\1582183839.py:8: SettingWithCopyWarning: \n",
      "A value is trying to be set on a copy of a slice from a DataFrame\n",
      "\n",
      "See the caveats in the documentation: https://pandas.pydata.org/pandas-docs/stable/user_guide/indexing.html#returning-a-view-versus-a-copy\n",
      "  electro[col][electro[col] >= percentiles[1]+1.5*iqr] = percentiles[1]\n",
      "C:\\Users\\DELL\\AppData\\Local\\Temp\\ipykernel_5124\\1582183839.py:7: SettingWithCopyWarning: \n",
      "A value is trying to be set on a copy of a slice from a DataFrame\n",
      "\n",
      "See the caveats in the documentation: https://pandas.pydata.org/pandas-docs/stable/user_guide/indexing.html#returning-a-view-versus-a-copy\n",
      "  electro[col][electro[col] <= percentiles[0]-1.5*iqr] = percentiles[0]\n",
      "C:\\Users\\DELL\\AppData\\Local\\Temp\\ipykernel_5124\\1582183839.py:8: SettingWithCopyWarning: \n",
      "A value is trying to be set on a copy of a slice from a DataFrame\n",
      "\n",
      "See the caveats in the documentation: https://pandas.pydata.org/pandas-docs/stable/user_guide/indexing.html#returning-a-view-versus-a-copy\n",
      "  electro[col][electro[col] >= percentiles[1]+1.5*iqr] = percentiles[1]\n",
      "C:\\Users\\DELL\\AppData\\Local\\Temp\\ipykernel_5124\\1582183839.py:7: SettingWithCopyWarning: \n",
      "A value is trying to be set on a copy of a slice from a DataFrame\n",
      "\n",
      "See the caveats in the documentation: https://pandas.pydata.org/pandas-docs/stable/user_guide/indexing.html#returning-a-view-versus-a-copy\n",
      "  electro[col][electro[col] <= percentiles[0]-1.5*iqr] = percentiles[0]\n",
      "C:\\Users\\DELL\\AppData\\Local\\Temp\\ipykernel_5124\\1582183839.py:8: SettingWithCopyWarning: \n",
      "A value is trying to be set on a copy of a slice from a DataFrame\n",
      "\n",
      "See the caveats in the documentation: https://pandas.pydata.org/pandas-docs/stable/user_guide/indexing.html#returning-a-view-versus-a-copy\n",
      "  electro[col][electro[col] >= percentiles[1]+1.5*iqr] = percentiles[1]\n",
      "C:\\Users\\DELL\\AppData\\Local\\Temp\\ipykernel_5124\\1582183839.py:7: SettingWithCopyWarning: \n",
      "A value is trying to be set on a copy of a slice from a DataFrame\n",
      "\n",
      "See the caveats in the documentation: https://pandas.pydata.org/pandas-docs/stable/user_guide/indexing.html#returning-a-view-versus-a-copy\n",
      "  electro[col][electro[col] <= percentiles[0]-1.5*iqr] = percentiles[0]\n",
      "C:\\Users\\DELL\\AppData\\Local\\Temp\\ipykernel_5124\\1582183839.py:8: SettingWithCopyWarning: \n",
      "A value is trying to be set on a copy of a slice from a DataFrame\n",
      "\n",
      "See the caveats in the documentation: https://pandas.pydata.org/pandas-docs/stable/user_guide/indexing.html#returning-a-view-versus-a-copy\n",
      "  electro[col][electro[col] >= percentiles[1]+1.5*iqr] = percentiles[1]\n",
      "C:\\Users\\DELL\\AppData\\Local\\Temp\\ipykernel_5124\\1582183839.py:7: SettingWithCopyWarning: \n",
      "A value is trying to be set on a copy of a slice from a DataFrame\n",
      "\n",
      "See the caveats in the documentation: https://pandas.pydata.org/pandas-docs/stable/user_guide/indexing.html#returning-a-view-versus-a-copy\n",
      "  electro[col][electro[col] <= percentiles[0]-1.5*iqr] = percentiles[0]\n",
      "C:\\Users\\DELL\\AppData\\Local\\Temp\\ipykernel_5124\\1582183839.py:8: SettingWithCopyWarning: \n",
      "A value is trying to be set on a copy of a slice from a DataFrame\n",
      "\n",
      "See the caveats in the documentation: https://pandas.pydata.org/pandas-docs/stable/user_guide/indexing.html#returning-a-view-versus-a-copy\n",
      "  electro[col][electro[col] >= percentiles[1]+1.5*iqr] = percentiles[1]\n",
      "C:\\Users\\DELL\\AppData\\Local\\Temp\\ipykernel_5124\\1582183839.py:7: SettingWithCopyWarning: \n",
      "A value is trying to be set on a copy of a slice from a DataFrame\n",
      "\n",
      "See the caveats in the documentation: https://pandas.pydata.org/pandas-docs/stable/user_guide/indexing.html#returning-a-view-versus-a-copy\n",
      "  electro[col][electro[col] <= percentiles[0]-1.5*iqr] = percentiles[0]\n",
      "C:\\Users\\DELL\\AppData\\Local\\Temp\\ipykernel_5124\\1582183839.py:8: SettingWithCopyWarning: \n",
      "A value is trying to be set on a copy of a slice from a DataFrame\n",
      "\n",
      "See the caveats in the documentation: https://pandas.pydata.org/pandas-docs/stable/user_guide/indexing.html#returning-a-view-versus-a-copy\n",
      "  electro[col][electro[col] >= percentiles[1]+1.5*iqr] = percentiles[1]\n",
      "C:\\Users\\DELL\\AppData\\Local\\Temp\\ipykernel_5124\\1582183839.py:7: SettingWithCopyWarning: \n",
      "A value is trying to be set on a copy of a slice from a DataFrame\n",
      "\n",
      "See the caveats in the documentation: https://pandas.pydata.org/pandas-docs/stable/user_guide/indexing.html#returning-a-view-versus-a-copy\n",
      "  electro[col][electro[col] <= percentiles[0]-1.5*iqr] = percentiles[0]\n",
      "C:\\Users\\DELL\\AppData\\Local\\Temp\\ipykernel_5124\\1582183839.py:8: SettingWithCopyWarning: \n",
      "A value is trying to be set on a copy of a slice from a DataFrame\n",
      "\n",
      "See the caveats in the documentation: https://pandas.pydata.org/pandas-docs/stable/user_guide/indexing.html#returning-a-view-versus-a-copy\n",
      "  electro[col][electro[col] >= percentiles[1]+1.5*iqr] = percentiles[1]\n",
      "C:\\Users\\DELL\\AppData\\Local\\Temp\\ipykernel_5124\\1582183839.py:7: SettingWithCopyWarning: \n",
      "A value is trying to be set on a copy of a slice from a DataFrame\n",
      "\n",
      "See the caveats in the documentation: https://pandas.pydata.org/pandas-docs/stable/user_guide/indexing.html#returning-a-view-versus-a-copy\n",
      "  electro[col][electro[col] <= percentiles[0]-1.5*iqr] = percentiles[0]\n",
      "C:\\Users\\DELL\\AppData\\Local\\Temp\\ipykernel_5124\\1582183839.py:8: SettingWithCopyWarning: \n",
      "A value is trying to be set on a copy of a slice from a DataFrame\n",
      "\n",
      "See the caveats in the documentation: https://pandas.pydata.org/pandas-docs/stable/user_guide/indexing.html#returning-a-view-versus-a-copy\n",
      "  electro[col][electro[col] >= percentiles[1]+1.5*iqr] = percentiles[1]\n",
      "C:\\Users\\DELL\\AppData\\Local\\Temp\\ipykernel_5124\\1582183839.py:7: SettingWithCopyWarning: \n",
      "A value is trying to be set on a copy of a slice from a DataFrame\n",
      "\n",
      "See the caveats in the documentation: https://pandas.pydata.org/pandas-docs/stable/user_guide/indexing.html#returning-a-view-versus-a-copy\n",
      "  electro[col][electro[col] <= percentiles[0]-1.5*iqr] = percentiles[0]\n",
      "C:\\Users\\DELL\\AppData\\Local\\Temp\\ipykernel_5124\\1582183839.py:8: SettingWithCopyWarning: \n",
      "A value is trying to be set on a copy of a slice from a DataFrame\n",
      "\n",
      "See the caveats in the documentation: https://pandas.pydata.org/pandas-docs/stable/user_guide/indexing.html#returning-a-view-versus-a-copy\n",
      "  electro[col][electro[col] >= percentiles[1]+1.5*iqr] = percentiles[1]\n",
      "C:\\Users\\DELL\\AppData\\Local\\Temp\\ipykernel_5124\\1582183839.py:7: SettingWithCopyWarning: \n",
      "A value is trying to be set on a copy of a slice from a DataFrame\n",
      "\n",
      "See the caveats in the documentation: https://pandas.pydata.org/pandas-docs/stable/user_guide/indexing.html#returning-a-view-versus-a-copy\n",
      "  electro[col][electro[col] <= percentiles[0]-1.5*iqr] = percentiles[0]\n",
      "C:\\Users\\DELL\\AppData\\Local\\Temp\\ipykernel_5124\\1582183839.py:8: SettingWithCopyWarning: \n",
      "A value is trying to be set on a copy of a slice from a DataFrame\n",
      "\n",
      "See the caveats in the documentation: https://pandas.pydata.org/pandas-docs/stable/user_guide/indexing.html#returning-a-view-versus-a-copy\n",
      "  electro[col][electro[col] >= percentiles[1]+1.5*iqr] = percentiles[1]\n",
      "C:\\Users\\DELL\\AppData\\Local\\Temp\\ipykernel_5124\\1582183839.py:7: SettingWithCopyWarning: \n",
      "A value is trying to be set on a copy of a slice from a DataFrame\n",
      "\n",
      "See the caveats in the documentation: https://pandas.pydata.org/pandas-docs/stable/user_guide/indexing.html#returning-a-view-versus-a-copy\n",
      "  electro[col][electro[col] <= percentiles[0]-1.5*iqr] = percentiles[0]\n",
      "C:\\Users\\DELL\\AppData\\Local\\Temp\\ipykernel_5124\\1582183839.py:8: SettingWithCopyWarning: \n",
      "A value is trying to be set on a copy of a slice from a DataFrame\n",
      "\n",
      "See the caveats in the documentation: https://pandas.pydata.org/pandas-docs/stable/user_guide/indexing.html#returning-a-view-versus-a-copy\n",
      "  electro[col][electro[col] >= percentiles[1]+1.5*iqr] = percentiles[1]\n",
      "C:\\Users\\DELL\\AppData\\Local\\Temp\\ipykernel_5124\\1582183839.py:7: SettingWithCopyWarning: \n",
      "A value is trying to be set on a copy of a slice from a DataFrame\n",
      "\n",
      "See the caveats in the documentation: https://pandas.pydata.org/pandas-docs/stable/user_guide/indexing.html#returning-a-view-versus-a-copy\n",
      "  electro[col][electro[col] <= percentiles[0]-1.5*iqr] = percentiles[0]\n",
      "C:\\Users\\DELL\\AppData\\Local\\Temp\\ipykernel_5124\\1582183839.py:8: SettingWithCopyWarning: \n",
      "A value is trying to be set on a copy of a slice from a DataFrame\n",
      "\n",
      "See the caveats in the documentation: https://pandas.pydata.org/pandas-docs/stable/user_guide/indexing.html#returning-a-view-versus-a-copy\n",
      "  electro[col][electro[col] >= percentiles[1]+1.5*iqr] = percentiles[1]\n",
      "C:\\Users\\DELL\\AppData\\Local\\Temp\\ipykernel_5124\\1582183839.py:7: SettingWithCopyWarning: \n",
      "A value is trying to be set on a copy of a slice from a DataFrame\n",
      "\n",
      "See the caveats in the documentation: https://pandas.pydata.org/pandas-docs/stable/user_guide/indexing.html#returning-a-view-versus-a-copy\n",
      "  electro[col][electro[col] <= percentiles[0]-1.5*iqr] = percentiles[0]\n",
      "C:\\Users\\DELL\\AppData\\Local\\Temp\\ipykernel_5124\\1582183839.py:8: SettingWithCopyWarning: \n",
      "A value is trying to be set on a copy of a slice from a DataFrame\n",
      "\n",
      "See the caveats in the documentation: https://pandas.pydata.org/pandas-docs/stable/user_guide/indexing.html#returning-a-view-versus-a-copy\n",
      "  electro[col][electro[col] >= percentiles[1]+1.5*iqr] = percentiles[1]\n",
      "C:\\Users\\DELL\\AppData\\Local\\Temp\\ipykernel_5124\\1582183839.py:7: SettingWithCopyWarning: \n",
      "A value is trying to be set on a copy of a slice from a DataFrame\n",
      "\n",
      "See the caveats in the documentation: https://pandas.pydata.org/pandas-docs/stable/user_guide/indexing.html#returning-a-view-versus-a-copy\n",
      "  electro[col][electro[col] <= percentiles[0]-1.5*iqr] = percentiles[0]\n",
      "C:\\Users\\DELL\\AppData\\Local\\Temp\\ipykernel_5124\\1582183839.py:8: SettingWithCopyWarning: \n",
      "A value is trying to be set on a copy of a slice from a DataFrame\n",
      "\n",
      "See the caveats in the documentation: https://pandas.pydata.org/pandas-docs/stable/user_guide/indexing.html#returning-a-view-versus-a-copy\n",
      "  electro[col][electro[col] >= percentiles[1]+1.5*iqr] = percentiles[1]\n",
      "C:\\Users\\DELL\\AppData\\Local\\Temp\\ipykernel_5124\\1582183839.py:7: SettingWithCopyWarning: \n",
      "A value is trying to be set on a copy of a slice from a DataFrame\n",
      "\n",
      "See the caveats in the documentation: https://pandas.pydata.org/pandas-docs/stable/user_guide/indexing.html#returning-a-view-versus-a-copy\n",
      "  electro[col][electro[col] <= percentiles[0]-1.5*iqr] = percentiles[0]\n",
      "C:\\Users\\DELL\\AppData\\Local\\Temp\\ipykernel_5124\\1582183839.py:8: SettingWithCopyWarning: \n",
      "A value is trying to be set on a copy of a slice from a DataFrame\n",
      "\n",
      "See the caveats in the documentation: https://pandas.pydata.org/pandas-docs/stable/user_guide/indexing.html#returning-a-view-versus-a-copy\n",
      "  electro[col][electro[col] >= percentiles[1]+1.5*iqr] = percentiles[1]\n",
      "C:\\Users\\DELL\\AppData\\Local\\Temp\\ipykernel_5124\\1582183839.py:7: SettingWithCopyWarning: \n",
      "A value is trying to be set on a copy of a slice from a DataFrame\n",
      "\n",
      "See the caveats in the documentation: https://pandas.pydata.org/pandas-docs/stable/user_guide/indexing.html#returning-a-view-versus-a-copy\n",
      "  electro[col][electro[col] <= percentiles[0]-1.5*iqr] = percentiles[0]\n",
      "C:\\Users\\DELL\\AppData\\Local\\Temp\\ipykernel_5124\\1582183839.py:8: SettingWithCopyWarning: \n",
      "A value is trying to be set on a copy of a slice from a DataFrame\n",
      "\n",
      "See the caveats in the documentation: https://pandas.pydata.org/pandas-docs/stable/user_guide/indexing.html#returning-a-view-versus-a-copy\n",
      "  electro[col][electro[col] >= percentiles[1]+1.5*iqr] = percentiles[1]\n"
     ]
    },
    {
     "name": "stderr",
     "output_type": "stream",
     "text": [
      "C:\\Users\\DELL\\AppData\\Local\\Temp\\ipykernel_5124\\1582183839.py:7: SettingWithCopyWarning: \n",
      "A value is trying to be set on a copy of a slice from a DataFrame\n",
      "\n",
      "See the caveats in the documentation: https://pandas.pydata.org/pandas-docs/stable/user_guide/indexing.html#returning-a-view-versus-a-copy\n",
      "  electro[col][electro[col] <= percentiles[0]-1.5*iqr] = percentiles[0]\n",
      "C:\\Users\\DELL\\AppData\\Local\\Temp\\ipykernel_5124\\1582183839.py:8: SettingWithCopyWarning: \n",
      "A value is trying to be set on a copy of a slice from a DataFrame\n",
      "\n",
      "See the caveats in the documentation: https://pandas.pydata.org/pandas-docs/stable/user_guide/indexing.html#returning-a-view-versus-a-copy\n",
      "  electro[col][electro[col] >= percentiles[1]+1.5*iqr] = percentiles[1]\n",
      "C:\\Users\\DELL\\AppData\\Local\\Temp\\ipykernel_5124\\1582183839.py:7: SettingWithCopyWarning: \n",
      "A value is trying to be set on a copy of a slice from a DataFrame\n",
      "\n",
      "See the caveats in the documentation: https://pandas.pydata.org/pandas-docs/stable/user_guide/indexing.html#returning-a-view-versus-a-copy\n",
      "  electro[col][electro[col] <= percentiles[0]-1.5*iqr] = percentiles[0]\n",
      "C:\\Users\\DELL\\AppData\\Local\\Temp\\ipykernel_5124\\1582183839.py:8: SettingWithCopyWarning: \n",
      "A value is trying to be set on a copy of a slice from a DataFrame\n",
      "\n",
      "See the caveats in the documentation: https://pandas.pydata.org/pandas-docs/stable/user_guide/indexing.html#returning-a-view-versus-a-copy\n",
      "  electro[col][electro[col] >= percentiles[1]+1.5*iqr] = percentiles[1]\n",
      "C:\\Users\\DELL\\AppData\\Local\\Temp\\ipykernel_5124\\1582183839.py:7: SettingWithCopyWarning: \n",
      "A value is trying to be set on a copy of a slice from a DataFrame\n",
      "\n",
      "See the caveats in the documentation: https://pandas.pydata.org/pandas-docs/stable/user_guide/indexing.html#returning-a-view-versus-a-copy\n",
      "  electro[col][electro[col] <= percentiles[0]-1.5*iqr] = percentiles[0]\n",
<<<<<<< HEAD
      "C:\\Users\\DELL\\AppData\\Local\\Temp\\ipykernel_15680\\1582183839.py:8: SettingWithCopyWarning: \n",
      "A value is trying to be set on a copy of a slice from a DataFrame\n",
      "\n",
      "See the caveats in the documentation: https://pandas.pydata.org/pandas-docs/stable/user_guide/indexing.html#returning-a-view-versus-a-copy\n",
      "  electro[col][electro[col] >= percentiles[1]+1.5*iqr] = percentiles[1]\n",
      "C:\\Users\\DELL\\AppData\\Local\\Temp\\ipykernel_15680\\1582183839.py:7: SettingWithCopyWarning: \n",
      "A value is trying to be set on a copy of a slice from a DataFrame\n",
      "\n",
      "See the caveats in the documentation: https://pandas.pydata.org/pandas-docs/stable/user_guide/indexing.html#returning-a-view-versus-a-copy\n",
      "  electro[col][electro[col] <= percentiles[0]-1.5*iqr] = percentiles[0]\n",
      "C:\\Users\\DELL\\AppData\\Local\\Temp\\ipykernel_15680\\1582183839.py:8: SettingWithCopyWarning: \n",
=======
      "C:\\Users\\DELL\\AppData\\Local\\Temp\\ipykernel_5124\\1582183839.py:8: SettingWithCopyWarning: \n",
>>>>>>> accuracyTrial
      "A value is trying to be set on a copy of a slice from a DataFrame\n",
      "\n",
      "See the caveats in the documentation: https://pandas.pydata.org/pandas-docs/stable/user_guide/indexing.html#returning-a-view-versus-a-copy\n",
      "  electro[col][electro[col] >= percentiles[1]+1.5*iqr] = percentiles[1]\n"
     ]
    }
   ],
   "source": [
    "#drop the outliers\n",
    "for col in electro.columns:\n",
    "        #print(\"capping the \",col)\n",
    "        if (((electro[col].dtype)=='float') | ((electro[col].dtype)=='int32')|((electro[col].dtype)=='int64')):\n",
    "            percentiles = electro[col].quantile([0.25,0.75]).values\n",
    "            iqr= percentiles[1]-percentiles[0]\n",
    "            electro[col][electro[col] <= percentiles[0]-1.5*iqr] = percentiles[0]\n",
    "            electro[col][electro[col] >= percentiles[1]+1.5*iqr] = percentiles[1]\n",
    "        else:\n",
    "            electro[col]=electro[col]"
   ]
  },
  {
   "cell_type": "code",
<<<<<<< HEAD
   "execution_count": 2891,
=======
   "execution_count": 125,
>>>>>>> accuracyTrial
   "metadata": {},
   "outputs": [
    {
     "data": {
      "image/png": "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\n",
      "text/plain": [
       "<Figure size 1000x1000 with 8 Axes>"
      ]
     },
     "metadata": {},
     "output_type": "display_data"
    }
   ],
   "source": [
    "#check the outliers\n",
    "fig, axes = plt.subplots(4,2,sharex=True,figsize=(10, 10))\n",
    "fig.suptitle('Check the outliers of numeric columns')\n",
    "plt.subplots_adjust(wspace = 0.5)\n",
    "sns.boxplot(data=electro, y='ram_gb', ax=axes[0,0])\n",
    "sns.boxplot(data=electro, y='ssd', ax=axes[0,1])\n",
    "sns.boxplot(data=electro, y='hdd', ax=axes[1,0])\n",
    "sns.boxplot(data=electro, y='Number of Reviews', ax=axes[1,1])\n",
    "sns.boxplot(data=electro, y='Number of Ratings', ax=axes[2,0])\n",
    "sns.boxplot(data=electro, y='Price', ax=axes[2,1])\n",
    "sns.boxplot(data=electro, y='warranty', ax=axes[3,0])\n",
    "sns.boxplot(data=electro, y='graphic_card_gb', ax=axes[3,1])\n",
    "plt.show()"
   ]
  },
  {
   "cell_type": "code",
<<<<<<< HEAD
   "execution_count": 2892,
=======
   "execution_count": 126,
>>>>>>> accuracyTrial
   "metadata": {},
   "outputs": [
    {
     "data": {
      "text/html": [
       "<div>\n",
       "<style scoped>\n",
       "    .dataframe tbody tr th:only-of-type {\n",
       "        vertical-align: middle;\n",
       "    }\n",
       "\n",
       "    .dataframe tbody tr th {\n",
       "        vertical-align: top;\n",
       "    }\n",
       "\n",
       "    .dataframe thead th {\n",
       "        text-align: right;\n",
       "    }\n",
       "</style>\n",
       "<table border=\"1\" class=\"dataframe\">\n",
       "  <thead>\n",
       "    <tr style=\"text-align: right;\">\n",
       "      <th></th>\n",
       "      <th>processor_gnrtn</th>\n",
       "      <th>ram_gb</th>\n",
       "      <th>ram_type</th>\n",
       "      <th>ssd</th>\n",
       "      <th>hdd</th>\n",
       "      <th>graphic_card_gb</th>\n",
       "      <th>weight</th>\n",
       "      <th>warranty</th>\n",
       "      <th>Price</th>\n",
       "      <th>rating</th>\n",
       "      <th>...</th>\n",
       "      <th>processor_name_Ryzen 9</th>\n",
       "      <th>os_32-bit DOS</th>\n",
       "      <th>os_32-bit Windows</th>\n",
       "      <th>os_64-bit DOS</th>\n",
       "      <th>os_64-bit Mac</th>\n",
       "      <th>os_64-bit Windows</th>\n",
       "      <th>Touchscreen_No</th>\n",
       "      <th>Touchscreen_Yes</th>\n",
       "      <th>msoffice_0</th>\n",
       "      <th>msoffice_1</th>\n",
       "    </tr>\n",
       "  </thead>\n",
       "  <tbody>\n",
       "    <tr>\n",
       "      <th>0</th>\n",
       "      <td>11</td>\n",
       "      <td>4</td>\n",
       "      <td>4</td>\n",
       "      <td>0</td>\n",
       "      <td>512</td>\n",
       "      <td>0</td>\n",
       "      <td>0</td>\n",
       "      <td>0</td>\n",
       "      <td>45990</td>\n",
       "      <td>2</td>\n",
       "      <td>...</td>\n",
       "      <td>0</td>\n",
       "      <td>0</td>\n",
       "      <td>0</td>\n",
       "      <td>0</td>\n",
       "      <td>0</td>\n",
       "      <td>1</td>\n",
       "      <td>1</td>\n",
       "      <td>0</td>\n",
       "      <td>1</td>\n",
       "      <td>0</td>\n",
       "    </tr>\n",
       "    <tr>\n",
       "      <th>1</th>\n",
       "      <td>10</td>\n",
       "      <td>8</td>\n",
       "      <td>3</td>\n",
       "      <td>0</td>\n",
       "      <td>512</td>\n",
       "      <td>4</td>\n",
       "      <td>0</td>\n",
       "      <td>0</td>\n",
       "      <td>106167</td>\n",
       "      <td>3</td>\n",
       "      <td>...</td>\n",
       "      <td>0</td>\n",
       "      <td>0</td>\n",
       "      <td>0</td>\n",
       "      <td>0</td>\n",
       "      <td>0</td>\n",
       "      <td>1</td>\n",
       "      <td>1</td>\n",
       "      <td>0</td>\n",
       "      <td>1</td>\n",
       "      <td>0</td>\n",
       "    </tr>\n",
       "    <tr>\n",
       "      <th>2</th>\n",
       "      <td>11</td>\n",
       "      <td>4</td>\n",
       "      <td>2</td>\n",
       "      <td>0</td>\n",
       "      <td>512</td>\n",
       "      <td>0</td>\n",
       "      <td>0</td>\n",
       "      <td>0</td>\n",
       "      <td>22990</td>\n",
       "      <td>2</td>\n",
       "      <td>...</td>\n",
       "      <td>0</td>\n",
       "      <td>0</td>\n",
       "      <td>0</td>\n",
       "      <td>0</td>\n",
       "      <td>0</td>\n",
       "      <td>1</td>\n",
       "      <td>1</td>\n",
       "      <td>0</td>\n",
       "      <td>1</td>\n",
       "      <td>0</td>\n",
       "    </tr>\n",
       "    <tr>\n",
       "      <th>3</th>\n",
       "      <td>11</td>\n",
       "      <td>4</td>\n",
       "      <td>2</td>\n",
       "      <td>256</td>\n",
       "      <td>0</td>\n",
       "      <td>0</td>\n",
       "      <td>0</td>\n",
       "      <td>1</td>\n",
       "      <td>44990</td>\n",
       "      <td>3</td>\n",
       "      <td>...</td>\n",
       "      <td>0</td>\n",
       "      <td>0</td>\n",
       "      <td>0</td>\n",
       "      <td>0</td>\n",
       "      <td>0</td>\n",
       "      <td>1</td>\n",
       "      <td>1</td>\n",
       "      <td>0</td>\n",
       "      <td>0</td>\n",
       "      <td>1</td>\n",
       "    </tr>\n",
       "    <tr>\n",
       "      <th>4</th>\n",
       "      <td>11</td>\n",
       "      <td>8</td>\n",
       "      <td>2</td>\n",
       "      <td>512</td>\n",
       "      <td>0</td>\n",
       "      <td>2</td>\n",
       "      <td>0</td>\n",
       "      <td>1</td>\n",
       "      <td>79990</td>\n",
       "      <td>2</td>\n",
       "      <td>...</td>\n",
       "      <td>0</td>\n",
       "      <td>0</td>\n",
       "      <td>0</td>\n",
       "      <td>0</td>\n",
       "      <td>0</td>\n",
       "      <td>1</td>\n",
       "      <td>1</td>\n",
       "      <td>0</td>\n",
       "      <td>0</td>\n",
       "      <td>1</td>\n",
       "    </tr>\n",
       "    <tr>\n",
       "      <th>...</th>\n",
       "      <td>...</td>\n",
       "      <td>...</td>\n",
       "      <td>...</td>\n",
       "      <td>...</td>\n",
       "      <td>...</td>\n",
       "      <td>...</td>\n",
       "      <td>...</td>\n",
       "      <td>...</td>\n",
       "      <td>...</td>\n",
       "      <td>...</td>\n",
       "      <td>...</td>\n",
       "      <td>...</td>\n",
       "      <td>...</td>\n",
       "      <td>...</td>\n",
       "      <td>...</td>\n",
       "      <td>...</td>\n",
       "      <td>...</td>\n",
       "      <td>...</td>\n",
       "      <td>...</td>\n",
       "      <td>...</td>\n",
       "      <td>...</td>\n",
       "    </tr>\n",
       "    <tr>\n",
       "      <th>718</th>\n",
       "      <td>11</td>\n",
       "      <td>4</td>\n",
       "      <td>2</td>\n",
       "      <td>256</td>\n",
       "      <td>0</td>\n",
       "      <td>0</td>\n",
       "      <td>0</td>\n",
       "      <td>0</td>\n",
       "      <td>39998</td>\n",
       "      <td>3</td>\n",
       "      <td>...</td>\n",
       "      <td>0</td>\n",
       "      <td>0</td>\n",
       "      <td>0</td>\n",
       "      <td>0</td>\n",
       "      <td>0</td>\n",
       "      <td>1</td>\n",
       "      <td>1</td>\n",
       "      <td>0</td>\n",
       "      <td>1</td>\n",
       "      <td>0</td>\n",
       "    </tr>\n",
       "    <tr>\n",
       "      <th>719</th>\n",
       "      <td>11</td>\n",
       "      <td>8</td>\n",
       "      <td>2</td>\n",
       "      <td>512</td>\n",
       "      <td>0</td>\n",
       "      <td>0</td>\n",
       "      <td>2</td>\n",
       "      <td>0</td>\n",
       "      <td>44990</td>\n",
       "      <td>2</td>\n",
       "      <td>...</td>\n",
       "      <td>0</td>\n",
       "      <td>0</td>\n",
       "      <td>0</td>\n",
       "      <td>0</td>\n",
       "      <td>0</td>\n",
       "      <td>1</td>\n",
       "      <td>1</td>\n",
       "      <td>0</td>\n",
       "      <td>1</td>\n",
       "      <td>0</td>\n",
       "    </tr>\n",
       "    <tr>\n",
       "      <th>720</th>\n",
       "      <td>11</td>\n",
       "      <td>8</td>\n",
       "      <td>2</td>\n",
       "      <td>512</td>\n",
       "      <td>0</td>\n",
       "      <td>0</td>\n",
       "      <td>0</td>\n",
       "      <td>1</td>\n",
       "      <td>64990</td>\n",
       "      <td>3</td>\n",
       "      <td>...</td>\n",
       "      <td>0</td>\n",
       "      <td>0</td>\n",
       "      <td>0</td>\n",
       "      <td>0</td>\n",
       "      <td>0</td>\n",
       "      <td>1</td>\n",
       "      <td>1</td>\n",
       "      <td>0</td>\n",
       "      <td>0</td>\n",
       "      <td>1</td>\n",
       "    </tr>\n",
       "    <tr>\n",
       "      <th>721</th>\n",
       "      <td>10</td>\n",
       "      <td>8</td>\n",
       "      <td>3</td>\n",
       "      <td>0</td>\n",
       "      <td>512</td>\n",
       "      <td>2</td>\n",
       "      <td>0</td>\n",
       "      <td>0</td>\n",
       "      <td>89918</td>\n",
       "      <td>3</td>\n",
       "      <td>...</td>\n",
       "      <td>0</td>\n",
       "      <td>0</td>\n",
       "      <td>0</td>\n",
       "      <td>0</td>\n",
       "      <td>0</td>\n",
       "      <td>1</td>\n",
       "      <td>1</td>\n",
       "      <td>0</td>\n",
       "      <td>1</td>\n",
       "      <td>0</td>\n",
       "    </tr>\n",
       "    <tr>\n",
       "      <th>722</th>\n",
       "      <td>11</td>\n",
       "      <td>8</td>\n",
       "      <td>2</td>\n",
       "      <td>512</td>\n",
       "      <td>0</td>\n",
       "      <td>0</td>\n",
       "      <td>2</td>\n",
       "      <td>1</td>\n",
       "      <td>41990</td>\n",
       "      <td>2</td>\n",
       "      <td>...</td>\n",
       "      <td>0</td>\n",
       "      <td>0</td>\n",
       "      <td>0</td>\n",
       "      <td>0</td>\n",
       "      <td>0</td>\n",
       "      <td>1</td>\n",
       "      <td>1</td>\n",
       "      <td>0</td>\n",
       "      <td>0</td>\n",
       "      <td>1</td>\n",
       "    </tr>\n",
       "  </tbody>\n",
       "</table>\n",
       "<p>706 rows × 43 columns</p>\n",
       "</div>"
      ],
      "text/plain": [
       "     processor_gnrtn  ram_gb ram_type  ssd  hdd  graphic_card_gb  weight  \\\n",
       "0                 11       4        4    0  512                0       0   \n",
       "1                 10       8        3    0  512                4       0   \n",
       "2                 11       4        2    0  512                0       0   \n",
       "3                 11       4        2  256    0                0       0   \n",
       "4                 11       8        2  512    0                2       0   \n",
       "..               ...     ...      ...  ...  ...              ...     ...   \n",
       "718               11       4        2  256    0                0       0   \n",
       "719               11       8        2  512    0                0       2   \n",
       "720               11       8        2  512    0                0       0   \n",
       "721               10       8        3    0  512                2       0   \n",
       "722               11       8        2  512    0                0       2   \n",
       "\n",
       "     warranty   Price  rating  ...  processor_name_Ryzen 9  os_32-bit DOS  \\\n",
       "0           0   45990       2  ...                       0              0   \n",
       "1           0  106167       3  ...                       0              0   \n",
       "2           0   22990       2  ...                       0              0   \n",
       "3           1   44990       3  ...                       0              0   \n",
       "4           1   79990       2  ...                       0              0   \n",
       "..        ...     ...     ...  ...                     ...            ...   \n",
       "718         0   39998       3  ...                       0              0   \n",
       "719         0   44990       2  ...                       0              0   \n",
       "720         1   64990       3  ...                       0              0   \n",
       "721         0   89918       3  ...                       0              0   \n",
       "722         1   41990       2  ...                       0              0   \n",
       "\n",
       "     os_32-bit Windows  os_64-bit DOS  os_64-bit Mac  os_64-bit Windows  \\\n",
       "0                    0              0              0                  1   \n",
       "1                    0              0              0                  1   \n",
       "2                    0              0              0                  1   \n",
       "3                    0              0              0                  1   \n",
       "4                    0              0              0                  1   \n",
       "..                 ...            ...            ...                ...   \n",
       "718                  0              0              0                  1   \n",
       "719                  0              0              0                  1   \n",
       "720                  0              0              0                  1   \n",
       "721                  0              0              0                  1   \n",
       "722                  0              0              0                  1   \n",
       "\n",
       "     Touchscreen_No  Touchscreen_Yes  msoffice_0  msoffice_1  \n",
       "0                 1                0           1           0  \n",
       "1                 1                0           1           0  \n",
       "2                 1                0           1           0  \n",
       "3                 1                0           0           1  \n",
       "4                 1                0           0           1  \n",
       "..              ...              ...         ...         ...  \n",
       "718               1                0           1           0  \n",
       "719               1                0           1           0  \n",
       "720               1                0           0           1  \n",
       "721               1                0           1           0  \n",
       "722               1                0           0           1  \n",
       "\n",
       "[706 rows x 43 columns]"
      ]
     },
<<<<<<< HEAD
     "execution_count": 2892,
=======
     "execution_count": 126,
>>>>>>> accuracyTrial
     "metadata": {},
     "output_type": "execute_result"
    }
   ],
   "source": [
    "electro"
   ]
  },
  {
   "cell_type": "code",
<<<<<<< HEAD
   "execution_count": 2893,
=======
   "execution_count": 146,
>>>>>>> accuracyTrial
   "metadata": {},
   "outputs": [
    {
     "name": "stderr",
     "output_type": "stream",
     "text": [
      "C:\\Users\\DELL\\anaconda3\\lib\\site-packages\\pandas\\core\\arraylike.py:402: RuntimeWarning: divide by zero encountered in log\n",
      "  result = getattr(ufunc, method)(*inputs, **kwargs)\n"
     ]
    }
   ],
   "source": [
    "#electro['rating'] = np.log(electro['rating'])"
   ]
  },
  {
   "cell_type": "code",
<<<<<<< HEAD
   "execution_count": 2894,
   "metadata": {},
   "outputs": [],
   "source": [
    "#scaler =  MinMaxScaler(feature_range=(0,1))\n",
    "#X= pd.DataFrame(scaler.fit_transform(X),index=X.index,columns= X.columns)"
=======
   "execution_count": 127,
   "metadata": {},
   "outputs": [],
   "source": [
    "Y_categorical = electro['rating']\n",
    "scaler =  MinMaxScaler(feature_range=(0,1))\n",
    "#X= pd.DataFrame(scaler.fit_transform(X),index=X.index,columns= X.columns)\n",
    "electro = pd.DataFrame(scaler.fit_transform(electro),index=electro.index,columns= electro.columns)"
>>>>>>> accuracyTrial
   ]
  },
  {
   "cell_type": "code",
<<<<<<< HEAD
   "execution_count": 2895,
=======
   "execution_count": 145,
>>>>>>> accuracyTrial
   "metadata": {},
   "outputs": [
    {
     "data": {
      "text/html": [
       "<div>\n",
       "<style scoped>\n",
       "    .dataframe tbody tr th:only-of-type {\n",
       "        vertical-align: middle;\n",
       "    }\n",
       "\n",
       "    .dataframe tbody tr th {\n",
       "        vertical-align: top;\n",
       "    }\n",
       "\n",
       "    .dataframe thead th {\n",
       "        text-align: right;\n",
       "    }\n",
       "</style>\n",
       "<table border=\"1\" class=\"dataframe\">\n",
       "  <thead>\n",
       "    <tr style=\"text-align: right;\">\n",
       "      <th></th>\n",
       "      <th>processor_gnrtn</th>\n",
       "      <th>ram_gb</th>\n",
       "      <th>ram_type</th>\n",
       "      <th>ssd</th>\n",
       "      <th>hdd</th>\n",
       "      <th>graphic_card_gb</th>\n",
       "      <th>weight</th>\n",
       "      <th>warranty</th>\n",
       "      <th>Price</th>\n",
<<<<<<< HEAD
       "      <th>Number of Ratings</th>\n",
=======
       "      <th>rating</th>\n",
>>>>>>> accuracyTrial
       "      <th>...</th>\n",
       "      <th>processor_name_Ryzen 9</th>\n",
       "      <th>os_32-bit DOS</th>\n",
       "      <th>os_32-bit Windows</th>\n",
       "      <th>os_64-bit DOS</th>\n",
       "      <th>os_64-bit Mac</th>\n",
       "      <th>os_64-bit Windows</th>\n",
       "      <th>Touchscreen_No</th>\n",
       "      <th>Touchscreen_Yes</th>\n",
       "      <th>msoffice_0</th>\n",
       "      <th>msoffice_1</th>\n",
       "    </tr>\n",
       "  </thead>\n",
       "  <tbody>\n",
       "    <tr>\n",
       "      <th>0</th>\n",
       "      <td>0.666667</td>\n",
       "      <td>0.0</td>\n",
       "      <td>0.8</td>\n",
       "      <td>0.0</td>\n",
       "      <td>0.5</td>\n",
       "      <td>0.0</td>\n",
       "      <td>0.0</td>\n",
       "      <td>0.0</td>\n",
       "      <td>0.209506</td>\n",
<<<<<<< HEAD
       "      <td>0.000000</td>\n",
=======
       "      <td>0.333333</td>\n",
>>>>>>> accuracyTrial
       "      <td>...</td>\n",
       "      <td>0.0</td>\n",
       "      <td>0.0</td>\n",
       "      <td>0.0</td>\n",
       "      <td>0.0</td>\n",
       "      <td>0.0</td>\n",
       "      <td>0.0</td>\n",
       "      <td>0.0</td>\n",
       "      <td>0.0</td>\n",
       "      <td>1.0</td>\n",
       "      <td>0.0</td>\n",
       "    </tr>\n",
       "    <tr>\n",
       "      <th>1</th>\n",
       "      <td>0.333333</td>\n",
       "      <td>1.0</td>\n",
       "      <td>0.6</td>\n",
       "      <td>0.0</td>\n",
       "      <td>0.5</td>\n",
       "      <td>1.0</td>\n",
       "      <td>0.0</td>\n",
       "      <td>0.0</td>\n",
       "      <td>0.644245</td>\n",
<<<<<<< HEAD
       "      <td>0.409814</td>\n",
=======
       "      <td>0.666667</td>\n",
>>>>>>> accuracyTrial
       "      <td>...</td>\n",
       "      <td>0.0</td>\n",
       "      <td>0.0</td>\n",
       "      <td>0.0</td>\n",
       "      <td>0.0</td>\n",
       "      <td>0.0</td>\n",
       "      <td>0.0</td>\n",
       "      <td>0.0</td>\n",
       "      <td>0.0</td>\n",
       "      <td>1.0</td>\n",
       "      <td>0.0</td>\n",
       "    </tr>\n",
       "    <tr>\n",
       "      <th>2</th>\n",
       "      <td>0.666667</td>\n",
       "      <td>0.0</td>\n",
       "      <td>0.4</td>\n",
       "      <td>0.0</td>\n",
       "      <td>0.5</td>\n",
       "      <td>0.0</td>\n",
       "      <td>0.0</td>\n",
       "      <td>0.0</td>\n",
       "      <td>0.043346</td>\n",
<<<<<<< HEAD
       "      <td>0.000000</td>\n",
=======
       "      <td>0.333333</td>\n",
>>>>>>> accuracyTrial
       "      <td>...</td>\n",
       "      <td>0.0</td>\n",
       "      <td>0.0</td>\n",
       "      <td>0.0</td>\n",
       "      <td>0.0</td>\n",
       "      <td>0.0</td>\n",
       "      <td>0.0</td>\n",
       "      <td>0.0</td>\n",
       "      <td>0.0</td>\n",
       "      <td>1.0</td>\n",
       "      <td>0.0</td>\n",
       "    </tr>\n",
       "    <tr>\n",
       "      <th>3</th>\n",
       "      <td>0.666667</td>\n",
       "      <td>0.0</td>\n",
       "      <td>0.4</td>\n",
       "      <td>0.5</td>\n",
       "      <td>0.0</td>\n",
       "      <td>0.0</td>\n",
       "      <td>0.0</td>\n",
       "      <td>0.5</td>\n",
       "      <td>0.202281</td>\n",
<<<<<<< HEAD
       "      <td>0.111406</td>\n",
=======
       "      <td>0.666667</td>\n",
>>>>>>> accuracyTrial
       "      <td>...</td>\n",
       "      <td>0.0</td>\n",
       "      <td>0.0</td>\n",
       "      <td>0.0</td>\n",
       "      <td>0.0</td>\n",
       "      <td>0.0</td>\n",
       "      <td>0.0</td>\n",
       "      <td>0.0</td>\n",
       "      <td>0.0</td>\n",
       "      <td>0.0</td>\n",
       "      <td>1.0</td>\n",
       "    </tr>\n",
       "    <tr>\n",
       "      <th>4</th>\n",
       "      <td>0.666667</td>\n",
       "      <td>1.0</td>\n",
       "      <td>0.4</td>\n",
<<<<<<< HEAD
=======
       "      <td>1.0</td>\n",
       "      <td>0.0</td>\n",
       "      <td>0.5</td>\n",
       "      <td>0.0</td>\n",
       "      <td>0.5</td>\n",
       "      <td>0.455133</td>\n",
       "      <td>0.333333</td>\n",
       "      <td>...</td>\n",
       "      <td>0.0</td>\n",
       "      <td>0.0</td>\n",
       "      <td>0.0</td>\n",
       "      <td>0.0</td>\n",
       "      <td>0.0</td>\n",
       "      <td>0.0</td>\n",
       "      <td>0.0</td>\n",
       "      <td>0.0</td>\n",
       "      <td>0.0</td>\n",
       "      <td>1.0</td>\n",
       "    </tr>\n",
       "  </tbody>\n",
       "</table>\n",
       "<p>5 rows × 43 columns</p>\n",
       "</div>"
      ],
      "text/plain": [
       "   processor_gnrtn  ram_gb  ram_type  ssd  hdd  graphic_card_gb  weight  \\\n",
       "0         0.666667     0.0       0.8  0.0  0.5              0.0     0.0   \n",
       "1         0.333333     1.0       0.6  0.0  0.5              1.0     0.0   \n",
       "2         0.666667     0.0       0.4  0.0  0.5              0.0     0.0   \n",
       "3         0.666667     0.0       0.4  0.5  0.0              0.0     0.0   \n",
       "4         0.666667     1.0       0.4  1.0  0.0              0.5     0.0   \n",
       "\n",
       "   warranty     Price    rating  ...  processor_name_Ryzen 9  os_32-bit DOS  \\\n",
       "0       0.0  0.209506  0.333333  ...                     0.0            0.0   \n",
       "1       0.0  0.644245  0.666667  ...                     0.0            0.0   \n",
       "2       0.0  0.043346  0.333333  ...                     0.0            0.0   \n",
       "3       0.5  0.202281  0.666667  ...                     0.0            0.0   \n",
       "4       0.5  0.455133  0.333333  ...                     0.0            0.0   \n",
       "\n",
       "   os_32-bit Windows  os_64-bit DOS  os_64-bit Mac  os_64-bit Windows  \\\n",
       "0                0.0            0.0            0.0                0.0   \n",
       "1                0.0            0.0            0.0                0.0   \n",
       "2                0.0            0.0            0.0                0.0   \n",
       "3                0.0            0.0            0.0                0.0   \n",
       "4                0.0            0.0            0.0                0.0   \n",
       "\n",
       "   Touchscreen_No  Touchscreen_Yes  msoffice_0  msoffice_1  \n",
       "0             0.0              0.0         1.0         0.0  \n",
       "1             0.0              0.0         1.0         0.0  \n",
       "2             0.0              0.0         1.0         0.0  \n",
       "3             0.0              0.0         0.0         1.0  \n",
       "4             0.0              0.0         0.0         1.0  \n",
       "\n",
       "[5 rows x 43 columns]"
      ]
     },
     "execution_count": 145,
     "metadata": {},
     "output_type": "execute_result"
    }
   ],
   "source": [
    "electro.head()"
   ]
  },
  {
   "cell_type": "code",
   "execution_count": 128,
   "metadata": {},
   "outputs": [],
   "source": [
    "#split to features and result\n",
    "X = electro.drop(columns=['rating'])\n",
    "Y = electro['rating']"
   ]
  },
  {
   "cell_type": "code",
   "execution_count": 129,
   "metadata": {},
   "outputs": [
    {
     "data": {
      "image/png": "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\n",
      "text/plain": [
       "<Figure size 800x600 with 1 Axes>"
      ]
     },
     "metadata": {},
     "output_type": "display_data"
    }
   ],
   "source": [
    "# Plotting \n",
    "plt.figure(figsize=(8, 6))\n",
    "sns.histplot(data=electro, x='rating', color='skyblue', edgecolor='black')\n",
    "plt.title('Distribution of Values')\n",
    "plt.xlabel('rating')\n",
    "plt.ylabel('Frequency')\n",
    "plt.grid(True)\n",
    "plt.show()"
   ]
  },
  {
   "cell_type": "code",
   "execution_count": 130,
   "metadata": {},
   "outputs": [
    {
     "data": {
      "image/png": "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\n",
      "text/plain": [
       "<Figure size 800x600 with 1 Axes>"
      ]
     },
     "metadata": {},
     "output_type": "display_data"
    }
   ],
   "source": [
    "plt.figure(figsize=(8, 6))\n",
    "plt.hist(electro['rating'],color='skyblue', edgecolor='black')\n",
    "plt.title('Distribution of Values')\n",
    "plt.xlabel('rating')\n",
    "plt.ylabel('Frequency')\n",
    "plt.grid(True)\n",
    "plt.show()"
   ]
  },
  {
   "cell_type": "code",
   "execution_count": 131,
   "metadata": {},
   "outputs": [
    {
     "data": {
      "text/plain": [
       "array([0.33333333, 0.66666667, 1.        , 0.        ])"
      ]
     },
     "execution_count": 131,
     "metadata": {},
     "output_type": "execute_result"
    }
   ],
   "source": [
    "electro['rating'].unique()"
   ]
  },
  {
   "cell_type": "code",
   "execution_count": 132,
   "metadata": {},
   "outputs": [
    {
     "data": {
      "text/html": [
       "<div>\n",
       "<style scoped>\n",
       "    .dataframe tbody tr th:only-of-type {\n",
       "        vertical-align: middle;\n",
       "    }\n",
       "\n",
       "    .dataframe tbody tr th {\n",
       "        vertical-align: top;\n",
       "    }\n",
       "\n",
       "    .dataframe thead th {\n",
       "        text-align: right;\n",
       "    }\n",
       "</style>\n",
       "<table border=\"1\" class=\"dataframe\">\n",
       "  <thead>\n",
       "    <tr style=\"text-align: right;\">\n",
       "      <th></th>\n",
       "      <th>processor_gnrtn</th>\n",
       "      <th>ram_gb</th>\n",
       "      <th>ram_type</th>\n",
       "      <th>ssd</th>\n",
       "      <th>hdd</th>\n",
       "      <th>graphic_card_gb</th>\n",
       "      <th>weight</th>\n",
       "      <th>warranty</th>\n",
       "      <th>Price</th>\n",
       "      <th>Number of Ratings</th>\n",
       "      <th>...</th>\n",
       "      <th>processor_name_Ryzen 9</th>\n",
       "      <th>os_32-bit DOS</th>\n",
       "      <th>os_32-bit Windows</th>\n",
       "      <th>os_64-bit DOS</th>\n",
       "      <th>os_64-bit Mac</th>\n",
       "      <th>os_64-bit Windows</th>\n",
       "      <th>Touchscreen_No</th>\n",
       "      <th>Touchscreen_Yes</th>\n",
       "      <th>msoffice_0</th>\n",
       "      <th>msoffice_1</th>\n",
       "    </tr>\n",
       "  </thead>\n",
       "  <tbody>\n",
       "    <tr>\n",
       "      <th>0</th>\n",
       "      <td>0.666667</td>\n",
       "      <td>0.0</td>\n",
       "      <td>0.8</td>\n",
       "      <td>0.0</td>\n",
       "      <td>0.5</td>\n",
       "      <td>0.0</td>\n",
       "      <td>0.0</td>\n",
       "      <td>0.0</td>\n",
       "      <td>0.209506</td>\n",
       "      <td>0.000000</td>\n",
       "      <td>...</td>\n",
       "      <td>0.0</td>\n",
       "      <td>0.0</td>\n",
       "      <td>0.0</td>\n",
       "      <td>0.0</td>\n",
       "      <td>0.0</td>\n",
       "      <td>0.0</td>\n",
       "      <td>0.0</td>\n",
       "      <td>0.0</td>\n",
       "      <td>1.0</td>\n",
       "      <td>0.0</td>\n",
       "    </tr>\n",
       "    <tr>\n",
       "      <th>1</th>\n",
       "      <td>0.333333</td>\n",
       "      <td>1.0</td>\n",
       "      <td>0.6</td>\n",
       "      <td>0.0</td>\n",
       "      <td>0.5</td>\n",
       "      <td>1.0</td>\n",
       "      <td>0.0</td>\n",
       "      <td>0.0</td>\n",
       "      <td>0.644245</td>\n",
       "      <td>0.409814</td>\n",
       "      <td>...</td>\n",
       "      <td>0.0</td>\n",
       "      <td>0.0</td>\n",
       "      <td>0.0</td>\n",
       "      <td>0.0</td>\n",
       "      <td>0.0</td>\n",
       "      <td>0.0</td>\n",
       "      <td>0.0</td>\n",
       "      <td>0.0</td>\n",
       "      <td>1.0</td>\n",
       "      <td>0.0</td>\n",
       "    </tr>\n",
       "    <tr>\n",
       "      <th>2</th>\n",
       "      <td>0.666667</td>\n",
       "      <td>0.0</td>\n",
       "      <td>0.4</td>\n",
       "      <td>0.0</td>\n",
       "      <td>0.5</td>\n",
       "      <td>0.0</td>\n",
       "      <td>0.0</td>\n",
       "      <td>0.0</td>\n",
       "      <td>0.043346</td>\n",
       "      <td>0.000000</td>\n",
       "      <td>...</td>\n",
       "      <td>0.0</td>\n",
       "      <td>0.0</td>\n",
       "      <td>0.0</td>\n",
       "      <td>0.0</td>\n",
       "      <td>0.0</td>\n",
       "      <td>0.0</td>\n",
       "      <td>0.0</td>\n",
       "      <td>0.0</td>\n",
       "      <td>1.0</td>\n",
       "      <td>0.0</td>\n",
       "    </tr>\n",
       "    <tr>\n",
       "      <th>3</th>\n",
       "      <td>0.666667</td>\n",
       "      <td>0.0</td>\n",
       "      <td>0.4</td>\n",
       "      <td>0.5</td>\n",
       "      <td>0.0</td>\n",
       "      <td>0.0</td>\n",
       "      <td>0.0</td>\n",
       "      <td>0.5</td>\n",
       "      <td>0.202281</td>\n",
       "      <td>0.111406</td>\n",
       "      <td>...</td>\n",
       "      <td>0.0</td>\n",
       "      <td>0.0</td>\n",
       "      <td>0.0</td>\n",
       "      <td>0.0</td>\n",
       "      <td>0.0</td>\n",
       "      <td>0.0</td>\n",
       "      <td>0.0</td>\n",
       "      <td>0.0</td>\n",
       "      <td>0.0</td>\n",
       "      <td>1.0</td>\n",
       "    </tr>\n",
       "    <tr>\n",
       "      <th>4</th>\n",
       "      <td>0.666667</td>\n",
       "      <td>1.0</td>\n",
       "      <td>0.4</td>\n",
>>>>>>> accuracyTrial
       "      <td>1.0</td>\n",
       "      <td>0.0</td>\n",
       "      <td>0.5</td>\n",
       "      <td>0.0</td>\n",
       "      <td>0.5</td>\n",
       "      <td>0.455133</td>\n",
       "      <td>0.061008</td>\n",
       "      <td>...</td>\n",
       "      <td>0.0</td>\n",
       "      <td>0.0</td>\n",
       "      <td>0.0</td>\n",
       "      <td>0.0</td>\n",
       "      <td>0.0</td>\n",
       "      <td>0.0</td>\n",
       "      <td>0.0</td>\n",
       "      <td>0.0</td>\n",
       "      <td>0.0</td>\n",
       "      <td>1.0</td>\n",
       "    </tr>\n",
       "    <tr>\n",
       "      <th>...</th>\n",
       "      <td>...</td>\n",
       "      <td>...</td>\n",
       "      <td>...</td>\n",
       "      <td>...</td>\n",
       "      <td>...</td>\n",
       "      <td>...</td>\n",
       "      <td>...</td>\n",
       "      <td>...</td>\n",
       "      <td>...</td>\n",
       "      <td>...</td>\n",
       "      <td>...</td>\n",
       "      <td>...</td>\n",
       "      <td>...</td>\n",
       "      <td>...</td>\n",
       "      <td>...</td>\n",
       "      <td>...</td>\n",
       "      <td>...</td>\n",
       "      <td>...</td>\n",
       "      <td>...</td>\n",
       "      <td>...</td>\n",
       "      <td>...</td>\n",
       "    </tr>\n",
       "    <tr>\n",
       "      <th>718</th>\n",
       "      <td>0.666667</td>\n",
       "      <td>0.0</td>\n",
       "      <td>0.4</td>\n",
       "      <td>0.5</td>\n",
       "      <td>0.0</td>\n",
       "      <td>0.0</td>\n",
       "      <td>0.0</td>\n",
       "      <td>0.0</td>\n",
       "      <td>0.166218</td>\n",
       "      <td>0.026525</td>\n",
       "      <td>...</td>\n",
       "      <td>0.0</td>\n",
       "      <td>0.0</td>\n",
       "      <td>0.0</td>\n",
       "      <td>0.0</td>\n",
       "      <td>0.0</td>\n",
       "      <td>0.0</td>\n",
       "      <td>0.0</td>\n",
       "      <td>0.0</td>\n",
       "      <td>1.0</td>\n",
       "      <td>0.0</td>\n",
       "    </tr>\n",
       "    <tr>\n",
       "      <th>719</th>\n",
       "      <td>0.666667</td>\n",
       "      <td>1.0</td>\n",
       "      <td>0.4</td>\n",
       "      <td>1.0</td>\n",
       "      <td>0.0</td>\n",
       "      <td>0.0</td>\n",
       "      <td>1.0</td>\n",
       "      <td>0.0</td>\n",
       "      <td>0.202281</td>\n",
       "      <td>0.000000</td>\n",
       "      <td>...</td>\n",
       "      <td>0.0</td>\n",
       "      <td>0.0</td>\n",
       "      <td>0.0</td>\n",
       "      <td>0.0</td>\n",
       "      <td>0.0</td>\n",
       "      <td>0.0</td>\n",
       "      <td>0.0</td>\n",
       "      <td>0.0</td>\n",
       "      <td>1.0</td>\n",
       "      <td>0.0</td>\n",
       "    </tr>\n",
       "    <tr>\n",
       "      <th>720</th>\n",
       "      <td>0.666667</td>\n",
       "      <td>1.0</td>\n",
       "      <td>0.4</td>\n",
       "      <td>1.0</td>\n",
       "      <td>0.0</td>\n",
       "      <td>0.0</td>\n",
       "      <td>0.0</td>\n",
       "      <td>0.5</td>\n",
       "      <td>0.346768</td>\n",
       "      <td>0.127321</td>\n",
       "      <td>...</td>\n",
       "      <td>0.0</td>\n",
       "      <td>0.0</td>\n",
       "      <td>0.0</td>\n",
       "      <td>0.0</td>\n",
       "      <td>0.0</td>\n",
       "      <td>0.0</td>\n",
       "      <td>0.0</td>\n",
       "      <td>0.0</td>\n",
       "      <td>0.0</td>\n",
       "      <td>1.0</td>\n",
       "    </tr>\n",
       "    <tr>\n",
       "      <th>721</th>\n",
       "      <td>0.333333</td>\n",
       "      <td>1.0</td>\n",
       "      <td>0.6</td>\n",
       "      <td>0.0</td>\n",
       "      <td>0.5</td>\n",
       "      <td>0.5</td>\n",
       "      <td>0.0</td>\n",
       "      <td>0.0</td>\n",
       "      <td>0.526856</td>\n",
       "      <td>0.063660</td>\n",
       "      <td>...</td>\n",
       "      <td>0.0</td>\n",
       "      <td>0.0</td>\n",
       "      <td>0.0</td>\n",
       "      <td>0.0</td>\n",
       "      <td>0.0</td>\n",
       "      <td>0.0</td>\n",
       "      <td>0.0</td>\n",
       "      <td>0.0</td>\n",
       "      <td>1.0</td>\n",
       "      <td>0.0</td>\n",
       "    </tr>\n",
       "    <tr>\n",
       "      <th>722</th>\n",
       "      <td>0.666667</td>\n",
       "      <td>1.0</td>\n",
       "      <td>0.4</td>\n",
       "      <td>1.0</td>\n",
       "      <td>0.0</td>\n",
       "      <td>0.0</td>\n",
       "      <td>1.0</td>\n",
       "      <td>0.5</td>\n",
       "      <td>0.180608</td>\n",
       "      <td>0.000000</td>\n",
       "      <td>...</td>\n",
       "      <td>0.0</td>\n",
       "      <td>0.0</td>\n",
       "      <td>0.0</td>\n",
       "      <td>0.0</td>\n",
       "      <td>0.0</td>\n",
       "      <td>0.0</td>\n",
       "      <td>0.0</td>\n",
       "      <td>0.0</td>\n",
       "      <td>0.0</td>\n",
       "      <td>1.0</td>\n",
       "    </tr>\n",
       "  </tbody>\n",
       "</table>\n",
       "<p>706 rows × 42 columns</p>\n",
       "</div>"
      ],
      "text/plain": [
       "     processor_gnrtn  ram_gb  ram_type  ssd  hdd  graphic_card_gb  weight  \\\n",
       "0           0.666667     0.0       0.8  0.0  0.5              0.0     0.0   \n",
       "1           0.333333     1.0       0.6  0.0  0.5              1.0     0.0   \n",
       "2           0.666667     0.0       0.4  0.0  0.5              0.0     0.0   \n",
       "3           0.666667     0.0       0.4  0.5  0.0              0.0     0.0   \n",
       "4           0.666667     1.0       0.4  1.0  0.0              0.5     0.0   \n",
       "..               ...     ...       ...  ...  ...              ...     ...   \n",
       "718         0.666667     0.0       0.4  0.5  0.0              0.0     0.0   \n",
       "719         0.666667     1.0       0.4  1.0  0.0              0.0     1.0   \n",
       "720         0.666667     1.0       0.4  1.0  0.0              0.0     0.0   \n",
       "721         0.333333     1.0       0.6  0.0  0.5              0.5     0.0   \n",
       "722         0.666667     1.0       0.4  1.0  0.0              0.0     1.0   \n",
       "\n",
       "     warranty     Price  Number of Ratings  ...  processor_name_Ryzen 9  \\\n",
       "0         0.0  0.209506           0.000000  ...                     0.0   \n",
       "1         0.0  0.644245           0.409814  ...                     0.0   \n",
       "2         0.0  0.043346           0.000000  ...                     0.0   \n",
       "3         0.5  0.202281           0.111406  ...                     0.0   \n",
       "4         0.5  0.455133           0.061008  ...                     0.0   \n",
       "..        ...       ...                ...  ...                     ...   \n",
       "718       0.0  0.166218           0.026525  ...                     0.0   \n",
       "719       0.0  0.202281           0.000000  ...                     0.0   \n",
       "720       0.5  0.346768           0.127321  ...                     0.0   \n",
       "721       0.0  0.526856           0.063660  ...                     0.0   \n",
       "722       0.5  0.180608           0.000000  ...                     0.0   \n",
       "\n",
       "     os_32-bit DOS  os_32-bit Windows  os_64-bit DOS  os_64-bit Mac  \\\n",
       "0              0.0                0.0            0.0            0.0   \n",
       "1              0.0                0.0            0.0            0.0   \n",
       "2              0.0                0.0            0.0            0.0   \n",
       "3              0.0                0.0            0.0            0.0   \n",
       "4              0.0                0.0            0.0            0.0   \n",
       "..             ...                ...            ...            ...   \n",
       "718            0.0                0.0            0.0            0.0   \n",
       "719            0.0                0.0            0.0            0.0   \n",
       "720            0.0                0.0            0.0            0.0   \n",
       "721            0.0                0.0            0.0            0.0   \n",
       "722            0.0                0.0            0.0            0.0   \n",
       "\n",
       "     os_64-bit Windows  Touchscreen_No  Touchscreen_Yes  msoffice_0  \\\n",
       "0                  0.0             0.0              0.0         1.0   \n",
       "1                  0.0             0.0              0.0         1.0   \n",
       "2                  0.0             0.0              0.0         1.0   \n",
       "3                  0.0             0.0              0.0         0.0   \n",
       "4                  0.0             0.0              0.0         0.0   \n",
       "..                 ...             ...              ...         ...   \n",
       "718                0.0             0.0              0.0         1.0   \n",
       "719                0.0             0.0              0.0         1.0   \n",
       "720                0.0             0.0              0.0         0.0   \n",
       "721                0.0             0.0              0.0         1.0   \n",
       "722                0.0             0.0              0.0         0.0   \n",
       "\n",
       "     msoffice_1  \n",
       "0           0.0  \n",
       "1           0.0  \n",
       "2           0.0  \n",
       "3           1.0  \n",
       "4           1.0  \n",
       "..          ...  \n",
       "718         0.0  \n",
       "719         0.0  \n",
       "720         1.0  \n",
       "721         0.0  \n",
       "722         1.0  \n",
       "\n",
       "[706 rows x 42 columns]"
      ]
     },
<<<<<<< HEAD
     "execution_count": 2895,
=======
     "execution_count": 132,
>>>>>>> accuracyTrial
     "metadata": {},
     "output_type": "execute_result"
    }
   ],
   "source": [
    "X"
   ]
  },
  {
   "cell_type": "code",
<<<<<<< HEAD
   "execution_count": 2896,
=======
   "execution_count": 133,
>>>>>>> accuracyTrial
   "metadata": {},
   "outputs": [
    {
     "name": "stderr",
     "output_type": "stream",
     "text": [
      "C:\\Users\\DELL\\AppData\\Local\\Temp\\ipykernel_15680\\3569436995.py:2: FutureWarning: The default value of numeric_only in DataFrame.corr is deprecated. In a future version, it will default to False. Select only valid columns or specify the value of numeric_only to silence this warning.\n",
      "  corr = electro.corr()\n"
     ]
    },
    {
     "data": {
      "text/plain": [
       "<function matplotlib.pyplot.show(close=None, block=None)>"
      ]
     },
<<<<<<< HEAD
     "execution_count": 2896,
=======
     "execution_count": 133,
>>>>>>> accuracyTrial
     "metadata": {},
     "output_type": "execute_result"
    },
    {
     "data": {
      "image/png": "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\n",
      "text/plain": [
       "<Figure size 640x480 with 2 Axes>"
      ]
     },
     "metadata": {},
     "output_type": "display_data"
    }
   ],
   "source": [
    "#check the best features with Y\n",
    "corr = electro.corr()\n",
    "top_feature = corr.loc[abs(corr['rating'])>0.15,'rating']\n",
    "top_feature=pd.DataFrame(top_feature)\n",
    "sns.heatmap(top_feature,annot=True)\n",
    "plt.show\n"
   ]
  },
  {
   "cell_type": "code",
<<<<<<< HEAD
   "execution_count": 2897,
=======
   "execution_count": 134,
>>>>>>> accuracyTrial
   "metadata": {},
   "outputs": [
    {
     "data": {
      "text/html": [
       "<div>\n",
       "<style scoped>\n",
       "    .dataframe tbody tr th:only-of-type {\n",
       "        vertical-align: middle;\n",
       "    }\n",
       "\n",
       "    .dataframe tbody tr th {\n",
       "        vertical-align: top;\n",
       "    }\n",
       "\n",
       "    .dataframe thead th {\n",
       "        text-align: right;\n",
       "    }\n",
       "</style>\n",
       "<table border=\"1\" class=\"dataframe\">\n",
       "  <thead>\n",
       "    <tr style=\"text-align: right;\">\n",
       "      <th></th>\n",
       "      <th>rating</th>\n",
       "    </tr>\n",
       "  </thead>\n",
       "  <tbody>\n",
       "    <tr>\n",
       "      <th>ram_gb</th>\n",
       "      <td>0.164825</td>\n",
       "    </tr>\n",
       "    <tr>\n",
       "      <th>warranty</th>\n",
       "      <td>0.253623</td>\n",
       "    </tr>\n",
       "    <tr>\n",
       "      <th>rating</th>\n",
       "      <td>1.000000</td>\n",
       "    </tr>\n",
       "    <tr>\n",
       "      <th>Number of Ratings</th>\n",
       "      <td>0.430577</td>\n",
       "    </tr>\n",
       "    <tr>\n",
       "      <th>Number of Reviews</th>\n",
       "      <td>0.419867</td>\n",
       "    </tr>\n",
       "    <tr>\n",
       "      <th>msoffice_0</th>\n",
       "      <td>-0.193959</td>\n",
       "    </tr>\n",
       "    <tr>\n",
       "      <th>msoffice_1</th>\n",
       "      <td>0.193959</td>\n",
       "    </tr>\n",
       "  </tbody>\n",
       "</table>\n",
       "</div>"
      ],
      "text/plain": [
       "                     rating\n",
       "ram_gb             0.164825\n",
       "warranty           0.253623\n",
       "rating             1.000000\n",
       "Number of Ratings  0.430577\n",
       "Number of Reviews  0.419867\n",
       "msoffice_0        -0.193959\n",
       "msoffice_1         0.193959"
      ]
     },
<<<<<<< HEAD
     "execution_count": 2897,
=======
     "execution_count": 134,
>>>>>>> accuracyTrial
     "metadata": {},
     "output_type": "execute_result"
    }
   ],
   "source": [
    "top_feature"
   ]
  },
  {
   "cell_type": "code",
<<<<<<< HEAD
   "execution_count": 2898,
   "metadata": {},
   "outputs": [
    {
     "data": {
      "text/html": [
       "<div>\n",
       "<style scoped>\n",
       "    .dataframe tbody tr th:only-of-type {\n",
       "        vertical-align: middle;\n",
       "    }\n",
       "\n",
       "    .dataframe tbody tr th {\n",
       "        vertical-align: top;\n",
       "    }\n",
       "\n",
       "    .dataframe thead th {\n",
       "        text-align: right;\n",
       "    }\n",
       "</style>\n",
       "<table border=\"1\" class=\"dataframe\">\n",
       "  <thead>\n",
       "    <tr style=\"text-align: right;\">\n",
       "      <th></th>\n",
       "      <th>ram_gb</th>\n",
       "      <th>warranty</th>\n",
       "      <th>Number of Ratings</th>\n",
       "      <th>Number of Reviews</th>\n",
       "      <th>msoffice_Yes</th>\n",
       "    </tr>\n",
       "  </thead>\n",
       "  <tbody>\n",
       "    <tr>\n",
       "      <th>0</th>\n",
       "      <td>0.0</td>\n",
       "      <td>0.0</td>\n",
       "      <td>0.000000</td>\n",
       "      <td>0.000000</td>\n",
       "      <td>0.0</td>\n",
       "    </tr>\n",
       "    <tr>\n",
       "      <th>1</th>\n",
       "      <td>1.0</td>\n",
       "      <td>0.0</td>\n",
       "      <td>0.409814</td>\n",
       "      <td>0.403061</td>\n",
       "      <td>0.0</td>\n",
       "    </tr>\n",
       "    <tr>\n",
       "      <th>2</th>\n",
       "      <td>0.0</td>\n",
       "      <td>0.0</td>\n",
       "      <td>0.000000</td>\n",
       "      <td>0.000000</td>\n",
       "      <td>0.0</td>\n",
       "    </tr>\n",
       "    <tr>\n",
       "      <th>3</th>\n",
       "      <td>0.0</td>\n",
       "      <td>0.5</td>\n",
       "      <td>0.111406</td>\n",
       "      <td>0.081633</td>\n",
       "      <td>1.0</td>\n",
       "    </tr>\n",
       "    <tr>\n",
       "      <th>4</th>\n",
       "      <td>1.0</td>\n",
       "      <td>0.5</td>\n",
       "      <td>0.061008</td>\n",
       "      <td>0.122449</td>\n",
       "      <td>1.0</td>\n",
       "    </tr>\n",
       "    <tr>\n",
       "      <th>...</th>\n",
       "      <td>...</td>\n",
       "      <td>...</td>\n",
       "      <td>...</td>\n",
       "      <td>...</td>\n",
       "      <td>...</td>\n",
       "    </tr>\n",
       "    <tr>\n",
       "      <th>718</th>\n",
       "      <td>0.0</td>\n",
       "      <td>0.0</td>\n",
       "      <td>0.026525</td>\n",
       "      <td>0.020408</td>\n",
       "      <td>0.0</td>\n",
       "    </tr>\n",
       "    <tr>\n",
       "      <th>719</th>\n",
       "      <td>1.0</td>\n",
       "      <td>0.0</td>\n",
       "      <td>0.000000</td>\n",
       "      <td>0.000000</td>\n",
       "      <td>0.0</td>\n",
       "    </tr>\n",
       "    <tr>\n",
       "      <th>720</th>\n",
       "      <td>1.0</td>\n",
       "      <td>0.5</td>\n",
       "      <td>0.127321</td>\n",
       "      <td>0.244898</td>\n",
       "      <td>1.0</td>\n",
       "    </tr>\n",
       "    <tr>\n",
       "      <th>721</th>\n",
       "      <td>1.0</td>\n",
       "      <td>0.0</td>\n",
       "      <td>0.063660</td>\n",
       "      <td>0.102041</td>\n",
       "      <td>0.0</td>\n",
       "    </tr>\n",
       "    <tr>\n",
       "      <th>722</th>\n",
       "      <td>1.0</td>\n",
       "      <td>0.5</td>\n",
       "      <td>0.000000</td>\n",
       "      <td>0.000000</td>\n",
       "      <td>1.0</td>\n",
       "    </tr>\n",
       "  </tbody>\n",
       "</table>\n",
       "<p>706 rows × 5 columns</p>\n",
       "</div>"
      ],
      "text/plain": [
       "     ram_gb  warranty  Number of Ratings  Number of Reviews  msoffice_Yes\n",
       "0       0.0       0.0           0.000000           0.000000           0.0\n",
       "1       1.0       0.0           0.409814           0.403061           0.0\n",
       "2       0.0       0.0           0.000000           0.000000           0.0\n",
       "3       0.0       0.5           0.111406           0.081633           1.0\n",
       "4       1.0       0.5           0.061008           0.122449           1.0\n",
       "..      ...       ...                ...                ...           ...\n",
       "718     0.0       0.0           0.026525           0.020408           0.0\n",
       "719     1.0       0.0           0.000000           0.000000           0.0\n",
       "720     1.0       0.5           0.127321           0.244898           1.0\n",
       "721     1.0       0.0           0.063660           0.102041           0.0\n",
       "722     1.0       0.5           0.000000           0.000000           1.0\n",
       "\n",
       "[706 rows x 5 columns]"
      ]
     },
     "execution_count": 2898,
     "metadata": {},
     "output_type": "execute_result"
    }
   ],
=======
   "execution_count": 135,
   "metadata": {},
   "outputs": [],
>>>>>>> accuracyTrial
   "source": [
    "\n",
    "Y=electro['rating']\n",
    "#first_X.pop('msoffice_No')\n",
    "#first_X.pop('rating')\n",
    "top_feature = top_feature.drop('rating')\n",
    "\n",
    "#top_feature\n",
    "first_X= X[top_feature.index]\n",
    "#first_X['brand_APPLE'] = X['brand_APPLE']\n",
    "#first_X['os_32-bit Windows'] = X['os_32-bit Windows']"
   ]
  },
  {
   "cell_type": "code",
<<<<<<< HEAD
   "execution_count": 2899,
=======
   "execution_count": 136,
>>>>>>> accuracyTrial
   "metadata": {},
   "outputs": [],
   "source": [
    "#normalize the data\n",
    "#scaler =  MinMaxScaler(feature_range=(0,1))\n",
    "#first_X= pd.DataFrame(scaler.fit_transform(first_X),index=first_X.index,columns=first_X.columns)\n"
   ]
  },
  {
   "cell_type": "code",
<<<<<<< HEAD
   "execution_count": 2900,
=======
   "execution_count": 137,
>>>>>>> accuracyTrial
   "metadata": {},
   "outputs": [
    {
     "data": {
      "text/html": [
       "<div>\n",
       "<style scoped>\n",
       "    .dataframe tbody tr th:only-of-type {\n",
       "        vertical-align: middle;\n",
       "    }\n",
       "\n",
       "    .dataframe tbody tr th {\n",
       "        vertical-align: top;\n",
       "    }\n",
       "\n",
       "    .dataframe thead th {\n",
       "        text-align: right;\n",
       "    }\n",
       "</style>\n",
       "<table border=\"1\" class=\"dataframe\">\n",
       "  <thead>\n",
       "    <tr style=\"text-align: right;\">\n",
       "      <th></th>\n",
       "      <th>ram_gb</th>\n",
       "      <th>warranty</th>\n",
       "      <th>Number of Ratings</th>\n",
       "      <th>Number of Reviews</th>\n",
       "      <th>msoffice_0</th>\n",
       "      <th>msoffice_1</th>\n",
       "    </tr>\n",
       "  </thead>\n",
       "  <tbody>\n",
       "    <tr>\n",
       "      <th>0</th>\n",
       "      <td>0.0</td>\n",
       "      <td>0.0</td>\n",
       "      <td>0.000000</td>\n",
       "      <td>0.000000</td>\n",
       "      <td>1.0</td>\n",
       "      <td>0.0</td>\n",
       "    </tr>\n",
       "    <tr>\n",
       "      <th>1</th>\n",
       "      <td>1.0</td>\n",
       "      <td>0.0</td>\n",
       "      <td>0.409814</td>\n",
       "      <td>0.403061</td>\n",
       "      <td>1.0</td>\n",
       "      <td>0.0</td>\n",
       "    </tr>\n",
       "    <tr>\n",
       "      <th>2</th>\n",
       "      <td>0.0</td>\n",
       "      <td>0.0</td>\n",
       "      <td>0.000000</td>\n",
       "      <td>0.000000</td>\n",
       "      <td>1.0</td>\n",
       "      <td>0.0</td>\n",
       "    </tr>\n",
       "    <tr>\n",
       "      <th>3</th>\n",
       "      <td>0.0</td>\n",
       "      <td>0.5</td>\n",
       "      <td>0.111406</td>\n",
       "      <td>0.081633</td>\n",
       "      <td>0.0</td>\n",
       "      <td>1.0</td>\n",
       "    </tr>\n",
       "    <tr>\n",
       "      <th>4</th>\n",
       "      <td>1.0</td>\n",
       "      <td>0.5</td>\n",
       "      <td>0.061008</td>\n",
       "      <td>0.122449</td>\n",
       "      <td>0.0</td>\n",
       "      <td>1.0</td>\n",
       "    </tr>\n",
       "    <tr>\n",
       "      <th>...</th>\n",
       "      <td>...</td>\n",
       "      <td>...</td>\n",
       "      <td>...</td>\n",
       "      <td>...</td>\n",
       "      <td>...</td>\n",
       "      <td>...</td>\n",
       "    </tr>\n",
       "    <tr>\n",
       "      <th>718</th>\n",
       "      <td>0.0</td>\n",
       "      <td>0.0</td>\n",
       "      <td>0.026525</td>\n",
       "      <td>0.020408</td>\n",
       "      <td>1.0</td>\n",
       "      <td>0.0</td>\n",
       "    </tr>\n",
       "    <tr>\n",
       "      <th>719</th>\n",
       "      <td>1.0</td>\n",
       "      <td>0.0</td>\n",
       "      <td>0.000000</td>\n",
       "      <td>0.000000</td>\n",
       "      <td>1.0</td>\n",
       "      <td>0.0</td>\n",
       "    </tr>\n",
       "    <tr>\n",
       "      <th>720</th>\n",
       "      <td>1.0</td>\n",
       "      <td>0.5</td>\n",
       "      <td>0.127321</td>\n",
       "      <td>0.244898</td>\n",
       "      <td>0.0</td>\n",
       "      <td>1.0</td>\n",
       "    </tr>\n",
       "    <tr>\n",
       "      <th>721</th>\n",
       "      <td>1.0</td>\n",
       "      <td>0.0</td>\n",
       "      <td>0.063660</td>\n",
       "      <td>0.102041</td>\n",
       "      <td>1.0</td>\n",
       "      <td>0.0</td>\n",
       "    </tr>\n",
       "    <tr>\n",
       "      <th>722</th>\n",
       "      <td>1.0</td>\n",
       "      <td>0.5</td>\n",
       "      <td>0.000000</td>\n",
       "      <td>0.000000</td>\n",
       "      <td>0.0</td>\n",
       "      <td>1.0</td>\n",
       "    </tr>\n",
       "  </tbody>\n",
       "</table>\n",
       "<p>706 rows × 6 columns</p>\n",
       "</div>"
      ],
      "text/plain": [
       "     ram_gb  warranty  Number of Ratings  Number of Reviews  msoffice_0  \\\n",
       "0       0.0       0.0           0.000000           0.000000         1.0   \n",
       "1       1.0       0.0           0.409814           0.403061         1.0   \n",
       "2       0.0       0.0           0.000000           0.000000         1.0   \n",
       "3       0.0       0.5           0.111406           0.081633         0.0   \n",
       "4       1.0       0.5           0.061008           0.122449         0.0   \n",
       "..      ...       ...                ...                ...         ...   \n",
       "718     0.0       0.0           0.026525           0.020408         1.0   \n",
       "719     1.0       0.0           0.000000           0.000000         1.0   \n",
       "720     1.0       0.5           0.127321           0.244898         0.0   \n",
       "721     1.0       0.0           0.063660           0.102041         1.0   \n",
       "722     1.0       0.5           0.000000           0.000000         0.0   \n",
       "\n",
       "     msoffice_1  \n",
       "0           0.0  \n",
       "1           0.0  \n",
       "2           0.0  \n",
       "3           1.0  \n",
       "4           1.0  \n",
       "..          ...  \n",
       "718         0.0  \n",
       "719         0.0  \n",
       "720         1.0  \n",
       "721         0.0  \n",
       "722         1.0  \n",
       "\n",
       "[706 rows x 6 columns]"
      ]
     },
<<<<<<< HEAD
     "execution_count": 2900,
=======
     "execution_count": 137,
>>>>>>> accuracyTrial
     "metadata": {},
     "output_type": "execute_result"
    }
   ],
   "source": [
    "first_X"
   ]
  },
  {
   "cell_type": "code",
<<<<<<< HEAD
   "execution_count": 2901,
   "metadata": {},
   "outputs": [
    {
     "data": {
      "image/png": "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\n",
      "text/plain": [
       "<Figure size 1200x600 with 1 Axes>"
      ]
     },
     "metadata": {},
     "output_type": "display_data"
    },
    {
     "name": "stdout",
     "output_type": "stream",
     "text": [
      "                   Information Gain\n",
      "Number of Ratings          0.417514\n",
      "Number of Reviews          0.273224\n"
     ]
    },
    {
     "data": {
      "text/html": [
       "<div>\n",
       "<style scoped>\n",
       "    .dataframe tbody tr th:only-of-type {\n",
       "        vertical-align: middle;\n",
       "    }\n",
       "\n",
       "    .dataframe tbody tr th {\n",
       "        vertical-align: top;\n",
       "    }\n",
       "\n",
       "    .dataframe thead th {\n",
       "        text-align: right;\n",
       "    }\n",
       "</style>\n",
       "<table border=\"1\" class=\"dataframe\">\n",
       "  <thead>\n",
       "    <tr style=\"text-align: right;\">\n",
       "      <th></th>\n",
       "      <th>Number of Ratings</th>\n",
       "      <th>Number of Reviews</th>\n",
       "    </tr>\n",
       "  </thead>\n",
       "  <tbody>\n",
       "    <tr>\n",
       "      <th>0</th>\n",
       "      <td>0.000000</td>\n",
       "      <td>0.000000</td>\n",
       "    </tr>\n",
       "    <tr>\n",
       "      <th>1</th>\n",
       "      <td>0.409814</td>\n",
       "      <td>0.403061</td>\n",
       "    </tr>\n",
       "    <tr>\n",
       "      <th>2</th>\n",
       "      <td>0.000000</td>\n",
       "      <td>0.000000</td>\n",
       "    </tr>\n",
       "    <tr>\n",
       "      <th>3</th>\n",
       "      <td>0.111406</td>\n",
       "      <td>0.081633</td>\n",
       "    </tr>\n",
       "    <tr>\n",
       "      <th>4</th>\n",
       "      <td>0.061008</td>\n",
       "      <td>0.122449</td>\n",
       "    </tr>\n",
       "    <tr>\n",
       "      <th>...</th>\n",
       "      <td>...</td>\n",
       "      <td>...</td>\n",
       "    </tr>\n",
       "    <tr>\n",
       "      <th>718</th>\n",
       "      <td>0.026525</td>\n",
       "      <td>0.020408</td>\n",
       "    </tr>\n",
       "    <tr>\n",
       "      <th>719</th>\n",
       "      <td>0.000000</td>\n",
       "      <td>0.000000</td>\n",
       "    </tr>\n",
       "    <tr>\n",
       "      <th>720</th>\n",
       "      <td>0.127321</td>\n",
       "      <td>0.244898</td>\n",
       "    </tr>\n",
       "    <tr>\n",
       "      <th>721</th>\n",
       "      <td>0.063660</td>\n",
       "      <td>0.102041</td>\n",
       "    </tr>\n",
       "    <tr>\n",
       "      <th>722</th>\n",
       "      <td>0.000000</td>\n",
       "      <td>0.000000</td>\n",
       "    </tr>\n",
       "  </tbody>\n",
       "</table>\n",
       "<p>706 rows × 2 columns</p>\n",
       "</div>"
      ],
      "text/plain": [
       "     Number of Ratings  Number of Reviews\n",
       "0             0.000000           0.000000\n",
       "1             0.409814           0.403061\n",
       "2             0.000000           0.000000\n",
       "3             0.111406           0.081633\n",
       "4             0.061008           0.122449\n",
       "..                 ...                ...\n",
       "718           0.026525           0.020408\n",
       "719           0.000000           0.000000\n",
       "720           0.127321           0.244898\n",
       "721           0.063660           0.102041\n",
       "722           0.000000           0.000000\n",
       "\n",
       "[706 rows x 2 columns]"
      ]
     },
     "execution_count": 2901,
     "metadata": {},
     "output_type": "execute_result"
    }
   ],
   "source": [
    "from sklearn.feature_selection import mutual_info_regression\n",
    "\n",
    "# Calculate information gain for each feature\n",
    "info_gain = mutual_info_regression(X, Y)\n",
    "\n",
    "# Select features with information gain greater than 0.15\n",
    "top_feature_idx = np.where(info_gain > 0.15)[0]\n",
    "top_feature_names = X.columns[top_feature_idx]\n",
    "top_feature_df = pd.DataFrame(data=info_gain[top_feature_idx], index=top_feature_names, columns=['Information Gain'])\n",
    "\n",
    "plt.figure(figsize=(12, 6))\n",
    "#plt.barh(X.columns, info_gain, color='skyblue', height=0.6)\n",
    "plt.bar(X.columns, info_gain,width=0.5)\n",
    "plt.xticks(rotation = 90)\n",
    "plt.xlabel('Features')\n",
    "plt.ylabel('Information Gain')\n",
    "plt.title('Information Gain for Feature Selection')\n",
    "plt.show()\n",
    "print(top_feature_df)\n",
    "third_feature_selection = X[top_feature_df.index]\n",
    "third_feature_selection"
   ]
  },
  {
   "cell_type": "code",
   "execution_count": 2902,
=======
   "execution_count": 138,
>>>>>>> accuracyTrial
   "metadata": {},
   "outputs": [
    {
     "name": "stdout",
     "output_type": "stream",
     "text": [
      "Chi-Square scores:\n",
      "                         Feature  Chi-Square Score\n",
      "0                        weight          9.470962\n",
      "1                      msoffice         18.603335\n",
      "2                      ram_type          1.780788\n",
      "3                   brand_APPLE         16.388648\n",
      "4                    brand_ASUS          4.448450\n",
      "5                   brand_Avita          7.843137\n",
      "6                    brand_DELL          0.646671\n",
      "7                      brand_HP          4.313418\n",
      "8                  brand_Lenovo          4.659740\n",
      "9                     brand_MSI          5.333311\n",
      "10                   brand_acer          1.317812\n",
      "11          processor_brand_AMD          2.723269\n",
      "12        processor_brand_Intel          1.874777\n",
      "13           processor_brand_M1         14.365061\n",
      "14  processor_name_Celeron Dual          9.965492\n",
      "15       processor_name_Core i3          1.921731\n",
      "16       processor_name_Core i5          2.026043\n",
      "17       processor_name_Core i7          7.653688\n",
      "18       processor_name_Core i9          9.968147\n",
      "19            processor_name_M1         14.365061\n",
      "20  processor_name_Pentium Quad          1.281479\n",
      "21       processor_name_Ryzen 3          2.540217\n",
      "22       processor_name_Ryzen 5         11.302213\n",
      "23       processor_name_Ryzen 7          5.648218\n",
      "24       processor_name_Ryzen 9          2.242750\n",
      "25                os_32-bit DOS          0.841016\n",
      "26            os_32-bit Windows         15.753164\n",
      "27                os_64-bit DOS          0.853018\n",
      "28                os_64-bit Mac         16.388648\n",
      "29            os_64-bit Windows          0.723605\n",
      "30               Touchscreen_No          0.287000\n",
      "31              Touchscreen_Yes          2.069071\n"
     ]
    }
   ],
   "source": [
    "best_features = SelectKBest(score_func=chi2, k=3)\n",
    "fit = best_features.fit(categoricalData, Y_categorical)\n",
    "\n",
    "# Summarize scores\n",
    "chi_scores = pd.DataFrame(fit.scores_, columns=[\"Chi-Square Score\"])\n",
    "columns = pd.DataFrame(categoricalData.columns, columns=[\"Feature\"])\n",
    "chi_summary = pd.concat([columns, chi_scores], axis=1)\n",
    "\n",
    "print(\"Chi-Square scores:\\n\", chi_summary)"
   ]
  },
  {
   "cell_type": "code",
   "execution_count": 139,
   "metadata": {},
   "outputs": [
    {
     "data": {
      "image/png": "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\n",
      "text/plain": [
       "<Figure size 1200x600 with 1 Axes>"
      ]
     },
     "metadata": {},
     "output_type": "display_data"
    },
    {
     "name": "stdout",
     "output_type": "stream",
     "text": [
      "                   Information Gain\n",
      "Number of Ratings          0.404917\n",
      "Number of Reviews          0.301437\n"
     ]
    },
    {
     "data": {
      "text/html": [
       "<div>\n",
       "<style scoped>\n",
       "    .dataframe tbody tr th:only-of-type {\n",
       "        vertical-align: middle;\n",
       "    }\n",
       "\n",
       "    .dataframe tbody tr th {\n",
       "        vertical-align: top;\n",
       "    }\n",
       "\n",
       "    .dataframe thead th {\n",
       "        text-align: right;\n",
       "    }\n",
       "</style>\n",
       "<table border=\"1\" class=\"dataframe\">\n",
       "  <thead>\n",
       "    <tr style=\"text-align: right;\">\n",
       "      <th></th>\n",
       "      <th>Number of Ratings</th>\n",
       "      <th>Number of Reviews</th>\n",
       "    </tr>\n",
       "  </thead>\n",
       "  <tbody>\n",
       "    <tr>\n",
       "      <th>0</th>\n",
       "      <td>0.000000</td>\n",
       "      <td>0.000000</td>\n",
       "    </tr>\n",
       "    <tr>\n",
       "      <th>1</th>\n",
       "      <td>0.409814</td>\n",
       "      <td>0.403061</td>\n",
       "    </tr>\n",
       "    <tr>\n",
       "      <th>2</th>\n",
       "      <td>0.000000</td>\n",
       "      <td>0.000000</td>\n",
       "    </tr>\n",
       "    <tr>\n",
       "      <th>3</th>\n",
       "      <td>0.111406</td>\n",
       "      <td>0.081633</td>\n",
       "    </tr>\n",
       "    <tr>\n",
       "      <th>4</th>\n",
       "      <td>0.061008</td>\n",
       "      <td>0.122449</td>\n",
       "    </tr>\n",
       "    <tr>\n",
       "      <th>...</th>\n",
       "      <td>...</td>\n",
       "      <td>...</td>\n",
       "    </tr>\n",
       "    <tr>\n",
       "      <th>718</th>\n",
       "      <td>0.026525</td>\n",
       "      <td>0.020408</td>\n",
       "    </tr>\n",
       "    <tr>\n",
       "      <th>719</th>\n",
       "      <td>0.000000</td>\n",
       "      <td>0.000000</td>\n",
       "    </tr>\n",
       "    <tr>\n",
       "      <th>720</th>\n",
       "      <td>0.127321</td>\n",
       "      <td>0.244898</td>\n",
       "    </tr>\n",
       "    <tr>\n",
       "      <th>721</th>\n",
       "      <td>0.063660</td>\n",
       "      <td>0.102041</td>\n",
       "    </tr>\n",
       "    <tr>\n",
       "      <th>722</th>\n",
       "      <td>0.000000</td>\n",
       "      <td>0.000000</td>\n",
       "    </tr>\n",
       "  </tbody>\n",
       "</table>\n",
       "<p>706 rows × 2 columns</p>\n",
       "</div>"
      ],
      "text/plain": [
       "     Number of Ratings  Number of Reviews\n",
       "0             0.000000           0.000000\n",
       "1             0.409814           0.403061\n",
       "2             0.000000           0.000000\n",
       "3             0.111406           0.081633\n",
       "4             0.061008           0.122449\n",
       "..                 ...                ...\n",
       "718           0.026525           0.020408\n",
       "719           0.000000           0.000000\n",
       "720           0.127321           0.244898\n",
       "721           0.063660           0.102041\n",
       "722           0.000000           0.000000\n",
       "\n",
       "[706 rows x 2 columns]"
      ]
     },
     "execution_count": 139,
     "metadata": {},
     "output_type": "execute_result"
    }
   ],
   "source": [
    "from sklearn.feature_selection import mutual_info_regression\n",
    "\n",
    "# Calculate information gain for each feature\n",
    "info_gain = mutual_info_regression(X, Y)\n",
    "\n",
    "# Select features with information gain greater than 0.15\n",
    "top_feature_idx = np.where(info_gain > 0.15)[0]\n",
    "top_feature_names = X.columns[top_feature_idx]\n",
    "top_feature_df = pd.DataFrame(data=info_gain[top_feature_idx], index=top_feature_names, columns=['Information Gain'])\n",
    "\n",
    "plt.figure(figsize=(12, 6))\n",
    "#plt.barh(X.columns, info_gain, color='skyblue', height=0.6)\n",
    "plt.bar(X.columns, info_gain,width=0.5)\n",
    "plt.xticks(rotation = 90)\n",
    "plt.xlabel('Features')\n",
    "plt.ylabel('Information Gain')\n",
    "plt.title('Information Gain for Feature Selection')\n",
    "plt.show()\n",
    "print(top_feature_df)\n",
    "third_feature_selection = X[top_feature_df.index]\n",
    "third_feature_selection"
   ]
  },
  {
   "cell_type": "code",
   "execution_count": 140,
   "metadata": {},
   "outputs": [
    {
     "name": "stdout",
     "output_type": "stream",
     "text": [
      "Mean Squared Error: 0.018929913870150916\n",
      "Mean Squared Error of train: 0.025583328944468443\n",
      "R^2 Score: 0.35589885255547105\n",
      "Cross-Validation Mean Squared Error: 0.02498069193388606\n",
      "Accuracy :  0.24958828821089774\n"
     ]
    }
   ],
   "source": [
    "#linear regression model\n",
    "X_train, X_test, y_train, y_test = train_test_split(first_X, Y, test_size=0.15, random_state= 130, shuffle = True)\n",
    "\n",
    "\n",
    "\n",
    "model = LinearRegression()\n",
    "model.fit(X_train, y_train)\n",
    "y_pred = model.predict(X_test) \n",
    "y_pred_train = model.predict(X_train)\n",
    "mse = mean_squared_error(y_test, y_pred)\n",
    "mse_train = mean_squared_error(y_train, y_pred_train)\n",
    "r2 = r2_score(y_test, y_pred)\n",
    "print(\"Mean Squared Error:\", mse)\n",
    "print(\"Mean Squared Error of train:\", mse_train)\n",
    "\n",
    "print(\"R^2 Score:\", r2)\n",
    "\n",
    "cv_mse = -cross_val_score(model, first_X, Y, cv=10, scoring='neg_mean_squared_error')\n",
    "print(\"Cross-Validation Mean Squared Error:\", cv_mse.mean())\n",
    "\n",
    "cv = KFold(n_splits=10, random_state=1, shuffle=True)\n",
    "\n",
    "scores = cross_val_score(model, first_X, Y, \n",
    "                         cv=cv)\n",
    "\n",
    "print(\"Accuracy : \" ,scores.mean())\n"
   ]
  },
  {
   "cell_type": "code",
<<<<<<< HEAD
   "execution_count": 2903,
=======
   "execution_count": 141,
>>>>>>> accuracyTrial
   "metadata": {},
   "outputs": [
    {
     "name": "stdout",
     "output_type": "stream",
     "text": [
      "Mean Squared Error: 0.019373840955314546\n",
      "Mean Squared Error of train: 0.025755839695064814\n",
      "R^2 Score: 0.34079397955409585\n",
      "Cross-Validation Mean Squared Error: 0.025067881161411905\n",
      "Accuracy :  0.24780377012723992\n"
     ]
    }
   ],
   "source": [
    "#ridge regression model\n",
    "model = Ridge(alpha=10)\n",
    "model.fit(X_train, y_train)\n",
    "y_ridge = model.predict(X_test)\n",
    "y_ridge_train = model.predict(X_train)\n",
    "mse_ridge = mean_squared_error(y_test, y_ridge)\n",
    "mse_ridge_train = mean_squared_error(y_train, y_ridge_train)\n",
    "\n",
    "r2_ridge = r2_score(y_test, y_ridge)\n",
    "\n",
    "\n",
    "print(\"Mean Squared Error:\", mse_ridge)\n",
    "print(\"Mean Squared Error of train:\", mse_ridge_train)\n",
    "print(\"R^2 Score:\", r2_ridge)\n",
    "\n",
    "cv_mse_ridge = -cross_val_score(model, first_X, Y, cv=10, scoring='neg_mean_squared_error')\n",
    "print(\"Cross-Validation Mean Squared Error:\", cv_mse_ridge.mean())\n",
    "\n",
    "cv = KFold(n_splits=10, random_state=1, shuffle=True)\n",
    "scores = cross_val_score(model, first_X, Y, \n",
    "                         cv=cv)\n",
    "\n",
    "print(\"Accuracy : \" ,scores.mean())\n"
   ]
  },
  {
   "cell_type": "code",
<<<<<<< HEAD
   "execution_count": 2904,
=======
   "execution_count": 142,
>>>>>>> accuracyTrial
   "metadata": {},
   "outputs": [
    {
     "name": "stdout",
     "output_type": "stream",
     "text": [
      "Mean Squared Error: 0.019106874218743082\n",
      "Mean Squared Error of train: 0.025618990609240444\n",
      "R^2 Score: 0.3498776754723505\n",
      "Cross-Validation Mean Squared Error: 0.025018544578119084\n",
      "Accuracy :  0.24836950805458438\n"
     ]
    }
   ],
   "source": [
    "#lasso regression model\n",
    "model = Lasso(alpha=0.001)\n",
    "model.fit(X_train, y_train)\n",
    "y_lasso = model.predict(X_test)\n",
    "y_lasso_train = model.predict(X_train)\n",
    "\n",
    "mse_lasso = mean_squared_error(y_test, y_lasso)\n",
    "mse_lasso_train = mean_squared_error(y_train, y_lasso_train)\n",
    "\n",
    "r2_lasso = r2_score(y_test, y_lasso)\n",
    "\n",
    "\n",
    "print(\"Mean Squared Error:\", mse_lasso)\n",
    "print(\"Mean Squared Error of train:\", mse_lasso_train)\n",
    "print(\"R^2 Score:\", r2_lasso)\n",
    "\n",
    "cv_mse_lasso = -cross_val_score(model, first_X, Y, cv=10, scoring='neg_mean_squared_error')\n",
    "print(\"Cross-Validation Mean Squared Error:\", cv_mse_lasso.mean())\n",
    "\n",
    "cv = KFold(n_splits=10, random_state=1, shuffle=True)\n",
    "scores = cross_val_score(model, first_X, Y, \n",
    "                         cv=cv)\n",
    "\n",
    "print(\"Accuracy : \" ,scores.mean())"
   ]
  },
  {
   "cell_type": "code",
<<<<<<< HEAD
   "execution_count": 2905,
=======
   "execution_count": 143,
   "metadata": {},
   "outputs": [
    {
     "name": "stdout",
     "output_type": "stream",
     "text": [
      "Mean Squared Error: 0.01913187725457756\n",
      "Mean Squared Error of train: 0.022612327776021436\n",
      "R^2 Score: 0.3498776754723505\n",
      "Cross-Validation Mean Squared Error: 0.02498069193388606\n",
      "Accuracy :  0.24958828821089774\n"
     ]
    }
   ],
   "source": [
    "#polynomial regression\n",
    "polynomial_features = PolynomialFeatures(degree=2)\n",
    "first_X_poly = polynomial_features.fit_transform(X_train)\n",
    "first_X_poly_test = polynomial_features.fit_transform(X_test)\n",
    "\n",
    "\n",
    "# Model\n",
    "model = LinearRegression()\n",
    "model.fit(first_X_poly, y_train)\n",
    "y_poly_pred = model.predict(first_X_poly_test)\n",
    "y_poly_train = model.predict(first_X_poly)\n",
    "mse_poly = mean_squared_error(y_test, y_poly_pred)\n",
    "mse_poly_train = mean_squared_error(y_train, y_poly_train)\n",
    "\n",
    "r2_poly = r2_score(y_test, y_poly_pred)\n",
    "\n",
    "\n",
    "print(\"Mean Squared Error:\", mse_poly)\n",
    "print(\"Mean Squared Error of train:\", mse_poly_train)\n",
    "print(\"R^2 Score:\", r2_lasso)\n",
    "\n",
    "cv_mse_poly = -cross_val_score(model, first_X, Y, cv=10, scoring='neg_mean_squared_error')\n",
    "print(\"Cross-Validation Mean Squared Error:\", cv_mse_poly.mean())\n",
    "\n",
    "cv_poly = KFold(n_splits=10, random_state=1, shuffle=True)\n",
    "scores = cross_val_score(model, first_X, Y, \n",
    "                         cv=cv_poly)\n",
    "\n",
    "print(\"Accuracy : \" ,scores.mean())"
   ]
  },
  {
   "cell_type": "code",
   "execution_count": 144,
   "metadata": {},
   "outputs": [
    {
     "ename": "ValueError",
     "evalue": "Unknown label type: 'continuous'",
     "output_type": "error",
     "traceback": [
      "\u001b[1;31m---------------------------------------------------------------------------\u001b[0m",
      "\u001b[1;31mValueError\u001b[0m                                Traceback (most recent call last)",
      "Cell \u001b[1;32mIn[144], line 3\u001b[0m\n\u001b[0;32m      1\u001b[0m \u001b[38;5;66;03m#logistic\u001b[39;00m\n\u001b[0;32m      2\u001b[0m model \u001b[38;5;241m=\u001b[39m LogisticRegression()\n\u001b[1;32m----> 3\u001b[0m \u001b[43mmodel\u001b[49m\u001b[38;5;241;43m.\u001b[39;49m\u001b[43mfit\u001b[49m\u001b[43m(\u001b[49m\u001b[43mX_train\u001b[49m\u001b[43m,\u001b[49m\u001b[43m \u001b[49m\u001b[43my_train\u001b[49m\u001b[43m)\u001b[49m\n\u001b[0;32m      4\u001b[0m y_pred_log \u001b[38;5;241m=\u001b[39m model\u001b[38;5;241m.\u001b[39mpredict(X_test) \n\u001b[0;32m      5\u001b[0m y_pred_train_log \u001b[38;5;241m=\u001b[39m model\u001b[38;5;241m.\u001b[39mpredict(X_train)\n",
      "File \u001b[1;32m~\\anaconda3\\lib\\site-packages\\sklearn\\linear_model\\_logistic.py:1204\u001b[0m, in \u001b[0;36mLogisticRegression.fit\u001b[1;34m(self, X, y, sample_weight)\u001b[0m\n\u001b[0;32m   1194\u001b[0m     _dtype \u001b[38;5;241m=\u001b[39m [np\u001b[38;5;241m.\u001b[39mfloat64, np\u001b[38;5;241m.\u001b[39mfloat32]\n\u001b[0;32m   1196\u001b[0m X, y \u001b[38;5;241m=\u001b[39m \u001b[38;5;28mself\u001b[39m\u001b[38;5;241m.\u001b[39m_validate_data(\n\u001b[0;32m   1197\u001b[0m     X,\n\u001b[0;32m   1198\u001b[0m     y,\n\u001b[1;32m   (...)\u001b[0m\n\u001b[0;32m   1202\u001b[0m     accept_large_sparse\u001b[38;5;241m=\u001b[39msolver \u001b[38;5;129;01mnot\u001b[39;00m \u001b[38;5;129;01min\u001b[39;00m [\u001b[38;5;124m\"\u001b[39m\u001b[38;5;124mliblinear\u001b[39m\u001b[38;5;124m\"\u001b[39m, \u001b[38;5;124m\"\u001b[39m\u001b[38;5;124msag\u001b[39m\u001b[38;5;124m\"\u001b[39m, \u001b[38;5;124m\"\u001b[39m\u001b[38;5;124msaga\u001b[39m\u001b[38;5;124m\"\u001b[39m],\n\u001b[0;32m   1203\u001b[0m )\n\u001b[1;32m-> 1204\u001b[0m \u001b[43mcheck_classification_targets\u001b[49m\u001b[43m(\u001b[49m\u001b[43my\u001b[49m\u001b[43m)\u001b[49m\n\u001b[0;32m   1205\u001b[0m \u001b[38;5;28mself\u001b[39m\u001b[38;5;241m.\u001b[39mclasses_ \u001b[38;5;241m=\u001b[39m np\u001b[38;5;241m.\u001b[39munique(y)\n\u001b[0;32m   1207\u001b[0m multi_class \u001b[38;5;241m=\u001b[39m _check_multi_class(\u001b[38;5;28mself\u001b[39m\u001b[38;5;241m.\u001b[39mmulti_class, solver, \u001b[38;5;28mlen\u001b[39m(\u001b[38;5;28mself\u001b[39m\u001b[38;5;241m.\u001b[39mclasses_))\n",
      "File \u001b[1;32m~\\anaconda3\\lib\\site-packages\\sklearn\\utils\\multiclass.py:207\u001b[0m, in \u001b[0;36mcheck_classification_targets\u001b[1;34m(y)\u001b[0m\n\u001b[0;32m    199\u001b[0m y_type \u001b[38;5;241m=\u001b[39m type_of_target(y, input_name\u001b[38;5;241m=\u001b[39m\u001b[38;5;124m\"\u001b[39m\u001b[38;5;124my\u001b[39m\u001b[38;5;124m\"\u001b[39m)\n\u001b[0;32m    200\u001b[0m \u001b[38;5;28;01mif\u001b[39;00m y_type \u001b[38;5;129;01mnot\u001b[39;00m \u001b[38;5;129;01min\u001b[39;00m [\n\u001b[0;32m    201\u001b[0m     \u001b[38;5;124m\"\u001b[39m\u001b[38;5;124mbinary\u001b[39m\u001b[38;5;124m\"\u001b[39m,\n\u001b[0;32m    202\u001b[0m     \u001b[38;5;124m\"\u001b[39m\u001b[38;5;124mmulticlass\u001b[39m\u001b[38;5;124m\"\u001b[39m,\n\u001b[1;32m   (...)\u001b[0m\n\u001b[0;32m    205\u001b[0m     \u001b[38;5;124m\"\u001b[39m\u001b[38;5;124mmultilabel-sequences\u001b[39m\u001b[38;5;124m\"\u001b[39m,\n\u001b[0;32m    206\u001b[0m ]:\n\u001b[1;32m--> 207\u001b[0m     \u001b[38;5;28;01mraise\u001b[39;00m \u001b[38;5;167;01mValueError\u001b[39;00m(\u001b[38;5;124m\"\u001b[39m\u001b[38;5;124mUnknown label type: \u001b[39m\u001b[38;5;132;01m%r\u001b[39;00m\u001b[38;5;124m\"\u001b[39m \u001b[38;5;241m%\u001b[39m y_type)\n",
      "\u001b[1;31mValueError\u001b[0m: Unknown label type: 'continuous'"
     ]
    }
   ],
   "source": [
    "#logistic\n",
    "model = LogisticRegression()\n",
    "model.fit(X_train, y_train)\n",
    "y_pred_log = model.predict(X_test) \n",
    "y_pred_train_log = model.predict(X_train)\n",
    "#mse = mean_squared_error(y_test, y_pred)\n",
    "#mse_train = mean_squared_error(y_train, y_pred_train)\n",
    "#r2 = r2_score(y_test, y_pred)\n",
    "#print(\"Mean Squared Error:\", mse)\n",
    "#print(\"Mean Squared Error of train:\", mse_train)\n",
    "\n",
    "#print(\"R^2 Score:\", r2)\n",
    "\n",
    "#cv_mse = -cross_val_score(model, first_X, Y, cv=10, scoring='neg_mean_squared_error')\n",
    "#print(\"Cross-Validation Mean Squared Error:\", cv_mse.mean())\n",
    "\n",
    "accuracy = accuracy_score(y_test, y_pred_log)\n",
    "accuracy_train = accuracy_score(y_train, y_pred_train_log)\n",
    "\n",
    "print(\"Acuuracy :\", accuracy)\n",
    "print(\"Acuuracy train :\", accuracy_train)\n",
    "\n",
    "\n",
    "cv = KFold(n_splits=10, random_state=1, shuffle=True)\n",
    "\n",
    "scores = cross_val_score(model, first_X, Y, \n",
    "                         cv=cv)\n",
    "\n",
    "print(\"Accuracy : \" ,scores.mean())\n"
   ]
  },
  {
   "cell_type": "code",
   "execution_count": null,
>>>>>>> accuracyTrial
   "metadata": {},
   "outputs": [],
   "source": []
  }
 ],
 "metadata": {
  "colab": {
   "provenance": []
  },
  "kernelspec": {
   "display_name": "Python 3 (ipykernel)",
   "language": "python",
   "name": "python3"
  },
  "language_info": {
   "codemirror_mode": {
    "name": "ipython",
    "version": 3
   },
   "file_extension": ".py",
   "mimetype": "text/x-python",
   "name": "python",
   "nbconvert_exporter": "python",
   "pygments_lexer": "ipython3",
   "version": "3.10.9"
  }
 },
 "nbformat": 4,
 "nbformat_minor": 1
}
