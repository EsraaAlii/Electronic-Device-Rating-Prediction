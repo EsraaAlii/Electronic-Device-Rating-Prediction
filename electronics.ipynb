{
  "cells": [
    {
      "cell_type": "code",
      "execution_count": 105,
      "metadata": {
        "colab": {
          "base_uri": "https://localhost:8080/",
          "height": 348
        },
        "id": "tLgxgyBFjnG3",
        "outputId": "19b015fa-8c78-4a83-87d5-74d559e85947"
      },
      "outputs": [
        {
          "data": {
            "text/html": [
              "<div>\n",
              "<style scoped>\n",
              "    .dataframe tbody tr th:only-of-type {\n",
              "        vertical-align: middle;\n",
              "    }\n",
              "\n",
              "    .dataframe tbody tr th {\n",
              "        vertical-align: top;\n",
              "    }\n",
              "\n",
              "    .dataframe thead th {\n",
              "        text-align: right;\n",
              "    }\n",
              "</style>\n",
              "<table border=\"1\" class=\"dataframe\">\n",
              "  <thead>\n",
              "    <tr style=\"text-align: right;\">\n",
              "      <th></th>\n",
              "      <th>brand</th>\n",
              "      <th>processor_brand</th>\n",
              "      <th>processor_name</th>\n",
              "      <th>processor_gnrtn</th>\n",
              "      <th>ram_gb</th>\n",
              "      <th>ram_type</th>\n",
              "      <th>ssd</th>\n",
              "      <th>hdd</th>\n",
              "      <th>os</th>\n",
              "      <th>graphic_card_gb</th>\n",
              "      <th>weight</th>\n",
              "      <th>warranty</th>\n",
              "      <th>Touchscreen</th>\n",
              "      <th>msoffice</th>\n",
              "      <th>Price</th>\n",
              "      <th>rating</th>\n",
              "      <th>Number of Ratings</th>\n",
              "      <th>Number of Reviews</th>\n",
              "    </tr>\n",
              "  </thead>\n",
              "  <tbody>\n",
              "    <tr>\n",
              "      <th>0</th>\n",
              "      <td>ASUS</td>\n",
              "      <td>Intel</td>\n",
              "      <td>Pentium Quad</td>\n",
              "      <td>Not Available</td>\n",
              "      <td>4 GB</td>\n",
              "      <td>LPDDR4X</td>\n",
              "      <td>0 GB</td>\n",
              "      <td>512 GB</td>\n",
              "      <td>64-bit Windows</td>\n",
              "      <td>0 GB</td>\n",
              "      <td>Casual</td>\n",
              "      <td>No warranty</td>\n",
              "      <td>No</td>\n",
              "      <td>No</td>\n",
              "      <td>45990</td>\n",
              "      <td>3 stars</td>\n",
              "      <td>0</td>\n",
              "      <td>0</td>\n",
              "    </tr>\n",
              "    <tr>\n",
              "      <th>1</th>\n",
              "      <td>ASUS</td>\n",
              "      <td>Intel</td>\n",
              "      <td>Core i5</td>\n",
              "      <td>10th</td>\n",
              "      <td>8 GB</td>\n",
              "      <td>LPDDR4</td>\n",
              "      <td>0 GB</td>\n",
              "      <td>512 GB</td>\n",
              "      <td>32-bit DOS</td>\n",
              "      <td>4 GB</td>\n",
              "      <td>Casual</td>\n",
              "      <td>No warranty</td>\n",
              "      <td>No</td>\n",
              "      <td>No</td>\n",
              "      <td>106167</td>\n",
              "      <td>4 stars</td>\n",
              "      <td>1881</td>\n",
              "      <td>241</td>\n",
              "    </tr>\n",
              "    <tr>\n",
              "      <th>2</th>\n",
              "      <td>ASUS</td>\n",
              "      <td>Intel</td>\n",
              "      <td>Celeron Dual</td>\n",
              "      <td>Not Available</td>\n",
              "      <td>4 GB</td>\n",
              "      <td>DDR4</td>\n",
              "      <td>0 GB</td>\n",
              "      <td>512 GB</td>\n",
              "      <td>64-bit Windows</td>\n",
              "      <td>0 GB</td>\n",
              "      <td>Casual</td>\n",
              "      <td>No warranty</td>\n",
              "      <td>No</td>\n",
              "      <td>No</td>\n",
              "      <td>22990</td>\n",
              "      <td>3 stars</td>\n",
              "      <td>0</td>\n",
              "      <td>0</td>\n",
              "    </tr>\n",
              "    <tr>\n",
              "      <th>3</th>\n",
              "      <td>Lenovo</td>\n",
              "      <td>Intel</td>\n",
              "      <td>Core i3</td>\n",
              "      <td>11th</td>\n",
              "      <td>4 GB</td>\n",
              "      <td>DDR4</td>\n",
              "      <td>256 GB</td>\n",
              "      <td>0 GB</td>\n",
              "      <td>64-bit Windows</td>\n",
              "      <td>0 GB</td>\n",
              "      <td>Casual</td>\n",
              "      <td>1 year</td>\n",
              "      <td>No</td>\n",
              "      <td>Yes</td>\n",
              "      <td>44990</td>\n",
              "      <td>4 stars</td>\n",
              "      <td>42</td>\n",
              "      <td>4</td>\n",
              "    </tr>\n",
              "    <tr>\n",
              "      <th>4</th>\n",
              "      <td>HP</td>\n",
              "      <td>AMD</td>\n",
              "      <td>Ryzen 7</td>\n",
              "      <td>Not Available</td>\n",
              "      <td>16 GB</td>\n",
              "      <td>DDR4</td>\n",
              "      <td>512 GB</td>\n",
              "      <td>0 GB</td>\n",
              "      <td>64-bit Windows</td>\n",
              "      <td>2 GB</td>\n",
              "      <td>Casual</td>\n",
              "      <td>1 year</td>\n",
              "      <td>No</td>\n",
              "      <td>Yes</td>\n",
              "      <td>79990</td>\n",
              "      <td>3 stars</td>\n",
              "      <td>23</td>\n",
              "      <td>6</td>\n",
              "    </tr>\n",
              "  </tbody>\n",
              "</table>\n",
              "</div>"
            ],
            "text/plain": [
              "    brand processor_brand processor_name processor_gnrtn ram_gb ram_type  \\\n",
              "0    ASUS           Intel   Pentium Quad   Not Available   4 GB  LPDDR4X   \n",
              "1    ASUS           Intel        Core i5            10th   8 GB   LPDDR4   \n",
              "2    ASUS           Intel   Celeron Dual   Not Available   4 GB     DDR4   \n",
              "3  Lenovo           Intel        Core i3            11th   4 GB     DDR4   \n",
              "4      HP             AMD        Ryzen 7   Not Available  16 GB     DDR4   \n",
              "\n",
              "      ssd     hdd              os graphic_card_gb  weight     warranty  \\\n",
              "0    0 GB  512 GB  64-bit Windows            0 GB  Casual  No warranty   \n",
              "1    0 GB  512 GB      32-bit DOS            4 GB  Casual  No warranty   \n",
              "2    0 GB  512 GB  64-bit Windows            0 GB  Casual  No warranty   \n",
              "3  256 GB    0 GB  64-bit Windows            0 GB  Casual       1 year   \n",
              "4  512 GB    0 GB  64-bit Windows            2 GB  Casual       1 year   \n",
              "\n",
              "  Touchscreen msoffice   Price   rating  Number of Ratings  Number of Reviews  \n",
              "0          No       No   45990  3 stars                  0                  0  \n",
              "1          No       No  106167  4 stars               1881                241  \n",
              "2          No       No   22990  3 stars                  0                  0  \n",
              "3          No      Yes   44990  4 stars                 42                  4  \n",
              "4          No      Yes   79990  3 stars                 23                  6  "
            ]
          },
          "execution_count": 105,
          "metadata": {},
          "output_type": "execute_result"
        }
      ],
      "source": [
        "import pandas as pd\n",
        "import matplotlib.pyplot as plt\n",
        "import seaborn as sns\n",
        "import numpy as np\n",
        "\n",
        "df=pd.read_csv(\"ElecDeviceRatingPrediction.csv\")\n",
        "electro = df.copy()\n",
        "electro.head()"
      ]
    },
    {
      "cell_type": "code",
      "execution_count": 106,
      "metadata": {
        "colab": {
          "base_uri": "https://localhost:8080/"
        },
        "id": "eHY9aQiqjnG6",
        "outputId": "5c8b073a-29d1-491e-da73-2d3816dec3e1"
      },
      "outputs": [
        {
          "data": {
            "text/plain": [
              "brand                object\n",
              "processor_brand      object\n",
              "processor_name       object\n",
              "processor_gnrtn      object\n",
              "ram_gb               object\n",
              "ram_type             object\n",
              "ssd                  object\n",
              "hdd                  object\n",
              "os                   object\n",
              "graphic_card_gb      object\n",
              "weight               object\n",
              "warranty             object\n",
              "Touchscreen          object\n",
              "msoffice             object\n",
              "Price                 int64\n",
              "rating               object\n",
              "Number of Ratings     int64\n",
              "Number of Reviews     int64\n",
              "dtype: object"
            ]
          },
          "execution_count": 106,
          "metadata": {},
          "output_type": "execute_result"
        }
      ],
      "source": [
        "#check the datatypes\n",
        "electro.dtypes"
      ]
    },
    {
      "cell_type": "code",
      "execution_count": 107,
      "metadata": {
        "id": "KwfvAbHijnG7"
      },
      "outputs": [],
      "source": [
        "#convert to the correct datatype\n",
        "electro['Touchscreen']=electro['Touchscreen'].astype('category')\n",
        "electro['msoffice']=electro['msoffice'].astype('category')\n",
        "electro['rating']=electro['rating'].str.strip('stars')\n",
        "electro['rating']=electro['rating'].astype('category')\n",
        "electro['ram_gb']=electro['ram_gb'].str.strip('GB')\n",
        "electro['ram_gb']=electro['ram_gb'].astype('int')\n",
        "electro['ssd']=electro['ssd'].str.strip('GB')\n",
        "electro['ssd']=electro['ssd'].astype('int')\n",
        "electro['hdd']=electro['hdd'].str.strip('GB')\n",
        "electro['hdd']=electro['hdd'].astype('int')\n"
      ]
    },
    {
      "cell_type": "code",
      "execution_count": 108,
      "metadata": {
        "id": "uUJtAGzejnG7"
      },
      "outputs": [],
      "source": [
        "electro['graphic_card_gb']=electro['graphic_card_gb'].str.strip('GB')\n",
        "electro['graphic_card_gb']=electro['graphic_card_gb'].astype('int')"
      ]
    },
    {
      "cell_type": "code",
      "execution_count": 109,
      "metadata": {
        "id": "p1Jrq4uYjnG7"
      },
      "outputs": [],
      "source": [
        "electro['warranty']=electro['warranty'].str.strip('year || years')\n",
        "electro['warranty']=electro['warranty'].str.replace('No warrant','0')\n",
        "electro['warranty']=electro['warranty'].astype('int')"
      ]
    },
    {
      "cell_type": "code",
      "execution_count": 110,
      "metadata": {
        "id": "NT4_inDQjnG8"
      },
      "outputs": [],
      "source": [
        "electro['processor_gnrtn']=electro['processor_gnrtn'].str.strip('th')\n",
        "electro['processor_gnrtn']=electro['processor_gnrtn'].str.replace('Not Available','0')\n"
      ]
    },
    {
      "cell_type": "code",
      "execution_count": 111,
      "metadata": {
        "colab": {
          "base_uri": "https://localhost:8080/",
          "height": 423
        },
        "id": "EXWCmPW-jnG8",
        "outputId": "9ba46697-c46c-403c-8be6-82900f2d8bef"
      },
      "outputs": [
        {
          "data": {
            "text/html": [
              "<div>\n",
              "<style scoped>\n",
              "    .dataframe tbody tr th:only-of-type {\n",
              "        vertical-align: middle;\n",
              "    }\n",
              "\n",
              "    .dataframe tbody tr th {\n",
              "        vertical-align: top;\n",
              "    }\n",
              "\n",
              "    .dataframe thead th {\n",
              "        text-align: right;\n",
              "    }\n",
              "</style>\n",
              "<table border=\"1\" class=\"dataframe\">\n",
              "  <thead>\n",
              "    <tr style=\"text-align: right;\">\n",
              "      <th></th>\n",
              "      <th>hdd</th>\n",
              "      <th>ssd</th>\n",
              "      <th>rating</th>\n",
              "      <th>ram_gb</th>\n",
              "      <th>graphic_card_gb</th>\n",
              "      <th>warranty</th>\n",
              "      <th>processor_gnrtn</th>\n",
              "    </tr>\n",
              "  </thead>\n",
              "  <tbody>\n",
              "    <tr>\n",
              "      <th>0</th>\n",
              "      <td>512</td>\n",
              "      <td>0</td>\n",
              "      <td>3</td>\n",
              "      <td>4</td>\n",
              "      <td>0</td>\n",
              "      <td>0</td>\n",
              "      <td>0</td>\n",
              "    </tr>\n",
              "    <tr>\n",
              "      <th>1</th>\n",
              "      <td>512</td>\n",
              "      <td>0</td>\n",
              "      <td>4</td>\n",
              "      <td>8</td>\n",
              "      <td>4</td>\n",
              "      <td>0</td>\n",
              "      <td>10</td>\n",
              "    </tr>\n",
              "    <tr>\n",
              "      <th>2</th>\n",
              "      <td>512</td>\n",
              "      <td>0</td>\n",
              "      <td>3</td>\n",
              "      <td>4</td>\n",
              "      <td>0</td>\n",
              "      <td>0</td>\n",
              "      <td>0</td>\n",
              "    </tr>\n",
              "    <tr>\n",
              "      <th>3</th>\n",
              "      <td>0</td>\n",
              "      <td>256</td>\n",
              "      <td>4</td>\n",
              "      <td>4</td>\n",
              "      <td>0</td>\n",
              "      <td>1</td>\n",
              "      <td>11</td>\n",
              "    </tr>\n",
              "    <tr>\n",
              "      <th>4</th>\n",
              "      <td>0</td>\n",
              "      <td>512</td>\n",
              "      <td>3</td>\n",
              "      <td>16</td>\n",
              "      <td>2</td>\n",
              "      <td>1</td>\n",
              "      <td>0</td>\n",
              "    </tr>\n",
              "    <tr>\n",
              "      <th>...</th>\n",
              "      <td>...</td>\n",
              "      <td>...</td>\n",
              "      <td>...</td>\n",
              "      <td>...</td>\n",
              "      <td>...</td>\n",
              "      <td>...</td>\n",
              "      <td>...</td>\n",
              "    </tr>\n",
              "    <tr>\n",
              "      <th>718</th>\n",
              "      <td>0</td>\n",
              "      <td>256</td>\n",
              "      <td>4</td>\n",
              "      <td>4</td>\n",
              "      <td>0</td>\n",
              "      <td>0</td>\n",
              "      <td>11</td>\n",
              "    </tr>\n",
              "    <tr>\n",
              "      <th>719</th>\n",
              "      <td>0</td>\n",
              "      <td>512</td>\n",
              "      <td>3</td>\n",
              "      <td>8</td>\n",
              "      <td>0</td>\n",
              "      <td>0</td>\n",
              "      <td>11</td>\n",
              "    </tr>\n",
              "    <tr>\n",
              "      <th>720</th>\n",
              "      <td>0</td>\n",
              "      <td>512</td>\n",
              "      <td>4</td>\n",
              "      <td>8</td>\n",
              "      <td>0</td>\n",
              "      <td>3</td>\n",
              "      <td>11</td>\n",
              "    </tr>\n",
              "    <tr>\n",
              "      <th>721</th>\n",
              "      <td>512</td>\n",
              "      <td>0</td>\n",
              "      <td>4</td>\n",
              "      <td>8</td>\n",
              "      <td>8</td>\n",
              "      <td>0</td>\n",
              "      <td>10</td>\n",
              "    </tr>\n",
              "    <tr>\n",
              "      <th>722</th>\n",
              "      <td>0</td>\n",
              "      <td>512</td>\n",
              "      <td>3</td>\n",
              "      <td>8</td>\n",
              "      <td>0</td>\n",
              "      <td>1</td>\n",
              "      <td>11</td>\n",
              "    </tr>\n",
              "  </tbody>\n",
              "</table>\n",
              "<p>723 rows × 7 columns</p>\n",
              "</div>"
            ],
            "text/plain": [
              "     hdd  ssd rating  ram_gb  graphic_card_gb  warranty processor_gnrtn\n",
              "0    512    0     3        4                0         0               0\n",
              "1    512    0     4        8                4         0              10\n",
              "2    512    0     3        4                0         0               0\n",
              "3      0  256     4        4                0         1              11\n",
              "4      0  512     3       16                2         1               0\n",
              "..   ...  ...    ...     ...              ...       ...             ...\n",
              "718    0  256     4        4                0         0              11\n",
              "719    0  512     3        8                0         0              11\n",
              "720    0  512     4        8                0         3              11\n",
              "721  512    0     4        8                8         0              10\n",
              "722    0  512     3        8                0         1              11\n",
              "\n",
              "[723 rows x 7 columns]"
            ]
          },
          "execution_count": 111,
          "metadata": {},
          "output_type": "execute_result"
        }
      ],
      "source": [
        "electro[['hdd', 'ssd' , 'rating' ,'ram_gb','graphic_card_gb','warranty','processor_gnrtn']]"
      ]
    },
    {
      "cell_type": "code",
      "execution_count": 112,
      "metadata": {
        "colab": {
          "base_uri": "https://localhost:8080/"
        },
        "id": "ZiSfyeo8jnG8",
        "outputId": "6dd203be-4ce3-439e-b0de-69d8956703ba"
      },
      "outputs": [
        {
          "data": {
            "text/plain": [
              "brand                  object\n",
              "processor_brand        object\n",
              "processor_name         object\n",
              "processor_gnrtn        object\n",
              "ram_gb                  int32\n",
              "ram_type               object\n",
              "ssd                     int32\n",
              "hdd                     int32\n",
              "os                     object\n",
              "graphic_card_gb         int32\n",
              "weight                 object\n",
              "warranty                int32\n",
              "Touchscreen          category\n",
              "msoffice             category\n",
              "Price                   int64\n",
              "rating               category\n",
              "Number of Ratings       int64\n",
              "Number of Reviews       int64\n",
              "dtype: object"
            ]
          },
          "execution_count": 112,
          "metadata": {},
          "output_type": "execute_result"
        }
      ],
      "source": [
        "electro.dtypes"
      ]
    },
    {
      "cell_type": "code",
      "execution_count": 113,
      "metadata": {
        "colab": {
          "base_uri": "https://localhost:8080/",
          "height": 300
        },
        "id": "JL30kV7cjnG9",
        "outputId": "df265872-ec37-4f07-bde5-ac8aef07a936"
      },
      "outputs": [
        {
          "data": {
            "text/html": [
              "<div>\n",
              "<style scoped>\n",
              "    .dataframe tbody tr th:only-of-type {\n",
              "        vertical-align: middle;\n",
              "    }\n",
              "\n",
              "    .dataframe tbody tr th {\n",
              "        vertical-align: top;\n",
              "    }\n",
              "\n",
              "    .dataframe thead th {\n",
              "        text-align: right;\n",
              "    }\n",
              "</style>\n",
              "<table border=\"1\" class=\"dataframe\">\n",
              "  <thead>\n",
              "    <tr style=\"text-align: right;\">\n",
              "      <th></th>\n",
              "      <th>ram_gb</th>\n",
              "      <th>ssd</th>\n",
              "      <th>hdd</th>\n",
              "      <th>graphic_card_gb</th>\n",
              "      <th>warranty</th>\n",
              "      <th>Price</th>\n",
              "      <th>Number of Ratings</th>\n",
              "      <th>Number of Reviews</th>\n",
              "    </tr>\n",
              "  </thead>\n",
              "  <tbody>\n",
              "    <tr>\n",
              "      <th>count</th>\n",
              "      <td>723.000000</td>\n",
              "      <td>723.000000</td>\n",
              "      <td>723.000000</td>\n",
              "      <td>723.000000</td>\n",
              "      <td>723.000000</td>\n",
              "      <td>723.000000</td>\n",
              "      <td>723.000000</td>\n",
              "      <td>723.000000</td>\n",
              "    </tr>\n",
              "    <tr>\n",
              "      <th>mean</th>\n",
              "      <td>8.724758</td>\n",
              "      <td>449.150761</td>\n",
              "      <td>232.984786</td>\n",
              "      <td>1.208852</td>\n",
              "      <td>0.716459</td>\n",
              "      <td>77031.348548</td>\n",
              "      <td>301.217151</td>\n",
              "      <td>36.550484</td>\n",
              "    </tr>\n",
              "    <tr>\n",
              "      <th>std</th>\n",
              "      <td>4.439221</td>\n",
              "      <td>318.015040</td>\n",
              "      <td>416.286290</td>\n",
              "      <td>2.053125</td>\n",
              "      <td>0.605691</td>\n",
              "      <td>45706.444883</td>\n",
              "      <td>970.519221</td>\n",
              "      <td>115.413126</td>\n",
              "    </tr>\n",
              "    <tr>\n",
              "      <th>min</th>\n",
              "      <td>4.000000</td>\n",
              "      <td>0.000000</td>\n",
              "      <td>0.000000</td>\n",
              "      <td>0.000000</td>\n",
              "      <td>0.000000</td>\n",
              "      <td>16990.000000</td>\n",
              "      <td>0.000000</td>\n",
              "      <td>0.000000</td>\n",
              "    </tr>\n",
              "    <tr>\n",
              "      <th>25%</th>\n",
              "      <td>4.000000</td>\n",
              "      <td>256.000000</td>\n",
              "      <td>0.000000</td>\n",
              "      <td>0.000000</td>\n",
              "      <td>0.000000</td>\n",
              "      <td>45960.000000</td>\n",
              "      <td>0.000000</td>\n",
              "      <td>0.000000</td>\n",
              "    </tr>\n",
              "    <tr>\n",
              "      <th>50%</th>\n",
              "      <td>8.000000</td>\n",
              "      <td>512.000000</td>\n",
              "      <td>0.000000</td>\n",
              "      <td>0.000000</td>\n",
              "      <td>1.000000</td>\n",
              "      <td>64990.000000</td>\n",
              "      <td>17.000000</td>\n",
              "      <td>2.000000</td>\n",
              "    </tr>\n",
              "    <tr>\n",
              "      <th>75%</th>\n",
              "      <td>8.000000</td>\n",
              "      <td>512.000000</td>\n",
              "      <td>512.000000</td>\n",
              "      <td>2.000000</td>\n",
              "      <td>1.000000</td>\n",
              "      <td>89846.000000</td>\n",
              "      <td>154.000000</td>\n",
              "      <td>19.500000</td>\n",
              "    </tr>\n",
              "    <tr>\n",
              "      <th>max</th>\n",
              "      <td>32.000000</td>\n",
              "      <td>3072.000000</td>\n",
              "      <td>2048.000000</td>\n",
              "      <td>8.000000</td>\n",
              "      <td>3.000000</td>\n",
              "      <td>441990.000000</td>\n",
              "      <td>15279.000000</td>\n",
              "      <td>1947.000000</td>\n",
              "    </tr>\n",
              "  </tbody>\n",
              "</table>\n",
              "</div>"
            ],
            "text/plain": [
              "           ram_gb          ssd          hdd  graphic_card_gb    warranty  \\\n",
              "count  723.000000   723.000000   723.000000       723.000000  723.000000   \n",
              "mean     8.724758   449.150761   232.984786         1.208852    0.716459   \n",
              "std      4.439221   318.015040   416.286290         2.053125    0.605691   \n",
              "min      4.000000     0.000000     0.000000         0.000000    0.000000   \n",
              "25%      4.000000   256.000000     0.000000         0.000000    0.000000   \n",
              "50%      8.000000   512.000000     0.000000         0.000000    1.000000   \n",
              "75%      8.000000   512.000000   512.000000         2.000000    1.000000   \n",
              "max     32.000000  3072.000000  2048.000000         8.000000    3.000000   \n",
              "\n",
              "               Price  Number of Ratings  Number of Reviews  \n",
              "count     723.000000         723.000000         723.000000  \n",
              "mean    77031.348548         301.217151          36.550484  \n",
              "std     45706.444883         970.519221         115.413126  \n",
              "min     16990.000000           0.000000           0.000000  \n",
              "25%     45960.000000           0.000000           0.000000  \n",
              "50%     64990.000000          17.000000           2.000000  \n",
              "75%     89846.000000         154.000000          19.500000  \n",
              "max    441990.000000       15279.000000        1947.000000  "
            ]
          },
          "execution_count": 113,
          "metadata": {},
          "output_type": "execute_result"
        }
      ],
      "source": [
        "#check the ranges\n",
        "electro.describe()"
      ]
    },
    {
      "cell_type": "code",
      "execution_count": 114,
      "metadata": {
        "colab": {
          "base_uri": "https://localhost:8080/"
        },
        "id": "iaw0xDQ9jnG9",
        "outputId": "f073d7bf-d9bb-4182-fa84-2bf943f8452e"
      },
      "outputs": [
        {
          "data": {
            "text/plain": [
              "array(['0', '10', '11', '8', '7', '12', '9', '4'], dtype=object)"
            ]
          },
          "execution_count": 114,
          "metadata": {},
          "output_type": "execute_result"
        }
      ],
      "source": [
        "\n",
        "electro['processor_gnrtn'].unique()"
      ]
    },
    {
      "cell_type": "code",
      "execution_count": 115,
      "metadata": {
        "id": "ygmstHf2jnG9"
      },
      "outputs": [],
      "source": [
        "electro.loc[electro['processor_gnrtn'] == '0' , 'processor_gnrtn'] = electro['processor_gnrtn'].value_counts().idxmax()"
      ]
    },
    {
      "cell_type": "code",
      "execution_count": 116,
      "metadata": {
        "id": "RER3U82ajnG9"
      },
      "outputs": [],
      "source": [
        "electro['processor_gnrtn']=electro['processor_gnrtn'].astype('category')"
      ]
    },
    {
      "cell_type": "code",
      "execution_count": 117,
      "metadata": {
        "colab": {
          "base_uri": "https://localhost:8080/"
        },
        "id": "vwm2OucbjnG-",
        "outputId": "2a5cbdca-7aa2-466a-ead9-152aff895497"
      },
      "outputs": [
        {
          "data": {
            "text/plain": [
              "['11', '10', '8', '7', '12', '9', '4']\n",
              "Categories (7, object): ['10', '11', '12', '4', '7', '8', '9']"
            ]
          },
          "execution_count": 117,
          "metadata": {},
          "output_type": "execute_result"
        }
      ],
      "source": [
        "electro['processor_gnrtn'].unique()"
      ]
    },
    {
      "cell_type": "code",
      "execution_count": 118,
      "metadata": {
        "colab": {
          "base_uri": "https://localhost:8080/"
        },
        "id": "qt2t8hXjjnG-",
        "outputId": "0271b607-b97d-45b0-dacf-3d1fcdbb5cbb"
      },
      "outputs": [
        {
          "data": {
            "text/plain": [
              "['3 ', '4 ', '5 ', '2 ', '1 ']\n",
              "Categories (5, object): ['1 ', '2 ', '3 ', '4 ', '5 ']"
            ]
          },
          "execution_count": 118,
          "metadata": {},
          "output_type": "execute_result"
        }
      ],
      "source": [
        "electro['rating'].unique()"
      ]
    },
    {
      "cell_type": "code",
      "execution_count": 119,
      "metadata": {
        "colab": {
          "base_uri": "https://localhost:8080/"
        },
        "id": "9HrN8oYRjnG-",
        "outputId": "97f7c7a6-a02e-487b-f7d1-b5eeb4a82373"
      },
      "outputs": [
        {
          "data": {
            "text/plain": [
              "30"
            ]
          },
          "execution_count": 119,
          "metadata": {},
          "output_type": "execute_result"
        }
      ],
      "source": [
        "#check for duplicates\n",
        "duplicates = electro.duplicated(keep=False)\n",
        "duplicates.sum()"
      ]
    },
    {
      "cell_type": "code",
      "execution_count": 120,
      "metadata": {
        "id": "99Ml_660jnG-"
      },
      "outputs": [],
      "source": [
        "electro.drop_duplicates(inplace=True)"
      ]
    },
    {
      "cell_type": "code",
      "execution_count": 121,
      "metadata": {
        "colab": {
          "base_uri": "https://localhost:8080/"
        },
        "id": "ewSfRvXzjnG_",
        "outputId": "7a948bfd-c77e-4ad8-8458-8e5920d44294"
      },
      "outputs": [
        {
          "data": {
            "text/plain": [
              "0"
            ]
          },
          "execution_count": 121,
          "metadata": {},
          "output_type": "execute_result"
        }
      ],
      "source": [
        "duplicates = electro.duplicated(keep=False).sum()\n",
        "duplicates"
      ]
    },
    {
      "cell_type": "code",
      "execution_count": 122,
      "metadata": {
        "colab": {
          "base_uri": "https://localhost:8080/",
          "height": 104
        },
        "id": "4y3iAry_jnG_",
        "outputId": "3c7e6046-4a0b-416b-e5aa-172e9ab623ad"
      },
      "outputs": [
        {
          "data": {
            "text/html": [
              "<div>\n",
              "<style scoped>\n",
              "    .dataframe tbody tr th:only-of-type {\n",
              "        vertical-align: middle;\n",
              "    }\n",
              "\n",
              "    .dataframe tbody tr th {\n",
              "        vertical-align: top;\n",
              "    }\n",
              "\n",
              "    .dataframe thead th {\n",
              "        text-align: right;\n",
              "    }\n",
              "</style>\n",
              "<table border=\"1\" class=\"dataframe\">\n",
              "  <thead>\n",
              "    <tr style=\"text-align: right;\">\n",
              "      <th></th>\n",
              "      <th>brand</th>\n",
              "      <th>processor_brand</th>\n",
              "      <th>processor_name</th>\n",
              "      <th>processor_gnrtn</th>\n",
              "      <th>ram_gb</th>\n",
              "      <th>ram_type</th>\n",
              "      <th>ssd</th>\n",
              "      <th>hdd</th>\n",
              "      <th>os</th>\n",
              "      <th>graphic_card_gb</th>\n",
              "      <th>weight</th>\n",
              "      <th>warranty</th>\n",
              "      <th>Touchscreen</th>\n",
              "      <th>msoffice</th>\n",
              "      <th>Price</th>\n",
              "      <th>rating</th>\n",
              "      <th>Number of Ratings</th>\n",
              "      <th>Number of Reviews</th>\n",
              "    </tr>\n",
              "  </thead>\n",
              "  <tbody>\n",
              "  </tbody>\n",
              "</table>\n",
              "</div>"
            ],
            "text/plain": [
              "Empty DataFrame\n",
              "Columns: [brand, processor_brand, processor_name, processor_gnrtn, ram_gb, ram_type, ssd, hdd, os, graphic_card_gb, weight, warranty, Touchscreen, msoffice, Price, rating, Number of Ratings, Number of Reviews]\n",
              "Index: []"
            ]
          },
          "execution_count": 122,
          "metadata": {},
          "output_type": "execute_result"
        }
      ],
      "source": [
        "electro[(electro['processor_gnrtn']=='0') & (electro['ssd']==0) & (electro['hdd']==0)]"
      ]
    },
    {
      "cell_type": "code",
      "execution_count": 123,
      "metadata": {
        "colab": {
          "base_uri": "https://localhost:8080/"
        },
        "id": "kUKwKy8tjnG_",
        "outputId": "502b344a-e5db-4d37-ed2c-606a5e8e4940"
      },
      "outputs": [
        {
          "data": {
            "text/plain": [
              "brand                0\n",
              "processor_brand      0\n",
              "processor_name       0\n",
              "processor_gnrtn      0\n",
              "ram_gb               0\n",
              "ram_type             0\n",
              "ssd                  0\n",
              "hdd                  0\n",
              "os                   0\n",
              "graphic_card_gb      0\n",
              "weight               0\n",
              "warranty             0\n",
              "Touchscreen          0\n",
              "msoffice             0\n",
              "Price                0\n",
              "rating               0\n",
              "Number of Ratings    0\n",
              "Number of Reviews    0\n",
              "dtype: int64"
            ]
          },
          "execution_count": 123,
          "metadata": {},
          "output_type": "execute_result"
        }
      ],
      "source": [
        "#check missing data\n",
        "electro.isna().sum()"
      ]
    },
    {
      "cell_type": "code",
      "execution_count": 124,
      "metadata": {
        "colab": {
          "base_uri": "https://localhost:8080/",
          "height": 911
        },
        "id": "LknDA7dVjnG_",
        "outputId": "78b63e2a-e0cb-4fa9-d699-05db42a3dfac"
      },
      "outputs": [
        {
          "data": {
            "image/png": "[encoded data removed]",
            "text/plain": [
              "<Figure size 1000x1000 with 8 Axes>"
            ]
          },
          "metadata": {},
          "output_type": "display_data"
        }
      ],
      "source": [
        "\n",
        "fig, axes = plt.subplots(4,2,sharex=True,figsize=(10, 10))\n",
        "fig.suptitle('Check the outliers of numeric columns')\n",
        "plt.subplots_adjust(wspace = 0.5)\n",
        "sns.boxplot(data=electro, y='ram_gb', ax=axes[0,0])\n",
        "sns.boxplot(data=electro, y='ssd', ax=axes[0,1])\n",
        "sns.boxplot(data=electro, y='hdd', ax=axes[1,0])\n",
        "sns.boxplot(data=electro, y='Number of Reviews', ax=axes[1,1])\n",
        "sns.boxplot(data=electro, y='Number of Ratings', ax=axes[2,0])\n",
        "sns.boxplot(data=electro, y='Price', ax=axes[2,1])\n",
        "sns.boxplot(data=electro, y='warranty', ax=axes[3,0])\n",
        "sns.boxplot(data=electro, y='graphic_card_gb', ax=axes[3,1])\n",
        "plt.show()"
      ]
    },
    {
      "cell_type": "code",
      "execution_count": 125,
      "metadata": {
        "id": "HE752rfYjnG_"
      },
      "outputs": [],
      "source": [
        "numeric = electro[['ram_gb', 'ssd','hdd','graphic_card_gb','warranty','Price','Number of Ratings','Number of Reviews']]\n",
        "for n in numeric:\n",
        "    electro[n]=electro[n].astype('float')\n",
        "    q75 = electro[n].quantile(0.75)\n",
        "    q25 = electro[n].quantile(0.25)\n",
        "    iqr = q75 - q25\n",
        "    electro.loc[electro[n] > q75 + 1.5 * iqr , n] = q75 + 1.5 * iqr\n",
        "    electro.loc[electro[n] < q25 - 1.5 * iqr , n] = q25 - 1.5 * iqr\n"
      ]
    },
    {
      "cell_type": "code",
      "execution_count": 126,
      "metadata": {
        "colab": {
          "base_uri": "https://localhost:8080/",
          "height": 300
        },
        "id": "5-a7vjtAjnHA",
        "outputId": "7ac526e4-b430-4b0d-9ed2-f5e27817c8f6"
      },
      "outputs": [
        {
          "data": {
            "text/html": [
              "<div>\n",
              "<style scoped>\n",
              "    .dataframe tbody tr th:only-of-type {\n",
              "        vertical-align: middle;\n",
              "    }\n",
              "\n",
              "    .dataframe tbody tr th {\n",
              "        vertical-align: top;\n",
              "    }\n",
              "\n",
              "    .dataframe thead th {\n",
              "        text-align: right;\n",
              "    }\n",
              "</style>\n",
              "<table border=\"1\" class=\"dataframe\">\n",
              "  <thead>\n",
              "    <tr style=\"text-align: right;\">\n",
              "      <th></th>\n",
              "      <th>ram_gb</th>\n",
              "      <th>ssd</th>\n",
              "      <th>hdd</th>\n",
              "      <th>graphic_card_gb</th>\n",
              "      <th>warranty</th>\n",
              "      <th>Price</th>\n",
              "      <th>Number of Ratings</th>\n",
              "      <th>Number of Reviews</th>\n",
              "    </tr>\n",
              "  </thead>\n",
              "  <tbody>\n",
              "    <tr>\n",
              "      <th>count</th>\n",
              "      <td>706.000000</td>\n",
              "      <td>706.000000</td>\n",
              "      <td>706.000000</td>\n",
              "      <td>706.000000</td>\n",
              "      <td>706.000000</td>\n",
              "      <td>706.000000</td>\n",
              "      <td>706.000000</td>\n",
              "      <td>706.000000</td>\n",
              "    </tr>\n",
              "    <tr>\n",
              "      <th>mean</th>\n",
              "      <td>8.229462</td>\n",
              "      <td>428.237960</td>\n",
              "      <td>235.331445</td>\n",
              "      <td>1.128895</td>\n",
              "      <td>0.713173</td>\n",
              "      <td>73822.991501</td>\n",
              "      <td>99.922805</td>\n",
              "      <td>12.864377</td>\n",
              "    </tr>\n",
              "    <tr>\n",
              "      <th>std</th>\n",
              "      <td>3.544014</td>\n",
              "      <td>261.908392</td>\n",
              "      <td>414.966044</td>\n",
              "      <td>1.807498</td>\n",
              "      <td>0.575095</td>\n",
              "      <td>35287.247989</td>\n",
              "      <td>144.405461</td>\n",
              "      <td>18.577401</td>\n",
              "    </tr>\n",
              "    <tr>\n",
              "      <th>min</th>\n",
              "      <td>4.000000</td>\n",
              "      <td>0.000000</td>\n",
              "      <td>0.000000</td>\n",
              "      <td>0.000000</td>\n",
              "      <td>0.000000</td>\n",
              "      <td>16990.000000</td>\n",
              "      <td>0.000000</td>\n",
              "      <td>0.000000</td>\n",
              "    </tr>\n",
              "    <tr>\n",
              "      <th>25%</th>\n",
              "      <td>4.000000</td>\n",
              "      <td>256.000000</td>\n",
              "      <td>0.000000</td>\n",
              "      <td>0.000000</td>\n",
              "      <td>0.000000</td>\n",
              "      <td>45600.000000</td>\n",
              "      <td>0.000000</td>\n",
              "      <td>0.000000</td>\n",
              "    </tr>\n",
              "    <tr>\n",
              "      <th>50%</th>\n",
              "      <td>8.000000</td>\n",
              "      <td>512.000000</td>\n",
              "      <td>0.000000</td>\n",
              "      <td>0.000000</td>\n",
              "      <td>1.000000</td>\n",
              "      <td>64990.000000</td>\n",
              "      <td>17.000000</td>\n",
              "      <td>2.000000</td>\n",
              "    </tr>\n",
              "    <tr>\n",
              "      <th>75%</th>\n",
              "      <td>8.000000</td>\n",
              "      <td>512.000000</td>\n",
              "      <td>512.000000</td>\n",
              "      <td>2.000000</td>\n",
              "      <td>1.000000</td>\n",
              "      <td>89918.000000</td>\n",
              "      <td>154.500000</td>\n",
              "      <td>19.750000</td>\n",
              "    </tr>\n",
              "    <tr>\n",
              "      <th>max</th>\n",
              "      <td>14.000000</td>\n",
              "      <td>896.000000</td>\n",
              "      <td>1280.000000</td>\n",
              "      <td>5.000000</td>\n",
              "      <td>2.500000</td>\n",
              "      <td>156395.000000</td>\n",
              "      <td>386.250000</td>\n",
              "      <td>49.375000</td>\n",
              "    </tr>\n",
              "  </tbody>\n",
              "</table>\n",
              "</div>"
            ],
            "text/plain": [
              "           ram_gb         ssd          hdd  graphic_card_gb    warranty  \\\n",
              "count  706.000000  706.000000   706.000000       706.000000  706.000000   \n",
              "mean     8.229462  428.237960   235.331445         1.128895    0.713173   \n",
              "std      3.544014  261.908392   414.966044         1.807498    0.575095   \n",
              "min      4.000000    0.000000     0.000000         0.000000    0.000000   \n",
              "25%      4.000000  256.000000     0.000000         0.000000    0.000000   \n",
              "50%      8.000000  512.000000     0.000000         0.000000    1.000000   \n",
              "75%      8.000000  512.000000   512.000000         2.000000    1.000000   \n",
              "max     14.000000  896.000000  1280.000000         5.000000    2.500000   \n",
              "\n",
              "               Price  Number of Ratings  Number of Reviews  \n",
              "count     706.000000         706.000000         706.000000  \n",
              "mean    73822.991501          99.922805          12.864377  \n",
              "std     35287.247989         144.405461          18.577401  \n",
              "min     16990.000000           0.000000           0.000000  \n",
              "25%     45600.000000           0.000000           0.000000  \n",
              "50%     64990.000000          17.000000           2.000000  \n",
              "75%     89918.000000         154.500000          19.750000  \n",
              "max    156395.000000         386.250000          49.375000  "
            ]
          },
          "execution_count": 126,
          "metadata": {},
          "output_type": "execute_result"
        }
      ],
      "source": [
        "electro.describe()"
      ]
    },
    {
      "cell_type": "code",
      "execution_count": 127,
      "metadata": {
        "id": "PAa4kl4-jnHA"
      },
      "outputs": [],
      "source": [
        "#one hot encoding\n",
        "# electro['msoffice'].unique()\n",
        "# electro['Touchscreen'].unique()\n",
        "\n",
        "electro = pd.get_dummies(electro, columns = ['msoffice','Touchscreen','brand','processor_brand','processor_name','ram_type','os','weight'],drop_first=True,dtype=int)\n",
        "#electro = pd.get_dummies(electro, columns = ['brand','processor_brand','processor_name','ram_type','os','weight'],drop_first=True)\n",
        "# electro['msoffice_Yes'] = electro['msoffice_Yes'].astype(int)\n",
        "# electro['Touchscreen_Yes'] = electro['Touchscreen_Yes'].astype(int)\n",
        "\n"
      ]
    },
    {
      "cell_type": "code",
      "execution_count": 128,
      "metadata": {
        "id": "xbFcFfrO6V8o"
      },
      "outputs": [],
      "source": [
        "# binary encoding\n",
        "#import category_encoders as ce\n",
        "#!pip install category_encoders\n"
      ]
    },
    {
      "cell_type": "code",
      "execution_count": 129,
      "metadata": {
        "id": "nbcBpyrb8hX0"
      },
      "outputs": [],
      "source": [
        "# from category_encoders.binary import BinaryEncoder\n",
        "# en = BinaryEncoder(cols=['brand','processor_brand','processor_name','ram_type','os','weight'], drop_invariant=True)\n",
        "# en.fit(electro)\n",
        "# electro = en.transform(electro)\n",
        "#electro = pd.DataFrame()\n",
        "#print(en)"
      ]
    },
    {
      "cell_type": "code",
      "execution_count": 130,
      "metadata": {
        "colab": {
          "base_uri": "https://localhost:8080/",
          "height": 290
        },
        "id": "uSgWAHsWjnHA",
        "outputId": "d298a858-895d-4d99-a072-44de598b6cbb"
      },
      "outputs": [
        {
          "data": {
            "text/html": [
              "<div>\n",
              "<style scoped>\n",
              "    .dataframe tbody tr th:only-of-type {\n",
              "        vertical-align: middle;\n",
              "    }\n",
              "\n",
              "    .dataframe tbody tr th {\n",
              "        vertical-align: top;\n",
              "    }\n",
              "\n",
              "    .dataframe thead th {\n",
              "        text-align: right;\n",
              "    }\n",
              "</style>\n",
              "<table border=\"1\" class=\"dataframe\">\n",
              "  <thead>\n",
              "    <tr style=\"text-align: right;\">\n",
              "      <th></th>\n",
              "      <th>processor_gnrtn</th>\n",
              "      <th>ram_gb</th>\n",
              "      <th>ssd</th>\n",
              "      <th>hdd</th>\n",
              "      <th>graphic_card_gb</th>\n",
              "      <th>warranty</th>\n",
              "      <th>Price</th>\n",
              "      <th>rating</th>\n",
              "      <th>Number of Ratings</th>\n",
              "      <th>Number of Reviews</th>\n",
              "      <th>...</th>\n",
              "      <th>ram_type_DDR5</th>\n",
              "      <th>ram_type_LPDDR3</th>\n",
              "      <th>ram_type_LPDDR4</th>\n",
              "      <th>ram_type_LPDDR4X</th>\n",
              "      <th>os_32-bit Windows</th>\n",
              "      <th>os_64-bit DOS</th>\n",
              "      <th>os_64-bit Mac</th>\n",
              "      <th>os_64-bit Windows</th>\n",
              "      <th>weight_Gaming</th>\n",
              "      <th>weight_ThinNlight</th>\n",
              "    </tr>\n",
              "  </thead>\n",
              "  <tbody>\n",
              "    <tr>\n",
              "      <th>0</th>\n",
              "      <td>11</td>\n",
              "      <td>4.0</td>\n",
              "      <td>0.0</td>\n",
              "      <td>512.0</td>\n",
              "      <td>0.0</td>\n",
              "      <td>0.0</td>\n",
              "      <td>45990.0</td>\n",
              "      <td>3</td>\n",
              "      <td>0.00</td>\n",
              "      <td>0.000</td>\n",
              "      <td>...</td>\n",
              "      <td>0</td>\n",
              "      <td>0</td>\n",
              "      <td>0</td>\n",
              "      <td>1</td>\n",
              "      <td>0</td>\n",
              "      <td>0</td>\n",
              "      <td>0</td>\n",
              "      <td>1</td>\n",
              "      <td>0</td>\n",
              "      <td>0</td>\n",
              "    </tr>\n",
              "    <tr>\n",
              "      <th>1</th>\n",
              "      <td>10</td>\n",
              "      <td>8.0</td>\n",
              "      <td>0.0</td>\n",
              "      <td>512.0</td>\n",
              "      <td>4.0</td>\n",
              "      <td>0.0</td>\n",
              "      <td>106167.0</td>\n",
              "      <td>4</td>\n",
              "      <td>386.25</td>\n",
              "      <td>49.375</td>\n",
              "      <td>...</td>\n",
              "      <td>0</td>\n",
              "      <td>0</td>\n",
              "      <td>1</td>\n",
              "      <td>0</td>\n",
              "      <td>0</td>\n",
              "      <td>0</td>\n",
              "      <td>0</td>\n",
              "      <td>0</td>\n",
              "      <td>0</td>\n",
              "      <td>0</td>\n",
              "    </tr>\n",
              "    <tr>\n",
              "      <th>2</th>\n",
              "      <td>11</td>\n",
              "      <td>4.0</td>\n",
              "      <td>0.0</td>\n",
              "      <td>512.0</td>\n",
              "      <td>0.0</td>\n",
              "      <td>0.0</td>\n",
              "      <td>22990.0</td>\n",
              "      <td>3</td>\n",
              "      <td>0.00</td>\n",
              "      <td>0.000</td>\n",
              "      <td>...</td>\n",
              "      <td>0</td>\n",
              "      <td>0</td>\n",
              "      <td>0</td>\n",
              "      <td>0</td>\n",
              "      <td>0</td>\n",
              "      <td>0</td>\n",
              "      <td>0</td>\n",
              "      <td>1</td>\n",
              "      <td>0</td>\n",
              "      <td>0</td>\n",
              "    </tr>\n",
              "    <tr>\n",
              "      <th>3</th>\n",
              "      <td>11</td>\n",
              "      <td>4.0</td>\n",
              "      <td>256.0</td>\n",
              "      <td>0.0</td>\n",
              "      <td>0.0</td>\n",
              "      <td>1.0</td>\n",
              "      <td>44990.0</td>\n",
              "      <td>4</td>\n",
              "      <td>42.00</td>\n",
              "      <td>4.000</td>\n",
              "      <td>...</td>\n",
              "      <td>0</td>\n",
              "      <td>0</td>\n",
              "      <td>0</td>\n",
              "      <td>0</td>\n",
              "      <td>0</td>\n",
              "      <td>0</td>\n",
              "      <td>0</td>\n",
              "      <td>1</td>\n",
              "      <td>0</td>\n",
              "      <td>0</td>\n",
              "    </tr>\n",
              "    <tr>\n",
              "      <th>4</th>\n",
              "      <td>11</td>\n",
              "      <td>14.0</td>\n",
              "      <td>512.0</td>\n",
              "      <td>0.0</td>\n",
              "      <td>2.0</td>\n",
              "      <td>1.0</td>\n",
              "      <td>79990.0</td>\n",
              "      <td>3</td>\n",
              "      <td>23.00</td>\n",
              "      <td>6.000</td>\n",
              "      <td>...</td>\n",
              "      <td>0</td>\n",
              "      <td>0</td>\n",
              "      <td>0</td>\n",
              "      <td>0</td>\n",
              "      <td>0</td>\n",
              "      <td>0</td>\n",
              "      <td>0</td>\n",
              "      <td>1</td>\n",
              "      <td>0</td>\n",
              "      <td>0</td>\n",
              "    </tr>\n",
              "  </tbody>\n",
              "</table>\n",
              "<p>5 rows × 42 columns</p>\n",
              "</div>"
            ],
            "text/plain": [
              "  processor_gnrtn  ram_gb    ssd    hdd  graphic_card_gb  warranty     Price  \\\n",
              "0              11     4.0    0.0  512.0              0.0       0.0   45990.0   \n",
              "1              10     8.0    0.0  512.0              4.0       0.0  106167.0   \n",
              "2              11     4.0    0.0  512.0              0.0       0.0   22990.0   \n",
              "3              11     4.0  256.0    0.0              0.0       1.0   44990.0   \n",
              "4              11    14.0  512.0    0.0              2.0       1.0   79990.0   \n",
              "\n",
              "  rating  Number of Ratings  Number of Reviews  ...  ram_type_DDR5  \\\n",
              "0     3                0.00              0.000  ...              0   \n",
              "1     4              386.25             49.375  ...              0   \n",
              "2     3                0.00              0.000  ...              0   \n",
              "3     4               42.00              4.000  ...              0   \n",
              "4     3               23.00              6.000  ...              0   \n",
              "\n",
              "   ram_type_LPDDR3  ram_type_LPDDR4  ram_type_LPDDR4X  os_32-bit Windows  \\\n",
              "0                0                0                 1                  0   \n",
              "1                0                1                 0                  0   \n",
              "2                0                0                 0                  0   \n",
              "3                0                0                 0                  0   \n",
              "4                0                0                 0                  0   \n",
              "\n",
              "   os_64-bit DOS  os_64-bit Mac  os_64-bit Windows  weight_Gaming  \\\n",
              "0              0              0                  1              0   \n",
              "1              0              0                  0              0   \n",
              "2              0              0                  1              0   \n",
              "3              0              0                  1              0   \n",
              "4              0              0                  1              0   \n",
              "\n",
              "   weight_ThinNlight  \n",
              "0                  0  \n",
              "1                  0  \n",
              "2                  0  \n",
              "3                  0  \n",
              "4                  0  \n",
              "\n",
              "[5 rows x 42 columns]"
            ]
          },
          "execution_count": 130,
          "metadata": {},
          "output_type": "execute_result"
        }
      ],
      "source": [
        "electro.head()"
      ]
    },
    {
      "cell_type": "code",
      "execution_count": 131,
      "metadata": {
        "colab": {
          "base_uri": "https://localhost:8080/",
          "height": 478
        },
        "id": "Q2U_FyzErOde",
        "outputId": "40b9f28d-e43f-4e2e-f42b-e87f1ccbea8d"
      },
      "outputs": [],
      "source": [
        "X = electro.drop(columns=['rating'])\n",
        "Y = electro['rating']\n"
      ]
    },
    {
      "cell_type": "code",
      "execution_count": 132,
      "metadata": {
        "colab": {
          "base_uri": "https://localhost:8080/",
          "height": 1000
        },
        "id": "8yRekXfWkDX_",
        "outputId": "9ec98681-ab03-4c88-9f55-ae2440228382"
      },
      "outputs": [
        {
          "data": {
            "image/png": "[encoded data removed]",
            "text/plain": [
              "<Figure size 1200x800 with 2 Axes>"
            ]
          },
          "metadata": {},
          "output_type": "display_data"
        },
        {
          "data": {
            "text/html": [
              "<div>\n",
              "<style scoped>\n",
              "    .dataframe tbody tr th:only-of-type {\n",
              "        vertical-align: middle;\n",
              "    }\n",
              "\n",
              "    .dataframe tbody tr th {\n",
              "        vertical-align: top;\n",
              "    }\n",
              "\n",
              "    .dataframe thead th {\n",
              "        text-align: right;\n",
              "    }\n",
              "</style>\n",
              "<table border=\"1\" class=\"dataframe\">\n",
              "  <thead>\n",
              "    <tr style=\"text-align: right;\">\n",
              "      <th></th>\n",
              "      <th>warranty</th>\n",
              "      <th>Number of Ratings</th>\n",
              "      <th>Number of Reviews</th>\n",
              "      <th>msoffice_Yes</th>\n",
              "      <th>os_64-bit Mac</th>\n",
              "    </tr>\n",
              "  </thead>\n",
              "  <tbody>\n",
              "    <tr>\n",
              "      <th>0</th>\n",
              "      <td>0.0</td>\n",
              "      <td>0.00</td>\n",
              "      <td>0.000</td>\n",
              "      <td>0</td>\n",
              "      <td>0</td>\n",
              "    </tr>\n",
              "    <tr>\n",
              "      <th>1</th>\n",
              "      <td>0.0</td>\n",
              "      <td>386.25</td>\n",
              "      <td>49.375</td>\n",
              "      <td>0</td>\n",
              "      <td>0</td>\n",
              "    </tr>\n",
              "    <tr>\n",
              "      <th>2</th>\n",
              "      <td>0.0</td>\n",
              "      <td>0.00</td>\n",
              "      <td>0.000</td>\n",
              "      <td>0</td>\n",
              "      <td>0</td>\n",
              "    </tr>\n",
              "    <tr>\n",
              "      <th>3</th>\n",
              "      <td>1.0</td>\n",
              "      <td>42.00</td>\n",
              "      <td>4.000</td>\n",
              "      <td>1</td>\n",
              "      <td>0</td>\n",
              "    </tr>\n",
              "    <tr>\n",
              "      <th>4</th>\n",
              "      <td>1.0</td>\n",
              "      <td>23.00</td>\n",
              "      <td>6.000</td>\n",
              "      <td>1</td>\n",
              "      <td>0</td>\n",
              "    </tr>\n",
              "    <tr>\n",
              "      <th>...</th>\n",
              "      <td>...</td>\n",
              "      <td>...</td>\n",
              "      <td>...</td>\n",
              "      <td>...</td>\n",
              "      <td>...</td>\n",
              "    </tr>\n",
              "    <tr>\n",
              "      <th>718</th>\n",
              "      <td>0.0</td>\n",
              "      <td>10.00</td>\n",
              "      <td>1.000</td>\n",
              "      <td>0</td>\n",
              "      <td>0</td>\n",
              "    </tr>\n",
              "    <tr>\n",
              "      <th>719</th>\n",
              "      <td>0.0</td>\n",
              "      <td>0.00</td>\n",
              "      <td>0.000</td>\n",
              "      <td>0</td>\n",
              "      <td>0</td>\n",
              "    </tr>\n",
              "    <tr>\n",
              "      <th>720</th>\n",
              "      <td>2.5</td>\n",
              "      <td>48.00</td>\n",
              "      <td>12.000</td>\n",
              "      <td>1</td>\n",
              "      <td>0</td>\n",
              "    </tr>\n",
              "    <tr>\n",
              "      <th>721</th>\n",
              "      <td>0.0</td>\n",
              "      <td>24.00</td>\n",
              "      <td>5.000</td>\n",
              "      <td>0</td>\n",
              "      <td>0</td>\n",
              "    </tr>\n",
              "    <tr>\n",
              "      <th>722</th>\n",
              "      <td>1.0</td>\n",
              "      <td>0.00</td>\n",
              "      <td>0.000</td>\n",
              "      <td>1</td>\n",
              "      <td>0</td>\n",
              "    </tr>\n",
              "  </tbody>\n",
              "</table>\n",
              "<p>706 rows × 5 columns</p>\n",
              "</div>"
            ],
            "text/plain": [
              "     warranty  Number of Ratings  Number of Reviews  msoffice_Yes  \\\n",
              "0         0.0               0.00              0.000             0   \n",
              "1         0.0             386.25             49.375             0   \n",
              "2         0.0               0.00              0.000             0   \n",
              "3         1.0              42.00              4.000             1   \n",
              "4         1.0              23.00              6.000             1   \n",
              "..        ...                ...                ...           ...   \n",
              "718       0.0              10.00              1.000             0   \n",
              "719       0.0               0.00              0.000             0   \n",
              "720       2.5              48.00             12.000             1   \n",
              "721       0.0              24.00              5.000             0   \n",
              "722       1.0               0.00              0.000             1   \n",
              "\n",
              "     os_64-bit Mac  \n",
              "0                0  \n",
              "1                0  \n",
              "2                0  \n",
              "3                0  \n",
              "4                0  \n",
              "..             ...  \n",
              "718              0  \n",
              "719              0  \n",
              "720              0  \n",
              "721              0  \n",
              "722              0  \n",
              "\n",
              "[706 rows x 5 columns]"
            ]
          },
          "execution_count": 132,
          "metadata": {},
          "output_type": "execute_result"
        }
      ],
      "source": [
        "corr = electro.corr(method='spearman')\n",
        "top_feature = corr.loc[abs(corr['rating'])>0.15,'rating']\n",
        "\n",
        "plt.subplots(figsize=(12, 8))\n",
        "\n",
        "top_feature = pd.DataFrame(top_feature)\n",
        "sns.heatmap(top_feature, annot=True)\n",
        "plt.show()\n",
        "top_feature = top_feature.drop('rating', axis=0)\n",
        "\n",
        "First_feature_selection = X[top_feature.index]\n",
        "First_feature_selection"
      ]
    },
    {
      "cell_type": "code",
      "execution_count": 133,
      "metadata": {
        "colab": {
          "base_uri": "https://localhost:8080/",
          "height": 1000
        },
        "id": "g8wUsWBjhtKc",
        "outputId": "439453f4-cbcf-414c-8e8d-57977f67feee"
      },
      "outputs": [
        {
          "data": {
            "image/png": "[encoded data removed]",
            "text/plain": [
              "<Figure size 1200x800 with 2 Axes>"
            ]
          },
          "metadata": {},
          "output_type": "display_data"
        },
        {
          "data": {
            "text/html": [
              "<div>\n",
              "<style scoped>\n",
              "    .dataframe tbody tr th:only-of-type {\n",
              "        vertical-align: middle;\n",
              "    }\n",
              "\n",
              "    .dataframe tbody tr th {\n",
              "        vertical-align: top;\n",
              "    }\n",
              "\n",
              "    .dataframe thead th {\n",
              "        text-align: right;\n",
              "    }\n",
              "</style>\n",
              "<table border=\"1\" class=\"dataframe\">\n",
              "  <thead>\n",
              "    <tr style=\"text-align: right;\">\n",
              "      <th></th>\n",
              "      <th>warranty</th>\n",
              "      <th>Number of Ratings</th>\n",
              "      <th>Number of Reviews</th>\n",
              "      <th>msoffice_Yes</th>\n",
              "      <th>os_64-bit Mac</th>\n",
              "    </tr>\n",
              "  </thead>\n",
              "  <tbody>\n",
              "    <tr>\n",
              "      <th>0</th>\n",
              "      <td>0.0</td>\n",
              "      <td>0.00</td>\n",
              "      <td>0.000</td>\n",
              "      <td>0</td>\n",
              "      <td>0</td>\n",
              "    </tr>\n",
              "    <tr>\n",
              "      <th>1</th>\n",
              "      <td>0.0</td>\n",
              "      <td>386.25</td>\n",
              "      <td>49.375</td>\n",
              "      <td>0</td>\n",
              "      <td>0</td>\n",
              "    </tr>\n",
              "    <tr>\n",
              "      <th>2</th>\n",
              "      <td>0.0</td>\n",
              "      <td>0.00</td>\n",
              "      <td>0.000</td>\n",
              "      <td>0</td>\n",
              "      <td>0</td>\n",
              "    </tr>\n",
              "    <tr>\n",
              "      <th>3</th>\n",
              "      <td>1.0</td>\n",
              "      <td>42.00</td>\n",
              "      <td>4.000</td>\n",
              "      <td>1</td>\n",
              "      <td>0</td>\n",
              "    </tr>\n",
              "    <tr>\n",
              "      <th>4</th>\n",
              "      <td>1.0</td>\n",
              "      <td>23.00</td>\n",
              "      <td>6.000</td>\n",
              "      <td>1</td>\n",
              "      <td>0</td>\n",
              "    </tr>\n",
              "    <tr>\n",
              "      <th>...</th>\n",
              "      <td>...</td>\n",
              "      <td>...</td>\n",
              "      <td>...</td>\n",
              "      <td>...</td>\n",
              "      <td>...</td>\n",
              "    </tr>\n",
              "    <tr>\n",
              "      <th>718</th>\n",
              "      <td>0.0</td>\n",
              "      <td>10.00</td>\n",
              "      <td>1.000</td>\n",
              "      <td>0</td>\n",
              "      <td>0</td>\n",
              "    </tr>\n",
              "    <tr>\n",
              "      <th>719</th>\n",
              "      <td>0.0</td>\n",
              "      <td>0.00</td>\n",
              "      <td>0.000</td>\n",
              "      <td>0</td>\n",
              "      <td>0</td>\n",
              "    </tr>\n",
              "    <tr>\n",
              "      <th>720</th>\n",
              "      <td>2.5</td>\n",
              "      <td>48.00</td>\n",
              "      <td>12.000</td>\n",
              "      <td>1</td>\n",
              "      <td>0</td>\n",
              "    </tr>\n",
              "    <tr>\n",
              "      <th>721</th>\n",
              "      <td>0.0</td>\n",
              "      <td>24.00</td>\n",
              "      <td>5.000</td>\n",
              "      <td>0</td>\n",
              "      <td>0</td>\n",
              "    </tr>\n",
              "    <tr>\n",
              "      <th>722</th>\n",
              "      <td>1.0</td>\n",
              "      <td>0.00</td>\n",
              "      <td>0.000</td>\n",
              "      <td>1</td>\n",
              "      <td>0</td>\n",
              "    </tr>\n",
              "  </tbody>\n",
              "</table>\n",
              "<p>706 rows × 5 columns</p>\n",
              "</div>"
            ],
            "text/plain": [
              "     warranty  Number of Ratings  Number of Reviews  msoffice_Yes  \\\n",
              "0         0.0               0.00              0.000             0   \n",
              "1         0.0             386.25             49.375             0   \n",
              "2         0.0               0.00              0.000             0   \n",
              "3         1.0              42.00              4.000             1   \n",
              "4         1.0              23.00              6.000             1   \n",
              "..        ...                ...                ...           ...   \n",
              "718       0.0              10.00              1.000             0   \n",
              "719       0.0               0.00              0.000             0   \n",
              "720       2.5              48.00             12.000             1   \n",
              "721       0.0              24.00              5.000             0   \n",
              "722       1.0               0.00              0.000             1   \n",
              "\n",
              "     os_64-bit Mac  \n",
              "0                0  \n",
              "1                0  \n",
              "2                0  \n",
              "3                0  \n",
              "4                0  \n",
              "..             ...  \n",
              "718              0  \n",
              "719              0  \n",
              "720              0  \n",
              "721              0  \n",
              "722              0  \n",
              "\n",
              "[706 rows x 5 columns]"
            ]
          },
          "execution_count": 133,
          "metadata": {},
          "output_type": "execute_result"
        }
      ],
      "source": [
        "corr2 = electro.corr(method='pearson')\n",
        "top_feature2 = corr2.loc[abs(corr['rating'])>0.15,'rating']\n",
        "\n",
        "plt.subplots(figsize=(12, 8))\n",
        "\n",
        "top_feature2 = pd.DataFrame(top_feature2)\n",
        "sns.heatmap(top_feature2, annot=True)\n",
        "plt.show()\n",
        "top_feature2 = top_feature2.drop('rating', axis=0)\n",
        "\n",
        "second_feature_selection = X[top_feature2.index]\n",
        "second_feature_selection"
      ]
    },
    {
      "cell_type": "code",
      "execution_count": 134,
      "metadata": {
        "colab": {
          "base_uri": "https://localhost:8080/",
          "height": 1000
        },
        "id": "2DScVQT4k0b1",
        "outputId": "a0cfcf33-6d64-43d0-8d58-41391662f418"
      },
      "outputs": [
        {
          "data": {
            "image/png": "[encoded data removed]",
            "text/plain": [
              "<Figure size 1200x600 with 1 Axes>"
            ]
          },
          "metadata": {},
          "output_type": "display_data"
        },
        {
          "name": "stdout",
          "output_type": "stream",
          "text": [
            "                   Information Gain\n",
            "Number of Ratings          0.399584\n",
            "Number of Reviews          0.299636\n"
          ]
        },
        {
          "data": {
            "text/html": [
              "<div>\n",
              "<style scoped>\n",
              "    .dataframe tbody tr th:only-of-type {\n",
              "        vertical-align: middle;\n",
              "    }\n",
              "\n",
              "    .dataframe tbody tr th {\n",
              "        vertical-align: top;\n",
              "    }\n",
              "\n",
              "    .dataframe thead th {\n",
              "        text-align: right;\n",
              "    }\n",
              "</style>\n",
              "<table border=\"1\" class=\"dataframe\">\n",
              "  <thead>\n",
              "    <tr style=\"text-align: right;\">\n",
              "      <th></th>\n",
              "      <th>Number of Ratings</th>\n",
              "      <th>Number of Reviews</th>\n",
              "    </tr>\n",
              "  </thead>\n",
              "  <tbody>\n",
              "    <tr>\n",
              "      <th>0</th>\n",
              "      <td>0.00</td>\n",
              "      <td>0.000</td>\n",
              "    </tr>\n",
              "    <tr>\n",
              "      <th>1</th>\n",
              "      <td>386.25</td>\n",
              "      <td>49.375</td>\n",
              "    </tr>\n",
              "    <tr>\n",
              "      <th>2</th>\n",
              "      <td>0.00</td>\n",
              "      <td>0.000</td>\n",
              "    </tr>\n",
              "    <tr>\n",
              "      <th>3</th>\n",
              "      <td>42.00</td>\n",
              "      <td>4.000</td>\n",
              "    </tr>\n",
              "    <tr>\n",
              "      <th>4</th>\n",
              "      <td>23.00</td>\n",
              "      <td>6.000</td>\n",
              "    </tr>\n",
              "    <tr>\n",
              "      <th>...</th>\n",
              "      <td>...</td>\n",
              "      <td>...</td>\n",
              "    </tr>\n",
              "    <tr>\n",
              "      <th>718</th>\n",
              "      <td>10.00</td>\n",
              "      <td>1.000</td>\n",
              "    </tr>\n",
              "    <tr>\n",
              "      <th>719</th>\n",
              "      <td>0.00</td>\n",
              "      <td>0.000</td>\n",
              "    </tr>\n",
              "    <tr>\n",
              "      <th>720</th>\n",
              "      <td>48.00</td>\n",
              "      <td>12.000</td>\n",
              "    </tr>\n",
              "    <tr>\n",
              "      <th>721</th>\n",
              "      <td>24.00</td>\n",
              "      <td>5.000</td>\n",
              "    </tr>\n",
              "    <tr>\n",
              "      <th>722</th>\n",
              "      <td>0.00</td>\n",
              "      <td>0.000</td>\n",
              "    </tr>\n",
              "  </tbody>\n",
              "</table>\n",
              "<p>706 rows × 2 columns</p>\n",
              "</div>"
            ],
            "text/plain": [
              "     Number of Ratings  Number of Reviews\n",
              "0                 0.00              0.000\n",
              "1               386.25             49.375\n",
              "2                 0.00              0.000\n",
              "3                42.00              4.000\n",
              "4                23.00              6.000\n",
              "..                 ...                ...\n",
              "718              10.00              1.000\n",
              "719               0.00              0.000\n",
              "720              48.00             12.000\n",
              "721              24.00              5.000\n",
              "722               0.00              0.000\n",
              "\n",
              "[706 rows x 2 columns]"
            ]
          },
          "execution_count": 134,
          "metadata": {},
          "output_type": "execute_result"
        }
      ],
      "source": [
        "from sklearn.feature_selection import mutual_info_regression\n",
        "\n",
        "# Calculate information gain for each feature\n",
        "info_gain = mutual_info_regression(X, Y)\n",
        "\n",
        "# Select features with information gain greater than 0.15\n",
        "top_feature_idx = np.where(info_gain > 0.15)[0]\n",
        "top_feature_names = X.columns[top_feature_idx]\n",
        "top_feature_df = pd.DataFrame(data=info_gain[top_feature_idx], index=top_feature_names, columns=['Information Gain'])\n",
        "\n",
        "plt.figure(figsize=(12, 6))\n",
        "#plt.barh(X.columns, info_gain, color='skyblue', height=0.6)\n",
        "plt.bar(X.columns, info_gain,width=0.5)\n",
        "plt.xticks(rotation = 90)\n",
        "plt.xlabel('Features')\n",
        "plt.ylabel('Information Gain')\n",
        "plt.title('Information Gain for Feature Selection')\n",
        "plt.show()\n",
        "print(top_feature_df)\n",
        "third_feature_selection = X[top_feature_df.index]\n",
        "third_feature_selection"
      ]
    },
    {
      "cell_type": "code",
      "execution_count": 144,
      "metadata": {},
      "outputs": [
        {
          "name": "stdout",
          "output_type": "stream",
          "text": [
            "Mean Squared Error: 0.23586032027602075\n",
            "R^2 Score: 0.10553178520863582\n"
          ]
        },
        {
          "name": "stderr",
          "output_type": "stream",
          "text": [
            "c:\\Users\\sian\\AppData\\Local\\Programs\\Python\\Python312\\Lib\\site-packages\\sklearn\\base.py:465: UserWarning: X does not have valid feature names, but LinearRegression was fitted with feature names\n",
            "  warnings.warn(\n"
          ]
        }
      ],
      "source": [
        "from sklearn.model_selection import train_test_split\n",
        "from sklearn.linear_model import LinearRegression\n",
        "from sklearn.metrics import mean_squared_error,r2_score\n",
        "\n",
        "\n",
        "model = LinearRegression()\n",
        "model.fit(X_train, y_train)\n",
        "y_pred = model.predict(X_test) \n",
        "mse = mean_squared_error(y_test, y_pred)\n",
        "r2 = r2_score(y_test, y_pred)\n",
        "print(\"Mean Squared Error:\", mse)\n",
        "print(\"R^2 Score:\", r2)"
      ]
    }
  ],
  "metadata": {
    "colab": {
      "provenance": []
    },
    "kernelspec": {
      "display_name": "Python 3",
      "language": "python",
      "name": "python3"
    },
    "language_info": {
      "codemirror_mode": {
        "name": "ipython",
        "version": 3
      },
      "file_extension": ".py",
      "mimetype": "text/x-python",
      "name": "python",
      "nbconvert_exporter": "python",
      "pygments_lexer": "ipython3",
      "version": "3.12.0"
    }
  },
  "nbformat": 4,
  "nbformat_minor": 0
}
